{
  "nbformat": 4,
  "nbformat_minor": 0,
  "metadata": {
    "colab": {
      "provenance": [],
      "machine_shape": "hm"
    },
    "kernelspec": {
      "name": "python3",
      "display_name": "Python 3"
    },
    "accelerator": "GPU",
    "widgets": {
      "application/vnd.jupyter.widget-state+json": {
        "1bffbcbebe134f5fa2273998730e3794": {
          "model_module": "@jupyter-widgets/controls",
          "model_name": "HBoxModel",
          "model_module_version": "1.5.0",
          "state": {
            "_dom_classes": [],
            "_model_module": "@jupyter-widgets/controls",
            "_model_module_version": "1.5.0",
            "_model_name": "HBoxModel",
            "_view_count": null,
            "_view_module": "@jupyter-widgets/controls",
            "_view_module_version": "1.5.0",
            "_view_name": "HBoxView",
            "box_style": "",
            "children": [
              "IPY_MODEL_a8129cbbf1e4431983e46edc0ebdf3af",
              "IPY_MODEL_95013400c85245ab91214b4282375875",
              "IPY_MODEL_1bb1eba2cb2f4a46999b68c9884068d5"
            ],
            "layout": "IPY_MODEL_4bb9609cb68a468dba564e8abc08ec37"
          }
        },
        "a8129cbbf1e4431983e46edc0ebdf3af": {
          "model_module": "@jupyter-widgets/controls",
          "model_name": "HTMLModel",
          "model_module_version": "1.5.0",
          "state": {
            "_dom_classes": [],
            "_model_module": "@jupyter-widgets/controls",
            "_model_module_version": "1.5.0",
            "_model_name": "HTMLModel",
            "_view_count": null,
            "_view_module": "@jupyter-widgets/controls",
            "_view_module_version": "1.5.0",
            "_view_name": "HTMLView",
            "description": "",
            "description_tooltip": null,
            "layout": "IPY_MODEL_5def14ddcce0435f89288385c89b5740",
            "placeholder": "​",
            "style": "IPY_MODEL_37f992ea6d16478cbf114f2384ffb040",
            "value": "100%"
          }
        },
        "95013400c85245ab91214b4282375875": {
          "model_module": "@jupyter-widgets/controls",
          "model_name": "FloatProgressModel",
          "model_module_version": "1.5.0",
          "state": {
            "_dom_classes": [],
            "_model_module": "@jupyter-widgets/controls",
            "_model_module_version": "1.5.0",
            "_model_name": "FloatProgressModel",
            "_view_count": null,
            "_view_module": "@jupyter-widgets/controls",
            "_view_module_version": "1.5.0",
            "_view_name": "ProgressView",
            "bar_style": "success",
            "description": "",
            "description_tooltip": null,
            "layout": "IPY_MODEL_3d86780baff947b0b58b4ec64ea04049",
            "max": 3,
            "min": 0,
            "orientation": "horizontal",
            "style": "IPY_MODEL_48c57626822041ccaad1a7c3dec7a9c2",
            "value": 3
          }
        },
        "1bb1eba2cb2f4a46999b68c9884068d5": {
          "model_module": "@jupyter-widgets/controls",
          "model_name": "HTMLModel",
          "model_module_version": "1.5.0",
          "state": {
            "_dom_classes": [],
            "_model_module": "@jupyter-widgets/controls",
            "_model_module_version": "1.5.0",
            "_model_name": "HTMLModel",
            "_view_count": null,
            "_view_module": "@jupyter-widgets/controls",
            "_view_module_version": "1.5.0",
            "_view_name": "HTMLView",
            "description": "",
            "description_tooltip": null,
            "layout": "IPY_MODEL_2e554b1133044a928ec0995440dc2984",
            "placeholder": "​",
            "style": "IPY_MODEL_36a5c7e53d344eba952f374d86d076bd",
            "value": " 3/3 [00:00&lt;00:00, 232.68it/s]"
          }
        },
        "4bb9609cb68a468dba564e8abc08ec37": {
          "model_module": "@jupyter-widgets/base",
          "model_name": "LayoutModel",
          "model_module_version": "1.2.0",
          "state": {
            "_model_module": "@jupyter-widgets/base",
            "_model_module_version": "1.2.0",
            "_model_name": "LayoutModel",
            "_view_count": null,
            "_view_module": "@jupyter-widgets/base",
            "_view_module_version": "1.2.0",
            "_view_name": "LayoutView",
            "align_content": null,
            "align_items": null,
            "align_self": null,
            "border": null,
            "bottom": null,
            "display": null,
            "flex": null,
            "flex_flow": null,
            "grid_area": null,
            "grid_auto_columns": null,
            "grid_auto_flow": null,
            "grid_auto_rows": null,
            "grid_column": null,
            "grid_gap": null,
            "grid_row": null,
            "grid_template_areas": null,
            "grid_template_columns": null,
            "grid_template_rows": null,
            "height": null,
            "justify_content": null,
            "justify_items": null,
            "left": null,
            "margin": null,
            "max_height": null,
            "max_width": null,
            "min_height": null,
            "min_width": null,
            "object_fit": null,
            "object_position": null,
            "order": null,
            "overflow": null,
            "overflow_x": null,
            "overflow_y": null,
            "padding": null,
            "right": null,
            "top": null,
            "visibility": null,
            "width": null
          }
        },
        "5def14ddcce0435f89288385c89b5740": {
          "model_module": "@jupyter-widgets/base",
          "model_name": "LayoutModel",
          "model_module_version": "1.2.0",
          "state": {
            "_model_module": "@jupyter-widgets/base",
            "_model_module_version": "1.2.0",
            "_model_name": "LayoutModel",
            "_view_count": null,
            "_view_module": "@jupyter-widgets/base",
            "_view_module_version": "1.2.0",
            "_view_name": "LayoutView",
            "align_content": null,
            "align_items": null,
            "align_self": null,
            "border": null,
            "bottom": null,
            "display": null,
            "flex": null,
            "flex_flow": null,
            "grid_area": null,
            "grid_auto_columns": null,
            "grid_auto_flow": null,
            "grid_auto_rows": null,
            "grid_column": null,
            "grid_gap": null,
            "grid_row": null,
            "grid_template_areas": null,
            "grid_template_columns": null,
            "grid_template_rows": null,
            "height": null,
            "justify_content": null,
            "justify_items": null,
            "left": null,
            "margin": null,
            "max_height": null,
            "max_width": null,
            "min_height": null,
            "min_width": null,
            "object_fit": null,
            "object_position": null,
            "order": null,
            "overflow": null,
            "overflow_x": null,
            "overflow_y": null,
            "padding": null,
            "right": null,
            "top": null,
            "visibility": null,
            "width": null
          }
        },
        "37f992ea6d16478cbf114f2384ffb040": {
          "model_module": "@jupyter-widgets/controls",
          "model_name": "DescriptionStyleModel",
          "model_module_version": "1.5.0",
          "state": {
            "_model_module": "@jupyter-widgets/controls",
            "_model_module_version": "1.5.0",
            "_model_name": "DescriptionStyleModel",
            "_view_count": null,
            "_view_module": "@jupyter-widgets/base",
            "_view_module_version": "1.2.0",
            "_view_name": "StyleView",
            "description_width": ""
          }
        },
        "3d86780baff947b0b58b4ec64ea04049": {
          "model_module": "@jupyter-widgets/base",
          "model_name": "LayoutModel",
          "model_module_version": "1.2.0",
          "state": {
            "_model_module": "@jupyter-widgets/base",
            "_model_module_version": "1.2.0",
            "_model_name": "LayoutModel",
            "_view_count": null,
            "_view_module": "@jupyter-widgets/base",
            "_view_module_version": "1.2.0",
            "_view_name": "LayoutView",
            "align_content": null,
            "align_items": null,
            "align_self": null,
            "border": null,
            "bottom": null,
            "display": null,
            "flex": null,
            "flex_flow": null,
            "grid_area": null,
            "grid_auto_columns": null,
            "grid_auto_flow": null,
            "grid_auto_rows": null,
            "grid_column": null,
            "grid_gap": null,
            "grid_row": null,
            "grid_template_areas": null,
            "grid_template_columns": null,
            "grid_template_rows": null,
            "height": null,
            "justify_content": null,
            "justify_items": null,
            "left": null,
            "margin": null,
            "max_height": null,
            "max_width": null,
            "min_height": null,
            "min_width": null,
            "object_fit": null,
            "object_position": null,
            "order": null,
            "overflow": null,
            "overflow_x": null,
            "overflow_y": null,
            "padding": null,
            "right": null,
            "top": null,
            "visibility": null,
            "width": null
          }
        },
        "48c57626822041ccaad1a7c3dec7a9c2": {
          "model_module": "@jupyter-widgets/controls",
          "model_name": "ProgressStyleModel",
          "model_module_version": "1.5.0",
          "state": {
            "_model_module": "@jupyter-widgets/controls",
            "_model_module_version": "1.5.0",
            "_model_name": "ProgressStyleModel",
            "_view_count": null,
            "_view_module": "@jupyter-widgets/base",
            "_view_module_version": "1.2.0",
            "_view_name": "StyleView",
            "bar_color": null,
            "description_width": ""
          }
        },
        "2e554b1133044a928ec0995440dc2984": {
          "model_module": "@jupyter-widgets/base",
          "model_name": "LayoutModel",
          "model_module_version": "1.2.0",
          "state": {
            "_model_module": "@jupyter-widgets/base",
            "_model_module_version": "1.2.0",
            "_model_name": "LayoutModel",
            "_view_count": null,
            "_view_module": "@jupyter-widgets/base",
            "_view_module_version": "1.2.0",
            "_view_name": "LayoutView",
            "align_content": null,
            "align_items": null,
            "align_self": null,
            "border": null,
            "bottom": null,
            "display": null,
            "flex": null,
            "flex_flow": null,
            "grid_area": null,
            "grid_auto_columns": null,
            "grid_auto_flow": null,
            "grid_auto_rows": null,
            "grid_column": null,
            "grid_gap": null,
            "grid_row": null,
            "grid_template_areas": null,
            "grid_template_columns": null,
            "grid_template_rows": null,
            "height": null,
            "justify_content": null,
            "justify_items": null,
            "left": null,
            "margin": null,
            "max_height": null,
            "max_width": null,
            "min_height": null,
            "min_width": null,
            "object_fit": null,
            "object_position": null,
            "order": null,
            "overflow": null,
            "overflow_x": null,
            "overflow_y": null,
            "padding": null,
            "right": null,
            "top": null,
            "visibility": null,
            "width": null
          }
        },
        "36a5c7e53d344eba952f374d86d076bd": {
          "model_module": "@jupyter-widgets/controls",
          "model_name": "DescriptionStyleModel",
          "model_module_version": "1.5.0",
          "state": {
            "_model_module": "@jupyter-widgets/controls",
            "_model_module_version": "1.5.0",
            "_model_name": "DescriptionStyleModel",
            "_view_count": null,
            "_view_module": "@jupyter-widgets/base",
            "_view_module_version": "1.2.0",
            "_view_name": "StyleView",
            "description_width": ""
          }
        },
        "f510455183b5489dbcba0bea4a19dfec": {
          "model_module": "@jupyter-widgets/controls",
          "model_name": "HBoxModel",
          "model_module_version": "1.5.0",
          "state": {
            "_dom_classes": [],
            "_model_module": "@jupyter-widgets/controls",
            "_model_module_version": "1.5.0",
            "_model_name": "HBoxModel",
            "_view_count": null,
            "_view_module": "@jupyter-widgets/controls",
            "_view_module_version": "1.5.0",
            "_view_name": "HBoxView",
            "box_style": "",
            "children": [
              "IPY_MODEL_af1b5cea8fc24b4fa0d7bb110442f8ea",
              "IPY_MODEL_54b0a058a33a42c19701d7f46fbc1866",
              "IPY_MODEL_68b8f50d4c9f48c49eb5616683cad376"
            ],
            "layout": "IPY_MODEL_0c895b65b2a7426f89f57f6d6a96f30c"
          }
        },
        "af1b5cea8fc24b4fa0d7bb110442f8ea": {
          "model_module": "@jupyter-widgets/controls",
          "model_name": "HTMLModel",
          "model_module_version": "1.5.0",
          "state": {
            "_dom_classes": [],
            "_model_module": "@jupyter-widgets/controls",
            "_model_module_version": "1.5.0",
            "_model_name": "HTMLModel",
            "_view_count": null,
            "_view_module": "@jupyter-widgets/controls",
            "_view_module_version": "1.5.0",
            "_view_name": "HTMLView",
            "description": "",
            "description_tooltip": null,
            "layout": "IPY_MODEL_1c7b36e205a649cd817d19425774f476",
            "placeholder": "​",
            "style": "IPY_MODEL_264c98c4876645f386888ff3b0b26f01",
            "value": "100%"
          }
        },
        "54b0a058a33a42c19701d7f46fbc1866": {
          "model_module": "@jupyter-widgets/controls",
          "model_name": "FloatProgressModel",
          "model_module_version": "1.5.0",
          "state": {
            "_dom_classes": [],
            "_model_module": "@jupyter-widgets/controls",
            "_model_module_version": "1.5.0",
            "_model_name": "FloatProgressModel",
            "_view_count": null,
            "_view_module": "@jupyter-widgets/controls",
            "_view_module_version": "1.5.0",
            "_view_name": "ProgressView",
            "bar_style": "success",
            "description": "",
            "description_tooltip": null,
            "layout": "IPY_MODEL_db8861efcf0d4b60b2ad3c387df48b41",
            "max": 3,
            "min": 0,
            "orientation": "horizontal",
            "style": "IPY_MODEL_98d8e61a274e439d993afa6a2fd51f1e",
            "value": 3
          }
        },
        "68b8f50d4c9f48c49eb5616683cad376": {
          "model_module": "@jupyter-widgets/controls",
          "model_name": "HTMLModel",
          "model_module_version": "1.5.0",
          "state": {
            "_dom_classes": [],
            "_model_module": "@jupyter-widgets/controls",
            "_model_module_version": "1.5.0",
            "_model_name": "HTMLModel",
            "_view_count": null,
            "_view_module": "@jupyter-widgets/controls",
            "_view_module_version": "1.5.0",
            "_view_name": "HTMLView",
            "description": "",
            "description_tooltip": null,
            "layout": "IPY_MODEL_71ea387bab904a789633136b8e97cbc0",
            "placeholder": "​",
            "style": "IPY_MODEL_91426e0baf2c47899d5ecd91aba72706",
            "value": " 3/3 [00:00&lt;00:00,  8.54it/s]"
          }
        },
        "0c895b65b2a7426f89f57f6d6a96f30c": {
          "model_module": "@jupyter-widgets/base",
          "model_name": "LayoutModel",
          "model_module_version": "1.2.0",
          "state": {
            "_model_module": "@jupyter-widgets/base",
            "_model_module_version": "1.2.0",
            "_model_name": "LayoutModel",
            "_view_count": null,
            "_view_module": "@jupyter-widgets/base",
            "_view_module_version": "1.2.0",
            "_view_name": "LayoutView",
            "align_content": null,
            "align_items": null,
            "align_self": null,
            "border": null,
            "bottom": null,
            "display": null,
            "flex": null,
            "flex_flow": null,
            "grid_area": null,
            "grid_auto_columns": null,
            "grid_auto_flow": null,
            "grid_auto_rows": null,
            "grid_column": null,
            "grid_gap": null,
            "grid_row": null,
            "grid_template_areas": null,
            "grid_template_columns": null,
            "grid_template_rows": null,
            "height": null,
            "justify_content": null,
            "justify_items": null,
            "left": null,
            "margin": null,
            "max_height": null,
            "max_width": null,
            "min_height": null,
            "min_width": null,
            "object_fit": null,
            "object_position": null,
            "order": null,
            "overflow": null,
            "overflow_x": null,
            "overflow_y": null,
            "padding": null,
            "right": null,
            "top": null,
            "visibility": null,
            "width": null
          }
        },
        "1c7b36e205a649cd817d19425774f476": {
          "model_module": "@jupyter-widgets/base",
          "model_name": "LayoutModel",
          "model_module_version": "1.2.0",
          "state": {
            "_model_module": "@jupyter-widgets/base",
            "_model_module_version": "1.2.0",
            "_model_name": "LayoutModel",
            "_view_count": null,
            "_view_module": "@jupyter-widgets/base",
            "_view_module_version": "1.2.0",
            "_view_name": "LayoutView",
            "align_content": null,
            "align_items": null,
            "align_self": null,
            "border": null,
            "bottom": null,
            "display": null,
            "flex": null,
            "flex_flow": null,
            "grid_area": null,
            "grid_auto_columns": null,
            "grid_auto_flow": null,
            "grid_auto_rows": null,
            "grid_column": null,
            "grid_gap": null,
            "grid_row": null,
            "grid_template_areas": null,
            "grid_template_columns": null,
            "grid_template_rows": null,
            "height": null,
            "justify_content": null,
            "justify_items": null,
            "left": null,
            "margin": null,
            "max_height": null,
            "max_width": null,
            "min_height": null,
            "min_width": null,
            "object_fit": null,
            "object_position": null,
            "order": null,
            "overflow": null,
            "overflow_x": null,
            "overflow_y": null,
            "padding": null,
            "right": null,
            "top": null,
            "visibility": null,
            "width": null
          }
        },
        "264c98c4876645f386888ff3b0b26f01": {
          "model_module": "@jupyter-widgets/controls",
          "model_name": "DescriptionStyleModel",
          "model_module_version": "1.5.0",
          "state": {
            "_model_module": "@jupyter-widgets/controls",
            "_model_module_version": "1.5.0",
            "_model_name": "DescriptionStyleModel",
            "_view_count": null,
            "_view_module": "@jupyter-widgets/base",
            "_view_module_version": "1.2.0",
            "_view_name": "StyleView",
            "description_width": ""
          }
        },
        "db8861efcf0d4b60b2ad3c387df48b41": {
          "model_module": "@jupyter-widgets/base",
          "model_name": "LayoutModel",
          "model_module_version": "1.2.0",
          "state": {
            "_model_module": "@jupyter-widgets/base",
            "_model_module_version": "1.2.0",
            "_model_name": "LayoutModel",
            "_view_count": null,
            "_view_module": "@jupyter-widgets/base",
            "_view_module_version": "1.2.0",
            "_view_name": "LayoutView",
            "align_content": null,
            "align_items": null,
            "align_self": null,
            "border": null,
            "bottom": null,
            "display": null,
            "flex": null,
            "flex_flow": null,
            "grid_area": null,
            "grid_auto_columns": null,
            "grid_auto_flow": null,
            "grid_auto_rows": null,
            "grid_column": null,
            "grid_gap": null,
            "grid_row": null,
            "grid_template_areas": null,
            "grid_template_columns": null,
            "grid_template_rows": null,
            "height": null,
            "justify_content": null,
            "justify_items": null,
            "left": null,
            "margin": null,
            "max_height": null,
            "max_width": null,
            "min_height": null,
            "min_width": null,
            "object_fit": null,
            "object_position": null,
            "order": null,
            "overflow": null,
            "overflow_x": null,
            "overflow_y": null,
            "padding": null,
            "right": null,
            "top": null,
            "visibility": null,
            "width": null
          }
        },
        "98d8e61a274e439d993afa6a2fd51f1e": {
          "model_module": "@jupyter-widgets/controls",
          "model_name": "ProgressStyleModel",
          "model_module_version": "1.5.0",
          "state": {
            "_model_module": "@jupyter-widgets/controls",
            "_model_module_version": "1.5.0",
            "_model_name": "ProgressStyleModel",
            "_view_count": null,
            "_view_module": "@jupyter-widgets/base",
            "_view_module_version": "1.2.0",
            "_view_name": "StyleView",
            "bar_color": null,
            "description_width": ""
          }
        },
        "71ea387bab904a789633136b8e97cbc0": {
          "model_module": "@jupyter-widgets/base",
          "model_name": "LayoutModel",
          "model_module_version": "1.2.0",
          "state": {
            "_model_module": "@jupyter-widgets/base",
            "_model_module_version": "1.2.0",
            "_model_name": "LayoutModel",
            "_view_count": null,
            "_view_module": "@jupyter-widgets/base",
            "_view_module_version": "1.2.0",
            "_view_name": "LayoutView",
            "align_content": null,
            "align_items": null,
            "align_self": null,
            "border": null,
            "bottom": null,
            "display": null,
            "flex": null,
            "flex_flow": null,
            "grid_area": null,
            "grid_auto_columns": null,
            "grid_auto_flow": null,
            "grid_auto_rows": null,
            "grid_column": null,
            "grid_gap": null,
            "grid_row": null,
            "grid_template_areas": null,
            "grid_template_columns": null,
            "grid_template_rows": null,
            "height": null,
            "justify_content": null,
            "justify_items": null,
            "left": null,
            "margin": null,
            "max_height": null,
            "max_width": null,
            "min_height": null,
            "min_width": null,
            "object_fit": null,
            "object_position": null,
            "order": null,
            "overflow": null,
            "overflow_x": null,
            "overflow_y": null,
            "padding": null,
            "right": null,
            "top": null,
            "visibility": null,
            "width": null
          }
        },
        "91426e0baf2c47899d5ecd91aba72706": {
          "model_module": "@jupyter-widgets/controls",
          "model_name": "DescriptionStyleModel",
          "model_module_version": "1.5.0",
          "state": {
            "_model_module": "@jupyter-widgets/controls",
            "_model_module_version": "1.5.0",
            "_model_name": "DescriptionStyleModel",
            "_view_count": null,
            "_view_module": "@jupyter-widgets/base",
            "_view_module_version": "1.2.0",
            "_view_name": "StyleView",
            "description_width": ""
          }
        },
        "3ddd00cfff644eac8b83dfc3159817b4": {
          "model_module": "@jupyter-widgets/controls",
          "model_name": "HBoxModel",
          "model_module_version": "1.5.0",
          "state": {
            "_dom_classes": [],
            "_model_module": "@jupyter-widgets/controls",
            "_model_module_version": "1.5.0",
            "_model_name": "HBoxModel",
            "_view_count": null,
            "_view_module": "@jupyter-widgets/controls",
            "_view_module_version": "1.5.0",
            "_view_name": "HBoxView",
            "box_style": "",
            "children": [
              "IPY_MODEL_2570c410016f4faf91c769ccdd02ce36",
              "IPY_MODEL_b898c3116ee14361bce5b0e4e322e62c",
              "IPY_MODEL_afa99cd9182f41b78c966726f73f38e0"
            ],
            "layout": "IPY_MODEL_a1c8c5b0b5a74ba6a698ed2e14bd0e90"
          }
        },
        "2570c410016f4faf91c769ccdd02ce36": {
          "model_module": "@jupyter-widgets/controls",
          "model_name": "HTMLModel",
          "model_module_version": "1.5.0",
          "state": {
            "_dom_classes": [],
            "_model_module": "@jupyter-widgets/controls",
            "_model_module_version": "1.5.0",
            "_model_name": "HTMLModel",
            "_view_count": null,
            "_view_module": "@jupyter-widgets/controls",
            "_view_module_version": "1.5.0",
            "_view_name": "HTMLView",
            "description": "",
            "description_tooltip": null,
            "layout": "IPY_MODEL_05d0347bdbf44d4e878fb6972b922f41",
            "placeholder": "​",
            "style": "IPY_MODEL_f1c616e951674be79c73d03212ceeeda",
            "value": "100%"
          }
        },
        "b898c3116ee14361bce5b0e4e322e62c": {
          "model_module": "@jupyter-widgets/controls",
          "model_name": "FloatProgressModel",
          "model_module_version": "1.5.0",
          "state": {
            "_dom_classes": [],
            "_model_module": "@jupyter-widgets/controls",
            "_model_module_version": "1.5.0",
            "_model_name": "FloatProgressModel",
            "_view_count": null,
            "_view_module": "@jupyter-widgets/controls",
            "_view_module_version": "1.5.0",
            "_view_name": "ProgressView",
            "bar_style": "success",
            "description": "",
            "description_tooltip": null,
            "layout": "IPY_MODEL_2fcde4aa856449249ce3f632713dada5",
            "max": 3,
            "min": 0,
            "orientation": "horizontal",
            "style": "IPY_MODEL_ecb161ec34a94f59b4f8ba3bcacdc73d",
            "value": 3
          }
        },
        "afa99cd9182f41b78c966726f73f38e0": {
          "model_module": "@jupyter-widgets/controls",
          "model_name": "HTMLModel",
          "model_module_version": "1.5.0",
          "state": {
            "_dom_classes": [],
            "_model_module": "@jupyter-widgets/controls",
            "_model_module_version": "1.5.0",
            "_model_name": "HTMLModel",
            "_view_count": null,
            "_view_module": "@jupyter-widgets/controls",
            "_view_module_version": "1.5.0",
            "_view_name": "HTMLView",
            "description": "",
            "description_tooltip": null,
            "layout": "IPY_MODEL_04a510d4ab39415cb45b123807d1dabb",
            "placeholder": "​",
            "style": "IPY_MODEL_a32b7c587ec542e3afddf5e01a670dfe",
            "value": " 3/3 [00:00&lt;00:00, 138.72it/s]"
          }
        },
        "a1c8c5b0b5a74ba6a698ed2e14bd0e90": {
          "model_module": "@jupyter-widgets/base",
          "model_name": "LayoutModel",
          "model_module_version": "1.2.0",
          "state": {
            "_model_module": "@jupyter-widgets/base",
            "_model_module_version": "1.2.0",
            "_model_name": "LayoutModel",
            "_view_count": null,
            "_view_module": "@jupyter-widgets/base",
            "_view_module_version": "1.2.0",
            "_view_name": "LayoutView",
            "align_content": null,
            "align_items": null,
            "align_self": null,
            "border": null,
            "bottom": null,
            "display": null,
            "flex": null,
            "flex_flow": null,
            "grid_area": null,
            "grid_auto_columns": null,
            "grid_auto_flow": null,
            "grid_auto_rows": null,
            "grid_column": null,
            "grid_gap": null,
            "grid_row": null,
            "grid_template_areas": null,
            "grid_template_columns": null,
            "grid_template_rows": null,
            "height": null,
            "justify_content": null,
            "justify_items": null,
            "left": null,
            "margin": null,
            "max_height": null,
            "max_width": null,
            "min_height": null,
            "min_width": null,
            "object_fit": null,
            "object_position": null,
            "order": null,
            "overflow": null,
            "overflow_x": null,
            "overflow_y": null,
            "padding": null,
            "right": null,
            "top": null,
            "visibility": null,
            "width": null
          }
        },
        "05d0347bdbf44d4e878fb6972b922f41": {
          "model_module": "@jupyter-widgets/base",
          "model_name": "LayoutModel",
          "model_module_version": "1.2.0",
          "state": {
            "_model_module": "@jupyter-widgets/base",
            "_model_module_version": "1.2.0",
            "_model_name": "LayoutModel",
            "_view_count": null,
            "_view_module": "@jupyter-widgets/base",
            "_view_module_version": "1.2.0",
            "_view_name": "LayoutView",
            "align_content": null,
            "align_items": null,
            "align_self": null,
            "border": null,
            "bottom": null,
            "display": null,
            "flex": null,
            "flex_flow": null,
            "grid_area": null,
            "grid_auto_columns": null,
            "grid_auto_flow": null,
            "grid_auto_rows": null,
            "grid_column": null,
            "grid_gap": null,
            "grid_row": null,
            "grid_template_areas": null,
            "grid_template_columns": null,
            "grid_template_rows": null,
            "height": null,
            "justify_content": null,
            "justify_items": null,
            "left": null,
            "margin": null,
            "max_height": null,
            "max_width": null,
            "min_height": null,
            "min_width": null,
            "object_fit": null,
            "object_position": null,
            "order": null,
            "overflow": null,
            "overflow_x": null,
            "overflow_y": null,
            "padding": null,
            "right": null,
            "top": null,
            "visibility": null,
            "width": null
          }
        },
        "f1c616e951674be79c73d03212ceeeda": {
          "model_module": "@jupyter-widgets/controls",
          "model_name": "DescriptionStyleModel",
          "model_module_version": "1.5.0",
          "state": {
            "_model_module": "@jupyter-widgets/controls",
            "_model_module_version": "1.5.0",
            "_model_name": "DescriptionStyleModel",
            "_view_count": null,
            "_view_module": "@jupyter-widgets/base",
            "_view_module_version": "1.2.0",
            "_view_name": "StyleView",
            "description_width": ""
          }
        },
        "2fcde4aa856449249ce3f632713dada5": {
          "model_module": "@jupyter-widgets/base",
          "model_name": "LayoutModel",
          "model_module_version": "1.2.0",
          "state": {
            "_model_module": "@jupyter-widgets/base",
            "_model_module_version": "1.2.0",
            "_model_name": "LayoutModel",
            "_view_count": null,
            "_view_module": "@jupyter-widgets/base",
            "_view_module_version": "1.2.0",
            "_view_name": "LayoutView",
            "align_content": null,
            "align_items": null,
            "align_self": null,
            "border": null,
            "bottom": null,
            "display": null,
            "flex": null,
            "flex_flow": null,
            "grid_area": null,
            "grid_auto_columns": null,
            "grid_auto_flow": null,
            "grid_auto_rows": null,
            "grid_column": null,
            "grid_gap": null,
            "grid_row": null,
            "grid_template_areas": null,
            "grid_template_columns": null,
            "grid_template_rows": null,
            "height": null,
            "justify_content": null,
            "justify_items": null,
            "left": null,
            "margin": null,
            "max_height": null,
            "max_width": null,
            "min_height": null,
            "min_width": null,
            "object_fit": null,
            "object_position": null,
            "order": null,
            "overflow": null,
            "overflow_x": null,
            "overflow_y": null,
            "padding": null,
            "right": null,
            "top": null,
            "visibility": null,
            "width": null
          }
        },
        "ecb161ec34a94f59b4f8ba3bcacdc73d": {
          "model_module": "@jupyter-widgets/controls",
          "model_name": "ProgressStyleModel",
          "model_module_version": "1.5.0",
          "state": {
            "_model_module": "@jupyter-widgets/controls",
            "_model_module_version": "1.5.0",
            "_model_name": "ProgressStyleModel",
            "_view_count": null,
            "_view_module": "@jupyter-widgets/base",
            "_view_module_version": "1.2.0",
            "_view_name": "StyleView",
            "bar_color": null,
            "description_width": ""
          }
        },
        "04a510d4ab39415cb45b123807d1dabb": {
          "model_module": "@jupyter-widgets/base",
          "model_name": "LayoutModel",
          "model_module_version": "1.2.0",
          "state": {
            "_model_module": "@jupyter-widgets/base",
            "_model_module_version": "1.2.0",
            "_model_name": "LayoutModel",
            "_view_count": null,
            "_view_module": "@jupyter-widgets/base",
            "_view_module_version": "1.2.0",
            "_view_name": "LayoutView",
            "align_content": null,
            "align_items": null,
            "align_self": null,
            "border": null,
            "bottom": null,
            "display": null,
            "flex": null,
            "flex_flow": null,
            "grid_area": null,
            "grid_auto_columns": null,
            "grid_auto_flow": null,
            "grid_auto_rows": null,
            "grid_column": null,
            "grid_gap": null,
            "grid_row": null,
            "grid_template_areas": null,
            "grid_template_columns": null,
            "grid_template_rows": null,
            "height": null,
            "justify_content": null,
            "justify_items": null,
            "left": null,
            "margin": null,
            "max_height": null,
            "max_width": null,
            "min_height": null,
            "min_width": null,
            "object_fit": null,
            "object_position": null,
            "order": null,
            "overflow": null,
            "overflow_x": null,
            "overflow_y": null,
            "padding": null,
            "right": null,
            "top": null,
            "visibility": null,
            "width": null
          }
        },
        "a32b7c587ec542e3afddf5e01a670dfe": {
          "model_module": "@jupyter-widgets/controls",
          "model_name": "DescriptionStyleModel",
          "model_module_version": "1.5.0",
          "state": {
            "_model_module": "@jupyter-widgets/controls",
            "_model_module_version": "1.5.0",
            "_model_name": "DescriptionStyleModel",
            "_view_count": null,
            "_view_module": "@jupyter-widgets/base",
            "_view_module_version": "1.2.0",
            "_view_name": "StyleView",
            "description_width": ""
          }
        },
        "0e6254514f024ac18776dfa2c98ac3a2": {
          "model_module": "@jupyter-widgets/controls",
          "model_name": "HBoxModel",
          "model_module_version": "1.5.0",
          "state": {
            "_dom_classes": [],
            "_model_module": "@jupyter-widgets/controls",
            "_model_module_version": "1.5.0",
            "_model_name": "HBoxModel",
            "_view_count": null,
            "_view_module": "@jupyter-widgets/controls",
            "_view_module_version": "1.5.0",
            "_view_name": "HBoxView",
            "box_style": "",
            "children": [
              "IPY_MODEL_7713b8c5db394abaa6d216290f3bf7c4",
              "IPY_MODEL_b8e1418c6a284b57b38aaaab9015cca8",
              "IPY_MODEL_cd9e8f4c894a485bb0fae56bd23d23ea"
            ],
            "layout": "IPY_MODEL_c2d7a4bf3a884af98d2ecdff47570f89"
          }
        },
        "7713b8c5db394abaa6d216290f3bf7c4": {
          "model_module": "@jupyter-widgets/controls",
          "model_name": "HTMLModel",
          "model_module_version": "1.5.0",
          "state": {
            "_dom_classes": [],
            "_model_module": "@jupyter-widgets/controls",
            "_model_module_version": "1.5.0",
            "_model_name": "HTMLModel",
            "_view_count": null,
            "_view_module": "@jupyter-widgets/controls",
            "_view_module_version": "1.5.0",
            "_view_name": "HTMLView",
            "description": "",
            "description_tooltip": null,
            "layout": "IPY_MODEL_d33ebe639a9446b581510369a8c7b63f",
            "placeholder": "​",
            "style": "IPY_MODEL_115a8b8c46d44f4c94520169da8ff4fc",
            "value": ""
          }
        },
        "b8e1418c6a284b57b38aaaab9015cca8": {
          "model_module": "@jupyter-widgets/controls",
          "model_name": "FloatProgressModel",
          "model_module_version": "1.5.0",
          "state": {
            "_dom_classes": [],
            "_model_module": "@jupyter-widgets/controls",
            "_model_module_version": "1.5.0",
            "_model_name": "FloatProgressModel",
            "_view_count": null,
            "_view_module": "@jupyter-widgets/controls",
            "_view_module_version": "1.5.0",
            "_view_name": "ProgressView",
            "bar_style": "success",
            "description": "",
            "description_tooltip": null,
            "layout": "IPY_MODEL_3af911aa2b98440a984e6a8b936edd03",
            "max": 1,
            "min": 0,
            "orientation": "horizontal",
            "style": "IPY_MODEL_c02236374aaf47648d137bf1730434bf",
            "value": 1
          }
        },
        "cd9e8f4c894a485bb0fae56bd23d23ea": {
          "model_module": "@jupyter-widgets/controls",
          "model_name": "HTMLModel",
          "model_module_version": "1.5.0",
          "state": {
            "_dom_classes": [],
            "_model_module": "@jupyter-widgets/controls",
            "_model_module_version": "1.5.0",
            "_model_name": "HTMLModel",
            "_view_count": null,
            "_view_module": "@jupyter-widgets/controls",
            "_view_module_version": "1.5.0",
            "_view_name": "HTMLView",
            "description": "",
            "description_tooltip": null,
            "layout": "IPY_MODEL_422d9363e6184e98b73a47f90a51cfa2",
            "placeholder": "​",
            "style": "IPY_MODEL_02228b424f1b492e8810a642de404347",
            "value": " 118/? [00:00&lt;00:00, 4887.11ex/s]"
          }
        },
        "c2d7a4bf3a884af98d2ecdff47570f89": {
          "model_module": "@jupyter-widgets/base",
          "model_name": "LayoutModel",
          "model_module_version": "1.2.0",
          "state": {
            "_model_module": "@jupyter-widgets/base",
            "_model_module_version": "1.2.0",
            "_model_name": "LayoutModel",
            "_view_count": null,
            "_view_module": "@jupyter-widgets/base",
            "_view_module_version": "1.2.0",
            "_view_name": "LayoutView",
            "align_content": null,
            "align_items": null,
            "align_self": null,
            "border": null,
            "bottom": null,
            "display": null,
            "flex": null,
            "flex_flow": null,
            "grid_area": null,
            "grid_auto_columns": null,
            "grid_auto_flow": null,
            "grid_auto_rows": null,
            "grid_column": null,
            "grid_gap": null,
            "grid_row": null,
            "grid_template_areas": null,
            "grid_template_columns": null,
            "grid_template_rows": null,
            "height": null,
            "justify_content": null,
            "justify_items": null,
            "left": null,
            "margin": null,
            "max_height": null,
            "max_width": null,
            "min_height": null,
            "min_width": null,
            "object_fit": null,
            "object_position": null,
            "order": null,
            "overflow": null,
            "overflow_x": null,
            "overflow_y": null,
            "padding": null,
            "right": null,
            "top": null,
            "visibility": null,
            "width": null
          }
        },
        "d33ebe639a9446b581510369a8c7b63f": {
          "model_module": "@jupyter-widgets/base",
          "model_name": "LayoutModel",
          "model_module_version": "1.2.0",
          "state": {
            "_model_module": "@jupyter-widgets/base",
            "_model_module_version": "1.2.0",
            "_model_name": "LayoutModel",
            "_view_count": null,
            "_view_module": "@jupyter-widgets/base",
            "_view_module_version": "1.2.0",
            "_view_name": "LayoutView",
            "align_content": null,
            "align_items": null,
            "align_self": null,
            "border": null,
            "bottom": null,
            "display": null,
            "flex": null,
            "flex_flow": null,
            "grid_area": null,
            "grid_auto_columns": null,
            "grid_auto_flow": null,
            "grid_auto_rows": null,
            "grid_column": null,
            "grid_gap": null,
            "grid_row": null,
            "grid_template_areas": null,
            "grid_template_columns": null,
            "grid_template_rows": null,
            "height": null,
            "justify_content": null,
            "justify_items": null,
            "left": null,
            "margin": null,
            "max_height": null,
            "max_width": null,
            "min_height": null,
            "min_width": null,
            "object_fit": null,
            "object_position": null,
            "order": null,
            "overflow": null,
            "overflow_x": null,
            "overflow_y": null,
            "padding": null,
            "right": null,
            "top": null,
            "visibility": null,
            "width": null
          }
        },
        "115a8b8c46d44f4c94520169da8ff4fc": {
          "model_module": "@jupyter-widgets/controls",
          "model_name": "DescriptionStyleModel",
          "model_module_version": "1.5.0",
          "state": {
            "_model_module": "@jupyter-widgets/controls",
            "_model_module_version": "1.5.0",
            "_model_name": "DescriptionStyleModel",
            "_view_count": null,
            "_view_module": "@jupyter-widgets/base",
            "_view_module_version": "1.2.0",
            "_view_name": "StyleView",
            "description_width": ""
          }
        },
        "3af911aa2b98440a984e6a8b936edd03": {
          "model_module": "@jupyter-widgets/base",
          "model_name": "LayoutModel",
          "model_module_version": "1.2.0",
          "state": {
            "_model_module": "@jupyter-widgets/base",
            "_model_module_version": "1.2.0",
            "_model_name": "LayoutModel",
            "_view_count": null,
            "_view_module": "@jupyter-widgets/base",
            "_view_module_version": "1.2.0",
            "_view_name": "LayoutView",
            "align_content": null,
            "align_items": null,
            "align_self": null,
            "border": null,
            "bottom": null,
            "display": null,
            "flex": null,
            "flex_flow": null,
            "grid_area": null,
            "grid_auto_columns": null,
            "grid_auto_flow": null,
            "grid_auto_rows": null,
            "grid_column": null,
            "grid_gap": null,
            "grid_row": null,
            "grid_template_areas": null,
            "grid_template_columns": null,
            "grid_template_rows": null,
            "height": null,
            "justify_content": null,
            "justify_items": null,
            "left": null,
            "margin": null,
            "max_height": null,
            "max_width": null,
            "min_height": null,
            "min_width": null,
            "object_fit": null,
            "object_position": null,
            "order": null,
            "overflow": null,
            "overflow_x": null,
            "overflow_y": null,
            "padding": null,
            "right": null,
            "top": null,
            "visibility": null,
            "width": "20px"
          }
        },
        "c02236374aaf47648d137bf1730434bf": {
          "model_module": "@jupyter-widgets/controls",
          "model_name": "ProgressStyleModel",
          "model_module_version": "1.5.0",
          "state": {
            "_model_module": "@jupyter-widgets/controls",
            "_model_module_version": "1.5.0",
            "_model_name": "ProgressStyleModel",
            "_view_count": null,
            "_view_module": "@jupyter-widgets/base",
            "_view_module_version": "1.2.0",
            "_view_name": "StyleView",
            "bar_color": null,
            "description_width": ""
          }
        },
        "422d9363e6184e98b73a47f90a51cfa2": {
          "model_module": "@jupyter-widgets/base",
          "model_name": "LayoutModel",
          "model_module_version": "1.2.0",
          "state": {
            "_model_module": "@jupyter-widgets/base",
            "_model_module_version": "1.2.0",
            "_model_name": "LayoutModel",
            "_view_count": null,
            "_view_module": "@jupyter-widgets/base",
            "_view_module_version": "1.2.0",
            "_view_name": "LayoutView",
            "align_content": null,
            "align_items": null,
            "align_self": null,
            "border": null,
            "bottom": null,
            "display": null,
            "flex": null,
            "flex_flow": null,
            "grid_area": null,
            "grid_auto_columns": null,
            "grid_auto_flow": null,
            "grid_auto_rows": null,
            "grid_column": null,
            "grid_gap": null,
            "grid_row": null,
            "grid_template_areas": null,
            "grid_template_columns": null,
            "grid_template_rows": null,
            "height": null,
            "justify_content": null,
            "justify_items": null,
            "left": null,
            "margin": null,
            "max_height": null,
            "max_width": null,
            "min_height": null,
            "min_width": null,
            "object_fit": null,
            "object_position": null,
            "order": null,
            "overflow": null,
            "overflow_x": null,
            "overflow_y": null,
            "padding": null,
            "right": null,
            "top": null,
            "visibility": null,
            "width": null
          }
        },
        "02228b424f1b492e8810a642de404347": {
          "model_module": "@jupyter-widgets/controls",
          "model_name": "DescriptionStyleModel",
          "model_module_version": "1.5.0",
          "state": {
            "_model_module": "@jupyter-widgets/controls",
            "_model_module_version": "1.5.0",
            "_model_name": "DescriptionStyleModel",
            "_view_count": null,
            "_view_module": "@jupyter-widgets/base",
            "_view_module_version": "1.2.0",
            "_view_name": "StyleView",
            "description_width": ""
          }
        },
        "5328cc4d8df746e4b980c65518576937": {
          "model_module": "@jupyter-widgets/controls",
          "model_name": "HBoxModel",
          "model_module_version": "1.5.0",
          "state": {
            "_dom_classes": [],
            "_model_module": "@jupyter-widgets/controls",
            "_model_module_version": "1.5.0",
            "_model_name": "HBoxModel",
            "_view_count": null,
            "_view_module": "@jupyter-widgets/controls",
            "_view_module_version": "1.5.0",
            "_view_name": "HBoxView",
            "box_style": "",
            "children": [
              "IPY_MODEL_f09730be235f4857af9a732c919558b1",
              "IPY_MODEL_d067cacf871a47508b120b41a54ffdc0",
              "IPY_MODEL_325b428520974ad2a15fafe9a1cd6d45"
            ],
            "layout": "IPY_MODEL_11beaf2b45a54080ad0a24135e61ebdc"
          }
        },
        "f09730be235f4857af9a732c919558b1": {
          "model_module": "@jupyter-widgets/controls",
          "model_name": "HTMLModel",
          "model_module_version": "1.5.0",
          "state": {
            "_dom_classes": [],
            "_model_module": "@jupyter-widgets/controls",
            "_model_module_version": "1.5.0",
            "_model_name": "HTMLModel",
            "_view_count": null,
            "_view_module": "@jupyter-widgets/controls",
            "_view_module_version": "1.5.0",
            "_view_name": "HTMLView",
            "description": "",
            "description_tooltip": null,
            "layout": "IPY_MODEL_9d2fb2c677b84aa68df5a929071127c4",
            "placeholder": "​",
            "style": "IPY_MODEL_a626f7fca51f4394b110c00a5ed7a1e7",
            "value": ""
          }
        },
        "d067cacf871a47508b120b41a54ffdc0": {
          "model_module": "@jupyter-widgets/controls",
          "model_name": "FloatProgressModel",
          "model_module_version": "1.5.0",
          "state": {
            "_dom_classes": [],
            "_model_module": "@jupyter-widgets/controls",
            "_model_module_version": "1.5.0",
            "_model_name": "FloatProgressModel",
            "_view_count": null,
            "_view_module": "@jupyter-widgets/controls",
            "_view_module_version": "1.5.0",
            "_view_name": "ProgressView",
            "bar_style": "success",
            "description": "",
            "description_tooltip": null,
            "layout": "IPY_MODEL_011aa81045674409999c46a6f555567a",
            "max": 1,
            "min": 0,
            "orientation": "horizontal",
            "style": "IPY_MODEL_f5510db3514241a088d03010e21af297",
            "value": 1
          }
        },
        "325b428520974ad2a15fafe9a1cd6d45": {
          "model_module": "@jupyter-widgets/controls",
          "model_name": "HTMLModel",
          "model_module_version": "1.5.0",
          "state": {
            "_dom_classes": [],
            "_model_module": "@jupyter-widgets/controls",
            "_model_module_version": "1.5.0",
            "_model_name": "HTMLModel",
            "_view_count": null,
            "_view_module": "@jupyter-widgets/controls",
            "_view_module_version": "1.5.0",
            "_view_name": "HTMLView",
            "description": "",
            "description_tooltip": null,
            "layout": "IPY_MODEL_11134365bf244002aae6974b7013a509",
            "placeholder": "​",
            "style": "IPY_MODEL_bfc1d80ece664735873790dbb3fcfd19",
            "value": " 15/? [00:00&lt;00:00, 1021.90ex/s]"
          }
        },
        "11beaf2b45a54080ad0a24135e61ebdc": {
          "model_module": "@jupyter-widgets/base",
          "model_name": "LayoutModel",
          "model_module_version": "1.2.0",
          "state": {
            "_model_module": "@jupyter-widgets/base",
            "_model_module_version": "1.2.0",
            "_model_name": "LayoutModel",
            "_view_count": null,
            "_view_module": "@jupyter-widgets/base",
            "_view_module_version": "1.2.0",
            "_view_name": "LayoutView",
            "align_content": null,
            "align_items": null,
            "align_self": null,
            "border": null,
            "bottom": null,
            "display": null,
            "flex": null,
            "flex_flow": null,
            "grid_area": null,
            "grid_auto_columns": null,
            "grid_auto_flow": null,
            "grid_auto_rows": null,
            "grid_column": null,
            "grid_gap": null,
            "grid_row": null,
            "grid_template_areas": null,
            "grid_template_columns": null,
            "grid_template_rows": null,
            "height": null,
            "justify_content": null,
            "justify_items": null,
            "left": null,
            "margin": null,
            "max_height": null,
            "max_width": null,
            "min_height": null,
            "min_width": null,
            "object_fit": null,
            "object_position": null,
            "order": null,
            "overflow": null,
            "overflow_x": null,
            "overflow_y": null,
            "padding": null,
            "right": null,
            "top": null,
            "visibility": null,
            "width": null
          }
        },
        "9d2fb2c677b84aa68df5a929071127c4": {
          "model_module": "@jupyter-widgets/base",
          "model_name": "LayoutModel",
          "model_module_version": "1.2.0",
          "state": {
            "_model_module": "@jupyter-widgets/base",
            "_model_module_version": "1.2.0",
            "_model_name": "LayoutModel",
            "_view_count": null,
            "_view_module": "@jupyter-widgets/base",
            "_view_module_version": "1.2.0",
            "_view_name": "LayoutView",
            "align_content": null,
            "align_items": null,
            "align_self": null,
            "border": null,
            "bottom": null,
            "display": null,
            "flex": null,
            "flex_flow": null,
            "grid_area": null,
            "grid_auto_columns": null,
            "grid_auto_flow": null,
            "grid_auto_rows": null,
            "grid_column": null,
            "grid_gap": null,
            "grid_row": null,
            "grid_template_areas": null,
            "grid_template_columns": null,
            "grid_template_rows": null,
            "height": null,
            "justify_content": null,
            "justify_items": null,
            "left": null,
            "margin": null,
            "max_height": null,
            "max_width": null,
            "min_height": null,
            "min_width": null,
            "object_fit": null,
            "object_position": null,
            "order": null,
            "overflow": null,
            "overflow_x": null,
            "overflow_y": null,
            "padding": null,
            "right": null,
            "top": null,
            "visibility": null,
            "width": null
          }
        },
        "a626f7fca51f4394b110c00a5ed7a1e7": {
          "model_module": "@jupyter-widgets/controls",
          "model_name": "DescriptionStyleModel",
          "model_module_version": "1.5.0",
          "state": {
            "_model_module": "@jupyter-widgets/controls",
            "_model_module_version": "1.5.0",
            "_model_name": "DescriptionStyleModel",
            "_view_count": null,
            "_view_module": "@jupyter-widgets/base",
            "_view_module_version": "1.2.0",
            "_view_name": "StyleView",
            "description_width": ""
          }
        },
        "011aa81045674409999c46a6f555567a": {
          "model_module": "@jupyter-widgets/base",
          "model_name": "LayoutModel",
          "model_module_version": "1.2.0",
          "state": {
            "_model_module": "@jupyter-widgets/base",
            "_model_module_version": "1.2.0",
            "_model_name": "LayoutModel",
            "_view_count": null,
            "_view_module": "@jupyter-widgets/base",
            "_view_module_version": "1.2.0",
            "_view_name": "LayoutView",
            "align_content": null,
            "align_items": null,
            "align_self": null,
            "border": null,
            "bottom": null,
            "display": null,
            "flex": null,
            "flex_flow": null,
            "grid_area": null,
            "grid_auto_columns": null,
            "grid_auto_flow": null,
            "grid_auto_rows": null,
            "grid_column": null,
            "grid_gap": null,
            "grid_row": null,
            "grid_template_areas": null,
            "grid_template_columns": null,
            "grid_template_rows": null,
            "height": null,
            "justify_content": null,
            "justify_items": null,
            "left": null,
            "margin": null,
            "max_height": null,
            "max_width": null,
            "min_height": null,
            "min_width": null,
            "object_fit": null,
            "object_position": null,
            "order": null,
            "overflow": null,
            "overflow_x": null,
            "overflow_y": null,
            "padding": null,
            "right": null,
            "top": null,
            "visibility": null,
            "width": "20px"
          }
        },
        "f5510db3514241a088d03010e21af297": {
          "model_module": "@jupyter-widgets/controls",
          "model_name": "ProgressStyleModel",
          "model_module_version": "1.5.0",
          "state": {
            "_model_module": "@jupyter-widgets/controls",
            "_model_module_version": "1.5.0",
            "_model_name": "ProgressStyleModel",
            "_view_count": null,
            "_view_module": "@jupyter-widgets/base",
            "_view_module_version": "1.2.0",
            "_view_name": "StyleView",
            "bar_color": null,
            "description_width": ""
          }
        },
        "11134365bf244002aae6974b7013a509": {
          "model_module": "@jupyter-widgets/base",
          "model_name": "LayoutModel",
          "model_module_version": "1.2.0",
          "state": {
            "_model_module": "@jupyter-widgets/base",
            "_model_module_version": "1.2.0",
            "_model_name": "LayoutModel",
            "_view_count": null,
            "_view_module": "@jupyter-widgets/base",
            "_view_module_version": "1.2.0",
            "_view_name": "LayoutView",
            "align_content": null,
            "align_items": null,
            "align_self": null,
            "border": null,
            "bottom": null,
            "display": null,
            "flex": null,
            "flex_flow": null,
            "grid_area": null,
            "grid_auto_columns": null,
            "grid_auto_flow": null,
            "grid_auto_rows": null,
            "grid_column": null,
            "grid_gap": null,
            "grid_row": null,
            "grid_template_areas": null,
            "grid_template_columns": null,
            "grid_template_rows": null,
            "height": null,
            "justify_content": null,
            "justify_items": null,
            "left": null,
            "margin": null,
            "max_height": null,
            "max_width": null,
            "min_height": null,
            "min_width": null,
            "object_fit": null,
            "object_position": null,
            "order": null,
            "overflow": null,
            "overflow_x": null,
            "overflow_y": null,
            "padding": null,
            "right": null,
            "top": null,
            "visibility": null,
            "width": null
          }
        },
        "bfc1d80ece664735873790dbb3fcfd19": {
          "model_module": "@jupyter-widgets/controls",
          "model_name": "DescriptionStyleModel",
          "model_module_version": "1.5.0",
          "state": {
            "_model_module": "@jupyter-widgets/controls",
            "_model_module_version": "1.5.0",
            "_model_name": "DescriptionStyleModel",
            "_view_count": null,
            "_view_module": "@jupyter-widgets/base",
            "_view_module_version": "1.2.0",
            "_view_name": "StyleView",
            "description_width": ""
          }
        },
        "e78ad324445d4b0f8e4b5ed690bb5eab": {
          "model_module": "@jupyter-widgets/controls",
          "model_name": "HBoxModel",
          "model_module_version": "1.5.0",
          "state": {
            "_dom_classes": [],
            "_model_module": "@jupyter-widgets/controls",
            "_model_module_version": "1.5.0",
            "_model_name": "HBoxModel",
            "_view_count": null,
            "_view_module": "@jupyter-widgets/controls",
            "_view_module_version": "1.5.0",
            "_view_name": "HBoxView",
            "box_style": "",
            "children": [
              "IPY_MODEL_57e8f190f9114dd28be2b071cec2f77f",
              "IPY_MODEL_6a5bbe56aca341cea81edc323dfbf0eb",
              "IPY_MODEL_90b201d7d26b4dec8e1704edc0089971"
            ],
            "layout": "IPY_MODEL_9bdc70374d3e4ea3a6215c175be245c2"
          }
        },
        "57e8f190f9114dd28be2b071cec2f77f": {
          "model_module": "@jupyter-widgets/controls",
          "model_name": "HTMLModel",
          "model_module_version": "1.5.0",
          "state": {
            "_dom_classes": [],
            "_model_module": "@jupyter-widgets/controls",
            "_model_module_version": "1.5.0",
            "_model_name": "HTMLModel",
            "_view_count": null,
            "_view_module": "@jupyter-widgets/controls",
            "_view_module_version": "1.5.0",
            "_view_name": "HTMLView",
            "description": "",
            "description_tooltip": null,
            "layout": "IPY_MODEL_30d623fe6d734562b313809236e9e630",
            "placeholder": "​",
            "style": "IPY_MODEL_0de9afa9e6f2473ab297cd9b0354d35a",
            "value": ""
          }
        },
        "6a5bbe56aca341cea81edc323dfbf0eb": {
          "model_module": "@jupyter-widgets/controls",
          "model_name": "FloatProgressModel",
          "model_module_version": "1.5.0",
          "state": {
            "_dom_classes": [],
            "_model_module": "@jupyter-widgets/controls",
            "_model_module_version": "1.5.0",
            "_model_name": "FloatProgressModel",
            "_view_count": null,
            "_view_module": "@jupyter-widgets/controls",
            "_view_module_version": "1.5.0",
            "_view_name": "ProgressView",
            "bar_style": "success",
            "description": "",
            "description_tooltip": null,
            "layout": "IPY_MODEL_2ab45962dbff41038c02c60ac871a77a",
            "max": 1,
            "min": 0,
            "orientation": "horizontal",
            "style": "IPY_MODEL_0e3a51da0fcf404c8ce24744ebed3133",
            "value": 1
          }
        },
        "90b201d7d26b4dec8e1704edc0089971": {
          "model_module": "@jupyter-widgets/controls",
          "model_name": "HTMLModel",
          "model_module_version": "1.5.0",
          "state": {
            "_dom_classes": [],
            "_model_module": "@jupyter-widgets/controls",
            "_model_module_version": "1.5.0",
            "_model_name": "HTMLModel",
            "_view_count": null,
            "_view_module": "@jupyter-widgets/controls",
            "_view_module_version": "1.5.0",
            "_view_name": "HTMLView",
            "description": "",
            "description_tooltip": null,
            "layout": "IPY_MODEL_bae1edb4bb1141dcb485661436819898",
            "placeholder": "​",
            "style": "IPY_MODEL_6e84090ae68a4573be010f39dfd04385",
            "value": " 15/? [00:00&lt;00:00, 1011.20ex/s]"
          }
        },
        "9bdc70374d3e4ea3a6215c175be245c2": {
          "model_module": "@jupyter-widgets/base",
          "model_name": "LayoutModel",
          "model_module_version": "1.2.0",
          "state": {
            "_model_module": "@jupyter-widgets/base",
            "_model_module_version": "1.2.0",
            "_model_name": "LayoutModel",
            "_view_count": null,
            "_view_module": "@jupyter-widgets/base",
            "_view_module_version": "1.2.0",
            "_view_name": "LayoutView",
            "align_content": null,
            "align_items": null,
            "align_self": null,
            "border": null,
            "bottom": null,
            "display": null,
            "flex": null,
            "flex_flow": null,
            "grid_area": null,
            "grid_auto_columns": null,
            "grid_auto_flow": null,
            "grid_auto_rows": null,
            "grid_column": null,
            "grid_gap": null,
            "grid_row": null,
            "grid_template_areas": null,
            "grid_template_columns": null,
            "grid_template_rows": null,
            "height": null,
            "justify_content": null,
            "justify_items": null,
            "left": null,
            "margin": null,
            "max_height": null,
            "max_width": null,
            "min_height": null,
            "min_width": null,
            "object_fit": null,
            "object_position": null,
            "order": null,
            "overflow": null,
            "overflow_x": null,
            "overflow_y": null,
            "padding": null,
            "right": null,
            "top": null,
            "visibility": null,
            "width": null
          }
        },
        "30d623fe6d734562b313809236e9e630": {
          "model_module": "@jupyter-widgets/base",
          "model_name": "LayoutModel",
          "model_module_version": "1.2.0",
          "state": {
            "_model_module": "@jupyter-widgets/base",
            "_model_module_version": "1.2.0",
            "_model_name": "LayoutModel",
            "_view_count": null,
            "_view_module": "@jupyter-widgets/base",
            "_view_module_version": "1.2.0",
            "_view_name": "LayoutView",
            "align_content": null,
            "align_items": null,
            "align_self": null,
            "border": null,
            "bottom": null,
            "display": null,
            "flex": null,
            "flex_flow": null,
            "grid_area": null,
            "grid_auto_columns": null,
            "grid_auto_flow": null,
            "grid_auto_rows": null,
            "grid_column": null,
            "grid_gap": null,
            "grid_row": null,
            "grid_template_areas": null,
            "grid_template_columns": null,
            "grid_template_rows": null,
            "height": null,
            "justify_content": null,
            "justify_items": null,
            "left": null,
            "margin": null,
            "max_height": null,
            "max_width": null,
            "min_height": null,
            "min_width": null,
            "object_fit": null,
            "object_position": null,
            "order": null,
            "overflow": null,
            "overflow_x": null,
            "overflow_y": null,
            "padding": null,
            "right": null,
            "top": null,
            "visibility": null,
            "width": null
          }
        },
        "0de9afa9e6f2473ab297cd9b0354d35a": {
          "model_module": "@jupyter-widgets/controls",
          "model_name": "DescriptionStyleModel",
          "model_module_version": "1.5.0",
          "state": {
            "_model_module": "@jupyter-widgets/controls",
            "_model_module_version": "1.5.0",
            "_model_name": "DescriptionStyleModel",
            "_view_count": null,
            "_view_module": "@jupyter-widgets/base",
            "_view_module_version": "1.2.0",
            "_view_name": "StyleView",
            "description_width": ""
          }
        },
        "2ab45962dbff41038c02c60ac871a77a": {
          "model_module": "@jupyter-widgets/base",
          "model_name": "LayoutModel",
          "model_module_version": "1.2.0",
          "state": {
            "_model_module": "@jupyter-widgets/base",
            "_model_module_version": "1.2.0",
            "_model_name": "LayoutModel",
            "_view_count": null,
            "_view_module": "@jupyter-widgets/base",
            "_view_module_version": "1.2.0",
            "_view_name": "LayoutView",
            "align_content": null,
            "align_items": null,
            "align_self": null,
            "border": null,
            "bottom": null,
            "display": null,
            "flex": null,
            "flex_flow": null,
            "grid_area": null,
            "grid_auto_columns": null,
            "grid_auto_flow": null,
            "grid_auto_rows": null,
            "grid_column": null,
            "grid_gap": null,
            "grid_row": null,
            "grid_template_areas": null,
            "grid_template_columns": null,
            "grid_template_rows": null,
            "height": null,
            "justify_content": null,
            "justify_items": null,
            "left": null,
            "margin": null,
            "max_height": null,
            "max_width": null,
            "min_height": null,
            "min_width": null,
            "object_fit": null,
            "object_position": null,
            "order": null,
            "overflow": null,
            "overflow_x": null,
            "overflow_y": null,
            "padding": null,
            "right": null,
            "top": null,
            "visibility": null,
            "width": "20px"
          }
        },
        "0e3a51da0fcf404c8ce24744ebed3133": {
          "model_module": "@jupyter-widgets/controls",
          "model_name": "ProgressStyleModel",
          "model_module_version": "1.5.0",
          "state": {
            "_model_module": "@jupyter-widgets/controls",
            "_model_module_version": "1.5.0",
            "_model_name": "ProgressStyleModel",
            "_view_count": null,
            "_view_module": "@jupyter-widgets/base",
            "_view_module_version": "1.2.0",
            "_view_name": "StyleView",
            "bar_color": null,
            "description_width": ""
          }
        },
        "bae1edb4bb1141dcb485661436819898": {
          "model_module": "@jupyter-widgets/base",
          "model_name": "LayoutModel",
          "model_module_version": "1.2.0",
          "state": {
            "_model_module": "@jupyter-widgets/base",
            "_model_module_version": "1.2.0",
            "_model_name": "LayoutModel",
            "_view_count": null,
            "_view_module": "@jupyter-widgets/base",
            "_view_module_version": "1.2.0",
            "_view_name": "LayoutView",
            "align_content": null,
            "align_items": null,
            "align_self": null,
            "border": null,
            "bottom": null,
            "display": null,
            "flex": null,
            "flex_flow": null,
            "grid_area": null,
            "grid_auto_columns": null,
            "grid_auto_flow": null,
            "grid_auto_rows": null,
            "grid_column": null,
            "grid_gap": null,
            "grid_row": null,
            "grid_template_areas": null,
            "grid_template_columns": null,
            "grid_template_rows": null,
            "height": null,
            "justify_content": null,
            "justify_items": null,
            "left": null,
            "margin": null,
            "max_height": null,
            "max_width": null,
            "min_height": null,
            "min_width": null,
            "object_fit": null,
            "object_position": null,
            "order": null,
            "overflow": null,
            "overflow_x": null,
            "overflow_y": null,
            "padding": null,
            "right": null,
            "top": null,
            "visibility": null,
            "width": null
          }
        },
        "6e84090ae68a4573be010f39dfd04385": {
          "model_module": "@jupyter-widgets/controls",
          "model_name": "DescriptionStyleModel",
          "model_module_version": "1.5.0",
          "state": {
            "_model_module": "@jupyter-widgets/controls",
            "_model_module_version": "1.5.0",
            "_model_name": "DescriptionStyleModel",
            "_view_count": null,
            "_view_module": "@jupyter-widgets/base",
            "_view_module_version": "1.2.0",
            "_view_name": "StyleView",
            "description_width": ""
          }
        },
        "40d302d2adaf49d8b0800e456df20a39": {
          "model_module": "@jupyter-widgets/controls",
          "model_name": "HBoxModel",
          "model_module_version": "1.5.0",
          "state": {
            "_dom_classes": [],
            "_model_module": "@jupyter-widgets/controls",
            "_model_module_version": "1.5.0",
            "_model_name": "HBoxModel",
            "_view_count": null,
            "_view_module": "@jupyter-widgets/controls",
            "_view_module_version": "1.5.0",
            "_view_name": "HBoxView",
            "box_style": "",
            "children": [
              "IPY_MODEL_dfe0d4088b164df893c7e281d95aaac0",
              "IPY_MODEL_bcf63e6c013146c2b4c3cb3e5ce71244",
              "IPY_MODEL_2cdbfca67f9b4d4387128aaa67f1ec19"
            ],
            "layout": "IPY_MODEL_59b5b8da67bb428db38dd2cde8ff06a5"
          }
        },
        "dfe0d4088b164df893c7e281d95aaac0": {
          "model_module": "@jupyter-widgets/controls",
          "model_name": "HTMLModel",
          "model_module_version": "1.5.0",
          "state": {
            "_dom_classes": [],
            "_model_module": "@jupyter-widgets/controls",
            "_model_module_version": "1.5.0",
            "_model_name": "HTMLModel",
            "_view_count": null,
            "_view_module": "@jupyter-widgets/controls",
            "_view_module_version": "1.5.0",
            "_view_name": "HTMLView",
            "description": "",
            "description_tooltip": null,
            "layout": "IPY_MODEL_a350e052893e4b75823e31096b4000c6",
            "placeholder": "​",
            "style": "IPY_MODEL_bde0b69a22e8498db0c872752b01acc4",
            "value": "100%"
          }
        },
        "bcf63e6c013146c2b4c3cb3e5ce71244": {
          "model_module": "@jupyter-widgets/controls",
          "model_name": "FloatProgressModel",
          "model_module_version": "1.5.0",
          "state": {
            "_dom_classes": [],
            "_model_module": "@jupyter-widgets/controls",
            "_model_module_version": "1.5.0",
            "_model_name": "FloatProgressModel",
            "_view_count": null,
            "_view_module": "@jupyter-widgets/controls",
            "_view_module_version": "1.5.0",
            "_view_name": "ProgressView",
            "bar_style": "success",
            "description": "",
            "description_tooltip": null,
            "layout": "IPY_MODEL_280c28f3313d4b34ae8bc3db7c1e8bd5",
            "max": 1,
            "min": 0,
            "orientation": "horizontal",
            "style": "IPY_MODEL_d541417b4951458ea9b27a5bc35fd10b",
            "value": 1
          }
        },
        "2cdbfca67f9b4d4387128aaa67f1ec19": {
          "model_module": "@jupyter-widgets/controls",
          "model_name": "HTMLModel",
          "model_module_version": "1.5.0",
          "state": {
            "_dom_classes": [],
            "_model_module": "@jupyter-widgets/controls",
            "_model_module_version": "1.5.0",
            "_model_name": "HTMLModel",
            "_view_count": null,
            "_view_module": "@jupyter-widgets/controls",
            "_view_module_version": "1.5.0",
            "_view_name": "HTMLView",
            "description": "",
            "description_tooltip": null,
            "layout": "IPY_MODEL_aa5807ed3b1d40a68d052f83674fafd2",
            "placeholder": "​",
            "style": "IPY_MODEL_2d9115b419f6480193271ddda5943b92",
            "value": " 1/1 [00:00&lt;00:00, 66.74ba/s]"
          }
        },
        "59b5b8da67bb428db38dd2cde8ff06a5": {
          "model_module": "@jupyter-widgets/base",
          "model_name": "LayoutModel",
          "model_module_version": "1.2.0",
          "state": {
            "_model_module": "@jupyter-widgets/base",
            "_model_module_version": "1.2.0",
            "_model_name": "LayoutModel",
            "_view_count": null,
            "_view_module": "@jupyter-widgets/base",
            "_view_module_version": "1.2.0",
            "_view_name": "LayoutView",
            "align_content": null,
            "align_items": null,
            "align_self": null,
            "border": null,
            "bottom": null,
            "display": null,
            "flex": null,
            "flex_flow": null,
            "grid_area": null,
            "grid_auto_columns": null,
            "grid_auto_flow": null,
            "grid_auto_rows": null,
            "grid_column": null,
            "grid_gap": null,
            "grid_row": null,
            "grid_template_areas": null,
            "grid_template_columns": null,
            "grid_template_rows": null,
            "height": null,
            "justify_content": null,
            "justify_items": null,
            "left": null,
            "margin": null,
            "max_height": null,
            "max_width": null,
            "min_height": null,
            "min_width": null,
            "object_fit": null,
            "object_position": null,
            "order": null,
            "overflow": null,
            "overflow_x": null,
            "overflow_y": null,
            "padding": null,
            "right": null,
            "top": null,
            "visibility": null,
            "width": null
          }
        },
        "a350e052893e4b75823e31096b4000c6": {
          "model_module": "@jupyter-widgets/base",
          "model_name": "LayoutModel",
          "model_module_version": "1.2.0",
          "state": {
            "_model_module": "@jupyter-widgets/base",
            "_model_module_version": "1.2.0",
            "_model_name": "LayoutModel",
            "_view_count": null,
            "_view_module": "@jupyter-widgets/base",
            "_view_module_version": "1.2.0",
            "_view_name": "LayoutView",
            "align_content": null,
            "align_items": null,
            "align_self": null,
            "border": null,
            "bottom": null,
            "display": null,
            "flex": null,
            "flex_flow": null,
            "grid_area": null,
            "grid_auto_columns": null,
            "grid_auto_flow": null,
            "grid_auto_rows": null,
            "grid_column": null,
            "grid_gap": null,
            "grid_row": null,
            "grid_template_areas": null,
            "grid_template_columns": null,
            "grid_template_rows": null,
            "height": null,
            "justify_content": null,
            "justify_items": null,
            "left": null,
            "margin": null,
            "max_height": null,
            "max_width": null,
            "min_height": null,
            "min_width": null,
            "object_fit": null,
            "object_position": null,
            "order": null,
            "overflow": null,
            "overflow_x": null,
            "overflow_y": null,
            "padding": null,
            "right": null,
            "top": null,
            "visibility": null,
            "width": null
          }
        },
        "bde0b69a22e8498db0c872752b01acc4": {
          "model_module": "@jupyter-widgets/controls",
          "model_name": "DescriptionStyleModel",
          "model_module_version": "1.5.0",
          "state": {
            "_model_module": "@jupyter-widgets/controls",
            "_model_module_version": "1.5.0",
            "_model_name": "DescriptionStyleModel",
            "_view_count": null,
            "_view_module": "@jupyter-widgets/base",
            "_view_module_version": "1.2.0",
            "_view_name": "StyleView",
            "description_width": ""
          }
        },
        "280c28f3313d4b34ae8bc3db7c1e8bd5": {
          "model_module": "@jupyter-widgets/base",
          "model_name": "LayoutModel",
          "model_module_version": "1.2.0",
          "state": {
            "_model_module": "@jupyter-widgets/base",
            "_model_module_version": "1.2.0",
            "_model_name": "LayoutModel",
            "_view_count": null,
            "_view_module": "@jupyter-widgets/base",
            "_view_module_version": "1.2.0",
            "_view_name": "LayoutView",
            "align_content": null,
            "align_items": null,
            "align_self": null,
            "border": null,
            "bottom": null,
            "display": null,
            "flex": null,
            "flex_flow": null,
            "grid_area": null,
            "grid_auto_columns": null,
            "grid_auto_flow": null,
            "grid_auto_rows": null,
            "grid_column": null,
            "grid_gap": null,
            "grid_row": null,
            "grid_template_areas": null,
            "grid_template_columns": null,
            "grid_template_rows": null,
            "height": null,
            "justify_content": null,
            "justify_items": null,
            "left": null,
            "margin": null,
            "max_height": null,
            "max_width": null,
            "min_height": null,
            "min_width": null,
            "object_fit": null,
            "object_position": null,
            "order": null,
            "overflow": null,
            "overflow_x": null,
            "overflow_y": null,
            "padding": null,
            "right": null,
            "top": null,
            "visibility": null,
            "width": null
          }
        },
        "d541417b4951458ea9b27a5bc35fd10b": {
          "model_module": "@jupyter-widgets/controls",
          "model_name": "ProgressStyleModel",
          "model_module_version": "1.5.0",
          "state": {
            "_model_module": "@jupyter-widgets/controls",
            "_model_module_version": "1.5.0",
            "_model_name": "ProgressStyleModel",
            "_view_count": null,
            "_view_module": "@jupyter-widgets/base",
            "_view_module_version": "1.2.0",
            "_view_name": "StyleView",
            "bar_color": null,
            "description_width": ""
          }
        },
        "aa5807ed3b1d40a68d052f83674fafd2": {
          "model_module": "@jupyter-widgets/base",
          "model_name": "LayoutModel",
          "model_module_version": "1.2.0",
          "state": {
            "_model_module": "@jupyter-widgets/base",
            "_model_module_version": "1.2.0",
            "_model_name": "LayoutModel",
            "_view_count": null,
            "_view_module": "@jupyter-widgets/base",
            "_view_module_version": "1.2.0",
            "_view_name": "LayoutView",
            "align_content": null,
            "align_items": null,
            "align_self": null,
            "border": null,
            "bottom": null,
            "display": null,
            "flex": null,
            "flex_flow": null,
            "grid_area": null,
            "grid_auto_columns": null,
            "grid_auto_flow": null,
            "grid_auto_rows": null,
            "grid_column": null,
            "grid_gap": null,
            "grid_row": null,
            "grid_template_areas": null,
            "grid_template_columns": null,
            "grid_template_rows": null,
            "height": null,
            "justify_content": null,
            "justify_items": null,
            "left": null,
            "margin": null,
            "max_height": null,
            "max_width": null,
            "min_height": null,
            "min_width": null,
            "object_fit": null,
            "object_position": null,
            "order": null,
            "overflow": null,
            "overflow_x": null,
            "overflow_y": null,
            "padding": null,
            "right": null,
            "top": null,
            "visibility": null,
            "width": null
          }
        },
        "2d9115b419f6480193271ddda5943b92": {
          "model_module": "@jupyter-widgets/controls",
          "model_name": "DescriptionStyleModel",
          "model_module_version": "1.5.0",
          "state": {
            "_model_module": "@jupyter-widgets/controls",
            "_model_module_version": "1.5.0",
            "_model_name": "DescriptionStyleModel",
            "_view_count": null,
            "_view_module": "@jupyter-widgets/base",
            "_view_module_version": "1.2.0",
            "_view_name": "StyleView",
            "description_width": ""
          }
        },
        "a8efdb985b4d4afcbf6e2e73efe9a0c0": {
          "model_module": "@jupyter-widgets/controls",
          "model_name": "HBoxModel",
          "model_module_version": "1.5.0",
          "state": {
            "_dom_classes": [],
            "_model_module": "@jupyter-widgets/controls",
            "_model_module_version": "1.5.0",
            "_model_name": "HBoxModel",
            "_view_count": null,
            "_view_module": "@jupyter-widgets/controls",
            "_view_module_version": "1.5.0",
            "_view_name": "HBoxView",
            "box_style": "",
            "children": [
              "IPY_MODEL_25e73b7e710d4f10b8e1b6aca0f06c32",
              "IPY_MODEL_f41e116d540e48dfb222b019f3b7daf4",
              "IPY_MODEL_c669aa05a81942fc94c2a8bbaf439ab3"
            ],
            "layout": "IPY_MODEL_666b0283e5b8432dba1dcdc501b6a0b5"
          }
        },
        "25e73b7e710d4f10b8e1b6aca0f06c32": {
          "model_module": "@jupyter-widgets/controls",
          "model_name": "HTMLModel",
          "model_module_version": "1.5.0",
          "state": {
            "_dom_classes": [],
            "_model_module": "@jupyter-widgets/controls",
            "_model_module_version": "1.5.0",
            "_model_name": "HTMLModel",
            "_view_count": null,
            "_view_module": "@jupyter-widgets/controls",
            "_view_module_version": "1.5.0",
            "_view_name": "HTMLView",
            "description": "",
            "description_tooltip": null,
            "layout": "IPY_MODEL_a65f893a354349d581babac2bf0e0dbf",
            "placeholder": "​",
            "style": "IPY_MODEL_e8f5e005375b45a498d2256c37ae8d71",
            "value": "100%"
          }
        },
        "f41e116d540e48dfb222b019f3b7daf4": {
          "model_module": "@jupyter-widgets/controls",
          "model_name": "FloatProgressModel",
          "model_module_version": "1.5.0",
          "state": {
            "_dom_classes": [],
            "_model_module": "@jupyter-widgets/controls",
            "_model_module_version": "1.5.0",
            "_model_name": "FloatProgressModel",
            "_view_count": null,
            "_view_module": "@jupyter-widgets/controls",
            "_view_module_version": "1.5.0",
            "_view_name": "ProgressView",
            "bar_style": "success",
            "description": "",
            "description_tooltip": null,
            "layout": "IPY_MODEL_fa7bebe6bfc247a99d192514c1818b69",
            "max": 1,
            "min": 0,
            "orientation": "horizontal",
            "style": "IPY_MODEL_7451d1c9c097430a955881ff6c5e2418",
            "value": 1
          }
        },
        "c669aa05a81942fc94c2a8bbaf439ab3": {
          "model_module": "@jupyter-widgets/controls",
          "model_name": "HTMLModel",
          "model_module_version": "1.5.0",
          "state": {
            "_dom_classes": [],
            "_model_module": "@jupyter-widgets/controls",
            "_model_module_version": "1.5.0",
            "_model_name": "HTMLModel",
            "_view_count": null,
            "_view_module": "@jupyter-widgets/controls",
            "_view_module_version": "1.5.0",
            "_view_name": "HTMLView",
            "description": "",
            "description_tooltip": null,
            "layout": "IPY_MODEL_2e6053cad7a0400eb959b3e68c23bd95",
            "placeholder": "​",
            "style": "IPY_MODEL_6c47465783ff4b729060e44a97d35873",
            "value": " 1/1 [00:00&lt;00:00, 63.05ba/s]"
          }
        },
        "666b0283e5b8432dba1dcdc501b6a0b5": {
          "model_module": "@jupyter-widgets/base",
          "model_name": "LayoutModel",
          "model_module_version": "1.2.0",
          "state": {
            "_model_module": "@jupyter-widgets/base",
            "_model_module_version": "1.2.0",
            "_model_name": "LayoutModel",
            "_view_count": null,
            "_view_module": "@jupyter-widgets/base",
            "_view_module_version": "1.2.0",
            "_view_name": "LayoutView",
            "align_content": null,
            "align_items": null,
            "align_self": null,
            "border": null,
            "bottom": null,
            "display": null,
            "flex": null,
            "flex_flow": null,
            "grid_area": null,
            "grid_auto_columns": null,
            "grid_auto_flow": null,
            "grid_auto_rows": null,
            "grid_column": null,
            "grid_gap": null,
            "grid_row": null,
            "grid_template_areas": null,
            "grid_template_columns": null,
            "grid_template_rows": null,
            "height": null,
            "justify_content": null,
            "justify_items": null,
            "left": null,
            "margin": null,
            "max_height": null,
            "max_width": null,
            "min_height": null,
            "min_width": null,
            "object_fit": null,
            "object_position": null,
            "order": null,
            "overflow": null,
            "overflow_x": null,
            "overflow_y": null,
            "padding": null,
            "right": null,
            "top": null,
            "visibility": null,
            "width": null
          }
        },
        "a65f893a354349d581babac2bf0e0dbf": {
          "model_module": "@jupyter-widgets/base",
          "model_name": "LayoutModel",
          "model_module_version": "1.2.0",
          "state": {
            "_model_module": "@jupyter-widgets/base",
            "_model_module_version": "1.2.0",
            "_model_name": "LayoutModel",
            "_view_count": null,
            "_view_module": "@jupyter-widgets/base",
            "_view_module_version": "1.2.0",
            "_view_name": "LayoutView",
            "align_content": null,
            "align_items": null,
            "align_self": null,
            "border": null,
            "bottom": null,
            "display": null,
            "flex": null,
            "flex_flow": null,
            "grid_area": null,
            "grid_auto_columns": null,
            "grid_auto_flow": null,
            "grid_auto_rows": null,
            "grid_column": null,
            "grid_gap": null,
            "grid_row": null,
            "grid_template_areas": null,
            "grid_template_columns": null,
            "grid_template_rows": null,
            "height": null,
            "justify_content": null,
            "justify_items": null,
            "left": null,
            "margin": null,
            "max_height": null,
            "max_width": null,
            "min_height": null,
            "min_width": null,
            "object_fit": null,
            "object_position": null,
            "order": null,
            "overflow": null,
            "overflow_x": null,
            "overflow_y": null,
            "padding": null,
            "right": null,
            "top": null,
            "visibility": null,
            "width": null
          }
        },
        "e8f5e005375b45a498d2256c37ae8d71": {
          "model_module": "@jupyter-widgets/controls",
          "model_name": "DescriptionStyleModel",
          "model_module_version": "1.5.0",
          "state": {
            "_model_module": "@jupyter-widgets/controls",
            "_model_module_version": "1.5.0",
            "_model_name": "DescriptionStyleModel",
            "_view_count": null,
            "_view_module": "@jupyter-widgets/base",
            "_view_module_version": "1.2.0",
            "_view_name": "StyleView",
            "description_width": ""
          }
        },
        "fa7bebe6bfc247a99d192514c1818b69": {
          "model_module": "@jupyter-widgets/base",
          "model_name": "LayoutModel",
          "model_module_version": "1.2.0",
          "state": {
            "_model_module": "@jupyter-widgets/base",
            "_model_module_version": "1.2.0",
            "_model_name": "LayoutModel",
            "_view_count": null,
            "_view_module": "@jupyter-widgets/base",
            "_view_module_version": "1.2.0",
            "_view_name": "LayoutView",
            "align_content": null,
            "align_items": null,
            "align_self": null,
            "border": null,
            "bottom": null,
            "display": null,
            "flex": null,
            "flex_flow": null,
            "grid_area": null,
            "grid_auto_columns": null,
            "grid_auto_flow": null,
            "grid_auto_rows": null,
            "grid_column": null,
            "grid_gap": null,
            "grid_row": null,
            "grid_template_areas": null,
            "grid_template_columns": null,
            "grid_template_rows": null,
            "height": null,
            "justify_content": null,
            "justify_items": null,
            "left": null,
            "margin": null,
            "max_height": null,
            "max_width": null,
            "min_height": null,
            "min_width": null,
            "object_fit": null,
            "object_position": null,
            "order": null,
            "overflow": null,
            "overflow_x": null,
            "overflow_y": null,
            "padding": null,
            "right": null,
            "top": null,
            "visibility": null,
            "width": null
          }
        },
        "7451d1c9c097430a955881ff6c5e2418": {
          "model_module": "@jupyter-widgets/controls",
          "model_name": "ProgressStyleModel",
          "model_module_version": "1.5.0",
          "state": {
            "_model_module": "@jupyter-widgets/controls",
            "_model_module_version": "1.5.0",
            "_model_name": "ProgressStyleModel",
            "_view_count": null,
            "_view_module": "@jupyter-widgets/base",
            "_view_module_version": "1.2.0",
            "_view_name": "StyleView",
            "bar_color": null,
            "description_width": ""
          }
        },
        "2e6053cad7a0400eb959b3e68c23bd95": {
          "model_module": "@jupyter-widgets/base",
          "model_name": "LayoutModel",
          "model_module_version": "1.2.0",
          "state": {
            "_model_module": "@jupyter-widgets/base",
            "_model_module_version": "1.2.0",
            "_model_name": "LayoutModel",
            "_view_count": null,
            "_view_module": "@jupyter-widgets/base",
            "_view_module_version": "1.2.0",
            "_view_name": "LayoutView",
            "align_content": null,
            "align_items": null,
            "align_self": null,
            "border": null,
            "bottom": null,
            "display": null,
            "flex": null,
            "flex_flow": null,
            "grid_area": null,
            "grid_auto_columns": null,
            "grid_auto_flow": null,
            "grid_auto_rows": null,
            "grid_column": null,
            "grid_gap": null,
            "grid_row": null,
            "grid_template_areas": null,
            "grid_template_columns": null,
            "grid_template_rows": null,
            "height": null,
            "justify_content": null,
            "justify_items": null,
            "left": null,
            "margin": null,
            "max_height": null,
            "max_width": null,
            "min_height": null,
            "min_width": null,
            "object_fit": null,
            "object_position": null,
            "order": null,
            "overflow": null,
            "overflow_x": null,
            "overflow_y": null,
            "padding": null,
            "right": null,
            "top": null,
            "visibility": null,
            "width": null
          }
        },
        "6c47465783ff4b729060e44a97d35873": {
          "model_module": "@jupyter-widgets/controls",
          "model_name": "DescriptionStyleModel",
          "model_module_version": "1.5.0",
          "state": {
            "_model_module": "@jupyter-widgets/controls",
            "_model_module_version": "1.5.0",
            "_model_name": "DescriptionStyleModel",
            "_view_count": null,
            "_view_module": "@jupyter-widgets/base",
            "_view_module_version": "1.2.0",
            "_view_name": "StyleView",
            "description_width": ""
          }
        },
        "de9fc5fec43847ee86815cceaf33b7d5": {
          "model_module": "@jupyter-widgets/controls",
          "model_name": "HBoxModel",
          "model_module_version": "1.5.0",
          "state": {
            "_dom_classes": [],
            "_model_module": "@jupyter-widgets/controls",
            "_model_module_version": "1.5.0",
            "_model_name": "HBoxModel",
            "_view_count": null,
            "_view_module": "@jupyter-widgets/controls",
            "_view_module_version": "1.5.0",
            "_view_name": "HBoxView",
            "box_style": "",
            "children": [
              "IPY_MODEL_83b03863d3114e6a9cad0206e4a50601",
              "IPY_MODEL_21cf7a59c28644c885e5a6b13ecb9625",
              "IPY_MODEL_4702b89d64fa4be7bab83f9ee5e6feb0"
            ],
            "layout": "IPY_MODEL_f033c7e8cec24ddeaeab39eeaed7d282"
          }
        },
        "83b03863d3114e6a9cad0206e4a50601": {
          "model_module": "@jupyter-widgets/controls",
          "model_name": "HTMLModel",
          "model_module_version": "1.5.0",
          "state": {
            "_dom_classes": [],
            "_model_module": "@jupyter-widgets/controls",
            "_model_module_version": "1.5.0",
            "_model_name": "HTMLModel",
            "_view_count": null,
            "_view_module": "@jupyter-widgets/controls",
            "_view_module_version": "1.5.0",
            "_view_name": "HTMLView",
            "description": "",
            "description_tooltip": null,
            "layout": "IPY_MODEL_68742bd38e90439fb88ca3972df6a8b8",
            "placeholder": "​",
            "style": "IPY_MODEL_4b96c4c03dfa4a69ab5698fc38c22523",
            "value": "100%"
          }
        },
        "21cf7a59c28644c885e5a6b13ecb9625": {
          "model_module": "@jupyter-widgets/controls",
          "model_name": "FloatProgressModel",
          "model_module_version": "1.5.0",
          "state": {
            "_dom_classes": [],
            "_model_module": "@jupyter-widgets/controls",
            "_model_module_version": "1.5.0",
            "_model_name": "FloatProgressModel",
            "_view_count": null,
            "_view_module": "@jupyter-widgets/controls",
            "_view_module_version": "1.5.0",
            "_view_name": "ProgressView",
            "bar_style": "success",
            "description": "",
            "description_tooltip": null,
            "layout": "IPY_MODEL_4b5fc64bdf96455aa01f5c08911c38f9",
            "max": 1,
            "min": 0,
            "orientation": "horizontal",
            "style": "IPY_MODEL_69d9a7c0a7914cc58bdce8239e62f49e",
            "value": 1
          }
        },
        "4702b89d64fa4be7bab83f9ee5e6feb0": {
          "model_module": "@jupyter-widgets/controls",
          "model_name": "HTMLModel",
          "model_module_version": "1.5.0",
          "state": {
            "_dom_classes": [],
            "_model_module": "@jupyter-widgets/controls",
            "_model_module_version": "1.5.0",
            "_model_name": "HTMLModel",
            "_view_count": null,
            "_view_module": "@jupyter-widgets/controls",
            "_view_module_version": "1.5.0",
            "_view_name": "HTMLView",
            "description": "",
            "description_tooltip": null,
            "layout": "IPY_MODEL_9c126648d362487f9d34bb387e2aa0f6",
            "placeholder": "​",
            "style": "IPY_MODEL_645322ed5178404bb971a948a856de87",
            "value": " 1/1 [00:00&lt;00:00, 80.05ba/s]"
          }
        },
        "f033c7e8cec24ddeaeab39eeaed7d282": {
          "model_module": "@jupyter-widgets/base",
          "model_name": "LayoutModel",
          "model_module_version": "1.2.0",
          "state": {
            "_model_module": "@jupyter-widgets/base",
            "_model_module_version": "1.2.0",
            "_model_name": "LayoutModel",
            "_view_count": null,
            "_view_module": "@jupyter-widgets/base",
            "_view_module_version": "1.2.0",
            "_view_name": "LayoutView",
            "align_content": null,
            "align_items": null,
            "align_self": null,
            "border": null,
            "bottom": null,
            "display": null,
            "flex": null,
            "flex_flow": null,
            "grid_area": null,
            "grid_auto_columns": null,
            "grid_auto_flow": null,
            "grid_auto_rows": null,
            "grid_column": null,
            "grid_gap": null,
            "grid_row": null,
            "grid_template_areas": null,
            "grid_template_columns": null,
            "grid_template_rows": null,
            "height": null,
            "justify_content": null,
            "justify_items": null,
            "left": null,
            "margin": null,
            "max_height": null,
            "max_width": null,
            "min_height": null,
            "min_width": null,
            "object_fit": null,
            "object_position": null,
            "order": null,
            "overflow": null,
            "overflow_x": null,
            "overflow_y": null,
            "padding": null,
            "right": null,
            "top": null,
            "visibility": null,
            "width": null
          }
        },
        "68742bd38e90439fb88ca3972df6a8b8": {
          "model_module": "@jupyter-widgets/base",
          "model_name": "LayoutModel",
          "model_module_version": "1.2.0",
          "state": {
            "_model_module": "@jupyter-widgets/base",
            "_model_module_version": "1.2.0",
            "_model_name": "LayoutModel",
            "_view_count": null,
            "_view_module": "@jupyter-widgets/base",
            "_view_module_version": "1.2.0",
            "_view_name": "LayoutView",
            "align_content": null,
            "align_items": null,
            "align_self": null,
            "border": null,
            "bottom": null,
            "display": null,
            "flex": null,
            "flex_flow": null,
            "grid_area": null,
            "grid_auto_columns": null,
            "grid_auto_flow": null,
            "grid_auto_rows": null,
            "grid_column": null,
            "grid_gap": null,
            "grid_row": null,
            "grid_template_areas": null,
            "grid_template_columns": null,
            "grid_template_rows": null,
            "height": null,
            "justify_content": null,
            "justify_items": null,
            "left": null,
            "margin": null,
            "max_height": null,
            "max_width": null,
            "min_height": null,
            "min_width": null,
            "object_fit": null,
            "object_position": null,
            "order": null,
            "overflow": null,
            "overflow_x": null,
            "overflow_y": null,
            "padding": null,
            "right": null,
            "top": null,
            "visibility": null,
            "width": null
          }
        },
        "4b96c4c03dfa4a69ab5698fc38c22523": {
          "model_module": "@jupyter-widgets/controls",
          "model_name": "DescriptionStyleModel",
          "model_module_version": "1.5.0",
          "state": {
            "_model_module": "@jupyter-widgets/controls",
            "_model_module_version": "1.5.0",
            "_model_name": "DescriptionStyleModel",
            "_view_count": null,
            "_view_module": "@jupyter-widgets/base",
            "_view_module_version": "1.2.0",
            "_view_name": "StyleView",
            "description_width": ""
          }
        },
        "4b5fc64bdf96455aa01f5c08911c38f9": {
          "model_module": "@jupyter-widgets/base",
          "model_name": "LayoutModel",
          "model_module_version": "1.2.0",
          "state": {
            "_model_module": "@jupyter-widgets/base",
            "_model_module_version": "1.2.0",
            "_model_name": "LayoutModel",
            "_view_count": null,
            "_view_module": "@jupyter-widgets/base",
            "_view_module_version": "1.2.0",
            "_view_name": "LayoutView",
            "align_content": null,
            "align_items": null,
            "align_self": null,
            "border": null,
            "bottom": null,
            "display": null,
            "flex": null,
            "flex_flow": null,
            "grid_area": null,
            "grid_auto_columns": null,
            "grid_auto_flow": null,
            "grid_auto_rows": null,
            "grid_column": null,
            "grid_gap": null,
            "grid_row": null,
            "grid_template_areas": null,
            "grid_template_columns": null,
            "grid_template_rows": null,
            "height": null,
            "justify_content": null,
            "justify_items": null,
            "left": null,
            "margin": null,
            "max_height": null,
            "max_width": null,
            "min_height": null,
            "min_width": null,
            "object_fit": null,
            "object_position": null,
            "order": null,
            "overflow": null,
            "overflow_x": null,
            "overflow_y": null,
            "padding": null,
            "right": null,
            "top": null,
            "visibility": null,
            "width": null
          }
        },
        "69d9a7c0a7914cc58bdce8239e62f49e": {
          "model_module": "@jupyter-widgets/controls",
          "model_name": "ProgressStyleModel",
          "model_module_version": "1.5.0",
          "state": {
            "_model_module": "@jupyter-widgets/controls",
            "_model_module_version": "1.5.0",
            "_model_name": "ProgressStyleModel",
            "_view_count": null,
            "_view_module": "@jupyter-widgets/base",
            "_view_module_version": "1.2.0",
            "_view_name": "StyleView",
            "bar_color": null,
            "description_width": ""
          }
        },
        "9c126648d362487f9d34bb387e2aa0f6": {
          "model_module": "@jupyter-widgets/base",
          "model_name": "LayoutModel",
          "model_module_version": "1.2.0",
          "state": {
            "_model_module": "@jupyter-widgets/base",
            "_model_module_version": "1.2.0",
            "_model_name": "LayoutModel",
            "_view_count": null,
            "_view_module": "@jupyter-widgets/base",
            "_view_module_version": "1.2.0",
            "_view_name": "LayoutView",
            "align_content": null,
            "align_items": null,
            "align_self": null,
            "border": null,
            "bottom": null,
            "display": null,
            "flex": null,
            "flex_flow": null,
            "grid_area": null,
            "grid_auto_columns": null,
            "grid_auto_flow": null,
            "grid_auto_rows": null,
            "grid_column": null,
            "grid_gap": null,
            "grid_row": null,
            "grid_template_areas": null,
            "grid_template_columns": null,
            "grid_template_rows": null,
            "height": null,
            "justify_content": null,
            "justify_items": null,
            "left": null,
            "margin": null,
            "max_height": null,
            "max_width": null,
            "min_height": null,
            "min_width": null,
            "object_fit": null,
            "object_position": null,
            "order": null,
            "overflow": null,
            "overflow_x": null,
            "overflow_y": null,
            "padding": null,
            "right": null,
            "top": null,
            "visibility": null,
            "width": null
          }
        },
        "645322ed5178404bb971a948a856de87": {
          "model_module": "@jupyter-widgets/controls",
          "model_name": "DescriptionStyleModel",
          "model_module_version": "1.5.0",
          "state": {
            "_model_module": "@jupyter-widgets/controls",
            "_model_module_version": "1.5.0",
            "_model_name": "DescriptionStyleModel",
            "_view_count": null,
            "_view_module": "@jupyter-widgets/base",
            "_view_module_version": "1.2.0",
            "_view_name": "StyleView",
            "description_width": ""
          }
        },
        "a1f34eb9c22242dbab76160656ce6068": {
          "model_module": "@jupyter-widgets/controls",
          "model_name": "HBoxModel",
          "model_module_version": "1.5.0",
          "state": {
            "_dom_classes": [],
            "_model_module": "@jupyter-widgets/controls",
            "_model_module_version": "1.5.0",
            "_model_name": "HBoxModel",
            "_view_count": null,
            "_view_module": "@jupyter-widgets/controls",
            "_view_module_version": "1.5.0",
            "_view_name": "HBoxView",
            "box_style": "",
            "children": [
              "IPY_MODEL_f322fd064a014f4fbea2f6759f09d440",
              "IPY_MODEL_6729fb72c82b4243a993f269102b33a5",
              "IPY_MODEL_5fd1c2a028b747219f2f4f7fae854a47"
            ],
            "layout": "IPY_MODEL_2eae196d0285485384f4ddb9cec938ff"
          }
        },
        "f322fd064a014f4fbea2f6759f09d440": {
          "model_module": "@jupyter-widgets/controls",
          "model_name": "HTMLModel",
          "model_module_version": "1.5.0",
          "state": {
            "_dom_classes": [],
            "_model_module": "@jupyter-widgets/controls",
            "_model_module_version": "1.5.0",
            "_model_name": "HTMLModel",
            "_view_count": null,
            "_view_module": "@jupyter-widgets/controls",
            "_view_module_version": "1.5.0",
            "_view_name": "HTMLView",
            "description": "",
            "description_tooltip": null,
            "layout": "IPY_MODEL_328da350d3c34ca1ad41111d0419bdcc",
            "placeholder": "​",
            "style": "IPY_MODEL_c0ea37aff9ae484d97b52393a8f8eccb",
            "value": "100%"
          }
        },
        "6729fb72c82b4243a993f269102b33a5": {
          "model_module": "@jupyter-widgets/controls",
          "model_name": "FloatProgressModel",
          "model_module_version": "1.5.0",
          "state": {
            "_dom_classes": [],
            "_model_module": "@jupyter-widgets/controls",
            "_model_module_version": "1.5.0",
            "_model_name": "FloatProgressModel",
            "_view_count": null,
            "_view_module": "@jupyter-widgets/controls",
            "_view_module_version": "1.5.0",
            "_view_name": "ProgressView",
            "bar_style": "success",
            "description": "",
            "description_tooltip": null,
            "layout": "IPY_MODEL_df785576d8d44682b136ebf540ffb30b",
            "max": 1,
            "min": 0,
            "orientation": "horizontal",
            "style": "IPY_MODEL_aa4cefc5b27e4e028492e607f3120ca5",
            "value": 1
          }
        },
        "5fd1c2a028b747219f2f4f7fae854a47": {
          "model_module": "@jupyter-widgets/controls",
          "model_name": "HTMLModel",
          "model_module_version": "1.5.0",
          "state": {
            "_dom_classes": [],
            "_model_module": "@jupyter-widgets/controls",
            "_model_module_version": "1.5.0",
            "_model_name": "HTMLModel",
            "_view_count": null,
            "_view_module": "@jupyter-widgets/controls",
            "_view_module_version": "1.5.0",
            "_view_name": "HTMLView",
            "description": "",
            "description_tooltip": null,
            "layout": "IPY_MODEL_e6808b95fcef472bb9065298b0d49e2c",
            "placeholder": "​",
            "style": "IPY_MODEL_58fb8b859de24d55b4afa336dd51b99a",
            "value": " 1/1 [00:00&lt;00:00, 60.58ba/s]"
          }
        },
        "2eae196d0285485384f4ddb9cec938ff": {
          "model_module": "@jupyter-widgets/base",
          "model_name": "LayoutModel",
          "model_module_version": "1.2.0",
          "state": {
            "_model_module": "@jupyter-widgets/base",
            "_model_module_version": "1.2.0",
            "_model_name": "LayoutModel",
            "_view_count": null,
            "_view_module": "@jupyter-widgets/base",
            "_view_module_version": "1.2.0",
            "_view_name": "LayoutView",
            "align_content": null,
            "align_items": null,
            "align_self": null,
            "border": null,
            "bottom": null,
            "display": null,
            "flex": null,
            "flex_flow": null,
            "grid_area": null,
            "grid_auto_columns": null,
            "grid_auto_flow": null,
            "grid_auto_rows": null,
            "grid_column": null,
            "grid_gap": null,
            "grid_row": null,
            "grid_template_areas": null,
            "grid_template_columns": null,
            "grid_template_rows": null,
            "height": null,
            "justify_content": null,
            "justify_items": null,
            "left": null,
            "margin": null,
            "max_height": null,
            "max_width": null,
            "min_height": null,
            "min_width": null,
            "object_fit": null,
            "object_position": null,
            "order": null,
            "overflow": null,
            "overflow_x": null,
            "overflow_y": null,
            "padding": null,
            "right": null,
            "top": null,
            "visibility": null,
            "width": null
          }
        },
        "328da350d3c34ca1ad41111d0419bdcc": {
          "model_module": "@jupyter-widgets/base",
          "model_name": "LayoutModel",
          "model_module_version": "1.2.0",
          "state": {
            "_model_module": "@jupyter-widgets/base",
            "_model_module_version": "1.2.0",
            "_model_name": "LayoutModel",
            "_view_count": null,
            "_view_module": "@jupyter-widgets/base",
            "_view_module_version": "1.2.0",
            "_view_name": "LayoutView",
            "align_content": null,
            "align_items": null,
            "align_self": null,
            "border": null,
            "bottom": null,
            "display": null,
            "flex": null,
            "flex_flow": null,
            "grid_area": null,
            "grid_auto_columns": null,
            "grid_auto_flow": null,
            "grid_auto_rows": null,
            "grid_column": null,
            "grid_gap": null,
            "grid_row": null,
            "grid_template_areas": null,
            "grid_template_columns": null,
            "grid_template_rows": null,
            "height": null,
            "justify_content": null,
            "justify_items": null,
            "left": null,
            "margin": null,
            "max_height": null,
            "max_width": null,
            "min_height": null,
            "min_width": null,
            "object_fit": null,
            "object_position": null,
            "order": null,
            "overflow": null,
            "overflow_x": null,
            "overflow_y": null,
            "padding": null,
            "right": null,
            "top": null,
            "visibility": null,
            "width": null
          }
        },
        "c0ea37aff9ae484d97b52393a8f8eccb": {
          "model_module": "@jupyter-widgets/controls",
          "model_name": "DescriptionStyleModel",
          "model_module_version": "1.5.0",
          "state": {
            "_model_module": "@jupyter-widgets/controls",
            "_model_module_version": "1.5.0",
            "_model_name": "DescriptionStyleModel",
            "_view_count": null,
            "_view_module": "@jupyter-widgets/base",
            "_view_module_version": "1.2.0",
            "_view_name": "StyleView",
            "description_width": ""
          }
        },
        "df785576d8d44682b136ebf540ffb30b": {
          "model_module": "@jupyter-widgets/base",
          "model_name": "LayoutModel",
          "model_module_version": "1.2.0",
          "state": {
            "_model_module": "@jupyter-widgets/base",
            "_model_module_version": "1.2.0",
            "_model_name": "LayoutModel",
            "_view_count": null,
            "_view_module": "@jupyter-widgets/base",
            "_view_module_version": "1.2.0",
            "_view_name": "LayoutView",
            "align_content": null,
            "align_items": null,
            "align_self": null,
            "border": null,
            "bottom": null,
            "display": null,
            "flex": null,
            "flex_flow": null,
            "grid_area": null,
            "grid_auto_columns": null,
            "grid_auto_flow": null,
            "grid_auto_rows": null,
            "grid_column": null,
            "grid_gap": null,
            "grid_row": null,
            "grid_template_areas": null,
            "grid_template_columns": null,
            "grid_template_rows": null,
            "height": null,
            "justify_content": null,
            "justify_items": null,
            "left": null,
            "margin": null,
            "max_height": null,
            "max_width": null,
            "min_height": null,
            "min_width": null,
            "object_fit": null,
            "object_position": null,
            "order": null,
            "overflow": null,
            "overflow_x": null,
            "overflow_y": null,
            "padding": null,
            "right": null,
            "top": null,
            "visibility": null,
            "width": null
          }
        },
        "aa4cefc5b27e4e028492e607f3120ca5": {
          "model_module": "@jupyter-widgets/controls",
          "model_name": "ProgressStyleModel",
          "model_module_version": "1.5.0",
          "state": {
            "_model_module": "@jupyter-widgets/controls",
            "_model_module_version": "1.5.0",
            "_model_name": "ProgressStyleModel",
            "_view_count": null,
            "_view_module": "@jupyter-widgets/base",
            "_view_module_version": "1.2.0",
            "_view_name": "StyleView",
            "bar_color": null,
            "description_width": ""
          }
        },
        "e6808b95fcef472bb9065298b0d49e2c": {
          "model_module": "@jupyter-widgets/base",
          "model_name": "LayoutModel",
          "model_module_version": "1.2.0",
          "state": {
            "_model_module": "@jupyter-widgets/base",
            "_model_module_version": "1.2.0",
            "_model_name": "LayoutModel",
            "_view_count": null,
            "_view_module": "@jupyter-widgets/base",
            "_view_module_version": "1.2.0",
            "_view_name": "LayoutView",
            "align_content": null,
            "align_items": null,
            "align_self": null,
            "border": null,
            "bottom": null,
            "display": null,
            "flex": null,
            "flex_flow": null,
            "grid_area": null,
            "grid_auto_columns": null,
            "grid_auto_flow": null,
            "grid_auto_rows": null,
            "grid_column": null,
            "grid_gap": null,
            "grid_row": null,
            "grid_template_areas": null,
            "grid_template_columns": null,
            "grid_template_rows": null,
            "height": null,
            "justify_content": null,
            "justify_items": null,
            "left": null,
            "margin": null,
            "max_height": null,
            "max_width": null,
            "min_height": null,
            "min_width": null,
            "object_fit": null,
            "object_position": null,
            "order": null,
            "overflow": null,
            "overflow_x": null,
            "overflow_y": null,
            "padding": null,
            "right": null,
            "top": null,
            "visibility": null,
            "width": null
          }
        },
        "58fb8b859de24d55b4afa336dd51b99a": {
          "model_module": "@jupyter-widgets/controls",
          "model_name": "DescriptionStyleModel",
          "model_module_version": "1.5.0",
          "state": {
            "_model_module": "@jupyter-widgets/controls",
            "_model_module_version": "1.5.0",
            "_model_name": "DescriptionStyleModel",
            "_view_count": null,
            "_view_module": "@jupyter-widgets/base",
            "_view_module_version": "1.2.0",
            "_view_name": "StyleView",
            "description_width": ""
          }
        },
        "dcd357d8c1b5432ea83a478cc23f4cec": {
          "model_module": "@jupyter-widgets/controls",
          "model_name": "HBoxModel",
          "model_module_version": "1.5.0",
          "state": {
            "_dom_classes": [],
            "_model_module": "@jupyter-widgets/controls",
            "_model_module_version": "1.5.0",
            "_model_name": "HBoxModel",
            "_view_count": null,
            "_view_module": "@jupyter-widgets/controls",
            "_view_module_version": "1.5.0",
            "_view_name": "HBoxView",
            "box_style": "",
            "children": [
              "IPY_MODEL_aa7fd06cac75425591057714f64c8f03",
              "IPY_MODEL_3fe03051b65141c7b8e74c64a3fb4aca",
              "IPY_MODEL_5e834beead394e9f894c36b36d306c2d"
            ],
            "layout": "IPY_MODEL_6d8864489ec64fac9c0614e565cb37f9"
          }
        },
        "aa7fd06cac75425591057714f64c8f03": {
          "model_module": "@jupyter-widgets/controls",
          "model_name": "HTMLModel",
          "model_module_version": "1.5.0",
          "state": {
            "_dom_classes": [],
            "_model_module": "@jupyter-widgets/controls",
            "_model_module_version": "1.5.0",
            "_model_name": "HTMLModel",
            "_view_count": null,
            "_view_module": "@jupyter-widgets/controls",
            "_view_module_version": "1.5.0",
            "_view_name": "HTMLView",
            "description": "",
            "description_tooltip": null,
            "layout": "IPY_MODEL_0145ece527964eb2b27ba0cfd1c3c494",
            "placeholder": "​",
            "style": "IPY_MODEL_f32ce706dc4e4cfea356e4671eba163a",
            "value": ""
          }
        },
        "3fe03051b65141c7b8e74c64a3fb4aca": {
          "model_module": "@jupyter-widgets/controls",
          "model_name": "FloatProgressModel",
          "model_module_version": "1.5.0",
          "state": {
            "_dom_classes": [],
            "_model_module": "@jupyter-widgets/controls",
            "_model_module_version": "1.5.0",
            "_model_name": "FloatProgressModel",
            "_view_count": null,
            "_view_module": "@jupyter-widgets/controls",
            "_view_module_version": "1.5.0",
            "_view_name": "ProgressView",
            "bar_style": "success",
            "description": "",
            "description_tooltip": null,
            "layout": "IPY_MODEL_15469b48be4942b28a7fad7423028c2f",
            "max": 1,
            "min": 0,
            "orientation": "horizontal",
            "style": "IPY_MODEL_6e9baafcfe0a4f949e5c46ada71ea769",
            "value": 1
          }
        },
        "5e834beead394e9f894c36b36d306c2d": {
          "model_module": "@jupyter-widgets/controls",
          "model_name": "HTMLModel",
          "model_module_version": "1.5.0",
          "state": {
            "_dom_classes": [],
            "_model_module": "@jupyter-widgets/controls",
            "_model_module_version": "1.5.0",
            "_model_name": "HTMLModel",
            "_view_count": null,
            "_view_module": "@jupyter-widgets/controls",
            "_view_module_version": "1.5.0",
            "_view_name": "HTMLView",
            "description": "",
            "description_tooltip": null,
            "layout": "IPY_MODEL_564b9f27f35b48ae98d38bdaaedb0fe9",
            "placeholder": "​",
            "style": "IPY_MODEL_584fd46eec1545c1b0eaa9d018a08964",
            "value": " 15/? [00:00&lt;00:00, 22.12ex/s]"
          }
        },
        "6d8864489ec64fac9c0614e565cb37f9": {
          "model_module": "@jupyter-widgets/base",
          "model_name": "LayoutModel",
          "model_module_version": "1.2.0",
          "state": {
            "_model_module": "@jupyter-widgets/base",
            "_model_module_version": "1.2.0",
            "_model_name": "LayoutModel",
            "_view_count": null,
            "_view_module": "@jupyter-widgets/base",
            "_view_module_version": "1.2.0",
            "_view_name": "LayoutView",
            "align_content": null,
            "align_items": null,
            "align_self": null,
            "border": null,
            "bottom": null,
            "display": null,
            "flex": null,
            "flex_flow": null,
            "grid_area": null,
            "grid_auto_columns": null,
            "grid_auto_flow": null,
            "grid_auto_rows": null,
            "grid_column": null,
            "grid_gap": null,
            "grid_row": null,
            "grid_template_areas": null,
            "grid_template_columns": null,
            "grid_template_rows": null,
            "height": null,
            "justify_content": null,
            "justify_items": null,
            "left": null,
            "margin": null,
            "max_height": null,
            "max_width": null,
            "min_height": null,
            "min_width": null,
            "object_fit": null,
            "object_position": null,
            "order": null,
            "overflow": null,
            "overflow_x": null,
            "overflow_y": null,
            "padding": null,
            "right": null,
            "top": null,
            "visibility": null,
            "width": null
          }
        },
        "0145ece527964eb2b27ba0cfd1c3c494": {
          "model_module": "@jupyter-widgets/base",
          "model_name": "LayoutModel",
          "model_module_version": "1.2.0",
          "state": {
            "_model_module": "@jupyter-widgets/base",
            "_model_module_version": "1.2.0",
            "_model_name": "LayoutModel",
            "_view_count": null,
            "_view_module": "@jupyter-widgets/base",
            "_view_module_version": "1.2.0",
            "_view_name": "LayoutView",
            "align_content": null,
            "align_items": null,
            "align_self": null,
            "border": null,
            "bottom": null,
            "display": null,
            "flex": null,
            "flex_flow": null,
            "grid_area": null,
            "grid_auto_columns": null,
            "grid_auto_flow": null,
            "grid_auto_rows": null,
            "grid_column": null,
            "grid_gap": null,
            "grid_row": null,
            "grid_template_areas": null,
            "grid_template_columns": null,
            "grid_template_rows": null,
            "height": null,
            "justify_content": null,
            "justify_items": null,
            "left": null,
            "margin": null,
            "max_height": null,
            "max_width": null,
            "min_height": null,
            "min_width": null,
            "object_fit": null,
            "object_position": null,
            "order": null,
            "overflow": null,
            "overflow_x": null,
            "overflow_y": null,
            "padding": null,
            "right": null,
            "top": null,
            "visibility": null,
            "width": null
          }
        },
        "f32ce706dc4e4cfea356e4671eba163a": {
          "model_module": "@jupyter-widgets/controls",
          "model_name": "DescriptionStyleModel",
          "model_module_version": "1.5.0",
          "state": {
            "_model_module": "@jupyter-widgets/controls",
            "_model_module_version": "1.5.0",
            "_model_name": "DescriptionStyleModel",
            "_view_count": null,
            "_view_module": "@jupyter-widgets/base",
            "_view_module_version": "1.2.0",
            "_view_name": "StyleView",
            "description_width": ""
          }
        },
        "15469b48be4942b28a7fad7423028c2f": {
          "model_module": "@jupyter-widgets/base",
          "model_name": "LayoutModel",
          "model_module_version": "1.2.0",
          "state": {
            "_model_module": "@jupyter-widgets/base",
            "_model_module_version": "1.2.0",
            "_model_name": "LayoutModel",
            "_view_count": null,
            "_view_module": "@jupyter-widgets/base",
            "_view_module_version": "1.2.0",
            "_view_name": "LayoutView",
            "align_content": null,
            "align_items": null,
            "align_self": null,
            "border": null,
            "bottom": null,
            "display": null,
            "flex": null,
            "flex_flow": null,
            "grid_area": null,
            "grid_auto_columns": null,
            "grid_auto_flow": null,
            "grid_auto_rows": null,
            "grid_column": null,
            "grid_gap": null,
            "grid_row": null,
            "grid_template_areas": null,
            "grid_template_columns": null,
            "grid_template_rows": null,
            "height": null,
            "justify_content": null,
            "justify_items": null,
            "left": null,
            "margin": null,
            "max_height": null,
            "max_width": null,
            "min_height": null,
            "min_width": null,
            "object_fit": null,
            "object_position": null,
            "order": null,
            "overflow": null,
            "overflow_x": null,
            "overflow_y": null,
            "padding": null,
            "right": null,
            "top": null,
            "visibility": null,
            "width": "20px"
          }
        },
        "6e9baafcfe0a4f949e5c46ada71ea769": {
          "model_module": "@jupyter-widgets/controls",
          "model_name": "ProgressStyleModel",
          "model_module_version": "1.5.0",
          "state": {
            "_model_module": "@jupyter-widgets/controls",
            "_model_module_version": "1.5.0",
            "_model_name": "ProgressStyleModel",
            "_view_count": null,
            "_view_module": "@jupyter-widgets/base",
            "_view_module_version": "1.2.0",
            "_view_name": "StyleView",
            "bar_color": null,
            "description_width": ""
          }
        },
        "564b9f27f35b48ae98d38bdaaedb0fe9": {
          "model_module": "@jupyter-widgets/base",
          "model_name": "LayoutModel",
          "model_module_version": "1.2.0",
          "state": {
            "_model_module": "@jupyter-widgets/base",
            "_model_module_version": "1.2.0",
            "_model_name": "LayoutModel",
            "_view_count": null,
            "_view_module": "@jupyter-widgets/base",
            "_view_module_version": "1.2.0",
            "_view_name": "LayoutView",
            "align_content": null,
            "align_items": null,
            "align_self": null,
            "border": null,
            "bottom": null,
            "display": null,
            "flex": null,
            "flex_flow": null,
            "grid_area": null,
            "grid_auto_columns": null,
            "grid_auto_flow": null,
            "grid_auto_rows": null,
            "grid_column": null,
            "grid_gap": null,
            "grid_row": null,
            "grid_template_areas": null,
            "grid_template_columns": null,
            "grid_template_rows": null,
            "height": null,
            "justify_content": null,
            "justify_items": null,
            "left": null,
            "margin": null,
            "max_height": null,
            "max_width": null,
            "min_height": null,
            "min_width": null,
            "object_fit": null,
            "object_position": null,
            "order": null,
            "overflow": null,
            "overflow_x": null,
            "overflow_y": null,
            "padding": null,
            "right": null,
            "top": null,
            "visibility": null,
            "width": null
          }
        },
        "584fd46eec1545c1b0eaa9d018a08964": {
          "model_module": "@jupyter-widgets/controls",
          "model_name": "DescriptionStyleModel",
          "model_module_version": "1.5.0",
          "state": {
            "_model_module": "@jupyter-widgets/controls",
            "_model_module_version": "1.5.0",
            "_model_name": "DescriptionStyleModel",
            "_view_count": null,
            "_view_module": "@jupyter-widgets/base",
            "_view_module_version": "1.2.0",
            "_view_name": "StyleView",
            "description_width": ""
          }
        }
      }
    },
    "gpuClass": "premium"
  },
  "cells": [
    {
      "cell_type": "markdown",
      "source": [
        "**Task:**\n",
        "\n",
        "😊-------------------------------------------------------\n",
        "\n",
        "In this lab, you are going to make your speech recognizer. Specifically, given a pretrained wav2vec2 model, you should perform fine-tuning (FT) on your own speech data (English). You are required to collect **20 minutes** of your own voice that is recorded in either clean or noisy background. The content can be in any domains. Please just follow Gopala's voice format that will be given in the next few sections to deal with your voice data. Generally speaking, the duration of each utterance is suggested to be about **2s-5s**. But you can do any numbers. If it is 4s for each utterance, 20 minutes would correspond to about 300 utterances. Once you have 20 minutes data, you should perform 3 sets of experiments independently:\n",
        "\n",
        "1. FT on the entire data (20minutes)\n",
        "2. FT on 10 minutes data that is randomly sampled.\n",
        "3. FT on 5 minutes data that is randomly sampled. \n",
        "\n",
        "For each experiment, please make sure to have train/dev/test split where the suggested ratio is 0.8 : 0.1 : 0.1. Please report WER for both dev and test set. That saying, you need **6 results in total**.\n",
        "\n",
        "Submission:\n",
        "Just **a doc or pdf file** that contains: \n",
        "\n",
        "(1) Colab links for all experiments. For example, if you do three experiments in three different colabs, just copy and paste all three links. If you just use one colab, then submit one. \n",
        "\n",
        "(2) Brief introduction of your collected corpus (where and how they were recorded, content domains, number of utterances, etc) and **your own data**! If you follow this code template and also use gdrive, please just copy and paste the gdrive link in the doc. \n",
        "\n",
        "(3) Brief analysis of the results.\n",
        "\n",
        "😊-------------------------------------------------------\n"
      ],
      "metadata": {
        "id": "BYNbgvdtmmEN"
      }
    },
    {
      "cell_type": "markdown",
      "source": [
        "This code template is adapted from HugginFace [wav2vec2 code base](https://huggingface.co/docs/transformers/model_doc/wav2vec2)."
      ],
      "metadata": {
        "id": "iWprE6wUoKiR"
      }
    },
    {
      "cell_type": "markdown",
      "source": [
        "Belowing is an example of performing fine-tuning on Gopala's voice with wav2vec2. You can follow this template and just replace the data with your own voice by following the same data format. So let's get started!"
      ],
      "metadata": {
        "id": "2whGhU0At-PP"
      }
    },
    {
      "cell_type": "markdown",
      "metadata": {
        "id": "qW3J3rBizeds"
      },
      "source": [
        "First, check GPU availablity. You are suggested to upgrade Colab Pro to have access to high-performance GPU. But it is not required."
      ]
    },
    {
      "cell_type": "code",
      "metadata": {
        "id": "SLAufgh_xxj7",
        "colab": {
          "base_uri": "https://localhost:8080/"
        },
        "outputId": "c298178d-d794-42af-f098-f780c3d1e1cf"
      },
      "source": [
        "gpu_info = !nvidia-smi\n",
        "gpu_info = '\\n'.join(gpu_info)\n",
        "if gpu_info.find('failed') >= 0:\n",
        "  print('Not connected to a GPU')\n",
        "else:\n",
        "  print(gpu_info)"
      ],
      "execution_count": 1,
      "outputs": [
        {
          "output_type": "stream",
          "name": "stdout",
          "text": [
            "Tue Dec 20 22:48:55 2022       \n",
            "+-----------------------------------------------------------------------------+\n",
            "| NVIDIA-SMI 460.32.03    Driver Version: 460.32.03    CUDA Version: 11.2     |\n",
            "|-------------------------------+----------------------+----------------------+\n",
            "| GPU  Name        Persistence-M| Bus-Id        Disp.A | Volatile Uncorr. ECC |\n",
            "| Fan  Temp  Perf  Pwr:Usage/Cap|         Memory-Usage | GPU-Util  Compute M. |\n",
            "|                               |                      |               MIG M. |\n",
            "|===============================+======================+======================|\n",
            "|   0  A100-SXM4-40GB      Off  | 00000000:00:04.0 Off |                    0 |\n",
            "| N/A   30C    P0    51W / 400W |      0MiB / 40536MiB |      0%      Default |\n",
            "|                               |                      |             Disabled |\n",
            "+-------------------------------+----------------------+----------------------+\n",
            "                                                                               \n",
            "+-----------------------------------------------------------------------------+\n",
            "| Processes:                                                                  |\n",
            "|  GPU   GI   CI        PID   Type   Process name                  GPU Memory |\n",
            "|        ID   ID                                                   Usage      |\n",
            "|=============================================================================|\n",
            "|  No running processes found                                                 |\n",
            "+-----------------------------------------------------------------------------+\n"
          ]
        }
      ]
    },
    {
      "cell_type": "markdown",
      "metadata": {
        "id": "e335hPmdtASZ"
      },
      "source": [
        "Install both `datasets` and `transformers` from master. Also, we need the `librosa` package to load audio files and the `jiwer` to evaluate our fine-tuned model using the [word error rate (WER)](https://huggingface.co/metrics/wer) metric ${}^1$."
      ]
    },
    {
      "cell_type": "code",
      "metadata": {
        "id": "c8eh87Hoee5d"
      },
      "source": [
        "%%capture\n",
        "!pip install datasets==1.18.3\n",
        "!pip install transformers==4.17.0\n",
        "!pip install jiwer"
      ],
      "execution_count": 2,
      "outputs": []
    },
    {
      "cell_type": "code",
      "metadata": {
        "id": "2MMXcWFFgCXU"
      },
      "source": [
        "from datasets import load_dataset, load_metric"
      ],
      "execution_count": 3,
      "outputs": []
    },
    {
      "cell_type": "markdown",
      "source": [
        "Below we have already prepared Gopala's voice that is saved in gdrive. Just download it unzip it. "
      ],
      "metadata": {
        "id": "J0vkfmxUvRlB"
      }
    },
    {
      "cell_type": "code",
      "source": [
        "#download kevin's voice\n",
        "!pip install -U --no-cache-dir gdown --pre\n",
        "!gdown https://drive.google.com/uc?id=1cRNo48scXGs4hEDTGozH3NTpye-al_k3\n",
        "!unzip data_kevin_resampled.zip"
      ],
      "metadata": {
        "id": "8462q9yTspvt",
        "colab": {
          "base_uri": "https://localhost:8080/"
        },
        "outputId": "31a0464c-3a59-4bf1-c1cc-12eeb84ad60d"
      },
      "execution_count": 4,
      "outputs": [
        {
          "output_type": "stream",
          "name": "stdout",
          "text": [
            "Looking in indexes: https://pypi.org/simple, https://us-python.pkg.dev/colab-wheels/public/simple/\n",
            "Requirement already satisfied: gdown in /usr/local/lib/python3.8/dist-packages (4.6.0)\n",
            "Requirement already satisfied: beautifulsoup4 in /usr/local/lib/python3.8/dist-packages (from gdown) (4.6.3)\n",
            "Requirement already satisfied: tqdm in /usr/local/lib/python3.8/dist-packages (from gdown) (4.64.1)\n",
            "Requirement already satisfied: filelock in /usr/local/lib/python3.8/dist-packages (from gdown) (3.8.2)\n",
            "Requirement already satisfied: six in /usr/local/lib/python3.8/dist-packages (from gdown) (1.15.0)\n",
            "Requirement already satisfied: requests[socks] in /usr/local/lib/python3.8/dist-packages (from gdown) (2.23.0)\n",
            "Requirement already satisfied: idna<3,>=2.5 in /usr/local/lib/python3.8/dist-packages (from requests[socks]->gdown) (2.10)\n",
            "Requirement already satisfied: chardet<4,>=3.0.2 in /usr/local/lib/python3.8/dist-packages (from requests[socks]->gdown) (3.0.4)\n",
            "Requirement already satisfied: urllib3!=1.25.0,!=1.25.1,<1.26,>=1.21.1 in /usr/local/lib/python3.8/dist-packages (from requests[socks]->gdown) (1.24.3)\n",
            "Requirement already satisfied: certifi>=2017.4.17 in /usr/local/lib/python3.8/dist-packages (from requests[socks]->gdown) (2022.12.7)\n",
            "Requirement already satisfied: PySocks!=1.5.7,>=1.5.6 in /usr/local/lib/python3.8/dist-packages (from requests[socks]->gdown) (1.7.1)\n",
            "Downloading...\n",
            "From: https://drive.google.com/uc?id=1cRNo48scXGs4hEDTGozH3NTpye-al_k3\n",
            "To: /content/data_kevin_resampled.zip\n",
            "100% 109M/109M [00:02<00:00, 53.3MB/s]\n",
            "Archive:  data_kevin_resampled.zip\n",
            "replace data_kevin/arctic_a0001.wav? [y]es, [n]o, [A]ll, [N]one, [r]ename: A\n",
            "  inflating: data_kevin/arctic_a0001.wav  \n",
            "  inflating: data_kevin/arctic_a0002.wav  \n",
            "  inflating: data_kevin/arctic_a0003.wav  \n",
            "  inflating: data_kevin/arctic_a0004.wav  \n",
            "  inflating: data_kevin/arctic_a0005.wav  \n",
            "  inflating: data_kevin/arctic_a0006.wav  \n",
            "  inflating: data_kevin/arctic_a0007.wav  \n",
            "  inflating: data_kevin/arctic_a0008.wav  \n",
            "  inflating: data_kevin/arctic_a0009.wav  \n",
            "  inflating: data_kevin/arctic_a0010.wav  \n",
            "  inflating: data_kevin/arctic_a0011.wav  \n",
            "  inflating: data_kevin/arctic_a0012.wav  \n",
            "  inflating: data_kevin/arctic_a0013.wav  \n",
            "  inflating: data_kevin/arctic_a0014.wav  \n",
            "  inflating: data_kevin/arctic_a0015.wav  \n",
            "  inflating: data_kevin/arctic_a0016.wav  \n",
            "  inflating: data_kevin/arctic_a0017.wav  \n",
            "  inflating: data_kevin/arctic_a0018.wav  \n",
            "  inflating: data_kevin/arctic_a0019.wav  \n",
            "  inflating: data_kevin/arctic_a0020.wav  \n",
            "  inflating: data_kevin/arctic_a0021.wav  \n",
            "  inflating: data_kevin/arctic_a0022.wav  \n",
            "  inflating: data_kevin/arctic_a0023.wav  \n",
            "  inflating: data_kevin/arctic_a0024.wav  \n",
            "  inflating: data_kevin/arctic_a0025.wav  \n",
            "  inflating: data_kevin/arctic_a0026.wav  \n",
            "  inflating: data_kevin/arctic_a0027.wav  \n",
            "  inflating: data_kevin/arctic_a0029.wav  \n",
            "  inflating: data_kevin/arctic_a0030.wav  \n",
            "  inflating: data_kevin/arctic_a0031.wav  \n",
            "  inflating: data_kevin/arctic_a0032.wav  \n",
            "  inflating: data_kevin/arctic_a0033.wav  \n",
            "  inflating: data_kevin/arctic_a0034.wav  \n",
            "  inflating: data_kevin/arctic_a0035.wav  \n",
            "  inflating: data_kevin/arctic_a0036.wav  \n",
            "  inflating: data_kevin/arctic_a0037.wav  \n",
            "  inflating: data_kevin/arctic_a0038.wav  \n",
            "  inflating: data_kevin/arctic_a0039.wav  \n",
            "  inflating: data_kevin/arctic_a0040.wav  \n",
            "  inflating: data_kevin/arctic_a0041.wav  \n",
            "  inflating: data_kevin/arctic_a0042.wav  \n",
            "  inflating: data_kevin/arctic_a0043.wav  \n",
            "  inflating: data_kevin/arctic_a0044.wav  \n",
            "  inflating: data_kevin/arctic_a0045.wav  \n",
            "  inflating: data_kevin/arctic_a0046.wav  \n",
            "  inflating: data_kevin/arctic_a0047.wav  \n",
            "  inflating: data_kevin/arctic_a0048.wav  \n",
            "  inflating: data_kevin/arctic_a0049.wav  \n",
            "  inflating: data_kevin/arctic_a0050.wav  \n",
            "  inflating: data_kevin/arctic_a0051.wav  \n",
            "  inflating: data_kevin/arctic_a0052.wav  \n",
            "  inflating: data_kevin/arctic_a0053.wav  \n",
            "  inflating: data_kevin/arctic_a0054.wav  \n",
            "  inflating: data_kevin/arctic_a0055.wav  \n",
            "  inflating: data_kevin/arctic_a0056.wav  \n",
            "  inflating: data_kevin/arctic_a0057.wav  \n",
            "  inflating: data_kevin/arctic_a0058.wav  \n",
            "  inflating: data_kevin/arctic_a0059.wav  \n",
            "  inflating: data_kevin/arctic_a0060.wav  \n",
            "  inflating: data_kevin/arctic_a0061.wav  \n",
            "  inflating: data_kevin/arctic_a0062.wav  \n",
            "  inflating: data_kevin/arctic_a0063.wav  \n",
            "  inflating: data_kevin/arctic_a0064.wav  \n",
            "  inflating: data_kevin/arctic_a0065.wav  \n",
            "  inflating: data_kevin/arctic_a0066.wav  \n",
            "  inflating: data_kevin/arctic_a0067.wav  \n",
            "  inflating: data_kevin/arctic_a0068.wav  \n",
            "  inflating: data_kevin/arctic_a0069.wav  \n",
            "  inflating: data_kevin/arctic_a0070.wav  \n",
            "  inflating: data_kevin/arctic_a0071.wav  \n",
            "  inflating: data_kevin/arctic_a0072.wav  \n",
            "  inflating: data_kevin/arctic_a0073.wav  \n",
            "  inflating: data_kevin/arctic_a0074.wav  \n",
            "  inflating: data_kevin/arctic_a0075.wav  \n",
            "  inflating: data_kevin/arctic_a0076.wav  \n",
            "  inflating: data_kevin/arctic_a0077.wav  \n",
            "  inflating: data_kevin/arctic_a0078.wav  \n",
            "  inflating: data_kevin/arctic_a0079.wav  \n",
            "  inflating: data_kevin/arctic_a0080.wav  \n",
            "  inflating: data_kevin/arctic_a0081.wav  \n",
            "  inflating: data_kevin/arctic_a0082.wav  \n",
            "  inflating: data_kevin/arctic_a0083.wav  \n",
            "  inflating: data_kevin/arctic_a0084.wav  \n",
            "  inflating: data_kevin/arctic_a0085.wav  \n",
            "  inflating: data_kevin/arctic_a0086.wav  \n",
            "  inflating: data_kevin/arctic_a0087.wav  \n",
            "  inflating: data_kevin/arctic_a0088.wav  \n",
            "  inflating: data_kevin/arctic_a0089.wav  \n",
            "  inflating: data_kevin/arctic_a0090.wav  \n",
            "  inflating: data_kevin/arctic_a0091.wav  \n",
            "  inflating: data_kevin/arctic_a0092.wav  \n",
            "  inflating: data_kevin/arctic_a0093.wav  \n",
            "  inflating: data_kevin/arctic_a0094.wav  \n",
            "  inflating: data_kevin/arctic_a0095.wav  \n",
            "  inflating: data_kevin/arctic_a0096.wav  \n",
            "  inflating: data_kevin/arctic_a0097.wav  \n",
            "  inflating: data_kevin/arctic_a0098.wav  \n",
            "  inflating: data_kevin/arctic_a0099.wav  \n",
            "  inflating: data_kevin/arctic_a0100.wav  \n",
            "  inflating: data_kevin/arctic_a0101.wav  \n",
            "  inflating: data_kevin/arctic_a0102.wav  \n",
            "  inflating: data_kevin/arctic_a0103.wav  \n",
            "  inflating: data_kevin/arctic_a0104.wav  \n",
            "  inflating: data_kevin/arctic_a0105.wav  \n",
            "  inflating: data_kevin/arctic_a0106.wav  \n",
            "  inflating: data_kevin/arctic_a0107.wav  \n",
            "  inflating: data_kevin/arctic_a0108.wav  \n",
            "  inflating: data_kevin/arctic_a0109.wav  \n",
            "  inflating: data_kevin/arctic_a0110.wav  \n",
            "  inflating: data_kevin/arctic_a0111.wav  \n",
            "  inflating: data_kevin/arctic_a0112.wav  \n",
            "  inflating: data_kevin/arctic_a0113.wav  \n",
            "  inflating: data_kevin/arctic_a0114.wav  \n",
            "  inflating: data_kevin/arctic_a0115.wav  \n",
            "  inflating: data_kevin/arctic_a0116.wav  \n",
            "  inflating: data_kevin/arctic_a0117.wav  \n",
            "  inflating: data_kevin/arctic_a0118.wav  \n",
            "  inflating: data_kevin/arctic_a0119.wav  \n",
            "  inflating: data_kevin/arctic_a0120.wav  \n",
            "  inflating: data_kevin/arctic_a0121.wav  \n",
            "  inflating: data_kevin/arctic_a0122.wav  \n",
            "  inflating: data_kevin/arctic_a0123.wav  \n",
            "  inflating: data_kevin/arctic_a0124.wav  \n",
            "  inflating: data_kevin/arctic_a0125.wav  \n",
            "  inflating: data_kevin/arctic_a0126.wav  \n",
            "  inflating: data_kevin/arctic_a0127.wav  \n",
            "  inflating: data_kevin/arctic_a0128.wav  \n",
            "  inflating: data_kevin/arctic_a0129.wav  \n",
            "  inflating: data_kevin/arctic_a0130.wav  \n",
            "  inflating: data_kevin/arctic_a0131.wav  \n",
            "  inflating: data_kevin/arctic_a0132.wav  \n",
            "  inflating: data_kevin/arctic_a0133.wav  \n",
            "  inflating: data_kevin/arctic_a0134.wav  \n",
            "  inflating: data_kevin/arctic_a0135.wav  \n",
            "  inflating: data_kevin/arctic_a0136.wav  \n",
            "  inflating: data_kevin/arctic_a0137.wav  \n",
            "  inflating: data_kevin/arctic_a0138.wav  \n",
            "  inflating: data_kevin/arctic_a0139.wav  \n",
            "  inflating: data_kevin/arctic_a0140.wav  \n",
            "  inflating: data_kevin/arctic_a0141.wav  \n",
            "  inflating: data_kevin/arctic_a0142.wav  \n",
            "  inflating: data_kevin/arctic_a0143.wav  \n",
            "  inflating: data_kevin/arctic_a0144.wav  \n",
            "  inflating: data_kevin/arctic_a0145.wav  \n",
            "  inflating: data_kevin/arctic_a0146.wav  \n",
            "  inflating: data_kevin/arctic_a0147.wav  \n",
            "  inflating: data_kevin/arctic_a0148.wav  \n",
            "  inflating: data_kevin/arctic_a0149.wav  \n",
            "  inflating: data_kevin/arctic_a0150.wav  \n",
            "  inflating: data_kevin/arctic_a0151.wav  \n",
            "  inflating: data_kevin/arctic_a0152.wav  \n",
            "  inflating: data_kevin/arctic_a0153.wav  \n",
            "  inflating: data_kevin/arctic_a0154.wav  \n",
            "  inflating: data_kevin/arctic_a0155.wav  \n",
            "  inflating: data_kevin/arctic_a0156.wav  \n",
            "  inflating: data_kevin/arctic_a0157.wav  \n",
            "  inflating: data_kevin/arctic_a0158.wav  \n",
            "  inflating: data_kevin/arctic_a0159.wav  \n",
            "  inflating: data_kevin/arctic_a0160.wav  \n",
            "  inflating: data_kevin/arctic_a0161.wav  \n",
            "  inflating: data_kevin/arctic_a0162.wav  \n",
            "  inflating: data_kevin/arctic_a0163.wav  \n",
            "  inflating: data_kevin/arctic_a0164.wav  \n",
            "  inflating: data_kevin/arctic_a0165.wav  \n",
            "  inflating: data_kevin/arctic_a0166.wav  \n",
            "  inflating: data_kevin/arctic_a0167.wav  \n",
            "  inflating: data_kevin/arctic_a0168.wav  \n",
            "  inflating: data_kevin/arctic_a0169.wav  \n",
            "  inflating: data_kevin/arctic_a0170.wav  \n",
            "  inflating: data_kevin/arctic_a0171.wav  \n",
            "  inflating: data_kevin/arctic_a0172.wav  \n",
            "  inflating: data_kevin/arctic_a0173.wav  \n",
            "  inflating: data_kevin/arctic_a0174.wav  \n",
            "  inflating: data_kevin/arctic_a0175.wav  \n",
            "  inflating: data_kevin/arctic_a0176.wav  \n",
            "  inflating: data_kevin/arctic_a0177.wav  \n",
            "  inflating: data_kevin/arctic_a0178.wav  \n",
            "  inflating: data_kevin/arctic_a0179.wav  \n",
            "  inflating: data_kevin/arctic_a0180.wav  \n",
            "  inflating: data_kevin/arctic_a0181.wav  \n",
            "  inflating: data_kevin/arctic_a0182.wav  \n",
            "  inflating: data_kevin/arctic_a0183.wav  \n",
            "  inflating: data_kevin/arctic_a0184.wav  \n",
            "  inflating: data_kevin/arctic_a0185.wav  \n",
            "  inflating: data_kevin/arctic_a0186.wav  \n",
            "  inflating: data_kevin/arctic_a0187.wav  \n",
            "  inflating: data_kevin/arctic_a0188.wav  \n",
            "  inflating: data_kevin/arctic_a0189.wav  \n",
            "  inflating: data_kevin/arctic_a0190.wav  \n",
            "  inflating: data_kevin/arctic_a0191.wav  \n",
            "  inflating: data_kevin/arctic_a0192.wav  \n",
            "  inflating: data_kevin/arctic_a0193.wav  \n",
            "  inflating: data_kevin/arctic_a0194.wav  \n",
            "  inflating: data_kevin/arctic_a0195.wav  \n",
            "  inflating: data_kevin/arctic_a0196.wav  \n",
            "  inflating: data_kevin/arctic_a0197.wav  \n",
            "  inflating: data_kevin/arctic_a0198.wav  \n",
            "  inflating: data_kevin/arctic_a0199.wav  \n",
            "  inflating: data_kevin/arctic_a0200.wav  \n",
            "  inflating: data_kevin/arctic_a0201.wav  \n",
            "  inflating: data_kevin/arctic_a0202.wav  \n",
            "  inflating: data_kevin/arctic_a0203.wav  \n",
            "  inflating: data_kevin/arctic_a0204.wav  \n",
            "  inflating: data_kevin/arctic_a0205.wav  \n",
            "  inflating: data_kevin/arctic_a0206.wav  \n",
            "  inflating: data_kevin/arctic_a0207.wav  \n",
            "  inflating: data_kevin/arctic_a0208.wav  \n",
            "  inflating: data_kevin/arctic_a0209.wav  \n",
            "  inflating: data_kevin/arctic_a0210.wav  \n",
            "  inflating: data_kevin/arctic_a0211.wav  \n",
            "  inflating: data_kevin/arctic_a0212.wav  \n",
            "  inflating: data_kevin/arctic_a0213.wav  \n",
            "  inflating: data_kevin/arctic_a0214.wav  \n",
            "  inflating: data_kevin/arctic_a0215.wav  \n",
            "  inflating: data_kevin/arctic_a0216.wav  \n",
            "  inflating: data_kevin/arctic_a0217.wav  \n",
            "  inflating: data_kevin/arctic_a0218.wav  \n",
            "  inflating: data_kevin/arctic_a0219.wav  \n",
            "  inflating: data_kevin/arctic_a0220.wav  \n",
            "  inflating: data_kevin/arctic_a0221.wav  \n",
            "  inflating: data_kevin/arctic_a0222.wav  \n",
            "  inflating: data_kevin/arctic_a0223.wav  \n",
            "  inflating: data_kevin/arctic_a0224.wav  \n",
            "  inflating: data_kevin/arctic_a0225.wav  \n",
            "  inflating: data_kevin/arctic_a0226.wav  \n",
            "  inflating: data_kevin/arctic_a0227.wav  \n",
            "  inflating: data_kevin/arctic_a0228.wav  \n",
            "  inflating: data_kevin/arctic_a0229.wav  \n",
            "  inflating: data_kevin/arctic_a0230.wav  \n",
            "  inflating: data_kevin/arctic_a0231.wav  \n",
            "  inflating: data_kevin/arctic_a0232.wav  \n",
            "  inflating: data_kevin/arctic_a0233.wav  \n",
            "  inflating: data_kevin/arctic_a0234.wav  \n",
            "  inflating: data_kevin/arctic_a0235.wav  \n",
            "  inflating: data_kevin/arctic_a0236.wav  \n",
            "  inflating: data_kevin/arctic_a0237.wav  \n",
            "  inflating: data_kevin/arctic_a0238.wav  \n",
            "  inflating: data_kevin/arctic_a0239.wav  \n",
            "  inflating: data_kevin/arctic_a0240.wav  \n",
            "  inflating: data_kevin/arctic_a0241.wav  \n",
            "  inflating: data_kevin/arctic_a0242.wav  \n",
            "  inflating: data_kevin/arctic_a0243.wav  \n",
            "  inflating: data_kevin/arctic_a0244.wav  \n",
            "  inflating: data_kevin/arctic_a0245.wav  \n",
            "  inflating: data_kevin/arctic_a0246.wav  \n",
            "  inflating: data_kevin/arctic_a0247.wav  \n",
            "  inflating: data_kevin/arctic_a0248.wav  \n",
            "  inflating: data_kevin/arctic_a0249.wav  \n",
            "  inflating: data_kevin/arctic_a0250.wav  \n",
            "  inflating: data_kevin/arctic_a0251.wav  \n",
            "  inflating: data_kevin/arctic_a0252.wav  \n",
            "  inflating: data_kevin/arctic_a0254.wav  \n",
            "  inflating: data_kevin/arctic_a0255.wav  \n",
            "  inflating: data_kevin/arctic_a0256.wav  \n",
            "  inflating: data_kevin/arctic_a0257.wav  \n",
            "  inflating: data_kevin/arctic_a0258.wav  \n",
            "  inflating: data_kevin/arctic_a0259.wav  \n",
            "  inflating: data_kevin/arctic_a0260.wav  \n",
            "  inflating: data_kevin/arctic_a0261.wav  \n",
            "  inflating: data_kevin/arctic_a0262.wav  \n",
            "  inflating: data_kevin/arctic_a0263.wav  \n",
            "  inflating: data_kevin/arctic_a0264.wav  \n",
            "  inflating: data_kevin/arctic_a0265.wav  \n",
            "  inflating: data_kevin/arctic_a0266.wav  \n",
            "  inflating: data_kevin/arctic_a0267.wav  \n",
            "  inflating: data_kevin/arctic_a0268.wav  \n",
            "  inflating: data_kevin/arctic_a0269.wav  \n",
            "  inflating: data_kevin/arctic_a0270.wav  \n",
            "  inflating: data_kevin/arctic_a0271.wav  \n",
            "  inflating: data_kevin/arctic_a0272.wav  \n",
            "  inflating: data_kevin/arctic_a0273.wav  \n",
            "  inflating: data_kevin/arctic_a0274.wav  \n",
            "  inflating: data_kevin/arctic_a0275.wav  \n",
            "  inflating: data_kevin/arctic_a0276.wav  \n",
            "  inflating: data_kevin/arctic_a0277.wav  \n",
            "  inflating: data_kevin/arctic_a0278.wav  \n",
            "  inflating: data_kevin/arctic_a0279.wav  \n",
            "  inflating: data_kevin/arctic_a0280.wav  \n",
            "  inflating: data_kevin/arctic_a0281.wav  \n",
            "  inflating: data_kevin/arctic_a0282.wav  \n",
            "  inflating: data_kevin/arctic_a0283.wav  \n",
            "  inflating: data_kevin/arctic_a0284.wav  \n",
            "  inflating: data_kevin/arctic_a0285.wav  \n",
            "  inflating: data_kevin/arctic_a0286.wav  \n",
            "  inflating: data_kevin/arctic_a0287.wav  \n",
            "  inflating: data_kevin/arctic_a0288.wav  \n",
            "  inflating: data_kevin/arctic_a0289.wav  \n",
            "  inflating: data_kevin/arctic_a0290.wav  \n",
            "  inflating: data_kevin/arctic_a0291.wav  \n",
            "  inflating: data_kevin/arctic_a0292.wav  \n",
            "  inflating: data_kevin/arctic_a0293.wav  \n",
            "  inflating: data_kevin/arctic_a0294.wav  \n",
            "  inflating: data_kevin/arctic_a0295.wav  \n",
            "  inflating: data_kevin/arctic_a0296.wav  \n",
            "  inflating: data_kevin/arctic_a0297.wav  \n",
            "  inflating: data_kevin/arctic_a0298.wav  \n",
            "  inflating: data_kevin/arctic_a0299.wav  \n",
            "  inflating: data_kevin/arctic_a0300.wav  \n",
            "  inflating: data_kevin/arctic_a0301.wav  \n",
            "  inflating: data_kevin/arctic_a0302.wav  \n",
            "  inflating: data_kevin/arctic_a0303.wav  \n",
            "  inflating: data_kevin/arctic_a0304.wav  \n",
            "  inflating: data_kevin/arctic_a0305.wav  \n",
            "  inflating: data_kevin/arctic_a0306.wav  \n",
            "  inflating: data_kevin/arctic_a0307.wav  \n",
            "  inflating: data_kevin/arctic_a0308.wav  \n",
            "  inflating: data_kevin/arctic_a0309.wav  \n",
            "  inflating: data_kevin/arctic_a0310.wav  \n",
            "  inflating: data_kevin/arctic_a0311.wav  \n",
            "  inflating: data_kevin/arctic_a0312.wav  \n",
            "  inflating: data_kevin/arctic_a0313.wav  \n",
            "  inflating: data_kevin/arctic_a0314.wav  \n",
            "  inflating: data_kevin/arctic_a0315.wav  \n",
            "  inflating: data_kevin/arctic_a0316.wav  \n",
            "  inflating: data_kevin/arctic_a0317.wav  \n",
            "  inflating: data_kevin/arctic_a0318.wav  \n",
            "  inflating: data_kevin/arctic_a0319.wav  \n",
            "  inflating: data_kevin/arctic_a0320.wav  \n",
            "  inflating: data_kevin/arctic_a0321.wav  \n",
            "  inflating: data_kevin/arctic_a0322.wav  \n",
            "  inflating: data_kevin/arctic_a0323.wav  \n",
            "  inflating: data_kevin/arctic_a0324.wav  \n",
            "  inflating: data_kevin/arctic_a0325.wav  \n",
            "  inflating: data_kevin/arctic_a0326.wav  \n",
            "  inflating: data_kevin/arctic_a0327.wav  \n",
            "  inflating: data_kevin/arctic_a0328.wav  \n",
            "  inflating: data_kevin/arctic_a0329.wav  \n",
            "  inflating: data_kevin/arctic_a0330.wav  \n",
            "  inflating: data_kevin/arctic_a0331.wav  \n",
            "  inflating: data_kevin/arctic_a0332.wav  \n",
            "  inflating: data_kevin/arctic_a0333.wav  \n",
            "  inflating: data_kevin/arctic_a0334.wav  \n",
            "  inflating: data_kevin/arctic_a0335.wav  \n",
            "  inflating: data_kevin/arctic_a0336.wav  \n",
            "  inflating: data_kevin/arctic_a0337.wav  \n",
            "  inflating: data_kevin/arctic_a0338.wav  \n",
            "  inflating: data_kevin/arctic_a0339.wav  \n",
            "  inflating: data_kevin/arctic_a0340.wav  \n",
            "  inflating: data_kevin/arctic_a0341.wav  \n",
            "  inflating: data_kevin/arctic_a0342.wav  \n",
            "  inflating: data_kevin/arctic_a0343.wav  \n",
            "  inflating: data_kevin/arctic_a0344.wav  \n",
            "  inflating: data_kevin/arctic_a0345.wav  \n",
            "  inflating: data_kevin/arctic_a0346.wav  \n",
            "  inflating: data_kevin/arctic_a0347.wav  \n",
            "  inflating: data_kevin/arctic_a0348.wav  \n",
            "  inflating: data_kevin/arctic_a0349.wav  \n",
            "  inflating: data_kevin/arctic_a0350.wav  \n",
            "  inflating: data_kevin/arctic_a0351.wav  \n",
            "  inflating: data_kevin/arctic_a0352.wav  \n",
            "  inflating: data_kevin/arctic_a0353.wav  \n",
            "  inflating: data_kevin/arctic_a0354.wav  \n",
            "  inflating: data_kevin/arctic_a0355.wav  \n",
            "  inflating: data_kevin/arctic_a0356.wav  \n",
            "  inflating: data_kevin/arctic_a0357.wav  \n",
            "  inflating: data_kevin/arctic_a0358.wav  \n",
            "  inflating: data_kevin/arctic_a0359.wav  \n",
            "  inflating: data_kevin/arctic_a0360.wav  \n",
            "  inflating: data_kevin/arctic_a0361.wav  \n",
            "  inflating: data_kevin/arctic_a0362.wav  \n",
            "  inflating: data_kevin/arctic_a0363.wav  \n",
            "  inflating: data_kevin/arctic_a0364.wav  \n",
            "  inflating: data_kevin/arctic_a0365.wav  \n",
            "  inflating: data_kevin/arctic_a0366.wav  \n",
            "  inflating: data_kevin/arctic_a0367.wav  \n",
            "  inflating: data_kevin/arctic_a0368.wav  \n",
            "  inflating: data_kevin/arctic_a0369.wav  \n",
            "  inflating: data_kevin/arctic_a0370.wav  \n",
            "  inflating: data_kevin/arctic_a0371.wav  \n",
            "  inflating: data_kevin/arctic_a0372.wav  \n",
            "  inflating: data_kevin/arctic_a0373.wav  \n",
            "  inflating: data_kevin/arctic_a0374.wav  \n",
            "  inflating: data_kevin/arctic_a0375.wav  \n",
            "  inflating: data_kevin/arctic_a0376.wav  \n",
            "  inflating: data_kevin/arctic_a0377.wav  \n",
            "  inflating: data_kevin/arctic_a0378.wav  \n",
            "  inflating: data_kevin/arctic_a0379.wav  \n",
            "  inflating: data_kevin/arctic_a0380.wav  \n",
            "  inflating: data_kevin/arctic_a0381.wav  \n",
            "  inflating: data_kevin/arctic_a0382.wav  \n",
            "  inflating: data_kevin/arctic_a0383.wav  \n",
            "  inflating: data_kevin/arctic_a0384.wav  \n",
            "  inflating: data_kevin/arctic_a0385.wav  \n",
            "  inflating: data_kevin/arctic_a0386.wav  \n",
            "  inflating: data_kevin/arctic_a0387.wav  \n",
            "  inflating: data_kevin/arctic_a0388.wav  \n",
            "  inflating: data_kevin/arctic_a0389.wav  \n",
            "  inflating: data_kevin/arctic_a0390.wav  \n",
            "  inflating: data_kevin/arctic_a0391.wav  \n",
            "  inflating: data_kevin/arctic_a0392.wav  \n",
            "  inflating: data_kevin/arctic_a0393.wav  \n",
            "  inflating: data_kevin/arctic_a0394.wav  \n",
            "  inflating: data_kevin/arctic_a0395.wav  \n",
            "  inflating: data_kevin/arctic_a0396.wav  \n",
            "  inflating: data_kevin/arctic_a0397.wav  \n",
            "  inflating: data_kevin/arctic_a0398.wav  \n",
            "  inflating: data_kevin/arctic_a0399.wav  \n",
            "  inflating: data_kevin/arctic_a0400.wav  \n",
            "  inflating: data_kevin/arctic_a0401.wav  \n",
            "  inflating: data_kevin/arctic_a0402.wav  \n",
            "  inflating: data_kevin/arctic_a0403.wav  \n",
            "  inflating: data_kevin/arctic_a0404.wav  \n",
            "  inflating: data_kevin/arctic_a0405.wav  \n",
            "  inflating: data_kevin/arctic_a0406.wav  \n",
            "  inflating: data_kevin/arctic_a0407.wav  \n",
            "  inflating: data_kevin/arctic_a0408.wav  \n",
            "  inflating: data_kevin/arctic_a0409.wav  \n",
            "  inflating: data_kevin/arctic_a0410.wav  \n",
            "  inflating: data_kevin/arctic_a0411.wav  \n",
            "  inflating: data_kevin/arctic_a0412.wav  \n",
            "  inflating: data_kevin/arctic_a0413.wav  \n",
            "  inflating: data_kevin/arctic_a0414.wav  \n",
            "  inflating: data_kevin/arctic_a0415.wav  \n",
            "  inflating: data_kevin/arctic_a0416.wav  \n",
            "  inflating: data_kevin/arctic_a0417.wav  \n",
            "  inflating: data_kevin/arctic_a0418.wav  \n",
            "  inflating: data_kevin/arctic_a0419.wav  \n",
            "  inflating: data_kevin/arctic_a0420.wav  \n",
            "  inflating: data_kevin/arctic_a0421.wav  \n",
            "  inflating: data_kevin/arctic_a0422.wav  \n",
            "  inflating: data_kevin/arctic_a0423.wav  \n",
            "  inflating: data_kevin/arctic_a0424.wav  \n",
            "  inflating: data_kevin/arctic_a0425.wav  \n",
            "  inflating: data_kevin/arctic_a0426.wav  \n",
            "  inflating: data_kevin/arctic_a0427.wav  \n",
            "  inflating: data_kevin/arctic_a0428.wav  \n",
            "  inflating: data_kevin/arctic_a0429.wav  \n",
            "  inflating: data_kevin/arctic_a0430.wav  \n",
            "  inflating: data_kevin/arctic_a0431.wav  \n",
            "  inflating: data_kevin/arctic_a0432.wav  \n",
            "  inflating: data_kevin/arctic_a0433.wav  \n",
            "  inflating: data_kevin/arctic_a0434.wav  \n",
            "  inflating: data_kevin/arctic_a0435.wav  \n",
            "  inflating: data_kevin/arctic_a0436.wav  \n",
            "  inflating: data_kevin/arctic_a0437.wav  \n",
            "  inflating: data_kevin/arctic_a0440.wav  \n",
            "  inflating: data_kevin/arctic_a0441.wav  \n",
            "  inflating: data_kevin/arctic_a0442.wav  \n",
            "  inflating: data_kevin/arctic_a0443.wav  \n",
            "  inflating: data_kevin/arctic_a0444.wav  \n",
            "  inflating: data_kevin/arctic_a0445.wav  \n",
            "  inflating: data_kevin/arctic_a0446.wav  \n",
            "  inflating: data_kevin/arctic_a0447.wav  \n",
            "  inflating: data_kevin/arctic_a0448.wav  \n",
            "  inflating: data_kevin/arctic_a0449.wav  \n",
            "  inflating: data_kevin/arctic_a0450.wav  \n",
            "  inflating: data_kevin/arctic_a0451.wav  \n",
            "  inflating: data_kevin/arctic_a0452.wav  \n",
            "  inflating: data_kevin/arctic_a0453.wav  \n",
            "  inflating: data_kevin/arctic_a0454.wav  \n",
            "  inflating: data_kevin/arctic_a0455.wav  \n",
            "  inflating: data_kevin/arctic_a0456.wav  \n",
            "  inflating: data_kevin/arctic_a0457.wav  \n",
            "  inflating: data_kevin/arctic_a0458.wav  \n",
            "  inflating: data_kevin/arctic_a0459.wav  \n",
            "  inflating: data_kevin/arctic_a0460.wav  \n",
            "  inflating: data_kevin/arctic_a0461.wav  \n",
            "  inflating: data_kevin/arctic_a0462.wav  \n",
            "  inflating: data_kevin/arctic_a0463.wav  \n",
            "  inflating: data_kevin/arctic_a0464.wav  \n",
            "  inflating: data_kevin/arctic_a0465.wav  \n",
            "  inflating: data_kevin/arctic_a0466.wav  \n",
            "  inflating: data_kevin/arctic_a0467.wav  \n",
            "  inflating: data_kevin/arctic_a0468.wav  \n",
            "  inflating: data_kevin/arctic_a0469.wav  \n",
            "  inflating: data_kevin/arctic_a0470.wav  \n",
            "  inflating: data_kevin/arctic_a0471.wav  \n",
            "  inflating: data_kevin/arctic_a0472.wav  \n",
            "  inflating: data_kevin/arctic_a0473.wav  \n",
            "  inflating: data_kevin/arctic_a0474.wav  \n",
            "  inflating: data_kevin/arctic_a0475.wav  \n",
            "  inflating: data_kevin/arctic_a0476.wav  \n",
            "  inflating: data_kevin/arctic_a0477.wav  \n",
            "  inflating: data_kevin/arctic_a0478.wav  \n",
            "  inflating: data_kevin/arctic_a0479.wav  \n",
            "  inflating: data_kevin/arctic_a0480.wav  \n",
            "  inflating: data_kevin/arctic_a0481.wav  \n",
            "  inflating: data_kevin/arctic_a0482.wav  \n",
            "  inflating: data_kevin/arctic_a0483.wav  \n",
            "  inflating: data_kevin/arctic_a0484.wav  \n",
            "  inflating: data_kevin/arctic_a0485.wav  \n",
            "  inflating: data_kevin/arctic_a0486.wav  \n",
            "  inflating: data_kevin/arctic_a0487.wav  \n",
            "  inflating: data_kevin/arctic_a0488.wav  \n",
            "  inflating: data_kevin/arctic_a0489.wav  \n",
            "  inflating: data_kevin/arctic_a0490.wav  \n",
            "  inflating: data_kevin/arctic_a0491.wav  \n",
            "  inflating: data_kevin/arctic_a0492.wav  \n",
            "  inflating: data_kevin/arctic_a0493.wav  \n",
            "  inflating: data_kevin/arctic_a0494.wav  \n",
            "  inflating: data_kevin/arctic_a0495.wav  \n",
            "  inflating: data_kevin/arctic_a0496.wav  \n",
            "  inflating: data_kevin/arctic_a0497.wav  \n",
            "  inflating: data_kevin/arctic_a0498.wav  \n",
            "  inflating: data_kevin/arctic_a0499.wav  \n",
            "  inflating: data_kevin/arctic_a0500.wav  \n",
            "  inflating: data_kevin/arctic_a0501.wav  \n",
            "  inflating: data_kevin/arctic_a0502.wav  \n",
            "  inflating: data_kevin/arctic_a0503.wav  \n",
            "  inflating: data_kevin/arctic_a0504.wav  \n",
            "  inflating: data_kevin/arctic_a0505.wav  \n",
            "  inflating: data_kevin/arctic_a0506.wav  \n",
            "  inflating: data_kevin/arctic_a0507.wav  \n",
            "  inflating: data_kevin/arctic_a0508.wav  \n",
            "  inflating: data_kevin/arctic_a0509.wav  \n",
            "  inflating: data_kevin/arctic_a0510.wav  \n",
            "  inflating: data_kevin/arctic_a0511.wav  \n",
            "  inflating: data_kevin/arctic_a0512.wav  \n",
            "  inflating: data_kevin/arctic_a0513.wav  \n",
            "  inflating: data_kevin/arctic_a0514.wav  \n",
            "  inflating: data_kevin/arctic_a0515.wav  \n",
            "  inflating: data_kevin/arctic_a0516.wav  \n",
            "  inflating: data_kevin/arctic_a0517.wav  \n",
            "  inflating: data_kevin/arctic_a0518.wav  \n",
            "  inflating: data_kevin/arctic_a0519.wav  \n",
            "  inflating: data_kevin/arctic_a0520.wav  \n",
            "  inflating: data_kevin/arctic_a0521.wav  \n",
            "  inflating: data_kevin/arctic_a0522.wav  \n",
            "  inflating: data_kevin/arctic_a0523.wav  \n",
            "  inflating: data_kevin/arctic_a0524.wav  \n",
            "  inflating: data_kevin/arctic_a0525.wav  \n",
            "  inflating: data_kevin/arctic_a0526.wav  \n",
            "  inflating: data_kevin/arctic_a0527.wav  \n",
            "  inflating: data_kevin/arctic_a0528.wav  \n",
            "  inflating: data_kevin/arctic_a0529.wav  \n",
            "  inflating: data_kevin/arctic_a0530.wav  \n",
            "  inflating: data_kevin/arctic_a0531.wav  \n",
            "  inflating: data_kevin/arctic_a0532.wav  \n",
            "  inflating: data_kevin/arctic_a0533.wav  \n",
            "  inflating: data_kevin/arctic_a0534.wav  \n",
            "  inflating: data_kevin/arctic_a0535.wav  \n",
            "  inflating: data_kevin/arctic_a0536.wav  \n",
            "  inflating: data_kevin/arctic_a0537.wav  \n",
            "  inflating: data_kevin/arctic_a0538.wav  \n",
            "  inflating: data_kevin/arctic_a0539.wav  \n",
            "  inflating: data_kevin/arctic_a0540.wav  \n",
            "  inflating: data_kevin/arctic_a0541.wav  \n",
            "  inflating: data_kevin/arctic_a0542.wav  \n",
            "  inflating: data_kevin/arctic_a0543.wav  \n",
            "  inflating: data_kevin/arctic_a0544.wav  \n",
            "  inflating: data_kevin/arctic_a0545.wav  \n",
            "  inflating: data_kevin/arctic_a0546.wav  \n",
            "  inflating: data_kevin/arctic_a0547.wav  \n",
            "  inflating: data_kevin/arctic_a0548.wav  \n",
            "  inflating: data_kevin/arctic_a0549.wav  \n",
            "  inflating: data_kevin/arctic_a0550.wav  \n",
            "  inflating: data_kevin/arctic_a0551.wav  \n",
            "  inflating: data_kevin/arctic_a0552.wav  \n",
            "  inflating: data_kevin/arctic_a0553.wav  \n",
            "  inflating: data_kevin/arctic_a0554.wav  \n",
            "  inflating: data_kevin/arctic_a0555.wav  \n",
            "  inflating: data_kevin/arctic_a0556.wav  \n",
            "  inflating: data_kevin/arctic_a0557.wav  \n",
            "  inflating: data_kevin/arctic_a0558.wav  \n",
            "  inflating: data_kevin/arctic_a0559.wav  \n",
            "  inflating: data_kevin/arctic_a0560.wav  \n",
            "  inflating: data_kevin/arctic_a0561.wav  \n",
            "  inflating: data_kevin/arctic_a0562.wav  \n",
            "  inflating: data_kevin/arctic_a0563.wav  \n",
            "  inflating: data_kevin/arctic_a0564.wav  \n",
            "  inflating: data_kevin/arctic_a0565.wav  \n",
            "  inflating: data_kevin/arctic_a0566.wav  \n",
            "  inflating: data_kevin/arctic_a0567.wav  \n",
            "  inflating: data_kevin/arctic_a0568.wav  \n",
            "  inflating: data_kevin/arctic_a0569.wav  \n",
            "  inflating: data_kevin/arctic_a0570.wav  \n",
            "  inflating: data_kevin/arctic_a0571.wav  \n",
            "  inflating: data_kevin/arctic_a0572.wav  \n",
            "  inflating: data_kevin/arctic_a0573.wav  \n",
            "  inflating: data_kevin/arctic_a0574.wav  \n",
            "  inflating: data_kevin/arctic_a0575.wav  \n",
            "  inflating: data_kevin/arctic_a0576.wav  \n",
            "  inflating: data_kevin/arctic_a0577.wav  \n",
            "  inflating: data_kevin/arctic_a0578.wav  \n",
            "  inflating: data_kevin/arctic_a0579.wav  \n",
            "  inflating: data_kevin/arctic_a0580.wav  \n",
            "  inflating: data_kevin/arctic_a0581.wav  \n",
            "  inflating: data_kevin/arctic_a0582.wav  \n",
            "  inflating: data_kevin/arctic_a0583.wav  \n",
            "  inflating: data_kevin/arctic_a0584.wav  \n",
            "  inflating: data_kevin/arctic_a0585.wav  \n",
            "  inflating: data_kevin/arctic_a0586.wav  \n",
            "  inflating: data_kevin/arctic_a0587.wav  \n",
            "  inflating: data_kevin/arctic_a0588.wav  \n",
            "  inflating: data_kevin/arctic_a0589.wav  \n",
            "  inflating: data_kevin/arctic_a0590.wav  \n",
            "  inflating: data_kevin/arctic_a0591.wav  \n",
            "  inflating: data_kevin/arctic_a0592.wav  \n",
            "  inflating: data_kevin/arctic_a0593.wav  \n",
            "  inflating: data_kevin/test.csv     \n",
            "  inflating: data_kevin/train.csv    \n",
            "  inflating: data_kevin/valid.csv    \n"
          ]
        }
      ]
    },
    {
      "cell_type": "markdown",
      "source": [
        "**Have a look at data_gopala folder!!** Your speech data is also suggested to follow the same format. Specifically, all you need is just a folder that contains wav files as well as csv files for train/dev/test respectively.  "
      ],
      "metadata": {
        "id": "OPj5BAhnw6iK"
      }
    },
    {
      "cell_type": "markdown",
      "source": [
        "After replacing Gopala's voice with yours, no addtional efforts are needed afterwards. Just finish the fine-tuning experiments."
      ],
      "metadata": {
        "id": "1iPZLLiZxHWh"
      }
    },
    {
      "cell_type": "code",
      "source": [
        "data = load_dataset(\"data_kevin\")"
      ],
      "metadata": {
        "colab": {
          "base_uri": "https://localhost:8080/",
          "referenced_widgets": [
            "1bffbcbebe134f5fa2273998730e3794",
            "a8129cbbf1e4431983e46edc0ebdf3af",
            "95013400c85245ab91214b4282375875",
            "1bb1eba2cb2f4a46999b68c9884068d5",
            "4bb9609cb68a468dba564e8abc08ec37",
            "5def14ddcce0435f89288385c89b5740",
            "37f992ea6d16478cbf114f2384ffb040",
            "3d86780baff947b0b58b4ec64ea04049",
            "48c57626822041ccaad1a7c3dec7a9c2",
            "2e554b1133044a928ec0995440dc2984",
            "36a5c7e53d344eba952f374d86d076bd",
            "f510455183b5489dbcba0bea4a19dfec",
            "af1b5cea8fc24b4fa0d7bb110442f8ea",
            "54b0a058a33a42c19701d7f46fbc1866",
            "68b8f50d4c9f48c49eb5616683cad376",
            "0c895b65b2a7426f89f57f6d6a96f30c",
            "1c7b36e205a649cd817d19425774f476",
            "264c98c4876645f386888ff3b0b26f01",
            "db8861efcf0d4b60b2ad3c387df48b41",
            "98d8e61a274e439d993afa6a2fd51f1e",
            "71ea387bab904a789633136b8e97cbc0",
            "91426e0baf2c47899d5ecd91aba72706",
            "3ddd00cfff644eac8b83dfc3159817b4",
            "2570c410016f4faf91c769ccdd02ce36",
            "b898c3116ee14361bce5b0e4e322e62c",
            "afa99cd9182f41b78c966726f73f38e0",
            "a1c8c5b0b5a74ba6a698ed2e14bd0e90",
            "05d0347bdbf44d4e878fb6972b922f41",
            "f1c616e951674be79c73d03212ceeeda",
            "2fcde4aa856449249ce3f632713dada5",
            "ecb161ec34a94f59b4f8ba3bcacdc73d",
            "04a510d4ab39415cb45b123807d1dabb",
            "a32b7c587ec542e3afddf5e01a670dfe"
          ],
          "height": 188
        },
        "id": "W_cPqPxpsMG1",
        "outputId": "8dd7d19b-b4b1-4d09-84e4-6990823a5854"
      },
      "execution_count": 6,
      "outputs": [
        {
          "output_type": "stream",
          "name": "stderr",
          "text": [
            "WARNING:datasets.builder:Using custom data configuration data_kevin-6abe61fb8d1e830d\n"
          ]
        },
        {
          "output_type": "stream",
          "name": "stdout",
          "text": [
            "Downloading and preparing dataset csv/data_kevin to /root/.cache/huggingface/datasets/csv/data_kevin-6abe61fb8d1e830d/0.0.0/6b9057d9e23d9d8a2f05b985917a0da84d70c5dae3d22ddd8a3f22fb01c69d9e...\n"
          ]
        },
        {
          "output_type": "display_data",
          "data": {
            "text/plain": [
              "  0%|          | 0/3 [00:00<?, ?it/s]"
            ],
            "application/vnd.jupyter.widget-view+json": {
              "version_major": 2,
              "version_minor": 0,
              "model_id": "1bffbcbebe134f5fa2273998730e3794"
            }
          },
          "metadata": {}
        },
        {
          "output_type": "display_data",
          "data": {
            "text/plain": [
              "  0%|          | 0/3 [00:00<?, ?it/s]"
            ],
            "application/vnd.jupyter.widget-view+json": {
              "version_major": 2,
              "version_minor": 0,
              "model_id": "f510455183b5489dbcba0bea4a19dfec"
            }
          },
          "metadata": {}
        },
        {
          "output_type": "stream",
          "name": "stdout",
          "text": [
            "Dataset csv downloaded and prepared to /root/.cache/huggingface/datasets/csv/data_kevin-6abe61fb8d1e830d/0.0.0/6b9057d9e23d9d8a2f05b985917a0da84d70c5dae3d22ddd8a3f22fb01c69d9e. Subsequent calls will reuse this data.\n"
          ]
        },
        {
          "output_type": "display_data",
          "data": {
            "text/plain": [
              "  0%|          | 0/3 [00:00<?, ?it/s]"
            ],
            "application/vnd.jupyter.widget-view+json": {
              "version_major": 2,
              "version_minor": 0,
              "model_id": "3ddd00cfff644eac8b83dfc3159817b4"
            }
          },
          "metadata": {}
        }
      ]
    },
    {
      "cell_type": "code",
      "metadata": {
        "colab": {
          "base_uri": "https://localhost:8080/"
        },
        "id": "QbIM-L0xdvf4",
        "outputId": "6f142c10-e4a5-4232-b17a-9a633101b701"
      },
      "source": [
        "data"
      ],
      "execution_count": 7,
      "outputs": [
        {
          "output_type": "execute_result",
          "data": {
            "text/plain": [
              "DatasetDict({\n",
              "    train: Dataset({\n",
              "        features: ['file', 'text'],\n",
              "        num_rows: 118\n",
              "    })\n",
              "    test: Dataset({\n",
              "        features: ['file', 'text'],\n",
              "        num_rows: 15\n",
              "    })\n",
              "    validation: Dataset({\n",
              "        features: ['file', 'text'],\n",
              "        num_rows: 15\n",
              "    })\n",
              "})"
            ]
          },
          "metadata": {},
          "execution_count": 7
        }
      ]
    },
    {
      "cell_type": "markdown",
      "source": [
        "Make sure your have train/dev/test split. "
      ],
      "metadata": {
        "id": "zMBRk9jYxb6g"
      }
    },
    {
      "cell_type": "markdown",
      "metadata": {
        "id": "Go9Hq4e4NDT9"
      },
      "source": [
        "Let's write a short function to display some random samples of the dataset and run it a couple of times to get a feeling for the transcriptions."
      ]
    },
    {
      "cell_type": "code",
      "metadata": {
        "id": "72737oog2F6U"
      },
      "source": [
        "from datasets import ClassLabel\n",
        "import random\n",
        "import pandas as pd\n",
        "from IPython.display import display, HTML\n",
        "\n",
        "def show_random_elements(dataset, num_examples=10):\n",
        "    assert num_examples <= len(dataset), \"Can't pick more elements than there are in the dataset.\"\n",
        "    picks = []\n",
        "    for _ in range(num_examples):\n",
        "        pick = random.randint(0, len(dataset)-1)\n",
        "        while pick in picks:\n",
        "            pick = random.randint(0, len(dataset)-1)\n",
        "        picks.append(pick)\n",
        "    \n",
        "    df = pd.DataFrame(dataset[picks])\n",
        "    display(HTML(df.to_html()))"
      ],
      "execution_count": 8,
      "outputs": []
    },
    {
      "cell_type": "code",
      "metadata": {
        "colab": {
          "base_uri": "https://localhost:8080/",
          "height": 363
        },
        "id": "K_JUmf3G3b9S",
        "outputId": "532692fd-63c7-40e5-dce8-01ddd5d46923"
      },
      "source": [
        "show_random_elements(data[\"train\"].remove_columns([\"file\"]), num_examples=10)"
      ],
      "execution_count": 9,
      "outputs": [
        {
          "output_type": "display_data",
          "data": {
            "text/plain": [
              "<IPython.core.display.HTML object>"
            ],
            "text/html": [
              "<table border=\"1\" class=\"dataframe\">\n",
              "  <thead>\n",
              "    <tr style=\"text-align: right;\">\n",
              "      <th></th>\n",
              "      <th>text</th>\n",
              "    </tr>\n",
              "  </thead>\n",
              "  <tbody>\n",
              "    <tr>\n",
              "      <th>0</th>\n",
              "      <td>Since then some mysterious force has been fighting us at every step.</td>\n",
              "    </tr>\n",
              "    <tr>\n",
              "      <th>1</th>\n",
              "      <td>He was a head shorter than his companion, of almost delicate physique.</td>\n",
              "    </tr>\n",
              "    <tr>\n",
              "      <th>2</th>\n",
              "      <td>In a flash Philip followed its direction.</td>\n",
              "    </tr>\n",
              "    <tr>\n",
              "      <th>3</th>\n",
              "      <td>Do you know that you are shaking my confidence in you.</td>\n",
              "    </tr>\n",
              "    <tr>\n",
              "      <th>4</th>\n",
              "      <td>To my surprise he began to show actual enthusiasm in my favor.</td>\n",
              "    </tr>\n",
              "    <tr>\n",
              "      <th>5</th>\n",
              "      <td>I suppose you picked that lingo up among the Indians.</td>\n",
              "    </tr>\n",
              "    <tr>\n",
              "      <th>6</th>\n",
              "      <td>What was the object of your little sensation.</td>\n",
              "    </tr>\n",
              "    <tr>\n",
              "      <th>7</th>\n",
              "      <td>There's Fort Churchill, a rifle-shot beyond the ridge, asleep.</td>\n",
              "    </tr>\n",
              "    <tr>\n",
              "      <th>8</th>\n",
              "      <td>Then, and at supper, he tried to fathom her.</td>\n",
              "    </tr>\n",
              "    <tr>\n",
              "      <th>9</th>\n",
              "      <td>A big canvas tent was the first thing to come within his vision.</td>\n",
              "    </tr>\n",
              "  </tbody>\n",
              "</table>"
            ]
          },
          "metadata": {}
        }
      ]
    },
    {
      "cell_type": "markdown",
      "metadata": {
        "id": "vq7OR50LN49m"
      },
      "source": [
        "We can see that the transcriptions contain some special characters, such as `,.?!;:`. Without a language model, it is much harder to classify speech chunks to such special characters because they don't really correspond to a characteristic sound unit. *E.g.*, the letter `\"s\"` has a more or less clear sound, whereas the special character `\".\"` does not.\n",
        "Also in order to understand the meaning of a speech signal, it is usually not necessary to include special characters in the transcription.\n",
        "\n",
        "In addition, we normalize the text to only have lower case letters and append a word separator token at the end."
      ]
    },
    {
      "cell_type": "code",
      "metadata": {
        "id": "svKzVJ_hQGK6"
      },
      "source": [
        "import re\n",
        "chars_to_ignore_regex = '[\\,\\?\\.\\!\\-\\;\\:\\\"]'\n",
        "\n",
        "def remove_special_characters(batch):\n",
        "    batch[\"text\"] = re.sub(chars_to_ignore_regex, '', batch[\"text\"]).lower() + \" \"\n",
        "    return batch"
      ],
      "execution_count": 10,
      "outputs": []
    },
    {
      "cell_type": "code",
      "metadata": {
        "colab": {
          "base_uri": "https://localhost:8080/",
          "referenced_widgets": [
            "0e6254514f024ac18776dfa2c98ac3a2",
            "7713b8c5db394abaa6d216290f3bf7c4",
            "b8e1418c6a284b57b38aaaab9015cca8",
            "cd9e8f4c894a485bb0fae56bd23d23ea",
            "c2d7a4bf3a884af98d2ecdff47570f89",
            "d33ebe639a9446b581510369a8c7b63f",
            "115a8b8c46d44f4c94520169da8ff4fc",
            "3af911aa2b98440a984e6a8b936edd03",
            "c02236374aaf47648d137bf1730434bf",
            "422d9363e6184e98b73a47f90a51cfa2",
            "02228b424f1b492e8810a642de404347",
            "5328cc4d8df746e4b980c65518576937",
            "f09730be235f4857af9a732c919558b1",
            "d067cacf871a47508b120b41a54ffdc0",
            "325b428520974ad2a15fafe9a1cd6d45",
            "11beaf2b45a54080ad0a24135e61ebdc",
            "9d2fb2c677b84aa68df5a929071127c4",
            "a626f7fca51f4394b110c00a5ed7a1e7",
            "011aa81045674409999c46a6f555567a",
            "f5510db3514241a088d03010e21af297",
            "11134365bf244002aae6974b7013a509",
            "bfc1d80ece664735873790dbb3fcfd19",
            "e78ad324445d4b0f8e4b5ed690bb5eab",
            "57e8f190f9114dd28be2b071cec2f77f",
            "6a5bbe56aca341cea81edc323dfbf0eb",
            "90b201d7d26b4dec8e1704edc0089971",
            "9bdc70374d3e4ea3a6215c175be245c2",
            "30d623fe6d734562b313809236e9e630",
            "0de9afa9e6f2473ab297cd9b0354d35a",
            "2ab45962dbff41038c02c60ac871a77a",
            "0e3a51da0fcf404c8ce24744ebed3133",
            "bae1edb4bb1141dcb485661436819898",
            "6e84090ae68a4573be010f39dfd04385"
          ],
          "height": 151
        },
        "id": "XIHocAuTQbBR",
        "outputId": "1519e725-634d-4ada-a35d-573ff085a7cb"
      },
      "source": [
        "data = data.map(remove_special_characters)"
      ],
      "execution_count": 11,
      "outputs": [
        {
          "output_type": "stream",
          "name": "stderr",
          "text": [
            "WARNING:datasets.fingerprint:Parameter 'function'=<function remove_special_characters at 0x7f3bcdc943a0> of the transform datasets.arrow_dataset.Dataset._map_single couldn't be hashed properly, a random hash was used instead. Make sure your transforms and parameters are serializable with pickle or dill for the dataset fingerprinting and caching to work. If you reuse this transform, the caching mechanism will consider it to be different from the previous calls and recompute everything. This warning is only showed once. Subsequent hashing failures won't be showed.\n"
          ]
        },
        {
          "output_type": "display_data",
          "data": {
            "text/plain": [
              "0ex [00:00, ?ex/s]"
            ],
            "application/vnd.jupyter.widget-view+json": {
              "version_major": 2,
              "version_minor": 0,
              "model_id": "0e6254514f024ac18776dfa2c98ac3a2"
            }
          },
          "metadata": {}
        },
        {
          "output_type": "display_data",
          "data": {
            "text/plain": [
              "0ex [00:00, ?ex/s]"
            ],
            "application/vnd.jupyter.widget-view+json": {
              "version_major": 2,
              "version_minor": 0,
              "model_id": "5328cc4d8df746e4b980c65518576937"
            }
          },
          "metadata": {}
        },
        {
          "output_type": "display_data",
          "data": {
            "text/plain": [
              "0ex [00:00, ?ex/s]"
            ],
            "application/vnd.jupyter.widget-view+json": {
              "version_major": 2,
              "version_minor": 0,
              "model_id": "e78ad324445d4b0f8e4b5ed690bb5eab"
            }
          },
          "metadata": {}
        }
      ]
    },
    {
      "cell_type": "code",
      "metadata": {
        "colab": {
          "base_uri": "https://localhost:8080/",
          "height": 363
        },
        "id": "RBDRAAYxRE6n",
        "outputId": "a26d74a3-1977-4fa4-9b5e-6b43da5171ae"
      },
      "source": [
        "show_random_elements(data[\"train\"].remove_columns([\"file\"]))"
      ],
      "execution_count": 12,
      "outputs": [
        {
          "output_type": "display_data",
          "data": {
            "text/plain": [
              "<IPython.core.display.HTML object>"
            ],
            "text/html": [
              "<table border=\"1\" class=\"dataframe\">\n",
              "  <thead>\n",
              "    <tr style=\"text-align: right;\">\n",
              "      <th></th>\n",
              "      <th>text</th>\n",
              "    </tr>\n",
              "  </thead>\n",
              "  <tbody>\n",
              "    <tr>\n",
              "      <th>0</th>\n",
              "      <td>only it is so wonderful so almost impossible to believe</td>\n",
              "    </tr>\n",
              "    <tr>\n",
              "      <th>1</th>\n",
              "      <td>i suppose you picked that lingo up among the indians</td>\n",
              "    </tr>\n",
              "    <tr>\n",
              "      <th>2</th>\n",
              "      <td>how could he explain his possession of the sketch</td>\n",
              "    </tr>\n",
              "    <tr>\n",
              "      <th>3</th>\n",
              "      <td>do you know that you are shaking my confidence in you</td>\n",
              "    </tr>\n",
              "    <tr>\n",
              "      <th>4</th>\n",
              "      <td>a maddening joy pounded in his brain</td>\n",
              "    </tr>\n",
              "    <tr>\n",
              "      <th>5</th>\n",
              "      <td>in a flash philip followed its direction</td>\n",
              "    </tr>\n",
              "    <tr>\n",
              "      <th>6</th>\n",
              "      <td>and now down there eileen was waiting for him</td>\n",
              "    </tr>\n",
              "    <tr>\n",
              "      <th>7</th>\n",
              "      <td>anyway no one saw her like that</td>\n",
              "    </tr>\n",
              "    <tr>\n",
              "      <th>8</th>\n",
              "      <td>much replied jeanne as tersely</td>\n",
              "    </tr>\n",
              "    <tr>\n",
              "      <th>9</th>\n",
              "      <td>a big canvas tent was the first thing to come within his vision</td>\n",
              "    </tr>\n",
              "  </tbody>\n",
              "</table>"
            ]
          },
          "metadata": {}
        }
      ]
    },
    {
      "cell_type": "markdown",
      "metadata": {
        "id": "jwfaptH5RJwA"
      },
      "source": [
        "Good! This looks better. We have removed most special characters from transcriptions and normalized them to lower-case only.\n",
        "\n",
        "In CTC, it is common to classify speech chunks into letters, so we will do the same here. \n",
        "Let's extract all distinct letters of the training and test data and build our vocabulary from this set of letters.\n",
        "\n",
        "We write a mapping function that concatenates all transcriptions into one long transcription and then transforms the string into a set of chars. \n",
        "It is important to pass the argument `batched=True` to the `map(...)` function so that the mapping function has access to all transcriptions at once."
      ]
    },
    {
      "cell_type": "code",
      "metadata": {
        "id": "LwCshNbbeRZR"
      },
      "source": [
        "def extract_all_chars(batch):\n",
        "  all_text = \" \".join(batch[\"text\"])\n",
        "  vocab = list(set(all_text))\n",
        "  return {\"vocab\": [vocab], \"all_text\": [all_text]}"
      ],
      "execution_count": 13,
      "outputs": []
    },
    {
      "cell_type": "code",
      "metadata": {
        "colab": {
          "base_uri": "https://localhost:8080/",
          "referenced_widgets": [
            "40d302d2adaf49d8b0800e456df20a39",
            "dfe0d4088b164df893c7e281d95aaac0",
            "bcf63e6c013146c2b4c3cb3e5ce71244",
            "2cdbfca67f9b4d4387128aaa67f1ec19",
            "59b5b8da67bb428db38dd2cde8ff06a5",
            "a350e052893e4b75823e31096b4000c6",
            "bde0b69a22e8498db0c872752b01acc4",
            "280c28f3313d4b34ae8bc3db7c1e8bd5",
            "d541417b4951458ea9b27a5bc35fd10b",
            "aa5807ed3b1d40a68d052f83674fafd2",
            "2d9115b419f6480193271ddda5943b92",
            "a8efdb985b4d4afcbf6e2e73efe9a0c0",
            "25e73b7e710d4f10b8e1b6aca0f06c32",
            "f41e116d540e48dfb222b019f3b7daf4",
            "c669aa05a81942fc94c2a8bbaf439ab3",
            "666b0283e5b8432dba1dcdc501b6a0b5",
            "a65f893a354349d581babac2bf0e0dbf",
            "e8f5e005375b45a498d2256c37ae8d71",
            "fa7bebe6bfc247a99d192514c1818b69",
            "7451d1c9c097430a955881ff6c5e2418",
            "2e6053cad7a0400eb959b3e68c23bd95",
            "6c47465783ff4b729060e44a97d35873",
            "de9fc5fec43847ee86815cceaf33b7d5",
            "83b03863d3114e6a9cad0206e4a50601",
            "21cf7a59c28644c885e5a6b13ecb9625",
            "4702b89d64fa4be7bab83f9ee5e6feb0",
            "f033c7e8cec24ddeaeab39eeaed7d282",
            "68742bd38e90439fb88ca3972df6a8b8",
            "4b96c4c03dfa4a69ab5698fc38c22523",
            "4b5fc64bdf96455aa01f5c08911c38f9",
            "69d9a7c0a7914cc58bdce8239e62f49e",
            "9c126648d362487f9d34bb387e2aa0f6",
            "645322ed5178404bb971a948a856de87"
          ],
          "height": 113
        },
        "id": "_m6uUjjcfbjH",
        "outputId": "b32e61fe-c92c-405f-a136-0a0279b53a78"
      },
      "source": [
        "vocabs = data.map(extract_all_chars, batched=True, batch_size=-1, keep_in_memory=True, remove_columns=data.column_names[\"train\"])"
      ],
      "execution_count": 14,
      "outputs": [
        {
          "output_type": "display_data",
          "data": {
            "text/plain": [
              "  0%|          | 0/1 [00:00<?, ?ba/s]"
            ],
            "application/vnd.jupyter.widget-view+json": {
              "version_major": 2,
              "version_minor": 0,
              "model_id": "40d302d2adaf49d8b0800e456df20a39"
            }
          },
          "metadata": {}
        },
        {
          "output_type": "display_data",
          "data": {
            "text/plain": [
              "  0%|          | 0/1 [00:00<?, ?ba/s]"
            ],
            "application/vnd.jupyter.widget-view+json": {
              "version_major": 2,
              "version_minor": 0,
              "model_id": "a8efdb985b4d4afcbf6e2e73efe9a0c0"
            }
          },
          "metadata": {}
        },
        {
          "output_type": "display_data",
          "data": {
            "text/plain": [
              "  0%|          | 0/1 [00:00<?, ?ba/s]"
            ],
            "application/vnd.jupyter.widget-view+json": {
              "version_major": 2,
              "version_minor": 0,
              "model_id": "de9fc5fec43847ee86815cceaf33b7d5"
            }
          },
          "metadata": {}
        }
      ]
    },
    {
      "cell_type": "markdown",
      "metadata": {
        "id": "7oVgE8RZSJNP"
      },
      "source": [
        "Now, we create the union of all distinct letters in the training dataset and test dataset and convert the resulting list into an enumerated dictionary."
      ]
    },
    {
      "cell_type": "code",
      "metadata": {
        "id": "aQfneNsmlJI0"
      },
      "source": [
        "vocab_list = list(set(vocabs[\"train\"][\"vocab\"][0]))"
      ],
      "execution_count": 15,
      "outputs": []
    },
    {
      "cell_type": "code",
      "metadata": {
        "colab": {
          "base_uri": "https://localhost:8080/"
        },
        "id": "_0kRndSvqaKk",
        "outputId": "45483046-8d0c-4940-a1a9-57dca7b81bb0"
      },
      "source": [
        "vocab_dict = {v: k for k, v in enumerate(vocab_list)}\n",
        "vocab_dict"
      ],
      "execution_count": 16,
      "outputs": [
        {
          "output_type": "execute_result",
          "data": {
            "text/plain": [
              "{'a': 0,\n",
              " \"'\": 1,\n",
              " 'x': 2,\n",
              " 'q': 3,\n",
              " 'e': 4,\n",
              " 'v': 5,\n",
              " 'n': 6,\n",
              " 'o': 7,\n",
              " 'y': 8,\n",
              " 'j': 9,\n",
              " 'i': 10,\n",
              " 's': 11,\n",
              " 'b': 12,\n",
              " ' ': 13,\n",
              " 'r': 14,\n",
              " 'd': 15,\n",
              " 't': 16,\n",
              " 'w': 17,\n",
              " 'u': 18,\n",
              " 'g': 19,\n",
              " 'm': 20,\n",
              " 'p': 21,\n",
              " 'c': 22,\n",
              " 'h': 23,\n",
              " 'f': 24,\n",
              " 'l': 25,\n",
              " 'k': 26,\n",
              " 'z': 27}"
            ]
          },
          "metadata": {},
          "execution_count": 16
        }
      ]
    },
    {
      "cell_type": "markdown",
      "metadata": {
        "id": "JOSzbvs9SXT1"
      },
      "source": [
        "Cool, we see that all letters of the alphabet occur in the dataset (which is not really surprising) and we also extracted the special characters `\" \"` and `'`. Note that we did not exclude those special characters because: \n",
        "\n",
        "- The model has to learn to predict when a word finished or else the model prediction would always be a sequence of chars which would make it impossible to separate words from each other.\n",
        "- In English, we need to keep the `'` character to differentiate between words, *e.g.*, `\"it's\"` and `\"its\"` which have very different meanings."
      ]
    },
    {
      "cell_type": "markdown",
      "metadata": {
        "id": "b1fBRCn-TRaO"
      },
      "source": [
        "To make it clearer that `\" \"` has its own token class, we give it a more visible character `|`. In addition, we also add an \"unknown\" token so that the model can later deal with characters not encountered in training set. \n",
        "\n",
        "Finally, we also add a padding token that corresponds to CTC's \"*blank token*\". The \"blank token\" is a core component of the CTC algorithm. For more information, please take a look at the \"Alignment\" section [here](https://distill.pub/2017/ctc/)."
      ]
    },
    {
      "cell_type": "code",
      "metadata": {
        "id": "npbIbBoLgaFX"
      },
      "source": [
        "vocab_dict[\"|\"] = vocab_dict[\" \"]\n",
        "del vocab_dict[\" \"]"
      ],
      "execution_count": 17,
      "outputs": []
    },
    {
      "cell_type": "code",
      "metadata": {
        "id": "znF0bNunsjbl",
        "colab": {
          "base_uri": "https://localhost:8080/"
        },
        "outputId": "0ddb449e-8619-459e-8ca8-7c10cb5493e7"
      },
      "source": [
        "vocab_dict[\"[UNK]\"] = len(vocab_dict)\n",
        "vocab_dict[\"[PAD]\"] = len(vocab_dict)\n",
        "len(vocab_dict)"
      ],
      "execution_count": 18,
      "outputs": [
        {
          "output_type": "execute_result",
          "data": {
            "text/plain": [
              "30"
            ]
          },
          "metadata": {},
          "execution_count": 18
        }
      ]
    },
    {
      "cell_type": "markdown",
      "metadata": {
        "id": "SFPGfet8U5sL"
      },
      "source": [
        "Cool, now our vocabulary is complete and consists of 30 tokens, which means that the linear layer that we will add on top of the pretrained Wav2Vec2 checkpoint will have an output dimension of 30."
      ]
    },
    {
      "cell_type": "markdown",
      "metadata": {
        "id": "1CujRgBNVRaD"
      },
      "source": [
        "Let's now save the vocabulary as a json file."
      ]
    },
    {
      "cell_type": "code",
      "metadata": {
        "id": "ehyUoh9vk191"
      },
      "source": [
        "import json\n",
        "with open('vocab.json', 'w') as vocab_file:\n",
        "    json.dump(vocab_dict, vocab_file)"
      ],
      "execution_count": 19,
      "outputs": []
    },
    {
      "cell_type": "markdown",
      "metadata": {
        "id": "SHJDaKlIVVim"
      },
      "source": [
        "In a final step, we use the json file to instantiate an object of the `Wav2Vec2CTCTokenizer` class."
      ]
    },
    {
      "cell_type": "markdown",
      "source": [
        "### Create Wav2Vec2CTCTokenizer"
      ],
      "metadata": {
        "id": "DYA-zfa1vHFP"
      }
    },
    {
      "cell_type": "markdown",
      "source": [
        "The [pretrained Wav2Vec2 checkpoint]( ) maps the speech signal to a sequence of context representations as illustrated in the figure above. A fine-tuned Wav2Vec2 checkpoint needs to map this sequence of context representations to its corresponding transcription so that a linear layer has to be added on top of the transformer block (shown in yellow). This linear layer is used to classifies each context representation to a token class analogous how, *e.g.*, after pretraining a linear layer is added on top of BERT's embeddings for further classification - *cf.* with *\"BERT\"* section of this [blog post](https://huggingface.co/blog/warm-starting-encoder-decoder).\n",
        "\n",
        "The output size of this layer corresponds to the number of tokens in the vocabulary, which does **not** depend on Wav2Vec2's pretraining task, but only on the labeled dataset used for fine-tuning. "
      ],
      "metadata": {
        "id": "U7QWHB7UvGQo"
      }
    },
    {
      "cell_type": "code",
      "metadata": {
        "id": "xriFGEWQkO4M"
      },
      "source": [
        "from transformers import Wav2Vec2CTCTokenizer\n",
        "\n",
        "tokenizer = Wav2Vec2CTCTokenizer(\"./vocab.json\", unk_token=\"[UNK]\", pad_token=\"[PAD]\", word_delimiter_token=\"|\")"
      ],
      "execution_count": 20,
      "outputs": []
    },
    {
      "cell_type": "markdown",
      "source": [
        "# Training_args\n",
        "\n",
        "This training_args does not mean we are going to train the model. We have to move this part here to avoid crash issues. If you are going tune the hyper-parameters to get better WER, just modify the arguments here."
      ],
      "metadata": {
        "id": "z4nxIg5J07sS"
      }
    },
    {
      "cell_type": "code",
      "source": [
        "repo_name = 'wav2vec2-gopala'\n",
        "from transformers import TrainingArguments\n",
        "\n",
        "training_args = TrainingArguments(\n",
        "  output_dir=repo_name,\n",
        "  group_by_length=True,\n",
        "  per_device_train_batch_size=2,\n",
        "  evaluation_strategy=\"steps\",\n",
        "  num_train_epochs=30,\n",
        "  fp16=True,\n",
        "  gradient_checkpointing=True,\n",
        "  save_steps=500,\n",
        "  eval_steps=500,\n",
        "  logging_steps=500,\n",
        "  learning_rate=1e-4,\n",
        "  weight_decay=0.005,\n",
        "  warmup_steps=1000,\n",
        "  save_total_limit=2,\n",
        ")"
      ],
      "metadata": {
        "id": "b5fIBtZh0ehd"
      },
      "execution_count": 21,
      "outputs": []
    },
    {
      "cell_type": "markdown",
      "metadata": {
        "id": "mYcIiR2FQ96i"
      },
      "source": [
        "### Create Wav2Vec2 Feature Extractor"
      ]
    },
    {
      "cell_type": "markdown",
      "metadata": {
        "id": "KuUbPW7oV-B5"
      },
      "source": [
        "A Wav2Vec2 feature extractor object requires the following parameters to be instantiated:\n",
        "\n",
        "- `feature_size`: Speech models take a sequence of feature vectors as an input. While the length of this sequence obviously varies, the feature size should not. In the case of Wav2Vec2, the feature size is 1 because the model was trained on the raw speech signal ${}^2$.\n",
        "- `sampling_rate`: The sampling rate at which the model is trained on.\n",
        "- `padding_value`: For batched inference, shorter inputs need to be padded with a specific value\n",
        "- `do_normalize`: Whether the input should be *zero-mean-unit-variance* normalized or not. Usually, speech models perform better when normalizing the input\n",
        "- `return_attention_mask`: Whether the model should make use of an `attention_mask` for batched inference. In general, models should **always** make use of the `attention_mask` to mask padded tokens. However, due to a very specific design choice of `Wav2Vec2`'s \"base\" checkpoint, better results are achieved when using no `attention_mask`. This is **not** recommended for other speech models. For more information, one can take a look at [this](https://github.com/pytorch/fairseq/issues/3227) issue. **Important** If you want to use this notebook to fine-tune [large-lv60](https://huggingface.co/facebook/wav2vec2-large-lv60), this parameter should be set to `True`."
      ]
    },
    {
      "cell_type": "code",
      "metadata": {
        "id": "kAR0-2KLkopp"
      },
      "source": [
        "from transformers import Wav2Vec2FeatureExtractor\n",
        "\n",
        "feature_extractor = Wav2Vec2FeatureExtractor(feature_size=1, sampling_rate=16000, padding_value=0.0, do_normalize=True, return_attention_mask=False)"
      ],
      "execution_count": 22,
      "outputs": []
    },
    {
      "cell_type": "markdown",
      "metadata": {
        "id": "qUETetgqYC3W"
      },
      "source": [
        "Great, Wav2Vec2's feature extraction pipeline is thereby fully defined!\n",
        "\n",
        "To make the usage of Wav2Vec2 as user-friendly as possible, the feature extractor and tokenizer are *wrapped* into a single `Wav2Vec2Processor` class so that one only needs a `model` and `processor` object."
      ]
    },
    {
      "cell_type": "code",
      "metadata": {
        "id": "KYZtoW-tlZgl"
      },
      "source": [
        "from transformers import Wav2Vec2Processor\n",
        "\n",
        "processor = Wav2Vec2Processor(feature_extractor=feature_extractor, tokenizer=tokenizer)"
      ],
      "execution_count": 23,
      "outputs": []
    },
    {
      "cell_type": "markdown",
      "metadata": {
        "id": "DrKnYuvDIoOO"
      },
      "source": [
        "Next, we can prepare the dataset."
      ]
    },
    {
      "cell_type": "code",
      "metadata": {
        "colab": {
          "base_uri": "https://localhost:8080/",
          "height": 36
        },
        "id": "TTCS7W6XJ9BG",
        "outputId": "205f5e4c-4da5-44e9-fd32-ce8c82cdd72a"
      },
      "source": [
        "data[\"train\"][0][\"file\"]"
      ],
      "execution_count": 24,
      "outputs": [
        {
          "output_type": "execute_result",
          "data": {
            "text/plain": [
              "'data_kevin_16k\\\\data_kevin\\\\arctic_a0001.wav'"
            ],
            "application/vnd.google.colaboratory.intrinsic+json": {
              "type": "string"
            }
          },
          "metadata": {},
          "execution_count": 24
        }
      ]
    },
    {
      "cell_type": "markdown",
      "metadata": {
        "id": "SOckzFd4Mbzq"
      },
      "source": [
        "Great, let's listen to a couple of audio files to better understand the dataset and verify that the audio was correctly loaded. \n",
        "\n",
        "**Note**: *You can click the following cell a couple of times to listen to different speech samples.*"
      ]
    },
    {
      "cell_type": "code",
      "metadata": {
        "colab": {
          "base_uri": "https://localhost:8080/",
          "height": 93
        },
        "id": "dueM6U7Ev0OA",
        "outputId": "318b2945-2460-4258-a3d3-b5f72aca7cf7"
      },
      "source": [
        "import IPython.display as ipd\n",
        "import numpy as np\n",
        "import random\n",
        "import torchaudio\n",
        "\n",
        "# print(data['train'][rand_int]['file'])\n",
        "\n",
        "rand_int = random.randint(0, len(data[\"train\"]))\n",
        "\n",
        "print(data[\"train\"][rand_int][\"text\"])\n",
        "wav, _ = torchaudio.load(data['train'][rand_int]['file'].replace(\"\\\\\",\"/\"))\n",
        "ipd.Audio(data=np.asarray(wav), autoplay=True, rate=16000) # 16000"
      ],
      "execution_count": 26,
      "outputs": [
        {
          "output_type": "stream",
          "name": "stdout",
          "text": [
            "he was wounded in the arm \n"
          ]
        },
        {
          "output_type": "execute_result",
          "data": {
            "text/plain": [
              "<IPython.lib.display.Audio object>"
            ],
            "text/html": [
              "\n",
              "                <audio  controls=\"controls\" autoplay=\"autoplay\">\n",
              "                    <source src=\"data:audio/wav;base64,UklGRmDzAQBXQVZFZm10IBAAAAABAAEAgD4AAAB9AAACABAAZGF0YTzzAQD9//3//f/9/wAA/f8AAP3//f8AAP3/AAD9//3/AAD9/wAA/f8AAP3//f8AAAAA/f8AAAAA/f8AAAAAAAAAAAAAAAD9/wAAAAAAAAAA/f8AAP3/AAD9//3//f/9/wAA/f8AAAAA/f8AAAAA/f8AAP3//f/9//3/AAD9//3//f/9/wAA/f/9//3/AAAAAP3//f8AAP3/AAAAAAAAAAD9//3//f/9//3//f8AAAAAAAAAAAAAAAAAAAAAAAAAAP3//f8AAP3/AAD9//3//f8AAP3//f/9//3/AAAAAP3/AAAAAP3//f8AAP3/AAD9/wAAAAD9//3//f/9//3/AAAAAAAA/f/9//3/AAD9/wAAAAD9//3/AAD9//3/AAD9/wAAAAD9/wAA/f/9//3/AAD9//3/AAD9//3//f/9//3/AAD9//3/AAD9/wAA/f/9/wAA/f8AAAAA/f/9/wAAAAAAAAAA/f/9/wAA/f8AAAAA/f/9//3/AAD9//3/AAD9/wAAAAAAAAAA/f8AAP3//f/9//3/AAAAAAAA/f/9/wAAAAD9//3/AAAAAP3//f/9/wAAAAAAAAAA/f8AAP3//f8AAP3/AAD9//3/AAD9/wAAAAD9//3//f8AAP3/AAD9/wAA/f/9/wAA/f/9//3//f/9//3//f/9/wAA/f8AAAAAAAAAAAAAAAD9/wAAAAAAAP3//f/9/wAA/f8AAP3/AAD9/wAAAAD9/wAAAAD9//3/AAD9//3/AAD9//3/AAD9//3/AAAAAAAA/f8AAP3/AAAAAP3/AAAAAP3/AAAAAP3//f/9/wAA/f/9//3/AAAAAP3/AAAAAP3//f8AAP3/AAAAAP3//f8AAAAA/f8AAP3/AAAAAP3/AAAAAP3//f8AAAAA/f/9//3/AAAAAAAAAAD9//3//f8AAAAA/f/9//3/AAD9/wAAAAAAAAAAAAD9//3/AAD9//3/AAD9/wAA/f/9/wAA/f/9/wAA/f8AAP3/AAAAAP3/AAAAAAAA/f/9/wAA/f8AAAAAAAD9//3/AAD9//3/AAD9/wAA/f8AAP3/AAAAAP3//f8AAAAA/f/9//3//f8AAAAAAAD9//3//f8AAAAAAAD9//3//f8AAP3/AAAAAP3//f8AAP3/AAD9//3//f/9/wAAAAAAAP3//f/9/wAA/f/9/wAAAAAAAP3/AAD9//n//f/9//3/AAD9/wAAAAD9//3//f/9//3//f/9/wAAAAAAAAAA/f8AAAAAAAAAAAAA/f8AAAAAAAAAAP3//f8AAAAA/f8AAAAA/f8AAP3//f/9/wAAAAAAAAAA/f/9//3//f8AAAAAAAAAAP3/AAD9//3/AAD9/wAAAAD9//3/AAD9/wAAAAD9/wAAAAAAAP3//f8AAAAA/f8AAAAA/f8AAP3/AAD9/wAAAAAAAAAA/f8AAAAAAAAAAAAA/f/9//3/AAAAAAAAAAD9//3//f/9//3/AAAAAP3//f/9/wAAAAD9/wAAAAAAAP3/AAAAAP3/AAD9/wAAAAAAAP3//f8AAP3//f/9//3/AAD9/wAAAAAAAAAA/f/9//3/AAD9/wAAAAD9/wAA/f/9//3//f8AAAAAAAD9/wAA/f8AAAAA/f/9/wAA/f/9/wAAAAAAAP3//f8AAP3/AAD9//3/AAD9/wAAAAAAAAAA/f/9//3//f/9/wAAAAAAAP3//f/9//3/AAD9//3//f/9/wAA/f/9/wAA/f/9/wAA/f8AAP3/AAD9//3/AAD9/wAAAAAAAP3/AAD9/wAA/f/9/wAAAAD9/wAA/f8AAAAA/f/9/wAA/f8AAP3//f/9/wAAAAD9/wAA/f/9//3//f/9//3/AAD9//3//f8AAAAA/f/9/wAA/f/9/wAAAAD9//3//f/9/wAAAAD9//3//f/9//3//f/9//3/AAAAAAAAAAD9/wAAAAAAAP3//f/9/wAAAAAAAAAAAAD9/wAAAAD9//3//f8AAAAAAAAAAP3/AAAAAP3/AAAAAP3//f/9/wAAAAD9/wAAAAAAAAAAAAD9//3//f8AAAAAAAAAAP3//f8AAP3/AAAAAP3/AAD9/wAA/f/9/wAA/f8AAAAA/f8AAP3//f/9/wAA/f/9/wAAAAD9/wAA/f8AAAAA/f/9//3//f/9//3/AAAAAP3//f/9/wAA/f/9/wAAAAD9//3/AAAAAP3/AAAAAP3//f8AAP3//f8AAP3//f8AAAAA/f8AAAAAAAD9/wAAAAD9//3/AAD9//3//f8AAAAA/f8AAP3//f8AAP3/AAAAAP3//f/9//3/AAD9//3/AAD9//3//f8AAAAAAAD9//3/AAD9//3/AAAAAAAAAAD9//3//f8AAAAA/f/9//3//f8AAP3/AAAAAP3/AAD9//3/AAAAAP3/AAAAAAAAAAD9//3/AAAAAP3//f8AAP3/AAAAAAAAAAAAAAAAAAAAAP3/AAAAAP3//f/9/wAA/f/9/wAAAAD9//3//f8AAP3//f8AAAAAAAD9//3//f8AAAAA/f8AAP3/AAD9//3//f/9/wAAAAAAAAAA/f8AAP3//f8AAP3//f/9/wAAAAD9//3/AAD9/wAA/f/9/wAAAAAAAP3/AAD9/wAAAAD9/wAAAAD9//3/AAAAAAAAAAD9//3/AAD9/wAAAAD9/wAA/f8AAAAAAAAAAP3/AAAAAAAA/f/9//3//f/9/wAA/f8AAAAA/f8AAP3/AAD9//3/AAAAAP3/AAAAAP3/AAD9//3/AAAAAAAA/f/9//3//f8AAP3/AAAAAP3/AAD9/wAA/f8AAAAAAAAAAAAAAAD9/wAAAAD9//3/AAAAAP3/AAAAAAAAAAD9/wAAAAD9/wAAAAAAAAAA/f/9/wAAAAD9//3//f8AAP3//f8AAP3/AAAAAP3//f8AAAAA/f8AAP3/AAAAAAAAAAD9/wAA/f8AAP3/AAAAAP3/AAAAAP3//f8AAP3//f/9//3//f/9/wAA/f8AAAAA/f/9//3//f/9/wAA/f/9/wAAAAAAAP3/AAD9//3//f8AAP3/AAD9/wAAAAAAAAAA/f8AAAAAAAD9//3/AAD9//3/AAAAAAAA/f8AAAAA/f/9/wAA/f8AAP3/AAD9//3//f8AAP3//f8AAP3//f/9/wAA/f/9/wAA/f8AAAAA/f/9/wAA/f8AAAAA/f8AAP3/AAAAAP3/AAAAAAAAAAD9//3/AAAAAP3/AAD9//3//f8AAP3/AAAAAP3//f8AAAAAAAD9//3//f8AAAAA/f8AAAAAAAAAAP3//f8AAAAA/f/9/wAAAAD9/wAAAAAAAAAA/f8AAP3/AAD9//3/AAAAAP3//f/9//3/AAD9/wAAAAD9//3//f/9//3/AAAAAP3/AAAAAP3//f/9//3//f/9/wAAAAAAAP3/AAD9/wAA/f/9/wAA/f/9/wAAAAAAAP3/AAAAAP3//f/9//3//f8AAAAA/f/9//3//f/9/wAA/f/9/wAAAAAAAP3/AAAAAAAAAAAAAAAAAAD9//3/AAD9//3//f/9/wAA/f8AAAAAAAAAAAAA/f8AAAAAAAAAAP3/AAD9/wAA/f/9/wAAAAD9//3/AAD9//3//f8AAAAA/f8AAP3/AAD9/wAA/f8AAP3//f8AAP3//f8AAP3/AAD9/wAA/f8AAAAA/f8AAAAAAAD9//3//f8AAP3//f/9//3//f/9//3//f/9/wAAAAAAAP3//f8AAAAA/f8AAP3/AAD9/wAAAAD9//3//f8AAAAAAAAAAAAAAAD9/wAA/f8AAAAA/f8AAP3/AAAAAAAAAAAAAP3/AAD9/wAAAAD9//3/AAD9//3//f8AAP3//f8AAAAA/f/9/wAAAAD9/wAAAAAAAP3/AAD9/wAA/f8AAAAA/f8AAP3//f8AAAAAAAAAAP3/AAAAAP3/AAAAAP3//f8AAAAA/f/9/wAAAAAAAP3//f/9//3//f/9//3/AAAAAP3/AAD9/wAA/f8AAAAA/f8AAP3/AAD9/wAA/f/9/wAAAAD9/wAAAAD9/wAAAAAAAAAA/f8AAP3/AAAAAAAAAAD9/wAA/f8AAP3//f/9//3/AAD9/wAAAAD9/wAAAAD9/wAA/f/9//3//f8AAP3//f8AAP3/AAAAAP3//f8AAAAA/f/9/wAA/f8AAAAAAAAAAP3//f/9//3//f/9/wAAAAD9/wAAAAAAAAAAAAAAAAAA/f/9/wAA/f8AAAAA/f/9/wAA/f/9//3//f/9/wAAAAAAAAAA/f/9/wAA/f8AAP3/AAAAAP3//f/9//3//f8AAAAAAAD9//3//f8AAP3/AAAAAP3//f8AAAAA/f8AAP3/AAAAAP3/AAAAAP3//f8AAP3//f8AAP3//f/9//3//f8AAP3//f8AAP3/AAD9//3/AAD9/wAAAAD9//3/AAAAAAAAAAAAAP3/AAD9/wAAAAD9//3//f8AAP3//f8AAP3/AAAAAAAAAAD9/wAA/f/9//3//f8AAAAA/f8AAP3/AAAAAAAA/f8AAAAA/f/9//3/AAAAAAAAAAD9/wAA/f/9/wAA/f8AAP3//f8AAP3/AAAAAP3/AAD9/wAA/f8AAAAA/f/9//3/AAD9//3//f/9//3//f/9//3/AAD9/wAAAAAAAAAAAAAAAP3//f8AAAAA/f/9//3/AAD9/wAA/f8AAP3/AAAAAP3//f8AAP3//f8AAP3//f8AAP3//f8AAAAA/f8AAAAAAAD9/wAA/f8AAAAA/f8AAAAA/f8AAAAA/f/9//3/AAD9//3//f8AAAAA/f8AAAAA/f/9/wAA/f8AAAAA/f8AAAAAAAD9/wAA/f/9/wAA/f8AAAAA/f/9/wAAAAD9//3//f8AAAAAAAAAAP3//f/9/wAAAAD9//3//f8AAP3/AAAAAAAAAAAAAP3//f8AAP3//f8AAP3/AAD9//3/AAD9//3/AAD9/wAA/f8AAAAA/f/9/wAA/f8AAP3/AAD9/wAAAAAAAP3//f8AAP3//f8AAP3//f/9/wAA/f8AAAAA/f/9/wAAAAD9//3//f/9/wAAAAAAAAAA/f/9/wAAAAAAAP3//f/9/wAA/f/9/wAA/f/9/wAAAAD9/wAA/f/9//3/AAAAAAAAAAD9//3/AAD9//3/AAAAAAAA/f8AAP3/+f/9//3//f8AAP3//f8AAP3//f/9//3//f/9//3/AAAAAAAAAAD9/wAAAAAAAAAAAAD9/wAAAAAAAAAA/f/9/wAAAAD9/wAAAAD9/wAA/f/9//3/AAAAAAAAAAD9//3//f/9//3/AAAAAAAAAAAAAP3//f8AAP3/AAAAAP3//f8AAP3/AAAAAP3/AAAAAAAA/f/9/wAAAAD9/wAAAAD9/wAA/f8AAP3/AAAAAAAAAAD9/wAAAAAAAAAAAAAAAP3//f8AAAAAAAAAAP3//f/9//3//f8AAAAA/f/9//3/AAAAAP3/AAAAAAAA/f8AAAAA/f8AAAAAAAAAAAAA/f/9/wAA/f/9//3//f8AAP3/AAAAAAAAAAD9//3//f8AAP3/AAAAAP3/AAD9//3//f/9/wAAAAAAAP3/AAAAAAAAAAD9//3/AAD9//3/AAAAAAAA/f/9/wAAAAD9/wAA/f8AAP3/AAAAAAAAAAD9//3//f/9//3/AAAAAAAA/f/9//3//f8AAP3//f/9//3/AAD9//3/AAD9//3/AAD9/wAA/f8AAAAA/f8AAP3/AAAAAAAA/f8AAP3/AAD9//3/AAAAAP3/AAD9//3/AAD9//3/AAD9/wAA/f/9//3/AAAAAP3/AAD9//3//f/9//3//f8AAP3//f/9/wAAAAD9//3/AAD9//3/AAAAAP3//f/9//3/AAAAAP3//f/9//3//f/9//3//f8AAAAAAAAAAP3//f8AAAAA/f/9//3/AAAAAAAAAAAAAAAA/f8AAP3//f/9/wAAAAAAAAAA/f8AAAAA/f8AAAAA/f/9//3/AAAAAP3/AAAAAAAAAAAAAP3//f/9/wAAAAAAAAAA/f/9/wAA/f8AAAAA/f8AAP3/AAD9//3/AAD9/wAAAAD9/wAAAAD9//3/AAD9//3/AAAAAP3/AAD9/wAAAAD9//3//f/9//3//f8AAAAA/f/9//3/AAD9//3/AAAAAP3//f8AAAAA/f8AAAAA/f/9/wAAAAD9/wAA/f/9/wAAAAD9//3/AAAAAP3//f8AAP3//f8AAP3//f/9//3/AAD9/wAA/f/9/wAAAAAAAAAA/f/9//3//f8AAP3//f8AAP3//f/9/wAAAAAAAP3//f8AAP3//f8AAAAAAAAAAP3//f/9/wAAAAD9//3//f/9/wAA/f8AAAAA/f8AAP3//f8AAAAAAAAAAAAAAAAAAP3//f8AAAAA/f/9/wAA/f8AAAAAAAAAAAAAAAAAAAAA/f8AAAAA/f/9//3/AAD9//3/AAAAAP3//f/9/wAAAAD9/wAAAAAAAP3//f/9/wAAAAD9/wAA/f8AAAAA/f/9//3/AAAAAAAAAAD9/wAA/f/9/wAA/f/9//3/AAAAAP3//f8AAP3/AAD9//3/AAAAAAAA/f/9/wAAAAAAAP3/AAAAAP3//f8AAAAAAAAAAP3//f8AAP3/AAAAAP3/AAD9/wAAAAAAAAAA/f/9/wAAAAD9//3//f/9//3/AAAAAAAAAAD9/wAA/f8AAP3//f8AAAAA/f/9/wAA/f8AAP3//f8AAAAAAAD9//3//f/9/wAA/f8AAAAA/f8AAAAA/f/9/wAAAAAAAAAAAAAAAP3/AAAAAP3//f8AAAAA/f8AAAAAAAAAAP3/AAAAAP3/AAAAAAAAAAAAAP3/AAAAAP3//f/9/wAA/f/9/wAA/f8AAAAA/f/9//3/AAD9/wAA/f8AAAAAAAAAAP3/AAD9/wAA/f8AAAAA/f/9/wAA/f/9/wAA/f/9//3//f/9//3/AAD9//3/AAD9//3//f/9//3/AAD9//3/AAAAAAAA/f8AAAAA/f/9/wAA/f8AAP3/AAAAAAAAAAD9/wAAAAAAAP3//f8AAP3//f8AAAAAAAD9/wAAAAD9//3/AAD9/wAA/f8AAP3//f/9/wAA/f/9/wAA/f/9//3/AAD9//3/AAD9/wAAAAD9//3/AAD9/wAAAAD9/wAA/f8AAAAA/f8AAAAAAAAAAP3//f8AAAAA/f8AAP3//f/9/wAA/f/9/wAA/f/9/wAAAAAAAAAA/f/9/wAAAAD9/wAAAAAAAAAA/f/9/wAAAAAAAP3//f8AAP3/AAAAAAAAAAD9/wAA/f8AAP3//f8AAAAA/f/9//3//f8AAP3/AAAAAP3//f/9//3//f8AAAAA/f8AAAAA/f/9//3//f/9//3/AAAAAAAA/f8AAP3/AAD9//3/AAD9//3/AAAAAAAA/f8AAAAA/f/9//3//f/9/wAAAAAAAP3//f/9//3/AAD9//3/AAAAAAAA/f8AAAAAAAAAAAAAAAAAAP3//f8AAP3//f/9//3/AAD9/wAAAAAAAAAAAAD9/wAAAAAAAAAA/f8AAP3/AAAAAP3/AAAAAP3//f8AAP3//f/9/wAAAAD9/wAA/f8AAP3/AAD9/wAA/f/9/wAA/f/9/wAA/f8AAP3/AAD9/wAAAAD9/wAAAAAAAP3//f/9/wAA/f/9//3//f8AAP3//f/9//3/AAAAAAAA/f/9/wAAAAD9/wAA/f8AAP3/AAAAAP3//f/9/wAAAAAAAAAAAAAAAP3/AAD9/wAAAAD9/wAA/f8AAAAAAAAAAAAA/f8AAP3/AAAAAP3//f8AAAAA/f/9/wAA/f/9/wAAAAD9//3/AAAAAP3//f8AAAAA/f8AAP3/AAD9//3/AAD9/wAA/f/9/wAAAAAAAAAA/f8AAAAA/f8AAAAA/f/9/wAAAAD9//3/AAAAAAAA/f/9//3//f/9//3//f8AAAAA/f8AAP3/AAD9/wAAAAD9/wAA/f8AAP3/AAD9//3/AAAAAP3/AAAAAP3/AAAAAAAAAAD9/wAA/f8AAAAAAAAAAP3/AAD9/wAA/f/9/wAA/f8AAP3/AAAAAP3/AAAAAP3//f/9//3//f/9/wAA/f/9/wAA/f8AAAAA/f/9/wAAAAD9//3/AAD9/wAAAAAAAAAA/f/9//3//f/9//3/AAAAAP3/AAAAAAAAAAAAAAAAAAD9//3/AAD9/wAAAAD9//3/AAAAAP3/AAD9//3/AAAAAAAAAAD9//3/AAD9/wAA/f8AAAAA/f/9//3//f/9/wAAAAAAAAAA/f/9/wAA/f8AAAAA/f/9//3/AAD9//3//f8AAAAA/f8AAAAA/f8AAAAA/f/9/wAA/f/9//3//f/9/wAAAAD9/wAA/f8AAP3//f8AAP3/AAAAAP3//f/9/wAAAAAAAAAA/f8AAP3/AAAAAP3//f/9/wAAAAD9/wAA/f8AAAAAAAAAAP3/AAD9//3//f/9/wAAAAD9/wAA/f8AAAAAAAD9/wAAAAD9//3//f8AAAAAAAAAAP3/AAD9//3/AAD9/wAA/f/9/wAA/f/9/wAA/f8AAP3/AAD9//3/AAD9//3//f8AAP3//f/9//3//f/9//3//f8AAAAAAAAAAAAAAAAAAAAA/f/9/wAAAAD9//3//f8AAP3/AAD9/wAA/f8AAAAA/f/9/wAA/f/9/wAA/f/9/wAA/f/9/wAAAAD9/wAAAAAAAAAA/f/9/wAAAAD9/wAAAAD9/wAAAAD9//3//f8AAP3//f/9/wAAAAD9/wAAAAD9//3/AAD9/wAAAAD9/wAA/f8AAP3/AAD9//3/AAD9/wAAAAD9//3/AAAAAP3//f/9/wAAAAAAAAAA/f/9//3/AAAAAP3//f/9/wAA/f8AAAAA/f8AAAAA/f/9/wAA/f/9//3//f8AAP3//f8AAP3//f8AAP3/AAD9/wAAAAD9//3/AAD9/wAA/f8AAAAAAAAAAAAA/f/9/wAA/f/9/wAA/f/9//3/AAD9/wAAAAD9//3/AAAAAP3//f/9//3/AAAAAAAAAAD9//3/AAAAAAAA/f/9//3/AAD9//3/AAD9//3/AAAAAP3/AAD9//3//f/9/wAAAAAAAP3//f8AAP3//f8AAAAAAAD9/wAA/f/5//3//f/9/wAA/f/9/wAA/f/9//3//f/9//3//f8AAAAAAAAAAP3/AAAAAAAAAAAAAP3/AAAAAAAAAAD9//3/AAAAAP3/AAAAAP3/AAD9//3//f8AAAAAAAAAAP3//f/9//3//f8AAAAAAAAAAAAA/f/9/wAA/f8AAAAAAAD9/wAA/f8AAAAA/f8AAAAAAAD9//3/AAD9//3/AAAAAP3/AAD9/wAA/f8AAAAAAAAAAP3/AAAAAAAAAAAAAAAA/f/9/wAAAAAAAAAA/f/9//3//f/9/wAAAAD9//3//f8AAAAA/f8AAAAAAAD9/wAAAAD9/wAAAAAAAAAAAAAAAP3/AAD9//3//f/9/wAA/f8AAAAAAAAAAP3//f/9/wAA/f8AAAAA/f8AAP3//f8AAP3/AAAAAAAA/f/9/wAA/f8AAP3//f8AAP3//f8AAAAAAAD9//3//f8AAP3/AAD9/wAA/f8AAAAAAAAAAP3//f/9//3//f8AAAAAAAD9//3//f/9/wAA/f/9//3//f8AAP3//f8AAP3//f8AAP3/AAD9/wAAAAD9/wAA/f8AAAAAAAD9/wAAAAD9/wAA/f8AAAAA/f8AAAAA/f8AAP3//f8AAP3/AAD9//3//f8AAAAA/f/9//3//f/9//3//f/9/wAAAAD9//3//f8AAP3//f/9/wAA/f8AAAAA/f/9//3//f8AAAAA/f/9//3//f/9//3//f/9/wAAAAAAAAAA/f/9/wAAAAD9//3//f8AAAAAAAAAAAAAAAD9/wAA/f/9//3/AAAAAAAAAAD9/wAAAAD9/wAAAAD9//3//f8AAAAA/f/9/wAAAAAAAAAA/f/9//3//f8AAAAAAAD9//3/AAD9/wAAAAD9/wAA/f8AAP3//f8AAP3/AAAAAP3/AAAAAP3//f8AAP3//f8AAAAA/f8AAP3//f8AAP3//f8AAP3//f/9/wAAAAD9//3//f8AAP3//f8AAAAAAAD9/wAAAAD9/wAAAAD9//3/AAAAAP3/AAD9//3/AAAAAP3//f8AAAAA/f/9/wAA/f/9/wAA/f/9//3//f8AAP3/AAD9//3/AAD9/wAAAAD9//3/AAD9/wAA/f/9/wAA/f8KABwAHAAKAA4AJwAjAAoADgAYAAoA/f8RABwAAwD5/x8AKgDv/9n/GAAnAOT/xP8AACcA8v+9/+T/NQARAKv/yP8nAAMAnf+2/w4AAAC2/7b/9v8DAMT/q//r/xEA0v+o/+H/FQDo/6j/xP8AAO//r//B/wAA/f/I/8T/9v/5/9L/y//y/wMA6//S/+T/BwDy/8//3f8VABUA1v/Z/xgAAwDL/+T/GAADAO//AAAAAAAAAAAAAP3//f8AAP3/AAD9//3//f8AAAAA/f/9/wAA/f8AAP3//f8AAP3/AAD9//3/AAAAAAAA/f8AAAAA/f/9//3/AAAAAAAA/f/9/wAA/f8AAAAA/f8AAP3/AAAAAAAAAAD9//3/AAAAAP3//f/9//3//f8AAAAAAAAAAP3/AAD9/wAAAAD9/wAAAAD9//3/AAD9/wAA/f/9/wAAAAAAAP3//f/9//3/AAD9/wAAAAD9/wAAAAD9//3/AAAAAAAAAAAAAAAA/f8AAAAA/f/9/wAAAAD9/wAAAAAAAAAA/f/9/wAA/f/9/wAAAAAAAAAA/f8AAAAA/f/9//3//f8AAP3/AAD9/wAAAAD9//3//f8AAP3/AAD9/wAAAAAAAAAA/f8AAP3/AAD9/wAAAAD9//3/AAD9//3/AAD9//3//f/9//3//f8AAP3//f8AAP3//f/9//3//f8AAP3//f8AAAAAAAD9/wAAAAD9//3/AAD9/wAA/f/9/wAAAAAAAP3/AAAAAAAA/f/9/wAA/f/9/wAAAAAAAP3/AAAAAP3//f8AAP3/AAD9/wAA/f/9//3//f/9//3/AAD9//3//f8AAP3//f8AAP3/AAAAAP3//f8AAP3/AAAAAP3/AAD9/wAAAAD9/wAAAAAAAAAA/f/9/wAAAAD9/wAA/f/9//3/AAD9//3/AAD9//3/AAAAAAAAAAD9//3/AAAAAP3/AAAAAAAAAAD9//3/AAAAAAAA/f/9/wAA/f/9/wAAAAAAAP3/AAD9/wAA/f/9/wAAAAAAAP3//f/9/wAA/f/9/wAAAAD9//3//f/9/wAAAAAAAAAAAAD9//3//f/9//3//f8AAP3/AAD9/wAA/f8AAP3//f8AAP3//f8AAAAAAAD9/wAAAAD9//3//f/9//3/AAAAAAAA/f/9//3//f8AAP3//f8AAAAAAAD9/wAAAAAAAAAAAAAAAAAA/f/9/wAAAAD9//3//f8AAP3/AAAAAAAAAAAAAAAAAAAAAAAAAAD9/wAA/f/9/wAA/f8AAAAA/f/9/wAA/f/9//3//f8AAP3/AAD9/wAA/f8AAP3/AAD9//3/AAD9//3/AAD9/wAA/f8AAP3/AAAAAP3//f8AAAAA/f/9//3/AAD9//3//f/9/wAA/f/9//3//f8AAAAAAAAAAP3/AAAAAP3/AAD9/wAAAAAAAAAA/f/9//3/AAAAAAAAAAAAAAAA/f8AAP3/AAAAAP3/AAD9/wAAAAAAAAAAAAD9/wAA/f/9/wAA/f/9/wAAAAD9//3/AAD9//3/AAAAAP3//f8AAAAAAAD9/wAAAAD9/wAA/f8AAP3//f8AAP3/AAD9//3/AAAAAAAAAAD9/wAAAAD9//3/AAD9//3/AAAAAP3//f8AAAAAAAD9//3//f/9//3//f/9//3/AAD9/wAA/f/9//3/AAAAAP3/AAD9/wAA/f8AAP3//f8AAAAA/f8AAAAA/f8AAAAAAAAAAP3/AAD9/wAAAAAAAAAA/f/9//3/AAD9//3/AAD9/wAA/f8AAAAAAAAAAAAA/f/9//3//f/9//3//f/9//3/AAD9//3/AAD9//3/AAAAAP3//f/9/wAAAAAAAAAAAAD9//3//f/9//3//f8AAAAA/f8AAAAAAAAAAAAAAAAAAP3//f8AAP3/AAAAAP3//f/9/wAA/f8AAP3//f8AAAAAAAAAAP3//f8AAP3/AAD9/wAAAAD9//3//f/9//3//f8AAAAAAAD9//3/AAD9/wAAAAD9//3//f8AAP3//f8AAAAAAAD9/wAAAAD9/wAAAAD9//3/AAD9//3//f/9//3/AAAAAP3/AAD9/wAAAAD9/wAA/f8AAAAAAAD9//3/AAAAAAAAAAD9/wAA/f8AAAAA/f/9//3/AAAAAP3/AAD9/wAAAAAAAAAA/f8AAP3//f/9//3/AAAAAP3/AAD9/wAAAAAAAP3/AAAAAP3//f/9/wAAAAAAAAAA/f8AAP3//f8AAP3/AAD9//3/AAD9//3/AAD9/wAA/f8AAP3//f8AAP3//f/9/wAA/f/9//3//f/9//3//f/9/wAAAAAAAAAAAAAAAAAAAAD9//3/AAAAAP3//f/9/wAA/f8AAP3/AAD9/wAAAAD9//3/AAD9//3/AAD9//3/AAD9//3/AAAAAP3/AAAAAAAAAAD9//3/AAAAAP3/AAAAAP3/AAAAAP3//f/9/wAA/f/9//3//f8AAP3/AAAAAP3//f8AAP3/AAAAAP3/AAD9/wAA/f8AAP3//f8AAP3/AAAAAP3//f8AAAAA/f/9//3/AAAAAAAAAAD9//3//f8AAAAA/f/9//3/AAD9/wAAAAD9/wAAAAD9//3/AAD9//3//f/9/wAA/f/9/wAA/f/9/wAA/f8AAP3//f8AAP3//f8AAP3/AAD9/wAAAAAAAAAAAAD9//3/AAD9//3/AAD9//3//f8AAP3//f8AAP3//f8AAAAA/f/9//3//f8AAAAAAAAAAP3//f/9/wAAAAD9//3//f8AAP3//f8AAP3//f8AAAAA/f8AAP3//f/9//3/AAAAAAAA/f/9/wAA/f/9/wAAAAAAAP3/AAD9//n//f8AAP3/AAD9//3/AAD9//3//f/9//3//f/9/wAAAAAAAAAA/f8AAAAAAAAAAAAA/f/9/wAAAAAAAP3//f8AAAAA/f8AAAAA/f8AAP3//f/9/wAAAAAAAAAA/f/9//3//f/9/wAAAAAAAAAAAAD9//3/AAD9/wAA/f8AAP3/AAD9//3/AAD9//3/AAAAAP3//f8AAP3//f8AAAAA/f8AAP3/AAD9/wAAAAAAAAAA/f8AAAAAAAAAAAAAAAD9//3/AAAAAAAAAAD9//3//f/9//3/AAAAAP3//f/9/wAAAAD9/wAAAAAAAP3/AAAAAP3//f8AAP3/AAAAAAAA/f8AAP3//f/9//3/AAD9/wAAAAAAAAAA/f/9//3/AAAAAAAAAAD9/wAA/f/9/wAA/f8AAAAAAAD9//3/AAD9/wAA/f/9/wAA/f/9/wAAAAAAAP3//f/9/wAA/f8AAP3/AAD9/wAAAAAAAAAA/f/9//3//f/9/wAAAAAAAAAA/f/9//3/AAAAAP3//f/9/wAA/f/9/wAA/f/9/wAA/f8AAP3/AAAAAP3/AAD9/wAA/f8AAP3/AAD9/wAA/f/9/wAA/f/9/wAAAAAAAAAA/f8AAP3//f8AAP3/AAD9/wAAAAD9//3//f/9//3/AAD9//3/AAAAAAAAAAAAAAAAAAD9/wAAAAD9//3/AAD9//3//f/9/wAAAAD9//n/AAD9//3//f8AAP3//f8AAP3/AAD9/wAAAAD9//3//f/9//3/AAD9/wAA/f/9/wAAAAD9/wAAAAAAAAAA/f8AAP3//f8AAP3/AAD9/wAA/f/9/wAAAAD9//3/AAAAAAAAAAAAAP3//f/9/wAA/f8AAAAA/f/9//3//f8AAAAAAAAAAAAAAAD9/wAA/f8AAAAA/f8AAAAA/f/9/wAAAAD9//3/AAAAAAAA/f/9//3/+f/9/wAA/f8AAP3/AAAAAAAAAAAAAAAA/f/9/wAAAAD9//3/AAD9/wAAAAD9//3//f/9/wAA/f/9//3//f8AAAAA/f8AAAAA/f/9//3//f/9//3//f/9//3//f8AAAAA/f8AAP3//f8AAP3//f8AAP3//f8AAP3/AAAAAAAAAAD9//3//f8AAAAAAAD9//3/AAD9/wAA/f/9/wAAAAD9//3//f/9//3//f8AAP3//f8AAP3/AAAAAP3//f/9//3/AAD9//3/AAAAAAAAAAD9//3/AAAAAAAA/f/9//3//f8AAAAAAAAAAAAAAAAAAP3/AAAAAAAA/f/9/wAAAAAAAP3//f/9//3//f/9//3/AAD9/wAAAAD9/wAA/f8AAAAA/f8AAAAAAAD9//3//f8AAAAAAAAAAAAA/f/9//3//f8AAP3//f/9/wAAAAD9//3/AAD9/wAAAAD9/wAA/f/9//3//f/9/wAAAAD9/wAAAAD9//3//f/9/wAA/f/9/wAAAAD9/wAAAAD9//3/AAD9/wAAAAAAAP3//f/9//3/AAAAAAAA/f/9/wAA/f/9/wAAAAD9//3/AAD9//3//f/9//3//f8AAP3/AAD9/wAAAAD9//3/AAAAAP3/AAAAAP3//f8AAP3//f8AAP3/AAD9//3/AAAAAP3//f/9/wAAAAD9//n//f/9//3//f8AAAAA/f/9//3//f/9/wAAAAD9/wAAAAD9/wAAAAD9/wAAAAAAAAAAAAAAAP3/AAAAAP3//f8AAAAA/f8AAP3/AAD9/wAAAAAAAAAAAAAAAAAAAAAAAAAAAAAAAAAAAAAAAAAAAAADAAAAAAADAAMAAAADAAMAAAAAAAAAAAAAAAMA/f8AAAAA/f8AAAAAAAAAAP3/AAAAAAAAAAAAAAAAAAAAAAAAAAAAAAMAAwAAAAAAAAAAAAAAAAADAAMAAAAHAAAAAwD9/wAAAAAAAAMA+f8HAPL/DgDd/7EAUQFjAHUACgEVAZ8AgwCcADgBOAGVAL8APAFfAa4AtQAqAeMAXwBYAPwAbgFVAMv/wwC8ADwARwC8AL8AYwAVAN3/9v+5/1n/Of+o//3/JP/E/sj+y/4B/73+xP79/hn/Xf7v/RL+S/5k/sv9iP0I/mH+qP1I/Zb96/3I/Wj9Mv2B/cH9S/1k/bL90v2v/Vn9mf0k/mH+6P3I/Wv+z/6r/iv+gf7h/k//Hf+S/s/+gf/r/jb+S/8E/7gEKgjVAy4DQwM/AyoDAwMnA1wDfAMfA/UCygJHA2cDKgMqA2cDigNOA0MDPwMqAzUD/wKuAoMCNQLxAdgBnAHDAdEBEQF/AF8AHwCy/13/Qf8P/w//RP8L/6v+b/5Z/iT+6P19/Qj98vwB/QT9pPxk/O/7svv9+wT89vuk+6T7nfuk+6T7L/s5+xb7xPrW+v36C/vP+sT6BPtd+4j7T/v2+g/7cvtI+y/7RPsP+yj7Xft2+6j7xPvr+wT8MvyI/IT8i/yy/N38wfyE/OT8CP0L/Sj9+fw2/Xn9gf2h/Zn9cv2I/bL9wf2S/WT9of3r/RL+Pf5v/n3+Nv5L/nL+lv6y/oj+uf7L/rL+y/5h/4j/tv/5/93/EQC9/9L/EQAYAAAAAABxANUAIwEnAWoBfwF8AVgBFQEcAVwBuAFxAUMBlQHKAWMBTgHRAeoB+AHOAa4BtQGYAWcBqgE8AjUCPAI4AqcBXAFqAYcBkQGfAaMBnwF1ATgBuAFHAm4CSgJRAjUCDgJOAm4CvwKYAlgCbgLHAjEDCgMqA5UDvANjAxgDXwPfA+cDwwP/A+oD9QMjBFUESgQYBEoEZwRVBA4EFQQjBNwD3AMDBD8EmAQDBfEEvwTHBMcE1QTnBPUEnARxBJ8EmASjBNEE5wQRBfUEzgQfBQ4FLgVHBW4FqgUxBf8E2AT4BEcFNQUYBeoECgU1BUMFcQWVBU4F3ASqBNUE5wSKBFEELgQ4BCcEFQQuBD8EagQ8BCoEBwTVA7wDhwNjAxwDzgKRAqMC1QLuAsMCYwIxAkMCagJjAgoC5wHfAZgBSgEYAWMBZwEVAScBZwF8ATEBDgEHAZwAYwB/AFwAagB8AIoA8QAOASMBKgH1AKoAcQCfAHUAYwB/AGMAZwBYACcA8v8jAEMAXABuADwASgAOAP3/8v+r/6v/yP+P/zn/SP9E/1n/b/9E/yj/K/8Z/0j/ff8d/wT/4f62/oj+Wf65/iT/Mv+k/lL+i/69/u/+nf5Z/lb+1v4E/0j+RP42/mT+ef7r/d39C/5E/iT+7/0r/nL+Vv7k/Yv9mf3d/dn9gf0I/fn8Qf12/Wj9JP0S/Rn9D/3S/Nb82fyo/MT82fwv/Qv9hPyP/Hb8b/zZ/DL94fyd/Hb8FvxZ/KT8mfyP/MT88vy9/MT82fzk/Bb9/fwI/Tn99vzv/AT96/zZ/B39Hf32/Cj9BP1o/XL9ff2I/UH9Nv3o/Oj8Af19/aT9iP2k/ZL9tv3Z/ev97/3d/YH9Wf3E/fL9yP2v/Rn+a/5d/pn+aP5h/pn+ff5h/n3+tv7d/hb/8v7E/vn+aP9r/xb/Gf8I/2H/dv9L/4//0v/B/2H/nf92/2j/ff9I/4v/5P81AOj/tv+y/8T/qP9B/1n/Mv82/2//ff+W/0T/C//r/uv+ZP+L/0j/Hf89/7b/6P+L/2j/Xf9W/1L/kv/Z/xEA+f+B/73/y//r/zUAZwB/ADEARwBqAHEAgwB/AMcAFQE1ATgBHAFOAW4BnAFqAUMBtQHVAW4BagHuAfgB/wEVAhwCIwIxAkMC/wHjASMCmALRAkMC5wEOAh8CigKxAjgCnAHVARUCEQIxAhUCPAIRArgB0QFOAiMCigF4AcMBFQI4AjwCvwGRAdUBHwLcAV8BLgFDAV8B9QA1AY4BgwFOAUoBXwExAXEBagEHAdgAEQExAeoAgwCnADEBCgG1AKMA1QDOAN8A7gCqAI4AMQAjAAoAyP+y/8v/6//Z/zUAUQA/AMj/b/+9/8v/AADS/3L/D/85/9b/q/+y/13/+f5S/33/S/8v/2j/Xf89/yj/L/9B//n+KP+E/4//S/8d/zL/BP9Z/6H/L/8I/0T/ff9Z/xL/Af8r/2v/Fv8d/0j/SP9S/xL/b/99/4j/aP/v/sv+mf7S/s/+2f7r/gv/9v7S/iH/Vv9v/wH/6P4E/yH/2f5r/pb+4f75/sv+6/7I/rn+pP59/qj+z/4P//b+Af/P/vn+Gf+B/oH+4f4E/9b+kv5v/qT+uf65/oH+aP65/r3+r/59/j3+RP5S/kH+i/6v/mv+L/4W/u/94f0h/ij+aP6S/mj+ef5y/mv+T/4E/jb+r/7h/rb+pP5v/hn+S/6o/uj+KP9d/8j+of69/qj+6/5y/kj+gf7E/sH+S/6W/nb+SP6r/sj+wf6v/pL+uf7W/mv+Xf5B/g/+Wf6L/rn+z/5y/g/+S/5v/p3+wf5P/i/+ZP6I/lb+Ev5E/r3+nf49/mT++f4h/8/+yP6o/q/+vf7d/vn+5P7W/rn+3f72/hb/Qf9Z/0T/L/+W/8j/KP8E/2T/mf+P/2H/uf/v/+T/xP/5/ycAxP/P/5L/Uv/2/04AHADo/xwAPAA1AE4Awf+9/xwAwf+P/+//UQCnAPgACgHjAGoAPABuALUAkQBfALUApwBnALgA9QD8ABUB8QC8ALUA3ADRAM4AsQDqAFEB5wCqANwANQEuAd8A6gAVAQMBLgFcATwBdQFxASoBLgE4AVEBhwFqASMBIwExAXwBhwFuAbgBvwGKAXUBmAGxAZEBgwGYAbEBxwG8AWMBIwFHAZgBgwEcAU4BzgEDAqcBNQFHAScBFQE4AScBMQE8ATgBFQH/ACcBWAFVAfUA3ABDAaMBeAE4AScB/AADAU4BTgERAQ4BbgFjATUBTgF1AcMBqgGfAbUBuAGuAaoB3AEKAvEB6gHqAY4BzgFYAocCSgIRAi4CPAJ4ApwCsQJ/AiMC2AHKAUcCXwIuAvgBKgKHAngCMQLcAeoB8QG/AbgBzgGqAZgBfAFfAVgBLgEYAfgARwGRATgB1QD1AO4AxwADAZUAeACOAHEAeAA1AFwATgBHAEcATgBVAAMABwAnACMA6P8YACoAJwA8AF8AeAAAANb/6P/y/+j/0v/y/1wAWADv/xwAIwDE/7b/tv+9/+v/5P/S/woABwD9/yMAFQAYADwAMQDy/+H/AwDv/6v/sv/S//L/9v/W/wAAEQAYADEAWABYAEMAEQDB/8H/lv9y/4H/vf/k/8v/BwAVAM//0v/Z/6//nf+L/5L/nf9o/2T/i/+k/6T/cv9P/2j/ef99/4H/SP9W/0H/+f4k/yj/Hf/o/rn+8v7r/sT+5P7y/sT+uf75/jL/D//W/pn+dv6W/r3+/f4k/wH/4f6Z/qv+Fv8P//L+q/5r/kv+Pf5v/o/+z/7r/s/+0v7I/tn+0v6h/mv+a/7L/vL+tv6v/sv+wf7k/tL+sv4P/zb/JP9r/3n/Mv9B/0T/9v7r/vn++f7y/iT/ff9y/2T/Uv9k/0T/Fv95/4T/Wf9h/2//dv82/+T+S/+v/33/aP8o/wv/SP9h/1n/Nv85/2j/K//5/i//S/9o/2j/S/95/2v/Of8S/9n+KP+L/13/Ev8W/1L/sv+W/2H/mf+W/4H/lv/L/yoAHwDL/8T/1v/y/wMABwDv//n/QwBnAGcAgwCcAHgAZwB8AMMArgCHAJwAjgCVAHwAfwCqAPEAGAEuAf8AzgDKAPEAOAExAQMBCgEnAR8BXAE4AeoAJwF/AWMBMQE4AV8BgwEOAeoASgFYAR8B/wAjATgBUQF1AZUBkQF4AZEBuAGxAYoBjgFuAXUBrgGcAa4B6gEDAscBwwEKAvgB1QGxAY4BwwEVAicCJwIVAgoCFQL4AfUBNQI4AgMC7gHjARECPAJDAjUCEQI4Ai4CMQIHAq4BBwJKAgcCowGuAfEB8QHDAaMBqgGnAU4BFQFVAZEBhwFKATUBcQGcAXwBVQEqAQcBIwE8AUMBQwFuAWoB/wAOAVgBXAFuARwBvwD4AP8AHwFjAWoBSgH1AEMBTgHfAK4AdQC1AAoBHAEuAQoBzgCxAIcAeACRAI4AjgB8AFwAWABOABgAAwAKABUAHwAnAPL/tv/k//3/7//E/73/y/+S/5L/iP9k/3L/Yf9h/33/lv/S/9n/xP/P/9b/i/9r/6H/0v8AAN3/0v/P/6H/of/W/xgACgDy/+H/z/+5/73/kv92/7L/z//I/5L/vf/d/53/gf+h/7b/aP9Z/2T/a/+d/6j/hP9r/1n/Qf85/yv/Pf8v/wv/D/8E//n+CP9P/4H/Mv8r/3n/Of/Z/sj+C/9L/xn/6P7o/gv/Nv9Z/0//RP8Z//L+9v7r/uv+9v4Z/+j+lv6r/rn+q/79/v3+qP7h/gT/7/7S/pL+q/6v/mj+Yf6E/l3++f35/UT+RP4W/kj+cv5d/lb+JP4k/j3+CP4E/jn+Hf4W/kH+S/4k/iv+Xf5y/oj+b/5k/ln+gf6E/kT+Nv4P/ln+a/4r/mj+qP6k/pb+kv6W/pn+iP6I/nL+Uv5h/lb+Of5B/i/+Fv5L/ln+SP5y/ov+Xf4o/jL+K/4y/iv+2f32/Tn+Wf5S/hn+T/55/oH+SP4S/lL+Vv4y/hb+L/5h/n3+cv5r/qT+sv6v/rL+xP7E/sv+9v7k/rn+tv7Z/vL+4f7v/kH/Uv9L/0j/Nv82/0j/T/8y/0v/b/+y/6j/Hf8r/2j/qP+v/3b/gf+h/9L/z//B//L/2f+2/9b/6P/h/8H/q/81AHgAnf9y/w4ATgD5/6//AwDk/5b/tv/v/w4AAADh/9b/AwAnADwA/f+k/7b/AwBfADUAFQBVAEMALgBOADgANQBKADwAIwA4AHEAbgBnAEMAIwBqAH8ASgAVADgAfAB/AIoAvADHAJwAfACHAHwANQA8AHgAbgCHAMMA5wDVAJEAfACYALgAsQDRAPUAygCHAEcAgwDOAJgAgwD8ABUBlQB1AM4APAEjAQcBAwG8AL8A5wD4AKcAmAD4AA4B8QDxABEB3ACjANwAGAFDAQ4BnwC/AOoA0QCfAG4AVQBfAKMAkQBKACcAPwCxALwAcQBHAHEAigAVAPn/KgAnAEMAWABOACcAMQAcAO//AwDr/+T//f8YABUAwf/L/x8ALgDk/3L/r/8OAOH/xP/P//n/AADd/8//z//5/xUA4f9E/3b/NQAuAPb/6P/r/6v/ZP/W/+v/r/5OAKoGFQc5/yT+6gQfA9n5j/nd/4cBpwGDBIcDcv2d/P8APf+L+mH9kQIDApb/fACxAEj9JPyE/+oAxP7P/pEAlv/W/Yv+Pf/k/bL96/9qAA/+xPyy/ST+Af7Z/sH/Vv+h/rL+RP75/O/8SP5y/xEAuf+9/jb+Uv7y/ST9kv1v/8oARwCE/3L/of6S/Rn+S/8v/wT/EQBcAAj/KP6o/tL+ff55/+cAVQDv/i//nf+I/sT94f4xAC4AAwA4ALL/Ev9r/5L/+f49/3EA1QBOAMj/q/+L/4v/DgAHAJb/6P/OAPgAagBVAKoA2ADHAMMAqgAcAAAAsQA8AQoBgwBxAMoAvwBfAAcAEQC4ABUB7gDOAOMA2ACVAK4A2ADDAK4A9QCOAdEBUQGnANUAUQFKAeMApwCRANgArgHqATwBsQDnAE4BJwHDANgAPAExAf8ABwE4AScBuAC/ACoBagFfAW4BUQH4ACcBQwHKAIoACgFuAT8BeAHjAVEBXwBfAM4AvADcAF8BXwHKALUA1QBHAOj/nABYASoBHAFuASMBTgDS/yoA2AAcAQMB3wCHAA4AKgC1AJwAQwC4AFUBygC2/53/HwA8AH8APwGVASoBkQAOAMj/KgDqAC4B+ADxADUBLgGOAL3/b//W/5EA3wCxANwANQGYAJL/iP8RACMAz/8cAPgAYwHYAPL/KP/d/rn/tQB1AK//4f+KAGMAlv8h/1n/DgDOAOcATgBW/wj/nf8YABEA0v8nAI4AIwB5/1n/tv8uAHUAKgDB/7n/7/8AAJb/L/+W/1wAqgAYAEj/Wf/9/x8A9v8jADgAEQDv/8H/b/+P/zgAbgAOAAAALgCv/zn/qP8xAE4ATgCVAGcAwf+B/5b/sv/2/4MA6gC1AC4A0v+P/5b/DgBqAJEAtQCuAHgANQDP/+j/vwA1AdgATgA1AB8A0v8fAH8AjgDuAEMBrgCI/xL/a//W/0cA6gA8AcoALgDL/3n/cv/o/6oAIwHKACoA6//E/4T/uf91ABUB7gBnABEAqP9y/9L/bgCYAK4AEQHYAMH/Uv8OAJUAjgC4AB8B3wAnAOH/FQBYAJUAHwFYAcoAPAADAMv/of8qAD8BhwHcAFEATgA8ANb/9v+/AGMBXAEHAbUAHACI/8T/igDDAMoAWAFfAYoA+f9OAI4AXADVAHUBHAFcAPb/FQBqAKoA2ADRANgAzgCDACoA1v/E/1wAUQE4AV8ARwB4AAoAqP8OAGcAQwBRAIMAVQDr/9L/+f8RAGMA4wDcAA4Ai//d/zUAUQA4ACoAagCuAJEALgDk/9b/OACqALgAYwBDAHUAZwAjABwASgBHAF8AeACRAJEAPAAuAFgAXwBqAMcAtQAKAMT/PwAjAIH/6//HAJ8AAAAKAPL/mf/y/2oAAACL/93/DgC2/3L/q//2/xgAHwDk/2j/Mv9o/7b/CgAHANn/6P/P/13/JP9L/2//lv/Z/8j/aP9o/3L/K/82/5b/3f/o/4//RP9Z/33/ff+B/7L/r/+h/73/sv92/2j/of+o/7b//f8AAJb/T/+E/6H/iP+E/6//xP/h//L/mf9W/33/nf+k/8H/5P/o/8H/tv+v/4j/ff+E/7L//f/2/7n/nf+W/7L/+f/W/4H/1v9KAAcAgf9o/6j/yP/W/+j/q/+B/8v/8v+h/3L/i//S/zUAUQD5/4H/a/9k/1n/tv8YAC4AFQD5/7b/Vv8S/xL/a/8jAH8AJwDL/33/JP8S/2T/mf+h/+T/IwDP/2T/b/99/4j/vf/9/+v/iP9L/3b/kv9y/1b/Wf+P/6//i/9B/zL/cv+y/8H/q/+B/3n/wf/S/8v/2f/I/6T/of+o/7L/0v8cAFUAQwAfAN3/pP+2/+//JwA1AD8ANQARABEACgAHADUAagCDAE4A6P+o/8//+f8RADwAWAAxAOH/3f/h/7b/pP/E/x8ARwAHAKv/b/99/7b//f8HANL/wf/d/6v/T/9k/4//i//I/xEA0v9k/2H/ff9d/0//of/r/woA/f+5/0//Mv+d/+H/2f/I/9n/1v+y/6H/nf+5/+T/JwBDAA4Ay/+y/9L/AAAjAD8ATgAOAKj/lv+5/73/xP8HADUAPwAcALb/ff+o//b/GAAjAB8A6P/P/xUAOAD2/+v/GAAfABUAFQDk/6T/6/84AAoAy//d//b/uf+I/53/y/8HAB8Awf9Z/5L/z/+W/2v/pP/2//n/1v+y/3n/aP+2//L/z/+h/5n/q//B/7n/tv/L/+H/5P/Z/8j/vf/L//L/AADZ/9n/8v/5/9b/sv/I/9L/7/8OAPb/wf+r/93/CgDy/9n/5P/k//b//f+9/4H/nf/h/wcAAAD2/93/sv+9/+//9v/L/8H/tv+v/8//6P/P/6v/3f8uACoA5P+2/7n/1v/2/wcA8v/k/9b/1v/L/8T/5P/k/8v/6P8fAAoAyP+y/9L/AAAjADEA8v+v/8v/5P+9/7L/1v/Z/8v/6P8DAPn/5P+5/6H/q//S/8j/kv+S/73/3f/k/+H/vf+I/5b/uf+o/6v/4f/5/93/vf+Z/5n/z//r/9n/5P8HAAcA6//I/8//AAARABgADgAAAPb//f8jACMA+f/v/y4ASgAfAAoAFQAHABgATgBHACMAHwAxAEMAYwBVADEAUQCHAFgAGAAnAB8AFQAxAE4ARwBcAH8AVQAVACcAIwDo/xUAeAB8ADwALgA4ACMAHwAnAC4AOABVAEMAAAAHAFgAbgA/AFUAcQBYAE4AIwDB/8H/LgB8AHwAdQBRAAMA9v8cACMAMQBfAHUAWAA8ACoA6//v/1gAkQB4AFgAeABqADEALgA/ADwAQwBYAE4ALgAnAC4AMQA/AEoALgARAA4AHAAYABUAQwBnAGcASgA1AA4A1v/k/x8APwBRAF8AXABOADwACgDE/93/PwB/AIcAdQBKABwAGAAcAAoAAAA/AF8AQwA/ADEABwAYADwANQAuACMAFQD9//n/9v/9/x8ALgAVAP3/BwAVAPb/z//I//b/OAAnANn/r//k/woA+f/y/93/2f/d/+H/1v/E/+j//f/2/+//6//k/9n/6//o//L/DgAKAPn/7//h/+H/+f8cAC4AKgARAOj/6P/2/9b/3f8OADgANQAnABUA3f/P//L/+f8AACoALgD9/+j/8v/B/5L/wf8AABwAKgAnAPb/vf+y/7b/0v/2/+//2f/d//L/7//E/5b/of/d//b/2f/B/8v/8v/y/8v/of+v/8v/y//L/8T/z//S/73/of+k/9n/4f/B/8v/6P/d/8j/wf+y/7L/2f/r/93/1v/S/73/vf/P/9L/z//y/woAwf+P/6v/4f/k/93/y//S/woAAADB/53/q/+9/9n/7//Z/9b/4f/P/7L/xP/L/6v/0v8KAAAA6P/Z/8T/r//d//L/tv/B/xgAIwDW/8//6//r//b/AADy/+j/AwD2/7n/uf/9/xUAGAA1AD8AHwD5/+j/6/8AABwAPwBYAFUAHwDr//L/AADr/+T/JwBRAEcASgA4ABEAAAAKAAoA9v8VAEoAPAAOABUAHwAOAP3/BwAfADgAXAAqAO//AAAfABwAAAAKACoAXABVAAAAsv/S/z8AWAAnAC4ASgAxACMAHwAAAOj/LgBqAC4AAwAKAA4AFQAqADUAPABHACoA9v/h/xUANQAxAEMATgA4ACcAJwDr/93/HwA4ACoAMQBOAFUAXABKADUAKgA8AD8ANQBcAG4AUQBHAF8ATgAuAC4ALgBDAHEAfwBjAEoAYwB1AEcAIwA1AGMAgwCDAGMATgBVAG4AZwBDAEoAWABnAHEAZwBHAB8AFQAjADgARwA4AAcAAAAxADwAGAAnAFUASgAnACoAPAAuADEARwBcAFwAQwA4ADwAPAAxAEcASgAuAC4AMQA1ABUAFQBDADgAIwBHAFEAGAAHAB8ADgAHAD8AVQA1ACoAPwAqAP3/8v8DAAcAAwAcACMAJwAOAOv/9v8AAPn/5P/h/9b/5P/o/93/6P/r//b/6P/L/6//r//d/xEA/f/I/93/+f/h/73/z//d/+T/6//Z/8j/xP/h/+//2f/h/+H/xP+2/73/0v/L/9n/7//Z/93/6//v/93/6//9/+j/1v/Z/9b/1v/2/+T/yP/Z/wAA+f/B/7L/1v/o/8//y//k/+v/6P/2/+//xP+h/5b/r//S/+//+f/r/8//vf+y/5b/lv+9/+v/6//I/8//z/+5/6v/sv/Z//n//f/P/5n/nf/I/+v/1v+v/8T/2f+y/5L/pP+2/7L/wf/d/+H/sv95/4j/r//B/73/wf/S/93/wf+Z/4v/hP+S/6H/of+v/8T/vf+d/6H/wf+2/6H/sv/E/8j/yP/P/6j/a/+B/9n/DgAAANn/vf+v/6T/r/+2/73/z/8OADEA6/+5/7n/xP/P//b/FQD5/+j/7//r/+j/AAAHAPb/AwAVAPb/0v/L/93/8v8OADEAIwAKAAoA/f/I/8T/DgAqACMAIwAqAAoA5P8AAA4AAAAcAEMALgAHAAoAHAAYAA4AKgBOAD8AIwAHAN3/0v8DACoAKgAqADgAMQD9/9L/1v/5/y4AVQA1AP3/4f/k/+//1v+9/8//EQA/ADEACgDk/9n/8v/v/8j/5P8VACcAHAAAAO//2f/k//n/EQAnABwA6//P/+j/+f/5/woAMQA4ABgAAADv/+j/AwAxADwAQwBOAC4ABwDv//b/HAA/AD8ALgAqACcAEQD5//L/EQBDAD8AEQAOABUACgD9/xwAPwA8ACcAKgAnAAMAAwAOABwAPABjAD8A9v/5//3/3f/5/yoAHwAOAB8AHAD5/+T/6//9/xEADgDd/8j/AAAcAAoAAwADAOj/6//9/6//ff/E/wAA8v/L/8T/0v/v//3/4f+9/9L/8v/o/9L/y//L/93/2f/I/8T/1v/h/9b/3f/d/8//6P/r/9n/z//o//n/7//h/+H/6P/o/9L/z//r/wAAAwDo/8j/xP/k/wcAAwD9//n/BwD2/8//1v/9/x8ADgAAAP3/6P/E/7n/0v/k/+//8v/k/9L/yP/I/8T/xP/d//L/6P/d/9L/xP/I/93/6P/P/8//2f/W/93/3f/S/8H/0v/9//L/2f/d/9n/y//d/wMA/f/v//n/8v/k/+j/6P/I/+T/KgAuAAMA3f+9/6v/2f/v/+H/7/8fAC4A+f/E/6j/uf/v/xEAGAARAA4A6/+v/5n/tv/o/xUAKgAcAP3/z/+5/8v/8v8KABwAJwAYAO//0v/y/xUAHAAcACMAHwAOAOj/y//h/xgASgBYADwACgDo/9n/8v8jAEMAPwA1ACcABwD5//L//f8RAC4APAAcAOv/z//h/wcAIwA8ADUAIwAHAOH/xP/P//n/GAAuACoAHwAHAOH/6P8AABgAPAA4ABEAAwAKAP3/9v8DACMAOAA/ADgAIwADAAAAHAA1ADgAPwBHACoAFQARABUAFQAfADgAPwA8ADUAIwAOABUAJwAuADwARwBcAGMARwAcAA4AIwA1ADEAQwBDAC4APABDADUALgBDAFEAOAAuAC4AGAARABwAOABDAD8ARwA4ADEANQAxABgAHwBOAGcAXwBOADwALgA8AFEATgA8AEcAVQBOAEcASgBOAD8AOAA/ADwASgBcAFUASgBHAD8AKgAfAB8AMQBOAFEAVQBRADEAHwARABUAIwAxAD8ATgBKACoAEQAHAP3/7/8AACMAOABHADEABwD2/xgAKgAVAAMAEQAjAA4A8v/5/xgAHAARAA4AEQAOAA4ADgAKABgAKgAYAPn/6//o//L//f8DABwALgAfAAMA+f8AAPn/9v8DAAoAEQAqAB8ABwARABUAEQAVAA4A+f/5/x8AJwAKAAAADgADAPb/+f/o/+H/AwAVAO//3f8AAAAA6//h/9L/z//r/xEACgDv//b//f/k/8T/xP/W/+H//f8DAOT/2f/v/+v/1v/h//b/7//W/8//yP+5/9b/4f/d/+v/9v/y/9L/xP+9/73/z//d/+//+f/5/+v/0v+y/6v/vf/S/+H/6P/k/93/3f/E/6v/uf/L/9n/4f/Z/8H/sv/I/+H/3f/B/73/xP+2/7b/wf/E/+H/AAD5/8//q/+2/73/xP/W/+//BwAAAN3/vf+5/9n//f8DAAcAAAD9//L/3f/Z/+T/AAAYABwAAwDo/9L/4f/y/wMAEQARAAMA6//o/+//8v/2/w4AHwAfAB8A+f/P/8T/4f/2/woAFQAHAAAA+f/2/9b/1v/9/woACgAYABgA9v/h/+H/5P/9/woAAAAHACMAHAD2/+j/5P/o//3/EQARAAMAAAD2//L/BwAVAAoA+f/5/wMABwADAPb/+f8AAPn/AwD9//L/AwAVAA4AAAAAAAAA8v/o//3/GAAYAA4AAAD5/+//9v/2//L/AAAHABgAHAAKAO//6P/5//3/BwARABEAAwD9/wMA/f8HAA4ADgAOAAoABwD9//3/BwAOABEAGAAVAAoABwAHAAcAAwADABUAFQAVACcAHwAVABgAGAAOABEAHAARAAoAFQAfABEA/f/9/wcAGAAfABEABwAYAB8ACgAAAPb/6//5/w4AAwD5/wcABwAAAPL/7//5/wMACgAKAA4ACgDy/+H/1v/o/xEAHAAVAA4AAAD5//3/AAD5//n/DgAfABgAAADv/+j/8v8AAAMABwAHAAAAAwAKABEAAwAAABEAHAAYAAcAAwD5/+///f8KAAoABwD9//b/AAARAP3/6P8AABwAFQADAPn/7//2/xEAGAAHAAAACgD5/+H/6P/y/wMAHAAjABgABwAAAP3/7//v/wAACgAcAB8AEQD9//3//f/y/wcAGAAVAAcAEQAYABwAGAAKAAMACgARAAoAEQAfACMAKgAfAAoAAwAYACoAHwARACMAKgAYAA4AEQAVABUAHwAYAA4AEQAVAAcA8v8AABgAHwAcABEACgAHAAMABwD9//L/AAAOAAAA9v8AAAAA8v/o/+j/5P/r/+//6//2//b/8v/r/+H/2f/d//b/AwD5/+j/6P/o/+j/6//v//n/CgAOAPn/8v/r/+v/8v/2//3//f/9//L/5P/r//n/EQADAPL/+f/9//b/8v/9//L/9v8RABUAAAD5/woABwD9/woADgAOABUAGAAOAAMACgADAPL/+f8KABEA/f/5/wMAAAADAAAA9v8DABgADgDy/+j/+f/9//n/AAAOABEAAADv/93/1v/o//b/9v/5//3/+f/k/8v/wf/P/+v/8v/v/+//6//h/9n/0v/Z/+H/5P/r/+T/0v/S/9L/0v/W/93/6P/r/+j/6P/k/+j/7//y/+v/7/8AAPn/6//h/+T/6//y//L/6//2/wAA/f/v/+v/6P/k/+//8v/y//b/8v/r/+j/6P/o/+//9v/5/+//6P/k/93/4f/o/+H/3f/y//3/6P/d/93/3f/k/+j/6P/r/+j/8v/5//b/6P/Z/9n/3f/v//b/9v/2//b/8v/v/+T/2f/o//L/+f/9/wAA9v/v/+//7//2/wMACgD5/+//4f/h/+v/8v/9/wcAFQARAPb/5P/o//L/AAAYACoAHAAVAAoA+f/9/xEAHwAfACMAHAAKAAMACgAOAA4AJwAxACMAFQARAA4AEQAjADEAKgAfAB8AHwARAA4AHwAqACoALgA1ACoAGAARABUAHAAxADgAIwAOAA4AEQAKABEAFQAYAB8AHwAcABUADgAcACcAIwAVAAoAEQAKAAcACgAVABwAHAAfABwAEQAHAAMAAAAHABUAFQAKAAMA/f/2//b//f8KABEADgAOAAMA7//o/+v/8v8AAAoACgAKAP3/6P/v//b//f8DAP3/AAD5/+j/5P/v//n/AAAKAAoA9v/r/93/3f/k//L/CgAKAP3/8v/v/+v/6//y//n/AwD9//n/8v/k/9n/4f/y/wAABwD2/+j/5P/o/+H/5P/y//b/9v/v/+T/5P/k//L/+f/9/wMAAAD5/+v/5P/v//3/+f/2//n//f/y/+j/7/8DAA4AAAD9//b/6//v/wAAAwD2//n/+f/v/+v/9v/r/+T/9v8AAP3/7//o/+j/8v/2//b/8v/v//b/9v/v//L//f8AAPn/9v/o/93/6P/y//b/AAADAPn/8v/r/+v/9v/9/wAAAwAKAAcA+f/v//b/CgAOAA4ABwAKAAcA/f/9//3/AwAKAAcA/f/y//L/+f8AAAoABwAKAAcA8v/r/+v//f8KAA4ABwAAAP3/8v/y//n/BwAVABgADgADAPn/8v8AAAcACgAKAAcAAwAAAPn/AAAAAAAABwADAAMA/f/5//3//f8DAAAA+f/y//b/9v/2//3//f/5//n//f/9//b/9v/5//b/+f/5/+v/6P/y//n/AAAAAPn/8v/y/+//6P/o//b/8v/r/+//8v/y/+j/8v/9//b/7//o/+T/3f/h/+//9v/2//b/9v/v/+v/8v8AAAMABwAHAAMA+f/5//3/AwAVAA4ACgAHAAAA/f/9/wcAEQAOAAcAAAD5//n/AAD5/wAACgADAPL/8v/9//3/AwAHAAcAAAD2/+j/5P/h/+T/7//y/+v/5P/d/9b/0v/Z/+j/6P/d/+H/2f/W/8//y//Z/+T/6//d/9L/z//S/9b/1v/d/+T/4f/S/8//z//d/+v/8v/y/+v/6P/Z/9b/3f/o//n/AwADAPb/7//k/+v/+f8DAAcAAwADAPb/7//y//b//f/9/wAA/f/5//n/+f/5/wMABwADAP3/8v/2//3/AAADAAMAAwD9//b/7//2/wMACgAKAAcABwADAP3/AwARABUAFQARAA4ABwAOABUAFQAcABgADgAOAA4ABwARAB8AHwAcABgAEQAKAAoAEQAcACMAKgAfAA4ABwAKABgAGAAYACoAJwAOAAcADgARABUAHwAfABUADgARABUAFQAcACMAIwAfABUACgAOABUAGAAfABwAEQAOABEAGAAYABgAHAAcABUADgARABEAFQAYABwAGAAVABUAFQAfACMAHAAYABgAGAAcABgAEQAYABwAHAAcABUAFQARABEAFQAcABwAFQARABEAEQARABEAGAAcABgAHAAcABgAFQAcAA4ADgAOAAoAEQAOAA4ACgAOAA4ADgAKAA4AEQARAA4AEQARAAcAAwAAAAcACgAOAAoADgAOAAcAAwAAAAcADgADAAMACgADAAAA/f/9/wAA+f8AAAMAAwAAAPn/9v/2//n/+f/5//n//f/9//n/9v/v//b/9v/2//L/9v/2//3/+f/5//3/+f/5//L/9v/5//L/+f8AAP3/9v/5//b/9v/9/wMAAAD5//b/8v/y//L/8v/5//n/+f/2/+v/6//v/+j/6//v/+v/6//r/+j/5P/d/+H/6P/k/+H/4f/h/9n/1v/d/9b/z//P/8v/z//L/8//z//L/8v/yP/E/8j/y//L/9L/0v/S/8v/z//S/8j/yP/L/8//0v/Z/9b/0v/Z/9b/0v/L/8v/y//P/9b/0v/W/9n/2f/P/8j/0v/Z/9n/1v/Z/9n/1v/Z/+H/3f/d/9n/4f/k/93/3f/d/+H/4f/k/+j/6P/v//L/7//y//b/9v/2//n/AAD9//b//f/9/wAABwAKAA4ADgAKAAcACgAVABEADgAVABgAEQAOABgAGAARABEAHwAcABUADgARAB8AHwAfAB8AHAAVAAoAEQAcABwAHAAfAB8AHAARABEAFQAYAB8AIwAjAB8AHAAcABgAGAAfABwAGAAjACcAIwAjACcAJwAnACcAJwAqAC4AKgAuADEANQA1ADgAPAA4ADUAPAA8AD8APwA/ADwAPAA8AD8APwA/ADwAPwBDADwAOAA1ADwAOAA1ADwAPAA/ADgANQA1ADUAOAA1ADgAOAA4ADUAOAA4ADUAOAA4ADgANQA1ADEALgAuACoALgAxADEALgAqACoAJwAnACcAIwAnACoAKgAnACMAHwAcABwAGAAVABwAGAAYABwAGAAOAAoADgAOABUAEQADAAcADgAHAAMACgAKAAMA/f/5//3/AwADAAAA/f/5/+//6//v//L/+f/5//L/7//r/+T/3f/d/+T/3f/k/+j/3f/W/9L/0v/P/8v/z//S/8v/xP/E/8H/yP/E/73/vf+5/7n/uf+2/7b/tv+2/7n/vf+5/7b/tv+y/7n/sv+v/7L/sv+y/7L/tv+y/7L/sv+v/7b/r/+v/7b/tv+v/6v/q/+y/7b/q/+v/7L/sv+r/6H/of+h/6T/r/+r/6j/qP+r/6H/nf+h/5b/lv+d/53/nf+d/6H/pP+h/6j/of+h/6H/nf+h/6T/q/+v/6v/pP+r/6T/qP+v/6v/sv+y/7n/vf+9/73/uf+9/8H/wf/E/8v/z//I/8v/y//I/8T/xP/I/8//1v/Z/93/2f/Z/9n/1v/W/9b/3f/k/+j/6P/o/+H/6P/o/+T/6//v/+//7//2//n/+f/9//3/BwAHAAoADgAKABEAEQARABEAGAAcABwAHwAjACcALgAuAC4ALgAuADUANQA4ADUANQA8AD8AQwA/AEMARwBHAEMAQwBDAEMARwA/AEcASgBDAEoATgBOAEoAQwA/AD8ARwBOAE4ASgBKAE4ASgBHAEoASgBHAEcARwBKAEoARwBKAFEATgBKAEoASgBKAE4ASgBOAFUATgBOAFUAVQBRAFUAVQBVAFEAUQBVAFUAVQBVAFUAVQBRAFgAXABYAFUAXABcAFwAXwBYAFUAVQBOAE4AUQBRAE4AUQBOAE4ATgBKAE4ATgBDAEMAPwA8AD8AQwBDADwAOAA4ADgALgAxADEALgA1ADUAMQAxACoAKgAqACcAKgAxADEALgAqACMAIwAjAB8AHAAVABwAGAAVABEADgARAA4ADgARAAoAAAD9/wAAAwD9//3//f/5//b/8v/y/+//7//y/+//6P/o/+T/3f/k/+j/5P/o/+j/5P/h/93/2f/Z/93/2f/S/9L/0v/S/8//z//S/9L/0v/S/8//z//L/8v/z//L/8v/y//I/8j/yP/I/8j/y//I/8j/xP/E/8H/vf+9/7n/uf+9/73/vf+9/7n/tv+v/7L/tv+v/7L/r/+r/6v/q/+r/6T/of+k/6j/qP+r/6v/qP+r/6j/qP+r/6j/pP+k/6j/pP+r/6j/qP+v/7L/r/+v/6v/qP+r/6v/r/+y/6//sv+9/7n/tv+9/7b/sv+y/7b/uf+2/7n/uf+9/73/wf/B/73/vf+9/8H/xP/E/8H/xP/L/8//xP/E/8j/yP/S/9b/0v/S/8v/z//P/8//y//S/9n/1v/W/9L/2f/d/93/3f/k/+j/4f/h/+H/4f/k/+T/4f/h/+H/6//r/+T/6//v/+//6//o/+//6//y//L/7//v//b/9v/y//b/+f/9//3//f/9/wAA/f/5//3/BwAHAAMABwAKAAoADgAOABEAFQAYABgAFQAcAB8AHAAYABUAHwAnAB8AHwAqAC4AIwAYACoANQAqACoAMQA4ADUAMQA1ADgAQwBDADgAQwBKADwANQBHAFUATgBHAEcATgBOAEoATgBRAFEASgBKAFEARwBDAE4AUQBKAEoATgBKAEcASgBOAEoARwA/AEMARwA/ADwAPwBHAD8APABDAE4AQwA8AEoATgBHAD8ARwBHAEMAQwBDAD8AQwBHAD8AQwBHAEcAQwBOAEoAPAA/AEcASgBKAEcAPwBKAFUAPAAxAE4ASgA4AEMAUQBHADgAPwBHAEMAPAA8AD8APAA/AEcAOAA1AEMARwA4ADgAQwA8ADgAMQA1ADwAMQAxADEANQA1AC4AKgAjADUAOAAjABgAMQA4ABgAEQAjACoAHAAHAAoAHwAqAAoAAAAfACcABwD2/xEAGAADAP3/AwADAAcADgD2/+//DgADAOH/8v8DAPL/3f/v/wAA6//W/+H/6//k/+H/0v/P/+T/9v/d/8H/4f/r/9L/y//S/+H/1v/S/+H/2f/E/8T/yP/d/+j/vf+9/9b/z//I/73/xP/P/8v/z//P/8H/y//E/8T/2f/E/8H/yP/I/9b/vf+y/8//yP+9/73/tv/B/8T/vf+y/7b/z/+5/6j/xP/E/6H/pP/E/73/nf+d/8j/sv+P/6j/xP+k/4j/wf+9/4j/kv+9/6T/i/+k/5n/nf+h/6H/kv+P/6j/iP+L/6v/kv95/5L/mf+P/5n/i/+W/5b/of+k/3L/nf+y/4j/kv+h/4v/j/+v/53/lv+o/6v/i/+r/8H/hP+r/9b/mf+W/8j/sv+k/6H/tv/P/6j/of+y/8v/vf+k/8T/y//E/7n/uf/P/9L/uf+2/8v/xP/P/8//y//Z/8v/0v/d/+T/xP/L/+T/9v/k/8T/9v/d/9n/AAAHAM//0v8nAAAAy//5/yMA6P8AABUA8v8KACoAIwDk/woAMQAxAAMA9v8/ACoAFQBDADEAEQBHADUALgBuAC4AEQBjAHwANQAqAGoAagBOAFUAgwBjACcAfwC/AEMALgC1AKcAUQBjAK4AdQBqALgAlQB8AIcAtQB/AIcA2ACcAFwAqgDRAJ8AygCjAHgAvwD8ALUAZwC4AM4AxwDHALEA0QC1AJEADgHxAE4AvAAOAbwAvADfAKoAnwARAfEAjgC/AAMBqgCjABUB6gCOAJUACgHqAJEAwwDjAKcAwwARAYMAuAAVAaoAhwDDAP8AlQCDANEAvwCfALgAowCfANUAkQCOAJUAqgCnAGcAvwCcAE4AhwDKAHgAMQCOAKMAcQA8AIcAgwBYAFwAUQB1AGMAWAA4AEcAWABYABwAJwB4ADgAAwAfAF8AKgAOABgACgARADgAHwC5/xgARwDS/+j/BwDW/+//3f/L/9n/6P/5/5b/qP8HANL/nf+W/8v/2f+y/5b/ff+2/8j/gf+B/8v/j/9Z/4T/yP/I/zn/Nv+v/93/T/85/1n/b//P/3n/Nv8o/4v/nf9W/0j/Qf+B/2T/T/9h/4H/L/8r/3b/a/9h/xb/Of9d/2H/cv8d/wT/ZP9y/13/Of/y/kT/kv9S/+/+JP9k/xb/L/99/zL/6P45/2//Qf8Z/x3/Of8v/0H/ZP82/+v+KP9v/zL/RP8v//b+Nv+Z/zb/5P55/0v/CP9Z/4//KP/y/oH/Pf8r/4v/T/8h/zL/mf9o/wT/Yf9Z/2v/dv8d/1n/b/9o/5n/KP8y/4j/hP+I/z3/ef9y/0//4f+E/yv/i/+B/6H/0v+W/0T/ef8KAPn/lv9B/6v/FQDr/73/i//S/+v//f/h/+H/FQDZ/+H/EQBKAOv/6/9YAP3/GABOADEA9v8jAIoARwDo/ycArgBcAC4ASgA1AGcAhwCKABgAHACuAJUAcQBfAFgAUQCYALwAfABcAFUA5wCfAE4ArgC8AI4AagDVAKoAowDYAG4AgwD8APEAZwCRAPgAxwC/AJwA0QDRAKcA6gCfALwA/wDqAE4AnABHAcMApwC1AL8AlQD8AP8AbgCHANEA/wCjAK4AowCqALEAwwDVAH8AxwCqAKoAygC4AJUAagDqALUAeACuAKcAlQCxAKoAdQC1AK4AgwCOAIoAfACjAJgAZwCYAJgATgB/ALEAQwCKAI4AEQBnALgAlQAOABwAagCOAIoAGAAOADwAhwBjAAoAAwBYAHwA6/8fAHEAHAD2/zwALgAfACcA/f8jAA4ALgAnAPn/CgD5//n/KgARANn/AAD2//b//f8HAN3/z//v/8v/3f8AAOj/kv/Z/+j/sv/S/8T/xP+k/3b/4f8xAET/T//5/8//iP92/6j/gf+2/+T/ff9P/6H/z/+Z/3n/gf+h/3n/of+y/2//lv+d/3n/iP+v/5L/S/99/8H/nf9k/3L/nf95/33/z/9o/yH/wf+y/z3/SP+2/5n/Nv9h/3L/r/99/yj/ZP+I/4T/b/9P/0j/i/+I/y//Uv+h/1n/Of99/4j/iP9E/zL/a/+d/6H/Pf8S/33/uf+E/0//Mv+B/6v/i/9Z/0H/qP+Z/0//cv+v/4//RP9v/7n/kv9Z/3n/i/+Z/6j/j/9k/3b/y/+r/2v/hP/B/4//aP/h/6//Xf+P/9L/3f+S/4//kv/L/xEAsv9E/8j/HADP/4//tv8DAM//xP/d/+//2f/L/+//+f/r/+H/9v/2/9n/GAAKAL3//f84ABEA4f/W/w4ASgARAOT/8v8OADwAKgAKAPb/AAA1AEoAEQAHAB8AHwAuAB8AKgAqAAoAJwBDADUAHwAVAC4AQwA/AC4AIwA8AF8AKgAVAFwAYwA8ADUAPABcAGcARwBcAF8AUQB4AF8AUQB4AF8AUQBVAG4AlQBuAE4AUQBxAJwAgwBHAD8AeAC4AHgAOABKAHwAnABKAEMAbgBxAFgATgBuAGcAVQBKAEoAZwBxADgAKgBRAFUATgA8ADEAMQBKADwAMQA/ACMAKgBVAEMALgA1AC4AVQBOACoAUQBKAFwAUQBDAF8AfACKAD8AVQCYAJ8AgwBYAFgApwDDAI4AeABxAI4ArgCxAJwAeABuAIoAxwCnAFUAZwCKALEAnABKAEoAigCHAGMAUQA8AF8AUQAxADwAPwA8ABgA/f8DACMACgDk/8j/3f/2/73/nf+y/6//of+k/2v/ZP+W/4T/b/9E/0T/cv9k/1n/Qf85/1b/a/9h/1b/SP9h/3n/ff+E/2//ff+Z/8T/qP+S/7L/tv/h/9L/vf/S/93/9v/o/+j//f8OAP3/6P8YAA4AAAADAAcAFQADAA4AAwAVADEABwAOADwAPwA/AGMAagB4AF8AZwC4ANUA/wDDALwAHwEjAWMBZwE/AXwBfwGOAbUBtQGYAXgBsQHqAcMBgwFqAY4BmAFuAT8BCgH1APEAzgCVAE4AEQDh/6T/ef9Z/xb/xP5r/k/+SP72/av9j/1v/S/96PyS/Jn8nfx2/Cv85Pvr++j74fuo+4T7cvsv+wH7BPsv+zL7/frr+iT7PfsS++H6QfvL+8j7xPud+7L7Ofxr/Nb8Of1S/bn9/f2L/mH/4f9YACMBPwJuA64DXwPDBNEGvwguCfgH3AjOCwMOFQ6qDTgOgxBcElgSrhKGEyYVnBbxFTUVlRUKFkoXOBcuFl8UwxG1EY4R5g+VDTwLnAqfCHUDi/7y/Oj+hP8d+a/w6+1y8MHxz+xk5ivlOuiL6O/iZN1L3hrjpOTv4P3c692E4cTiuuEv4nrlROgv6OTm1ujP7UHx+fHZ8b30Mved9+T3XflP/+oCKgBI/Kj6xP5jBSoGlQIy/Vn7nACVAyMC5P12+gv+owFZ/8j6FvmL/bECuAES/e/6q/5DBLgG9QXVBJ8Gygl/DWoPFRDcEpwVXBkfG1EbzR5NIqYlTSiYKPUpHywKLvwwKjLYMo0xjS6DMK0zgzQfL8YmxiNYJTgo1ST4GrEROAzOC9gLtQb9/cj0ku/h7qTthOiW3+TY6Ni92wjaJNL2yuzKYdEP1XrQZMovytrPttVv1mjUiNYP2yHf4eEI5H3nz+p67rLy0vdk++/6wfnZ/ecFSgu/CVUDUQLqCKoOag1DBlwBtQUDCwMIWACB+qj82AGuAGH6dvSd9ET5kvq29zn0D/TB94H6b/uI+/37ff4DA6MHowm/CbgKThA/GJ8d8R3KGxwegyYjMEozVDAjLqYz2DzjQe0+lDjtOBQ/ZkT0Qg09eDcUM+otMSzjLxgy5ijKEfb/0QPKE44VyPwI3t3XsurB9cHiNsTsu2TOtt1T0fa1OqwTvI/ORMzIuo+ynbuayEHLfccIyczQltXW1HPWhN/y6XLsAery7P34CgL9/5b5tvu1CgoVYxDYBE4BDgyuFjUT6gY8AFEEwwm4BSH87/cZ+wT8XfRB60HqRPBB8oHrAeOL4ojpJO3k6tLnT+nr7kjyqPNr9t36T/6cAAoFjguGESYTeBQqGiYiKik4KvwrsTEYNy08cT3RP3hDDUIGQptEikh4TDFGPzxmNpgx4zIYNwY3Qy7uF4MAuf2mDm4aXwjd4JrLq9pd8rLrnccBr1O85NfL16y4AaAFq5PIqNE9v+WsLLE6w+zLz8gayj3U9tqk1oTSKN+o9Jn9IfRr68j2fwy1FKMIaP4jCXwefyQmFV8Gpwo8HI0iDhU1BaMDVQsVDcoDnfj296/7vfcv7bbmT+pa713rluFo3a/iT+na6G/ki+Qv69LwcvGr8WT3hwHVBt8EdQYYEd8bYx4uG6MffC7/OQo55jHtM01ETVVCVE1HGEJxS/tZn1yfVP9Opk6NSwM+vzEmNy1IJkyKLycCK+/RByMqqiTZ8WXDhcVE6mj6Wtrereim+sU22/PG96FwmHqyhMssxp6xLKuIt6XCrMF9w4HTS+Jv3PPKDMza6mMKEQq28LbktvscHJUiAw4r/gcLUSVULOYZTgdxCbUaQyIjFacCWf1OBNgHEQBL9CTwS/Gv7FrjaODP5kjqM+Hd0wHSOt8o7C/p2tr21VLkaPey+5LySO+S+9gMfxLYDGoLfBcVKBQwdC2cKkYyzT70RkJJgkn7T0JXUVUKU5FTqVnJYUZfBldUT5tI4z3jMwo3JkVGTPgwCPx93ZnyQyN8LET2xbTTpaHOj/Ho3TatbJc+rfPGGr0lnr6Td6qBwA+6Bahzpxa6NsXTvEW5zMyk6XbumtU6xnrctQnjHwMNy/Cv8JEOAyhmJ18XzhHmHBwmfyDDFs4VPx2KHAMNZwBVAx8NMQgZ+dLlEuUP81bzq+Sz04TXi+Ph5RrZvc5a0qjgZOoW40Tby96P7tb5CPvo9hL57gluF1wVfA+DF7gq/DYqOIoyyjE7P21RCVg0T7RLW1RtX+ZkW2DfWpFbSV/7XZhZMVVxR40y1SgfMzhIW0m1H8TlyM9v8mMfFRqa4faqD6Row6jV88S+rEGoHrFvrF6a5ZFspCXAIcFTqPqXQakdx5rR6MYlvtbLhOTk78/peuTI7Yv/wwuRDkMQihX4GOYUAxHKGQMr/DKKKOoTgwe1DV8b4x1/EIoAy/gh+Cv4SPPL7FrnSOII3bPYQdm93DbbqNOBzC/Pc9yk5YTjSNsP2drjEvTB/8cBUv8/AOoGkREfHOomcS5ULx8tjS3tOltOiVdCU5hLRk30Wu1p/2oRYlRcwl7GZfBnm2FbWXFLPzUcJmYr20M/UmM16/m6zprV0v9RFlL7JMhFqq+uDLrTtLqp5az9uH625ZxXhpqN76rsvmW3uqWIpMG2jMi2yrrEdsdP1+/nQfId+Hn8r/4E/Z3/fA14IpEvJituHN8S2BXRIIorhi9UK7EeKg54AYT/UQiRD0MKKPmE6BPjBOVE5CHdgdVa1FbYyNqd1hPPvcnWyuTSIdyv5NbpxOko5k/k8uyE/6MQcRamEjUPkRa/JREyAzg7OWo8akVNTxRVW1d/WSldEWH0Y7hmP2m7am1q0GWYXalWrU9fQQoy9CvfMr8+XzQuEmvtutzv5hLxWul60sHAVr4dvWyvLJuIlqWiIa9Fqw+dl5c3oCyr86klovqiM7XkylPWM9WBzkjQyNka6M/37gVRDz8QEQ5xDm4Vox8KJ2Mq3yp8LBwsiihGJBghVR/xGS4TLg7fCqcH/f798xbrweY96Ivmy93T04HPmtEW03rQM82TzGzOKNJz1RrZPd5B4z3n6Ora7x35agbmDsYSLhX4GnglwyzYMhE540AmShtTf1j4V2JZFF6tZYZqH2rGaptrRm2Ya79jWFqNT59A+DMKLngvwzXxLUMVAfiW6DbsSO594IjFYbThtXO+L7yBq7eeGp3XofefIZeslTqhc68Ms1Ot76pFtY/EGs6I0WjTi9v255L1rgBfBnwNBhL1FCYX/yCKK8opfy08MAoxdDK4MB8u2CXDIFEbphEODsMNhwy4BUH4i+p64pLkkuTz24zSzMzzyiHNc9FTzgzIU8e2y8jP7NOr2Vrcnd8W5Tbtgfa/AOMJyg6OErgXQyAcKTg02DtRPu1CP0ntUXhYKV9YY5hlZmm4aIJmpmPQZVRqjWhUYcJPWDoUL5wssS6mKxwckQl9/GT5b/cd67rUFr+MtUi1/rSlq7ehnp9oomGkU59smfqal6FhpNqiL6NsrH27HcdEzYzQ79eP4l3sSPJh+JUB6goOFdUZtR1fJYMtxjLqMQ0woy/0MaM0/zOxLu0kZhx/F/8TtRCDC+MC9vh27t3muuKh3iTZBNN2z8zMhMrIyRPJbMaMw2/EpMgozv3RD9Q22KHeCOgW8+T6/ADYB4MP9RcqHoYhxiYqLxs5TUOGS4pQrVKNVbRbhmL7Z8JpqWZ0YqJewl1pXqJbzVAtP8Mx5ivYK6MmphbDBBL5PfcL9TLqs9e6yOjB9ryhtaynCJ9Pn6ihGqGFnAiejKVFrC+s4ajaqt60vcFox4jHhMoW1sTlT/ES+Fn+WAd8Ej8bDR8tI5EpPC8YMmYyTTFYMrQ1PDY/MzguWClmJbwgoxnGEZEJvwFv+wjzb+pd4+veZNwI2YHUKM9Iy4/J1sosy+TJ2sgWyMjJuswa0nbZOuFB6QjwL/ZS/uoGzg1GFfEbuCAfJkYtXzVKPSNEmEmYTR9RUVbNWvtdjWCbYThhuF7fW9tXAlO4Svg9wzJDKw0nTR/cEX8F4f6d/Jb3z+ua3JPRk8xPyM++7LH6qVeoz6gBpyijPqKvp2iuFrBesDq0M73PxqjLhMyzz9rYkuTh7bnyffinARgMgxTKGdEeDSXmK2YvKjB/MEYyNDTGMZ8tLSlDJrgkSiDfGHERQwxDCHUDcvxZ9FrttuiL5VrhU9w22LPVs9M20sHRaNKd09PT6NOd1SHaWuBy5ajo6OwP88T6BwPVCIYO4xbGIO0nCizNL5Q0SjvNQftGIkutTWpPwlEiVF9WYla7U1tQxkvtRVg/0Tg0M4otvyXcGkYPXAbYAM/7OfPr54/dz9fE1K/OHcXBvIi4erbFs7quvqpsqzqvE7NatAi2Wro6wOzG/coIz33VM9495QvpXe2r9DUAOAJZ/1UAy/8cAO//AwADAPb/CgDy/w4A8v8KAPb/BwD5/wAA/f/9/wAA/f8AAP3/AAD9/wAA/f8AAAAA/f/9/wAAAAAAAP3//f/9/wAA/f/9//3/AAD9//3//f/9//3/AAAAAAAA/f8AAAAAAAD9/wAAAAAAAP3/AAAAAP3//f8AAAAAAAAAAAAAAAAAAP3/AAAAAAAAAAD9/wAA/f8AAAAAAAAAAP3//f8AAP3/AAAAAP3//f8AAP3//f8AAAAA/f/9/wAA/f/9//3/AAAAAP3/AAAAAP3//f8AAP3/AAD9/wAA/f8AAAAA/f8AAAAAAAAAAAAA/f8AAAAA/f8AAAAA/f/9//3/AAD9//3/AAAAAP3//f/9//3//f/9//3//f8AAP3/AAD9//3/AAD9/wAA/f/9/wAA/f8AAP3/AAD9//3/AAAAAP3/AAAAAP3/AAAAAAAA/f8AAAAA/f8AAAAAAAD9//3/AAD9/wAA/f/9//3//f8AAP3/AAAAAP3/AAAAAP3/AAD9//3//f/9/wAA/f8AAP3//f8AAP3//f/9/wAAAAD9//3/AAD9/wAAAAAAAAAA/f/9//3//f/9//3/AAD9/wAAAAD9/wAAAAAAAAAA/f/9/wAAAAAAAAAA/f/9//3/AAD9//3//f/9/wAAAAD9/wAAAAD9/wAAAAD9/wAA/f8AAAAA/f/9//3//f/9/wAAAAAAAP3//f8AAP3//f8AAP3//f/9/wAA/f/9/wAA/f8AAP3//f8AAAAA/f8AAP3//f8AAP3/AAD9/wAA+f8AAP3/AAD9/wAAAAD9/wMA9v8KAO//EQDr/xEA6/8OAPb/AAAOANb/TgBL/+oF7gzmDuoUKhyjIvUkiiQGJY0nTSoYKvwmyiO/IJEdZhrjFRgS/A1fCDwCMvxd92/0ZPF67bboXeRE44TjmuLh35bd3d1L4L3iVuO94kHiSOR26WTvq/Wk+18APwWRCn8Rphk1ISMnAyuDLzE15jq4PzhDLUb7R8ZIqki/R+ZGu0TRQE08zTfYM3wuQyaqHUYXKhI1DAMFvf1W93bxuutP5M/aGtIozCTIOsMovcy3CLVPtDOzaLFzsWy0WrgsvLO+1sDTxBbKM9Ak1nPbmuE96E/u2fOP+uoBrgdjC98NjhFYFlEa/BuRG44bsRw4Hq0ecRxcGXwXtRZjFXES/w78C1wJBwajAbn9WfsP+Y/1XfKk8LrwUvGE8OTtT+sd68TtwfG982T0KPZd+UT9PAH1BW4LdRAcFI4Y0R5mJbwqdC4UMqo1WDnDPLQ+fz+jPl88jTqDOdg39DPjLeYnbSJDHdwYoxPODTEIvwRqAXn6r/GL6HriU9+z20vWwc6kyMzEqMHsvkW81rlBuPa4s7qTvHa+87+lwkXG78oP0ZPX/dxL4S/mROzW8oT4xPz9/5gDNQiYDLUPHxGKEQoTERZYGK4Y4xdmF7UXOBh8GKYXwxXfE5gS4xE4Ec4PlQ2OCnwHuAXYBOcDfwFd/mv8Ofwo/jgAFQFYAeoBOAMuBcMI8Qw/DyoQoxJjF5wcGCFYJOYmMSk4LGYw2DOKNVE1GDNKMF8vHC+/LcMpcSMcHrgZPBY8Ev8MLgi4BOoBtv1I+GHyqO1B6oHmVuFh2w/WRNFPzYjKDMiPxe/DNsOPw8zEPcUIxTPGAckozVbSyNaI2oveeuLv5hrsSPGP9c/4IfuP/fEARwQcB1UICgkjCtEL0Q3YDlUP1Q8VEY4RsRE4Ek4SahLDEd8RHBIKEYYPIw4uDR8MHAuKCZwHQwYVByMJOAr8CcMJRwqYC5gNXA98Ed8SoxQGF7EZAx1xIMoivCMYJhEp1CtNLnwv/y4RLrgsnCpGKVwnhiO1Hf8XOBRxEDEL7gQo/2/7i/k594Tyduxr6FrmiONW3z3a6NSa0A/ORMx9yoTIaMbIxFrEQcadyP3JL8szzUzR3daI3BrgiOJ95QjpXe3B8fb1qPhB+mv7K/0DABwDXwQ4A2MCvwLuBJwGSgbDBBEEXwXYBn8HUQfcBq4F2AX4B4cJsQg4BpEEGAR1BFgEWARnBEcF4wd/Ck4Mvwz/DBUP1RLOFU4Y/BmfGjgclR4mIeYj2CXxJrgovCv0Lgox1DEqMbwwgy9ULDgo6iN/IDgb9RTKDxEMHAj4AaH6r/Ny78/s6+n65PPeCNph18HWrNR60BbMncnWyTbKDMnMxvPEfcUPyJrLs85B0dbUa9kW393kT+nS7EjwYfSB+PL79v6fAf8DNQW4BUMGcQdjCEoHHAV/Aj8B/wDd/939pPt9+vb6RP2S/kv9S/vW+kj8b/4HAIH/BP7d/EH9D/5o/44A+AD4AuoFnwpmDiMSXxZYGNwbiiBcIg0jgyXDKAMsfC9tM/w0lDXROL87Az6fP0pAmEAKQGM+CjkNMWMqwyW/H8oVIwtxA6j/SPzE9TLtAeco5X3kS+Gz2nbTes69zf3NKMvvxajBXcGvw7bFTMYWx5bKAdE619PbM+BI5YvrIfGh9KT3vfufAOoEHwdDB2oI/wu8D38Q0Q2VCv8IeAm/CDUExP3o+FL3ufYB9Mjuz+lE6D3qVuy27Dbs8utL7UjwYfOy9K/zmfLv81L4lvyZ/tb/SgLYB3EPGBaOGs0e6iE/JU0sPDQDOC03/zZGO1hBzUSYRe1FH0gtTO1PX1E/UUJPlEsRRLE2kSmmIEMbjhB9/gHumudd6qjpj+B60+TMb8+s0/rR88dzvLa2+rjFvH27aLQsr8izKL9syY/OfdJr2TrjXew982H4Ifzk/iMAvwFRBHgHsQrDDOMM2AunDWMT4xc8FScNUQbVA9wCy/wE72/gHdn912vXndPPzmHNxNHT2s/iVuaL5a/kxOcv7e/vC+0r6G/ncu159sj+kQROCTUQhhmtJOYtrTI4M2YzqjbKO80/UT/bPCM91EIfTPhTO1eYVqlXJluRXmZdbVVmR8YwNRrHDJ8ItQI28Eja+tA226jpkukd2gTKKMc6zhPSj8e+sdefd55oqgi2obf6sqy2bMdP3CjqIe+d8ATyAfTB9b333fjB96H1vfVk+y4GwxHjGFUZXBXGE0oYoxzDFTgCj+3k4/bk8uW23iHRAcj2y5raz+Zh5iHeetqr4LrpJO1I6Ojek9kk3jbsj/oo/wj9AABqDxUjNC2xKUMhZh6GI3wsMTJxMqMupi5qOWpMzVjiVh9RX1IRXThmhmbYXfFSsUu/S8JRxlEtQcYf5weYCdwY9RfP+oHbpNPy5dn1RO19z6+0OrIawuHOKMUvrWGfGquTxOzUwdOsy4TNodj95EHry+tr6svnT+e268T2nAM8C3EKTgajCK4UYyIGI5UR3foZ8yv9PwicARLrAdn62qHshPi68P3ar8x90eTgYejE3d3NL8mv1Z3oq/RW9avvHfAI/DwO8Rd8E/gInwVYDk4bHyPcIFgbfxscJuY1RkNYR4NAjTp7Pu1M7VXqTxFEvz8GSlhacWPUXvRTuE2xU3RetFxRQDwRT/NE9/UL3wry6bPIKMhS6L8AhPU2zq+t5atWvkHIjLbBmHqNJaK6w0HX1tWvz+zTZN4E5bbky+MT40HfRNpL3VLuuAQmEoMOcQMKAlUQeB/xGS/9a94k2EvraP7Z+Ovf4c2W1WjvMv0L7f3LBbn6wQjYyOFr19bJz8ua4SH9lQyxB0H4q/Ho/OoOzhPHCOv8GAAfEiYmhjAqLtwlaiGxJz802Dw0OaMt5iZULZRAH1D7UtRLOEeRUP9gsGrxYLhKxjsDQdRQJlENL+j9kugI/fgeoxwW8S/ICMs68McDMufIr8yRnqBTwi/Oj7denAif2sCo4GjkqNK6x93OM9ma2AHU09pW6Xrw6+vo6wj+ShgmIvUPVvSS7Nb/RhXODwHv9tPv2z3+/BRcBVPfIcjo0trs4fK62Tq5erLTyt3qXfYW6qjb69028VwEYwi9+2Ht9u5cArUYyiBcGyoUFRajIDwrfC2cI64VLhBmG+YvmEHfRJs7/zXDPJRP6VvNVC1BwzbRQUZarWowZF9UKk2pVx9mRl4fLw/2a+Cy9wobbhXv6yzNVttVAx8PeuiIrSyROqDvvq/Eeqyhmq+rdtNP7Bblj9Bvy4/TjNOIyIjHhN029/n9z/R59eMN8Sk4KVwGAeP64B3/7hfnDHLrltwW9MMXgx5B/hrXhca60KviT+OE0eXALMUP3hb5WAA58/bha9w958/3nwL5/VLzlvTHCaMkYy5xIrwNXwd/ETwhGCSVGC4OLg/GIUY4I0RbQHw0iizUMN8+GEp/RgM+nz7/SylkyW6fZ1FVpkfKS2ZVWE8qJXn1sugxByov5ipZ/UTUZNfv+NUBfdbzlwGAr5/Izg/YYboapPa089Q93XPISLKeteHD9sa6wvbPBPO8DOMFiOrL46j/GB6cFX3pYc+W564ZvC+1Ex3rweL9+1wRFQSL4V3L7NA25AHuQeiT2wHVQdZI2qHfveNB40Tdb9rP4kv4kQzVDDb/j/ZKAJwTOBqHDbb9ZP+REnUmuChfGzwRvBI4HjEntSnKK/Et6i+jMtQ4ez/xQ+NBVD3/PyJN6Vt0X9FXX00bUI1Xv1eUQFwR6/Sv+rwYyiqRFUTvE91P7EcBQfWowQyTzJDTttrV3c2PsiiqT79T0FbMJbrzsvO74cATwwjMS+f8Aj8EPe523ZbteA2qFev5vd0y6sYUVDAfIcH8Pe6k/PEMPAZS7kvhr+bE84T21uvB4ove69sW1WHSltld5CjpZOKL4UjvCgInBz35cuva7p8B5g5YDJwDrgRYE9whRiPKGCMOHw3KEooYxh+KKLwy7TYjNGo0FDhYP5tAqjhRN8pBTVNiYPRfH1ZKT+ZRlFSGUJ812AtW+p8G/CUxNSobkvQB4gHvUQF971q8vpfeoY/LgeIh0ky2Oq9WvcHCerzssx63fcAFv+zCqNXS8+T/j+vk07PWEveVDsoF9u828OcN3yZVIzgMZPz8AV8J0QXv/6oBowp4CWj9EvM99O/1neYM0zPNZN/E9Fb0suVz3PbmIfYy9vLnK93P5YH4ZwP4AvL/RwK1B78IAwlfC7ENsQyqCQMPkRwfK58uXCiqJYMrDTaUOJgyeDDbObFGyk9UUvtR8VUiVspQikvKR7tIxkQ4LOMUnBGVIPQzrSd1BfLu+u/k/Tn3hNSotnq4ls+k2w/NM7gIspq5FroFsKGsAbNzvci6SLahw8/a/eeT2xPLVtC66sj+T/p67v3zRwtDGxEWCgf1BLUOVRaOFcMTbhpVIG0d/BF1C6MMlQjZ+J3nWuY99Nn/nfjP6h3na+358cHnNtk61A/ab+MB6gjs9uvL7Ojslu0o8Ej0QfZE9Kjz/fvOCfETNRiOFf8WHB4qJootSix0LPQxMTmtQ9tLBlAfUn9SMVTfVylX0VPtTk1Ko0Y7OgMwVSq/KP8sPyR1Fs4K7gKZ/4jxYd0Tz/PL086aykzAj7qBuha7trIvpuWkPqlorRqq16WhsSXDZMzMyXPFIczh2C/fOt0P3qjpz/mcAhwDSgbmEc4bFRz/Fy4Ywx/DJLEgtRpcGTUegyBGGT8RSg4YDxUQQws4AyH98veB8g/tXeg25T3kT+Tk413kyORW4qTfT95z3rbguuGy413pEvB59aH4BP3uAb8G1Qu4EL8Xihw8H98jYyvDNYY8ND3GPc1CtEp/UIpQn0xfSxFOqlAfUf9NUUX0OPExsS+fL3wu5iD/EKMJigmfCRn99ueP2N3Vndjo1YzLxcC6uzq6gbeItP61pbXhsfaur7Asu4XDvcJzvVq8zMWP0/Pb1tsz2x3ib+6Z+av/owB1AREEHwgVDl8UuBlVHEYdHB2YH5wgZh0mGsYUYxOmE9wTWBNYDTwIQwSOALL8mfgS9AvwaO0W6x3q5Och5gvlXeQP5L3k7+cE6iTsS+5I8aT0ZPmo/bL7L/21Ag4J3xDcEjgWQx7xIe0qijT4MJg0mzt4O7tAZkHfP80/A0L0Rbs/1Dv4Ooo1ajHcLTwpZijRI0oZ+BDVCccI/AOr9qTreuYE58vniOJI11rRJNLaz9PJKMX6wcjBusNowi/ELMmzyyTLhMg6yqzRyNkv28jaiODk6Hby/ff99XL3j/58A+oH9QnnCrwO/xEOE1wTvxU/FfET5hL1D1UQDhG8D1wLVQbKAzgC4wDP/UT6/fXZ84/2efWd84/viO427hrwOvG67OTviO+29n3z1vgI/T34bgU9/hwIIwz4CfEbrhSxFFUj+CExIx8vGCrYKzg1XDbUNjgwTTtGMmozCkAmMCY4Ci/NKTEuiiQYJXwfhhl4FfEVQw6HCkoHy/xP+YvyyO9E6KjlC+Gr19PdaNkE1eTUiMw9znrNxMkEywHJb8wBzbbPQdMo0+TbxNpo2tbgK+Pd6Yvva/DB81L67/3OAUcCHATVARwCnwlfBlUNAw0xCFEMPwkuCjwIPAbOAuoAZwBDAGMBOfwP+2j2lvOv8p32tvOk8jbtRN/r+Xb1T/c4AYHqCPUo8UjyaPu9+iT/gwvqCgMKWBNRC4oNnw6qGnUd8RmqH5wkpiejJqMnzSb4LIop/C+RMpwq3C+jLx8pvyw4Ld8pbSQqHBwdDhsVHRUXMQ9fDrEISgejAdL3j/PI7f3nluWy5KHjvd/T2xbU09Q21T3PaNBdzt3Jus6I1F3R/dWo0sjPgdea28vhhOG94X3lNu5B8jbzBPh9+rL8Vv5HAM//PwM4BFUD9QQDBVgLIwzuB5wFfwWVAgMArgJh/hb/5PzZ+kH7cvuh+Fn2tvIa8Lb07/Ik+A/zq/S29QT17/cr90j7SPKS+c4BJPgjB3gLz/x8BUYQ3BEjCMMSChMGEHUeuBo/G80k4x+VHcorYyKcJmoleCjfMOonCjeVKSolHDCcJ0ooUSA1I0MnUR7cHY4aAxQcE2YSRwfDBvUF/wD2/7L1nfUh8BruC+vP4kHoC+Fr4M/gyNoW4Dre6Nsh3GHcj+A63AjgK+WS40HreucS6Hb0GvCa7cv3K/TE90H/lvn5+8/7BwAy/sH4q/19+ZwBvwCk/OoA0vcr/bn6a/TE9Xn3xO+L9Yj7Aesd953zCOh99JLpMuSE+j3nuu0S+I/sxPkh6S4Dfex96YYOj+ir+6MLEvwcBS4Q3wQcDmoPbgdmFnwN6h3qHk0gESEGHhguPBKGK3wpERURLwMpoxzYJ9Q6zg2fKgYqnwxDLyoVhhifF60dbhF4Edga1QBfGrgKEv1HCeMCsQCjAo/+KPsuBM/3i/UjBJb4Gu0fBQj5lu3HAS/5EvGy+BEB8vGv+6j5hPR/AfL2Ofyo96/63fhB/H37tvU4AhbyUvSL/f30iPSo+0TxHfAr+vbp9u9k78vluuky5UvvweMW5Bru89ZS5gvoXdlo5ijaT+IE76/Xi+v66dbcYel253ru/dpd8Sv+uuMZ+SoChPIHBej4cQCfCvnyERkVBGoFHxWxE3wNrg5jI9wEGCB8FVUNeCd/DUYWaiVYDNwU0R4DALEexhMRCVwgXAEDG9wKFQw/FI/4wx1DAVgLPBPE984asQ6h+c4Wnw29+O0dZwxZ/sYU1Rj9/6MJMShW9+YUcReOAmMcyP9fGHgN+AFDJIMEWAM/HOMFXwNVDM4H+AS5+/gN6gAE66cLXwUo5l38iP166a/2neyI78TnkuvL7DbgVu7932TtvdyL41rtdtbo6VPhqN9z4o/nFueE0cT4y+lBx9EI6N+I2KoH6NsI6eT4tumZ+GHqwfE8CEHc5wSZ/vbkHA6I7Xb+vft2+b8CNvUjA2H7KgCS+dUHMQL58i4E7/6v/4T/1Qvy/kv9hwuYCmoFPfl/HOcF0vmcHB8G1QquDXwW0QvHCoYjof+KE9UnOAajElgihwsOGUYh3AzYIfUYKhV4Ez8YVShOB+0eQxnVDL8hLhCxGwcFSgw1IqH/HwhRE/UMEQEDCC4Lnf4fA2oEMQko7gH+AxH96fn3Tg525GH4IxHd3Mj8T/9a6eH87/Wh89L2YeoP9WcEHeEP/kj5gefv+Pb4BPJ64L8Jb+4B3VUMtvR93m4LSOfo2QYZM9xL8pEAltoB/kv0xO8I4QoA7/Ko3m4M7+Va7lL+FuXh+s/+tuSI/A/9+uS8BYj/3esI8SYST/O96+YhM91P/bgahPBfDOoDtv9KBjgOK/+1CEcNUQ5GEMcDihmxB64JoxV/FJUMrgvDI2MN6/zxIVwcy/LKG6YbfwPGE+oOKhl9/hgHuCRy/ET/6imI/bL9HxgB+7gWHANW/xgXkvT1Dn8PL/MfEdEEUvvuEkoAiPZ/F6v34f2xFFrvKgso/DEFaP/k8D8TBPIh+h8HefZS8W4LXf0L6twC7/cv+F3tighS8Lbsxwkr598FAeuS9WT5r/IL+UvqfwNE5335AfWo7Mv41v6L7BrrOAOS5Tb+Qf1W5OH7z/Rv94oGaNx9/XgH+uqnBE/z8vdh/5b8vf7E7V8HDg+P8lwCJP3fBBUJkvch+dwYEQKy7IYZhPbOAU4Zlvho9u4ZfAC5+pgVUvscAM4NKheB5iMFOCVP7woBNRKjBFgFRPv/EDUN0ubcIVUHz+PjH1EK8uc4F/wRQeIDEZwbL+KnAYMob+dL/bwN6/qmDu/ozgh4Dp3tJwVuDwT03fnDC8j2/AAh/wH6a/1fDQvt2fMDILPgUvo/D93j/Au4AQHoLgyo+pbteAg9/d3qHfE8EKHyaOH/G1n6qNYYBvgW6OBI4b8ZqPca5iME/AEr7RbzcQ29+6HoYfljD7rti/MKCyvxFvqE/o4HNu+k+84D+fUnBmH6bgFk9VULjgak7q4Gxhdh5+jyTS9h6Hb21SDuACTwGBD/GP3rfwWGGy/wAfq0Kl31i/hYGhn76/4/BU4Py/7r9S4cgwlv6soQEQSd7A4XSgSv6qcG6hEnCT3rwwGuCt3wFRLHBAvt5wN/DNb7xPwy+W4HOAII54Yiq/xo3fESWAvL9Sj4vAy98ij6oxOo8y/vwxU1Br3vnAJB9uT7AwVVCbrvlutDIk4Btuzh/Q/6pP4DB2H8sugcAvUKD/098ZL+pwWnAO/89v0r/6Tz/AuqBK/pWfJcFkv+FukuEx8AD+hcD6YUqObk/vwTAf/W/HwJRwey8/EIvxIk/vb4zgfYE6H+qP+8Dl8C4wFnDIYOa/41A18G3wvOCCv+IwqHABgK1QrDC6oAufnmDpEHYwURACcCVQoYCUoD2f8DAMMBhwsKBwj4ZwB/C3UCkv+4Ax3/owFVCCT8DgIfCcoAL/2W+58EfwDnBuoB2fO1DVEFxP39+J3/nw4o8n8AcQ2y+VLz+Al/CRbwyPnRCvn8tvVYBLUCpPp29QcEC/6k9KH9Fv9981L4GAxv/SvsxP1jBkjz4wII+jLvnf5nBlEDD/Ak9jgDLgUI/S4AHeyW+OoTyPqk97L31QVjBcj7sQAI973+6gZo/kj5b/+4AjgJ2ABI9Mj86gMcCooBxPEv+tEJLghYA8v6z/UjBgoMMv5k9OT2CgS8BJb/gwRS+QH/ag5S+f348QVHA6oGHfxd+z8F/wfuCQT57/vVCvgERPqI/TwA8v3HB3gGT/+2+gcHfAJW+fL96/snAxED+frh+tUDGABRAuT4CPd5/bn6wwBv/P3+RPe5+soAkvn2+Dn9Evpo7yv65wVuAAj41vl9+E/9aP0I+8H8xPTd+WMHRwiP8j3zZwNHAzwAnfiv+GMB/wjZ/z36nwBk/Ej8OAjjAJ3zowJKC3gGj/xP+9EBlv+HBQAAgff/BDgHQwUnBUMBKgKI96v6TgiqBtb+bgKDBc//zgC4BucFqPhS/WoELgInBUoKrgaE/bEB6gIDBscDcQBYBMcAuAYKCZwDpwfqBNUE9QEOASoKNv64AuoGufyYCHwL6P8I/+cJpwYL/Zn98QIKAkcCVQhB/nEAOAduA6cC0v7YAs4Aufeo/TUC+f/fCAMCT/lRAWoEvAQfAdb8D/wP/zgADgKh//n+/AMcAvUAQwJo+4H6EQIZ/T3+JwKB/0v/nAJnAnn7BP2k/gj+dQB1ATn9/fzI/qv/TgBk/SH+UQAP/nn7FQDE/D37/ALuBc/+SgHZ//L8+Afh/h37yPwqAEcD7gGnBI4Bnf2B/ioDGAJKAdb/Nv9d/HUDJwqnBLEBbgLOAfUAigWZ/z3/igGnA64FXwJjA5wEnwMRAooCqP52/goCVQOuAAoCmAE8AAcFmAV8AM/9gf9r+r3/TgKqAJ8BMv3xAjUDHAD9/NL57/nL/pUB9v52//L90vxB/24B9ve2944AIfxP/X8E8v8S/WH77/tr/q/6K/ov/Vb/svwxAcoAlvsv/c/+gf29+9L8K/ur/dn8q/x2/+cBGf9L+TwAaP6L+3361vkd/YT+rgUuBEH9Yfn5/7L+Vvev/Ln5of7HBqT/ff3W/icAgwCB/Av9CPwh/6oD4f+y/R3+tQFcAX3/8v0P/Nn+nf9/AfgAowDqAEoAigMv/2v+1v8d/lL+gf+jAJ8BeALB/ZUCjgOr/j8BzgCL/J3+eARDApwCPAGS/UMClQLE/n386PtKBOoCbgGYAZb/igLy/t8A1v19/Ij+yP88Aa///wFHAu4AuACS/5390v05++T9dQDW/m4AjgBL/9n/wf/o/139JPvd/cv+j/52/M4A0v5B/jgBT/2S/sH+tvt9+53/y/yW/Cj+Yf8S/Rb+EQOW/d3+mf6r/Ov/z/7W+n39i/52/4MCLgBk/vn/QwJk/lb+aP1B/d8BjgF5/sj+IwNRAZgBygO4AVb/TgCxAQT/TgC4AVwCnwNVA64CnAPVA9wC1QJRAj8CVQIfBrEE5wHxA7wEOAXRBGcDFQPOBdgEFQLfArgDuAF1BJUEOAOfA5UCPwTjAHwDkQRVAYoC8QH4APUBDgIuAvwBgwFfA2oBFQGy/w/+aP+1APEAvwAxAd8ALgIRAFn+CP9h/s/+ygAZ/939nf+o/oj/If/d/Ov+RwBZ/Sv9If6k/Pb9Hf4v/dL+vf2r/zUAefto/cv+L/yd+xn+lvx2+9n+KP6P/Tn/5P+P+4H8xP3S+mT8Uv1k/Gv7D/7P/cH9GfwE/jn/z/nE/cv+5Py5/jwAhP2d/XUAkv+9/z8A2AA8AOoCZwQYAwMEagXnA3gEowZ1BAoGowVOBlgI3AgYCvwInwgnCeMLeAljCIMK6gm/ChwLLgoxCZEJTgoxCXwIpwhnB5wHUQdxB+oFfwMxBI4DvwG8APUAwf/L/v3+JP2E+3L6tvno+aj4iPZr9WT1kvUd9C/zlvJh8iTz7/FE8u/xEvHh8EvwZPE28Z3voe+E8LLwnfHo8ZLyHfO68KTw6PHh8BrxS/H28M/xwfIS8sjyCPSZ88T0K/X99Hb1svbk9vn1vfc5+Oj4BPur+yj9tv4P/+v+GAD8AfgDAwRDBSoHYwhDCycNHA7uDvwQkQ/GEZEU2BO4FdEWuBgYG0odBh1qHUoeYx+GHwMf3x9RH20fJh+GHw0enxzfHFgbXxh1FlwWfBJVD+cMJwinBkcFPwGh/l39z/pk+Db2MvTL8CTtpOsr6R3naOZ640TigeLo4YHib+KW413iaONL5ZLlIefa5b3n6+lB6k/sge5E77bw2fOW9kT2UvkI/P36a/3v/sH+q/zL/YH9y/tS/cH9r/zE/O/+xP3W/pn/Uv1E/WH96/v9+yH8MvuB+0v8K/3L/SH/kv5B/yoBPAJ/A8cExwU4B9wHwwdfCwMN/A14EG4SyhO8FuoYgxhmGj8bqhwtHQoeNSBGIb8inyMcJT8lrSYYJ7ElPyT8I38j3yBGIJ8cPBpuGLETWBLqDe4JPwiYA78A1vyE+Av2GfPW7jrsPejI47PiM+Er3+/br9vo2qHZBNoI2lPbgdvB2/rd4d7W3xrj0uSL5Sjob+sv7VLw6POZ9Zn3ZPp2/cv/fABcAm4DZwNHBKcDMQPOAvUCXwEjAJb/Pf4L/Tn8RPxr+WH4cvf99H305PO68STw8vCa7zLwgfEd8jnz3fNI9lL3z/kI/N3+1v+KAmoGIwfRCvULuA9YEpEUahg/GjEecSGmIrwjNSYqKMYpuCqtLGYt3C2mMJ8w8S5GL00tKiuqKhwnaiMjH98acRXGEPUMjgdqAx3/Ifs59uvx9u6v6l3lZOEB3oHZIdeW1c/R6M/kzy/PDM9a0NPRJNPa1ZbXD9kh24vec+AW4gjmxOhE6/bvi/Qy9xL7JP5VAZEDtQb8CDEJRwt8CzUKDgq4CjgICgc4BPEAlv+d/Xn9CPr29rn0a/J28FLur+x26bLma+ZP5mjl9uXI5R3mgeh96qjs0u+h8oT1Fvmr/IoA3AXxCZEOrhPuFfwaRh8NIuMkbSctKhgtDTF4M+02Cjs7PTE/A0JqQjFCMUG0Poo82Dg8NK0vpisfJmYg9RrKFLUPZwtOBb39Ifhv8qHssudT4tbbb9ad0rrNCMt9yN3GSMfFxgzI6MkEzNrO9tDh0q/V69fa2+jfIeL95uHq0u599Pn5a/6DAt8HkQu8DiYSfxMqFA4VoxQKFCMTxhAGD4oNWAtnCfgF8QBZ/Wv6pPZI87bty+fI5MviE+Gr3frac9nP2KTZQdq22lPbc93T37bji+dy6n3vq/OZ+Pn9JwMDCZgOHBWjGhwhgycqLWMyfzZKOi095kDDQ8ZGSkn7S39NX0+0UUJReFF4TsJKpkZ7QUM7gzJDKWofzhccEjELagL2+evyEu8o6+HjBNzI00jN7MgWwxq9xbeltZq2Wraht1a5M70WwjrG88mzzAjSXdfP23bfOuOr5+jtQfQP+tUA+AYjDcYS1RdVG7EeTSE/IZEgVSDNHuocShrGFZgS3w+HDX8J4wPE/s/5L/bP8MHqS+Uk32vbZNjz1L3SzNDoz0/QSNEd0jPUZNf62Wvcnd+S5N3pmu929b37lQL1CSYS/BjNIE0niiyRMr832zx0QZhFhkktTb9QxlS4VilZuFpfWqZaVFgCVYZPwkkRRa09PzNtJ8ocVRUuEIMImf0L8y/rYeaP4XbYhM1WxJ2+j7pFtayvz6p+qsGseq2Prtqx5ba9vB3BZcOsxzPORNVP26HfveS968Tz+fujA58KbhH1F80cUSDjJDwowyjKKLEm+CSKJd8jYyCNHFgX5hLjD44KUQPr+8T0Pe4L6AviGtyz1qHRhM0Wy/3Jc8msyNrHDMiPybPLwc760ZbUb9gP3qTl1u2k9cj9XAWDDSYWER7tJcoslDG8NlQ8g0KqSB9N/1E/Vgla/11YYVhjCWMxYqlgbV0JWcZSZksbRUo+sTOxJk4bphP1DTwGufoa7q/knd/T2sTQesTaum+1vrIsrp6nrKNspX6oeqmXqi+uyLRBvJPA/cHaxl3Py9d93ujiT+i68Nn6PwPOCUMRYxifHvUizSWfKZgslC0YLNgpyiiYKEon+CKqHdwYmBS4D0oJkQHh+b3xy+kT47bck9cM0xrOzMn2x7PH/cfdx2HGE8Yox4/JTM360FrUU9ha34Tny/CL+koDqgsmFBUdRiTNLJEzODhYPVtCu0fNTd9TGFhNXDFfW2RfZ19qEGpiZRRkZl6CWh9UO0u/RLQ6TS8xIpUWJhB1C7ECufU66evgK9za1G/Jvb0atUGv5arlpdqh+qNeqJqrT62arx61PbzvwujFr8gzzlPVT93r45rq3fLy+mMCNQnGENwYqh+cI0oknyX4JkMoKihmJU0ihh/qHIMZ3xUqESoLsQS9/Hb0Pe+o6UHjdt1o1uTRz88szhPNqMtvy9bLz8zIzqzQs9L61B3YKNua3l3jPen970/3Gf8OBu4N4xWDHBUj3CfKLJQzCjn0PVFD5keNTZ9TzVhGXalgH2MYZNFim2BCXcZWmFBNSUZAkTj/LSYjxhn/EGcL8QMI+1bzL+r64gTbL9FoyjbErL4luT6zwbCzsR61PrgluSi6fb2FwizHc8rPzKTPHdP211rdeuNS65by5Pd5/H8C6gjYDsMRxhGxESMRkRGcEcYQhg9HDHgJGAeOBK4CS/4S+Rb02u6v6/3oz+W64kHf1tyT24jak9pE2pPaWttI3MTdwd9v4vbk2ue96ojuVvOB+J39JwODCLgO6hURHC0iUScfLLgxjTaROlg/xkM4SEpN7VAxVSJZWFt/XT9dW1v4WUJWMVE4SzhDXzv8MeYmgx3KFAcOwwhfABL4xPDI6HPhYdkk0STLXcbWwAi7vrastsi5RbwBvRq9TL6MwhrIYct6zWTPhNLE1kHb9uAy53btMvIB9h37+ABKBlwJHAr/CdUKsQscDNUL+AlKCBgF+AHL/wT+/fxo+d31z/I68Gvvge2L6sTnOuV94y/jhOKd4QHiC+Ov5Drm9uZo6Cjrlu3v75LyZPUI+jn/wwMOCaMODhWGHFUjPyjtK7gwvzWtOgY/+EK0R21MrVDfU99WRlk7Ww1aCVeCU9FNW0nbQx89xjPKKIMgJhkKFLwOTgaE/ej0ge2E5vreYdjI0UHLDMZTwey9j73IvuW/pb+ovu++U8FTxS/I08nMy2zOE9PB2K/eNuSW6IHsSPAZ9Q/6lv1y/9gA7gGxAkME2AXcBjEHnAVcApwACgA2/0H8a/fB84HyEvO28qTxUu8d7Vbs9uvW67LqGumS6EvppOnS6nrsoe4Z8hL0vfXh+M/8/ABKBLEHSgyOEaYXFR4xI4onfyxxMQo4ij6qQupGJkqKTXRQAlJYVPtUGFMiUK1M5kgqRoZANDjtLhEk8RyYFz8Tag2cA3L6WfKv7H3nCOCa2FbRdsuhx0jE78L6wmzCQcLWwRbBr8GMw8HFD8eWxyTJgcz60e/X9txo4f3k+ujd7TnyxPU9+L34dvmy+9b9a/+jANUA5P6E/Ov6gfo2+5b6C/ly90T2xPWr9eT1iPX29D3zlvIE87LyZPN2893zIfWL9X32kvhk+rn8b/8jAnUFNQhHC7wPxhS4Gbge2CLxJiYqbSwKMbg1KjvUPwZDVEhfTAZPIlC/Tz9Pv0zNSBhEHz9NOYoycStDI58ccRcOExEP3AcL/1b2i+/W6Qjjs9xz1lrRz809ykHISMgByE/H/cWhxE/Ec8RdxT3GE8cTySTMttDr1XbaE95T4ITii+VW6f3sT+998B3xEvO29pn5CPoL+Pn0kvNr9C/2cvey9iT1+fPS9IH3b/lL+q/52fhd+K/4EvpW+938KP5S/78APwLKA5gFCgduCDgKmAucDk4SeBa8G5EgfyXjKCMrXy10L0My4zXtOTg+0UEYRdtIrUoCTIJLJkhGRhhDMT+UOrwzpi2YJRgdkRd8E5wQKgwRBNb6IfMW7RboD+QL36/YGtRd0RPQhNBT0PrOU8wkycHHU8fByJPKDMsEzM/Nj9Go1YjZ9twP3oHedt994Ujleuiv6trrpOwo70Tx5PHB79LrEukv6cvsYe8k8Avweu9P8evzgfV99gj2vfUk9+v4Uvto/aH+hwHYBQcJNQsVDQ4O3A9OE4YWBhmjGmocpiFRKBEuHDE0MAowkTFfNR86dDzfPfE+30HURiJKqko7RxRC3z1UOiY4cTRDLn8nGB/4GMYVIxHnDMcFmfxI9YvtVujh44veQdqW1j3UdtKv0B3ODMxPy9bJk8ioxz3H08izyrbMVs+a0UjUs9Zd2L3agdyE3Xbe3d+r4h3lz+ZP6IvpNusd62Hn8+L23+ThiOe66u/q9ucL5k/ouuu97hbv+uwW7FbvGfUd+gv9ff2o/k4CkQZDCkMMHw2uD6YUdRu1IZUknyb8KXQvWDa4OTs5/Da/NYY5rT+4ReJJ6klRSkZMeE1qTDFH2z8jObw1vzS8MiYu3CSKGkoU9RAcD+MJQf+h9GjrhOZS5YjiGt4k2ATTr9B60LrPc8z2yO/GJMfdyEjKfcpdyT3J2svdz/rTRNYT11bZ69wW4SHkS+UP5nbmROfh6Ivqi+pv52/jveHv4vrm+uqv6+/q/eiP6Brq2uo97D3sZOzd7o/yJPco+339lv61AL8DXAfRCxEP7hGYFngbkSCDJQ0pdC3KMVw2nztKPYo+mD4xP7hFO0qbTntR2E+fUKpPdE2fS+pG9EGqPZQ5xjXNMEopVR9DF9URig6jDDwFS/sB8uvp0uba4/rfL9z61eTQTM4PzYjNhMxIyeXFr8STxmHJjMvzyyTMZM0T0ETUc9fr2brbSNxk3sThYeUP6eHpyOlo6mTqGuoh6KTlAead6IHrhO197QTsVuqh6WTqy+yd7t3uVvA98q/0D/gW+nL8Hf+1Ad8EJwg4DGMRURemG7UeESK4JoYtXzN8N/E5gzpNPO0+I0OfSK1LRk1GThRPO1B7T7hKzUQRQIM8MTuGOE0y5ik/H0oXnxMuEVUNmAVI+73xneuk59LkD+EW26TV7NBdzsHNhMxTyiHHj8QWxGjFwcZ9x3rHzMcEyrPMyM+h0qzUmtZz2Mjar9164E/i0uPk5HblduVy5AHkT+V96LLrS+0v7ejqJOk96vbrcu2y7ejsVu7E8UT1ZPi2+X35AfoI/MH/DgTqB8oKOA4VEy4Yxh3jIb8k5ijDLT8zCjdfN0Y48TnUPSpEcUhGSwJLX0jGSHFJEUi0RUNAGzsUOHQ1VDF4KgMiHBpKFhUUeBDfCgcBXfah72TrYero6GTjmtxo1mTTU9Ov0hrQnctsx+/FiMY2yATJ3chhyOHIj8vzzvbRRNMP093Tj9az2qjfXeJa4/Lj3eP25ATmIeck6mvtMvDI8SHxr/D58ZL0b/fI+P33S/e2+Ov6xP2P/8H+vf0Z/pgAnwRfByMICgmnC0YQHBU1F4MX+Bj8HAMjdSgxKmMprSltLI0yfDgDOwY7gzoDPGM/MULxQe0+uDuxOp873zvROMYynyyfKJgnwyaRIvEaERFjCVgGIwVnA0j+hPZW7/rqK+k65jPh79p91frShNHzz9rNusodyfbIhMmdyl3KNsoIylrKb8yszmHQAdGk0bPTqNVI1gHWwdaz2i/fa+KP4svg7+EP5Qjqeu0L7S/s8uzS7y/0C/iL+Y/5mflI+5b/EQSuBpgInwpRDqoT2BcRGn8beB7VI8opVC2RLZgtyi9tNA06kT27Pps+oz5GQCNDO0WGRPhB8T7GPOo7LTpGNvEwmCu4KJgnGCVtH4MW3A3OCEcHnwUVAXn5pPFE7YTr0ulW5Uje+tcW1NbSAdKWz8TLiMiBx2TIs8nhyfbIb8dax6HJTMxozdPMj8yTzYTPaNAM0PPQetQP2ujdlt0z25Pa093B4zLoluhI593n3etS8SH1iPbI9nn36/lP/sMC/wUjCLwK/w88Fj8bWB7VH5UivCfDLVQypjM8NB82XzpxQCpE/0XbRZtFA0efSJtJ20fUROZByj9/PvQ7vzfxMWYrkSf4JGYh9RsDE2cKJwWuAk4BAf1W9C/sNuf25GHjC98W2MzRes7kzQTO/cv6x4XEGsNBxIzG6MehxwHG2sXPyOzMIdD20C/QxM/P0HbSWtTh1/Pbut9d4ZPfPd4L4KHky+nI66/qSOpI7FrwufTZ9qv2kvZ29536sv/uArgERwb8CJUOOBQfGI4aahxRIJUmnywqMJQxBjPfNoM8mEHKRJhF7UW/R1RKP0w7TKpJ5kYbRf9D7UKKPxQ63DMNL9EruCj/I58bphJOCy4HOAVnAWv6hPF96lrmAeSv4CTa/dJdzY/KXcp2ya/GOsOzwD3A6MGlw0jE3cN2w+jExMchy/3Mfc3zzeTOHdEa1MvXRNzL3w/hAeFd4TbkC+ly7aHvuu+k8E/zwfaZ+Y/6IfsW/Kj9WAAxAzgF6gbHCLELPBB8FGoXfxlGG8YeOCQjKdgszS1cLrgxsTbqPENBNEMfRPREO0dbSTtLGEv4SIZG20O0QjtBDT8mO+o1nzHxLFgpXCR8HZgWGBCVC5gHPAId+z30fe496iTmE+Ca2aHTLM+zzEjKSMcoxLrBncBzwNPAM8FlwX3BbMIIxGXGBMkEynbK08qvy6TO9tJT12jcC9723VbeluAo5sTqHe4I7u/vGfIy92j5Yftr/BL6eAK1Ae4D+Ag4BvwJZw0RD+MTlRbmF3EbDhyNIfElGCmGLE0sXy9qMV81GzpGPH8/xkBmQdtDv0TYRG1ENEIKQCY+SjymOQo3mDP4LnwrFSf8IZUcYxb/EGoMEQinAsH8PfYk8Zbs6+cr4jbbgdYT0VbOgct2xx3F88E2wCi/r75Bvp2+Or+Bv5PAQcJ6xMjFT8eEx6THaMpBzq/TCNlT26vbNtwW3t3jfelW7Ojtb+7B8Qv3efud/T3+j/4VAdgEUQe8CbEKOAxDD9ESLhZKGBUafBtRHjwizSU1KfQqxiwjLvgvRjMNNhs5Izt0PFs9mD5DP9Q/fz8xPbs7TTmDN581sTKqL+0rGCiRIxEfihnRE7EOAwqjBlgCEv259xLy6O3W6eTkIeBr2h3WOtMk0IzNz8oPyAHGjMRBw/rCbMMFxKHERcV2xuTHL8rky4TMZM0szrrQetVd2sTdxN/E373gMuVo6eTt2u9d8GTz5PaB+2T+Of9cAAcC7gTnBzgK9Qu/DbgPkRK8FZgXShlRG8YdSiG8JKMn3ykKLAYuZi+xMQoz6jVqOb87ET6DPUo9Sj1qPbQ9KjzGOXQ29DN8MdQv+C0qKtglXCDfGvUVThHuDJUITgPI/c/4iPQd8R3tBOhL4nrd9tnk1lbU5ND2zFrKVsgsx4zGb8W2xLrEpcXPxgzIb8mEykjMz819zlrPOtFo1B3ZGt2L3g/f/d7I4dLmHesP7gHvyPA29C/5cvwE/mH/GAAHA18G7gjuChEMhw3xDwYTJhV1F1gZXxtjH3UilSUxKLUpoys/LVEvXDGmM1E2vzhtOtE6ETsqO3g7RjuKOZw3GDWfMhwx4y7NKzgofyPYHlgamBXjEPgLOAd1Atb9wfhS9Ejw0usB6GvjiN5r2gvXE9RE0azN2soMybPHYceBxlbGb8YzxyjI7MhTym/LaM0vz6HQWtKB1CHX2tq63uvgIeK64qjkXeiB7MTvXfG98vb0aPjP+/39Vv81AF8CJwWqB+4JGAtuDGMO/BBmE3gVRhcVGdEbxh5/Ib8jcSU8J00p3yrKLM0uHDHcM9g1tDafNqo23DZ4NzE3ozW8M58xuC/KLVgrESgtJOMf/xtOGDwUyg8YCzEGLgFZ/J33JPM97xbr/eaL4mTe89ov1x3UTNB6zAHKU8ghx33G/cWvxUHGtsZvxwTIwciByrbM1s6d0JrSr9R61zPbL9524D3i/ePy5n3qC+6I8DbyNvSL9sv56/zZ/ngAQwKcBJgHnAmfCnwLnAz1DmYRlRNVFR8XbhlcG4YdjR8DIcMi0SScJpgonCpRLCMuBjBKMTQydDKKMu0yETMUM5Ex3y9qLpQs2Cp1KEMlnyEGHmoawxbjEtUOpwpjBtUBff2W+d31JPIL7vbppOYP4+vfGt1d2UTWKNMB0Z3PaM7IzZrMHczdyyjM2sxPzYzOiM9P0b3TqNXh14jZXdsI3kvhyOQv50TpqOtE7lbx3fPk9QH4KPoW/QcAUQKKBHUGKgjuCa4Lag3/DpEQZhJRFEYWChhfGdgagxwxHqofmCCVIbgiOCS4JdEmmCcYKPgoBioDK9wrxitfK+MqTSomKoYpeCjfJj8lpiNVIXwfLR1GGo4XLhRuEbgOPAufBxUDqP8S/RL6GfeS8p3uz+vd6CHmVuO24N3dq9sT2rrYpNfW1azU1tPh04jUb9Tk1A/VutVL1+jYhNoI3FPd1t7v4CHj3eUk6BrqBOyI7brvVvLd9KT2OfhZ+ov8C/9KAfUCOATRBcoHnAmqCzENWA6qDwYRVRLcE1wVERbDFtwXIxmGGkob8RsKHa0dKh5fHt8eIx//HuYfKiC4H4Yevx0xHhweah2cHAobgxkRGaMX/BV4FFwShhAuDnULzglnCJwFdQKW/2T9Hfvk9yj13fKo8LLu5Osr6ejnD+aP5D3jr+HP4JbfC98B3wTfU9793YveAd/637rgPeE94mjja+TI5Uvnb+hv6QHriOxS7kjwxPHy8t3zmfWI9zn5j/qd+7L8JP7k/xwBfAKRA7gE3wW/BiMIagkxCmoKCgu1CwoM3AzKDZUO4w44D5EPvA94EKMQ7hBYEeMQPxFVESMRkREcEQoRJhEYEQYRXxBVEAMQvA9cD/wO6g2HDEMM3wt/CzwK5wi8B2MGdQVjBMcCqgGcAPb+tv0o/HL7aPoo+Cv3Xfbv9PbzVvO98v3x6PAk8O/vi+867/LuXe7W7X3tAe5r7oTu6O7d7ijvne8d8Ojw/fB68b3yq/PZ9Hn1pPWW9ov3vfh2+QH6svoo+xb8dv0L/6T/EQCDAFEBHALcAvgDmATfBJEFygbYBoMHfwf1B3wI6gncCEMKNQb97lb44xGVDOMH/xHYE0MMgxJnC9b9Hwm1E/wRPxKuFYoRgwlRC4oVfxGfEDwbkRemEjgQNQ8cDXgLFRIGEDES+BbODxUJHwbcB98EGALfBJEEmAWKAWv7iPzo+MH0VvSE8z32Vvev9Q/0NvOW7tLrb++I8HLx3fI98Sjw8vPv7kTqmu427kjwD/Ny9OTyufOh9Y/z7/ad9xL2PfYd+b378voS+ln79v0d/kj/i/9KAhUESgKfBBEGagRuA5EEwwWqCX8MRwqcC8oLYwpODEMMzgymD+YQsREGFRwVsRSjEy4RXBaxFzgXhhzqHFwaChouGr8Y3BbcFSYVkRVxFnUUERFcDk4KnwXKAQcDHwTI/vL50vaL9KjxZO6B6/bpz+jd5yvpMuTk4KTiluEd4KjfU+IT46HiduVr5svkEucy6xLsD+3B70/yPfUd+Sj4ZPdE+Qj4ffg59s/1+fur/qv/gf02+MT2iPjW+Hn3nfhW+ov6svq9+Uv4MvcZ9ej1Ifv5/24Bj/8E/g//2AF4BCcGDghRC9UOvBGxE/wTXxPYEsoWrR5YJVwn6iRtI4MltSgfKb8p7StNLFgteCwmKZEkvBxVFoYUPxZ/FTwQ6ggcAgT9j/gW86/qa+Uo5C/kaOOa38HZpNHazbPPYdIh1T3WU9bL1l3YiNpr27bcxN8B5E/qZPFk9Yv36/ZL9bL46P08AzEGbgZnBqcG9QUnAkH7IfQL9Pn5ygGnAy/6Nu8h6uvp3eoy6bbneuqo77nzVvK264jl/eO26oj2K//HAb8ARwA1As4FAwg4Ch8Qhhj1IaonVSfxI3wgNSNKLbw2+zk/N8Y0vDaKOSM6nDbRMkYzSjQ/MgYt2CQ/GtwQ7gkxBxwI+Ac4BDb5luuL43Pgfd8T3hbaYdeL2Ujcb9vd1JbNXc3a00Her+WI5wTmCOU95wTpves98Hn19vpI/5UBowHYAAv+efsL/tECfwbcB44EagBd/OH3a/Kr6sHoj+4y91L7mfPr5V3ei+Bd58vrWuso7Cjytvh5+f30SO8o7uj2nAMOD7UURhCYCo4LNRB4FPwXHxtGIIMnRiv4KVElnB8GIJwr8TmqPko4/C/YMBE5lDsGNZgtyiymMjQ17SxmHFwNSge4CPgOxhG/Chn+HfDy58TlduNL4QTf9t0d3w/h9uDT2ijSGs1z0CTcy+fk7PrpPeOE4Evjdumk7z3z3fXP+O/93AHOAOj7PfbI9tL9UQaRCrgGHf9o+Xn3dvdS9Nrsuuc960/1kvtL9UHnWt1r3avlBPA99EHx5O6v8AH2CPnr9Ijwr/OnAIYPjhUOEOMFKgK1BkYQzhijGw4beBrfHNEfvx3uGFgXfBo8JdQzxjkfMHgfcRkNJLgzGDnfMVUo6iaYKuonjhg8Bfb8agK8DsYUow39/Nbpvd3E2yTfS+Ik4u/fc93h2wjandQkzRPJ/czv2dropO8d67rgXdrk3FLnAfO9+QH8iPz9/moBkv8k++j36/hnAF8LxhA/CxL/a/So8Wv2T/ro9/LvuuhP6LLtIfEy62/h79xo4uvs8vHr73LrKOqk7oH2IfyL/Qv9Uv4cBYcNmBBxDmMKXwrDEB8Yqhs4GpUW2BRcFkYYvBiVGDUZShtjHdggfCc8KTwgoxfjGyoqmDX0NHgrqiP1IR8jox+fFBUKHwY/CSYR4xOjCi/4SOQW3AjiD+t67Y/mD91I2S/ci95T2aTPzMyE1wTovfEa77Lkz92r3/rntvIv+p38L/5S/4MAmAH9/9L9q/2fAYMILg7VDdUFNvvy9eT35PsW/UH5EvSa7vrpFuik5w/or+iP6prua/OZ88vuQep966T0D//1BAcGKgUqBZUG9Qi1CmcM3w7xEXwWPBk8Fl8PEQo4C+MRPBd8FxwVNRPKEp8SyhG4ExUc/yRKJoYiXCI8KMotCi7qKZwniisDMa0uAyE/EE4HigoOFCMZdRLOAZLxJOoE64HrD+cv4Gjd8+Fr5ivjyNdEzQzMwdRh4oTraOxy6Evly+Xa6H3t+fIZ+cT/0QQOB5wGdQN8AIj/0QCDBXULHA4fC8oDUvzk+C/4aPc99133lvZy8o/rhObo5VroROs67+/zAfcv9oHxhO0k8D35SgL4BJ8DlQQ4B4MJNQifBNEEsQk8EV8V3BLuC/UEXANqB9wMxg4jDYoKxwlDDPwN5wqjBTgIFRf4J6os4yNqG6MeAyoNMpQxpis4KYovkTb0MP8cXwiqADEK9RmNHn8QaPcv5ETgeuUW593fNtav1C/b1t/I2kHNZcO2xc/SS+IS63LsD+kr5EHij+YE8WH81QM8BmoF/AXfB/gHowTv/wcBUQlDE/8VigyW/SjzFvIv9+T6Ifr29oHzAfBP6kjidtya3b3lqO+y9Vb1IfBo6kvniOgI7p31cv4xBngIuAPv+yH3L/hE/t8Fagt1DS4L1QUHAEH7K/oo/lwF9QunDRUL3Af1BaMFZwWVB1gRQyHYLcov2ChjIaYiFCy8NjQ8KjuYOeY5xjifMjwl/BU4DiYQjhcVG6oTeAJy7gHhFt0v3oTeIdy92VbYSNZW0iHM2scByQHQ9ttB58/sGuyI57LkAegP8VL8xwQHCXwKSgtVDBUL7gf/BCcGvAwREzwUbg2uAe/4RPaZ9yH5MvjI9dbz5PK98K/p69992v3emuuy9t34S/Ir6/bpa+2W8Vn0a/eh++4AXwWcBX8AXfnB9r37PAVYCw4KfASd/8T9ef75/wcBmAMDCb8OmBBuDecHSgRDBm4OfBn1Ir8oMSzqLm0u7Sp1KBEsnzd7Q8pH30K/OPEwIywmJUoaAxEYEKoVwxiREBL8veWo2IHWS9rW3BPb4ddo1TrS4cvdxPrC78jW1CThCOk97Lbrfekr6WTsb/R/AL8MkRS1FSoR3wqDBycIxws4ELgTYxXKExgOmASS+Ujyz/Ho9QT7dvwZ+K/wSOmh5D3i9t9T32TjGu1B9lL21uw944HjkuwE9t35gfo9/Hn+Of9P/ej5/fby9wv/KggVDXUJ2f8h+XL5r/6VBBEIpwqKDTgQsRAODY4HtQQ4CZgTtR2jIvgi0SK/JJ8p1C30LWor7S0GOMNB7UL0OSoujScDKDEpwySVGwMSMQsRBtgAffld8D3mPd0k2TrYFtmo17rRU8oWxnrKyNP92pbbaNiB2sHjRO7982H0GfQP+dEC5wu/EL8PQwx4C3EOOBN4FUMTzg7RCjUJ6gdfBBL+kvfy9Ev1cvVE8kTs6+ZP5L3k+uXW5b3j6OEW46vlUuba5WvnJOx98aT0pPUE9hn3K/hE+MT4uftHAM4C3wHr/wAAQwEnAQcAAwB4AvUFHwhHCK4Hjgc/CNEJLgsYDGoNDg9KEJERmBRYGEoc/CHqJzQrnCmYJlEoxi74Nfg4vzfRNdgz3y8RKXUgKhexD0ML/AgVBzUD/fpE7Y/d9tIv0U/Vr9iE1nrQL8x9zN3P2tE20WzSK9n95GvwFvbL9Q/zQfPd+VUFChAYFYMUVRKqEfUSMRT/EngPsQwxDe4Oww1OB0/9aPQ68Jrwj/Lh8o/vEuro5LrhqODB4Avh5OD64aTkq+cy6vbqD+qd6VrsHfOd+aT7efok+ev5MvuB/Jn+rgCRAsMCYwI8Ag4BK//5/eT/dQQHCAoI9QYjB0MJCgsfCiMJnwrKDtUSuBXjF+4ZnBv1HYYjoyrfLz8wVC4GL8MztDgGOfg0PzCtLvQu2CxRJBUX8QqHBAoE9QN2/wj17+e63YvZ9tiE16zUD9K60j3Wodgr2CjWhNa92yTlMu9P9kH5T/qI/B8AGAVjCnwPYxN4FZUWhhbYFdET/w9nDDULAwy4C3wHtv9r+P3z1vGh7zLscuno50vn6+Y95TbiGuBB4P3hPeR65gjpT+sk7CTsQe6P8uT2Evmy+M/4JPsy/oH+ffxP/FL//AJ/BHwCPf9k/tn/WAJqBFwFQwVnBTwHXAn1CtULPwzcDNEN/A/4EnwUtRNOFCYZtR+YJBEnbSl8KvgoIyjKKlEw/DMNNCYxZi0mKs0miiEOGVgPHweYA98CvAGL/I/xUuWk3AvaJNvh2y/az9eI17rZvdvT2vbYT9oa4fLqa/NB+G/66/ur/WMAagQVCv8POBQqFpgVVROREI4OUQ01DF8Kpwg8Bw4EMv6v9hrwkuvo6bLpFukr56TjQeCo3QjcCNvh26TdId+64CviKOQE5Qjlr+Yy6+jwvfQd9evzT/Vk+IH6q/p5+mH9fwLnBeoEnAHv/wcBBwTfBqMI5wmxCnwKDgq4CXgJlQlVCqcLUQzcC3ULigw4Dq4Oxg4jEgMZxh8jI1wiTSB1HxEhtSTtKL8r/yu0KrUoZiYfIkMa+BBnCkcJsQrjCTwEr/pk8UjqHeU24W/fK+AW4uTi3eA93bbac9sd3zrkeuna7rb03fkS/HL76/qP/WcEvAwqEjwT7hEYEA4OHAz/CgcKGAn1Bw4GXAOL/sv3/fAB7JLpFukB6Q/o6+Vz4lreXdsB213duuDr4UjhS+Kr5jLsK+5L6yvnoefo72v8jgQYA4T8WfoAAF8HjgnDBn8F2AluEI4TPBCqCLEC/AK8Cf8QURKDDdwHtQV1BtwGQwVuAw4EsQfKC5wN2AvHCOMI7g2jFjUflSSfJWMjuCHfI2op/y4tMjwztDOYM2MxiiuGIhwaERVmE8MTMROmDpUFkvq68NbpxObE5lLnoebW5ETib98k3YjbK9wr4MHmL+6P8/b1PfYy9n33vfocAJ8GuAyVEFURHw9/C6oIGAjKCacLtQsVCfgE0QBy/G/3AfI67vbtku8k8HLt6Ofv4QHe090r4O/iCOS64qThduPW58/rMuzv6XLpC+1P9Fb84wA4AA/9T/y5/44EXAcKBxEGNQdjCj8NJwwuBwMCDgEVBpwM/w78CmMEgwHjAxUIJwkxBioDfwQfCt8PLhFfDd8KOA/xGZwkMSjRJCohiiPcKpwxSjP8MAovPzBRM7wzGC/YJfEbeBWYEzEU4xIODZgDGfov83LupOko5MvfaN4r4OvhWuCT28TWyNVo2d3f2uWB6Rrsge4a8STz0vRv91L7FQCDBH8HUQhVB0MFnAOHAzwEgwT4A/8B4f6r+7b3svIy7nLrj+rP6gjqIeek4hrePdvB2vbbfd023u/d691636viL+Vk5SHleucy7MHvOvHB8ln2K/pL+8T6EvxcAKMDjgM/AscCpwVjBwoGBwScA04FvAf8CJEI7gbqBZEGgwiRCaMIWAiDCiMOPBAVEP8PjhKjFyodqiF8JIYmRidfJyMp0SxxMEoxpi84LqMuBi8YLD8ksRqYFDwT3BOGEqcNHwbZ/fL2a/JS7wTsyOhB5xbo2unk6DbkK9+k3cvgcubh6w/vS/DE8G/xC/Mr9YH3KPqv/d8BPwU/BpEFpwTHAyMDGAM/BHUFRwXnAhL/1vuk+ev33fWk8y/yiPHa8BLvJOzP6AjmkuWW5wTqXepa573jmuMr6CTtqO0h61rqr+228R3z+fKd9Oj48vw9/0MA0QAxAacBQwNjBrEJ3As1DLELagsxC3wLVQyqDWoPyhCREbESwxNqE64Rgw+VDmoQZhVjGpEbqhgRFwYb9SCKI/EhTSH4JNwpRisRKf8mLSejKDgpnCjGJrUiLhyYFZUSYxM4FIYRFQsfBIv/wfxd+S/0ve/r7prwtvCE7Fbmj+Ja4kvky+UB5qTmIejI6ajq3elo6AvpWuza8Kj0kvZZ95n3tvcE+Nb4CPqB+zL9a/6o/s/9svtP+YT3dvZr9pn2ufb29aHzL/DS7PLqVup96l3qfelB5wTks+JL5J3maOZW5BbkkudP7H3tCOv26DrrtvGy9zn60vk2+f36ef6cAeoCGANqBJEHjgvxDYoNIwycCzUNxhDxEzEVihTmE8MUahU4FBUSeBH4E+4Xnxp4G5wbyhvxG3gcvx2VHw0hnyGtIm0kHCXVIxEhtR4GHdga5hcOFcYTtRMVE9UP+AnRA1b/wfxL+h33MvSr8hLySPB964TlROK94uTk5OUd5VLkluR95VrlqOO24pbkNulh7sjwT/BW78TvSPLL9KT1+fVd94H6uf2E/qj84fnW+B365PuP/Kj7Ofoo+Q/4HfaW813xIfCE8EjxlvBr7WvoIeXk5RbpGusP6vLnuud96YHqduk66cvsefKI9n33yPYB9+/4cvsE/vwASgSYB24KBwxYDB8MowwmD1UTVRd8GdgZRhmGGAoY/xfRGPgZcRqjGi4cfB4VH0odHBvmG2Mf3yIYJA0j8SH/If8iQyNqIqMhoyFmITgfIxtqFnETQxPDEzwSHw44CSMF/AFS/r35yPXS8+jz6PNa8UTsFud65PrkZOar5vblz+W95sjnC+fS5J3j/eTa6Mjsi+5k7rbuL/C68Rnya/Fd8r31vfmP+2/6hPjy98/4nfmr+f34r/ho+RL6eflL99n01vNk9D31KPVr9EvzevFS72ju0u8L8gTzBPL98ETxb/GB8Kjvy/Gd9kH6/fnP9x33dviI+j38Qf4OAdUD9QUqB64HlQeqB24JGA1qEXUUfBU4FTwVPxaqF1EYrhdDF7EY8RvcHl8fxh2RHNwdZiAGIgYilSEmIjgjWCNtIuoglR/qHhUeBhyfGBEVlRJjEUoQ6g1cCj8GagIy/1b8gfmL9oT04fOW88jx2u3W6cvn2uda6C/oWufd5rbmK+YS5bLjc+OW5L3mduj96Nrosuhk6XLqMuuI6yjsRO4d8Y/yHfJI8XLxqPL586H0JPUr9mH3KPjP98/2HfYk9gv3Mvho+Oj3qPdr94H2efQP8yj0Fvfo+PL3yPVv9KH02fRv9Oj0MvcE+iT7L/rd+Pn4WfrS+0/95P8OA3EFowYfB5UHCgj/CGoLHA+qEqYU3BSGFLgUuBUxF04Y+BijGR8bdR0YH9weHx0qHIMdPCCRItEioyF1IJUfZh9YH18e7RxuG9gZYxhDFioTBhD4DXENhwx/CS4FXwG9/rb8gfov+KH2lvU29CHy6+626wjq2uly6kvqWumB6ITnZOYd5WjkQeTE5EHmr+ea6IToQejP6LbpS+qL6oHrb+2r79Lw/fAL8a/xIfMo9M/0mfXE9qj4XfrP+uv54fgk+cT6Xfz2/KT8XfzE/BL9EvzP+YT4svl2/Cj+6PxZ+v34SPlv+bn4lvgd+qv8ff6L/qT9z/wy/HL8Vv7VAVEFBwcnBwoHmAduCD8JgwoVDVwQzhLuEzEUIxScEyYTxhO4FXwYkRpKG7gaWBlfGDUY3ximGR8aOBuRHP8cGBwDGp8XLhYYFqoWzhZ8Fb8S0Q/VDfgM+AsKClgHygRcA58CXwFW/oj6vfd29kj2T/UI8z3w2u2r7HbsD+xS6ivoD+cr56Tna+do5kjlEuUS5oTneuiy6KjoJOk96jbr9usP7Y/uK/CB8YjydvML9K/00vVW9+/4OfoL+5n76Ps2/Iv86/yP/Qj+lv5L/8j/3f9v//3+y/6k/gT+6Pzo/Hb+agDVAOH+Nvzv+sH7lv0o/8j/6/9HANEASgEnAXgAXwD8AQ4FCgh1CV8JrgicCOcJ9Qv1DUoPShDOEZUTxhSuFHETuBKKE38VPxecF7UWyhW4Ff8V3xXmFA4UPxQmFZEV7hScExESPBEKESYRQxHxEPUPcQ4nDLgIxwXYBP8FZwexBrUDHABv/ej7Vvoo+PL1qPQL9bn1+fTB8SHt6+kk6RbqHevP6prpmujo5wjnAeY95frksuUh58ToPerr6s/qT+oL6q/qT+y97l3x4fJL84vzOfRS9Sv22fbE9y/5Pfso/ej9Yf1B/L37wfyy/kcAmABYAD8AHwARAAAA5P8k/zn+i/6OAPgCvwKv/938Of1KAOMCDgOjAT8BwwLKBNEFfAX/BGoFPwdHCp8MxwxOC+4JbgoRDQoQeBEOEUoQtRBcEngTyhLfELwPFRGRE4oU+BImEAcOdQ3fDTgO3A2KDPwKBwrDCXEJ1QccBTUDwwPjBfUGygVKAyMBxwAYAkoDCgPjAUMBZwLnAx8Dcv9v+6T6qP1OAbgBSP7B+WT3Ofhk+QT4C/UE88Tz+fVI9n3zL++h7A/tPe8d8UjxC/Ch7iTufe7h7p3uMu7L7rbwNvPr9A/1+fPS8uvy6/TL90v6lvur+6j79vtk/Ij8S/yS/A/+YwC8ArUDrgInAKv9cv0RANwDLgbqBWoEfwO4A18ERwTVA44EDgeRCpgMnAujCEMGeAZRCeoM9Q4uD38OLg6RDtEOTg4HDXUMJw5/EeoT8RLVDjULqgquDLEO8Q4fDlUNWA11DYcMagpuCAMIpwkjDB8NGAzOCfgHPAdRB5EHTgdRB98GsQTxAOv90v25/2cA6/0L+t33L/id+Jb2r/Lk70vw2fJP9EHy7+3a6g/rfe0a7z3uq+xB7F3t4e4P7w/uQe0d7kTwGfIk83bzj/MB9IH08vSP9bL2K/gv+c/59vnh+QH6Evoh+ov6efvB/J39ZP2W/M/7kvtL/HL9L/4S/s/9mf49/xn+6PsI+yT9vAAcA+MCmAEuAQMCigOjBBEFmAXfBgoJjgtjDN8K/wjDCOcKww0cD8oOtQ0nDYMNuA1ODTgMRwtYCz8MEQ2ODAcKeAZHBJUEXwYjB8oFPwNcAREB4wDk/wj+cvx2/Mj9C/92/t37CPmr93L4QfpI++H63fmB+c/5C/qB+YH4D/ik+BL6Uvtv+xn6/ffS9iv3dvi2+ej5JPkh+JL3off29/b3SPey9k/3/fhS+iv6kvgE9yH3K/l5+0H86PuW+y/8of3r/mH/S/+I/wMBXwMYBWoFowTVAxUEfwU8B04IdQg4CF8ICglRCecIGAinB1EIeAmKCo4KHAkqBx8G6gYjCIcHQwSKANn//ALHBrUG6gFB/KH63f2OATEBy/y5+Ej5xP1YAe//iPpW9k/3i/wxAXUBEv7r+jn7RP78ABUBOf8P/lb/RwI8BMMDlQGP/2T/JwFnA6cEKgSjAoMBagEfAqMCfALHAWMB0QHDAgMDrgGS/yv+gf5VANgBfwH9/7b+2f7k/38A7/8E/2j/5wBOAlwC5wAS/6j+8v+jAScCHwEcAN3/WABcAOv+9vwI/O/8KP5h/Tn7/fk9+nn69viL9qH15PaB+Ij4IffP9Wj1aPWP9Q/2BPcE+N34Pfr5++/8qPwr/Cv9LgCjA9EFnwbcBrEHLgmHCm4L7gscDXwP3xEuE64SBhH1DzEQNRHYEY4RkRB/D8YOKg7ODKMJfAX4AgMELgeHCH8Fgf/Z+i/69vuo/Av7FvkZ+QH7Wfz9+lb3OfSE9Hb4Mv22/yj/1vw2+0j7efwI/j3/ZwDKAe4CAwNnARn/SP3h/Bb+1v8HAacA4f5v/Av6cvj596/4kvny+aT5+fgy+OH2JPXy84/0AffL+Qj7efov+S/4XfhZ+Xb6y/ur/fb/YwE/Aej/a/42/s//PAIqBMcEMQR/AwMDagJ4AccA+AAqArUDKgQKA+MA6P4W/qT+9v8VAX8BPwHDACcAdv/5/sj+Pf91AB8CXwNKAzwC/ABqAPEA+AHxAoMDvwO1AzwDXAJuAbgAPwDW/8j/FQDS/33+Ev3S/Ej94fxr+0H6aPqy+1n8pPvv+gT7iPur++/75PwE/sv+Qf/5/zgBEQI1Ak4CAwM/BDwF5wUuBtEFTgU/BdEFUQYHBo4FeAWVBTwFUQSOAycDGAP1AmoC8QF4AeMANQBk/7b+q/5W/+H/b//Z/Q/8YfvS+8H8/fxL/Aj8yPy2/Wv9efur+cH5pPsE/ij/S/55/Db7S/s9/NL8tvyh/HL98v6W/6H+3fzE+0/80v0P/4T/Xf8Z/wT/CP/o/uj+gf9nAC4BigFYARwBJwFqAbUB5wFnAkcD9QMYBIoDwwKnAlUDcQQuBREFsQSVBHwEHASRAzUDfAM8BLUEwwRxBA4EwwORA4oDfAOcA/gDXASVBC4ESgO4AucCvwM/BLgCdv+E/Y//DgTYBUoCHf05+2v9PwAqAAv+tvyL/Tn/0v/d/nL8WfqI+mT9LgHHAh8B+f22/Kj+gwH4AqcCPwI8AxwFcQYVBpEEtQPHBHwHuAnxCZUI3AbcBeMFSgZuBioGzgWcBXUF1QSxAjb/y/vB+g/9nwBVAv3/FvvE9mH1kvYr+Ej53fmB+jn7Uvv5+ZL3efWS9ev45P1nAScBUv6E+4/6svur/Yv/AwH1AUcC/AH1ACT/aP0E/Vb+0QC1Ap8C9QDL/hL9EvwW/Db96/5YAPgAlQAo/5n9tvwh/bn+gwDuAYcCcQKOAQcAtv5E/hL/xwCHAmMDxwL1AO/+of2r/cj+8v+cAGoAqP+k/nL9WfyW+737xPwr/s/+hP2o+iH4mfch+YH7YfzL+zL7SPvW+6H70vrW+UT6svxo/9UAQwBo/m/8Nvwk/q4AVQJYAqMBeAEVAp8CagLnAS4CqgORBfwGcQf8BgcGnwVxBkMI/AmnCmMK7gnqCeoJkQnxCCoI1QccCKcI0QjYB9gFXAOYAHn+Yf6RACMDXwNxAGv8JPp9+ij8Mv3h/OH7mft2/IT9dv3Z++/5lvmE+4j+UQBy/+H8xPqW+gj8i/0W/r39Gf3B/P38S/3v/PL7Evs2+4H8KP75/kv+vfxh+1b7pPwy/gT/Fv8h/4//PwBYAOT/Xf+Z/xUBHAOVBFgEvwI4AbgAPAEOAnwCjgLVAjgDowKI/0H6vfbd+Hb/rgQKBOT+Ofp2+U/7kvyy/MH9gwCuAxEFkQP5/z38VvuZ/mcEEQmOCVEGeALVAIMBGANYBFUF+AbjCNwJtQjOBRwDwwJ1BV8JHAyKDD8LnAl8CNUHSgf4Bi4HQwjfCaMKownRBjEDPADE/ov+z/5S/+j/uf8P/sj6S/dB9VL1EvdZ+fL6Evvd+dL3+fUk9b31y/cP+ln7iPvh+qj5XfiL94H3Xfjr+Zn7lvwL/Aj6/fdE9+v3KPn2+X36Ofv5+xL8y/rS+LL3efi5+g/9Of7E/Zn8hPvS+n36gfpE+xL9Fv/L/+H9vfn59Zb1j/n5/pEBFQBW/Vb80vy2/OT7efyh/7gDHAaqBTwDdQDW/uH/cQN8B6cJPwnDB4cGNQZxBucG5wdRCbUKfAtqC04Kqgh/B4cH5wi4CtULRwyVDK4MIwwOC04KNQp4CrUKwwrfCqMKjgmHB84EowGh/tL8BP3P/jwAaP9d/Hb4pPXh9J31PfcZ+X36L/s2+5L6a/kS+Hb3b/gv+33+JwCP/2v9NvvW+X35L/oy+yv8pPw5/Ov66/jZ9nn1dvXB9rL4+fmo+Uj4r/Zd9bL0GfWh9rb4j/qZ+4H7mfn29VbzGfUr+wcBHwKL/0v9KP3W/YT98vwv/m4B/AT/BpEG7gOuAEj/WAHqBZEJ/AkuCPgGwwcuCYMJqgiuB9wHlQkRDM4NIw2YCpwINQmDC8oMigycDEoOqhDDEQYRLg9DDZEMpw01ED8S/BHjD2MN1Qt/CtEH5wOqAN3/6gCYAREAy/yB+UH3Eva59eH1i/ZP97n3HfhS+BL4C/fZ9Qj26/eW+mj8pPzk+7b60vmI+ZL5iPlL+WT5Afpr+qj5dvcB9ajzVvOI8+HzK/QI9CvzAfJP8XrxCPJ28gTygfCP79rwL/Tr9g/3r/U29Yj2MviL+DL4y/id+pn86P2Z/oj+qP1E/YH+DgE/A9wDvwNKBNwFqgfYCEMJbgnDCXEKHAt1C8cLVQxRDYMOWA+fD1UPIw8DEO4RxhNDFKMT9RLfEkMTdRN/E6YTphM4E1ES8RDqDgMMowiHBe4CygCv/rn8VvsS+qH4pPa29IHznfJE8nLyMvMo9I/0cvRW9Hn0yPRB9ej1Ifd9+FL5q/m5+Vb5RPg297n2wfYB98/2S/YS9vL1RPXv83ny4fEy8gTzq/NS81nypPH98dbySPKv76vtCO9h8x33nfcI9u/0ufVE9/n36/cy+IT5kvtI/cH9r/zr+mj6Qfy5/7UC0QM1BHgFcQe/CLgIpwgxChUNWA/DD9EOvw3ODf8O2BCOEpUTHxSfFJEVxhY4F3gWzhWRFnwY3xkYGt8ZHBrfGi4b8Rr/GWYYvBYcFdUTfBJOEA4N6gjOBNwB4f9L/lL8iPnW9iH1qPQd9EjyAfDP7rrvuvGB8130ZPRI9Gj01vRh9fL1kvZk90H4r/hk+E/3z/XS9H30r/RP9av1j/UE9SH0KPMh8iHxsvAv8SvyGfNr86jy3fBd7lrsiOwP70/ySPSS9Gj0qPTE9O/z0vIv82T1SPhE+qj67/mr+M/3L/jZ+SH8KP6v/24B8QNfBpEHVQdRB/gIvwsfDi4PXA9OD5wPfxDuEYYTVRRuFKYUnBW8FhUX4xaYF3UZLhvcGyYc+BzcHQ0eBh4RH4Mh6iOtJFgjjSAqHbwZChf/FNEStQ+cC0MH5wJS/tb5S/Z29MHz9vJk8cvuKOxo6hrqMuvv7Lrur+/W75rvSO+a76HwFvJZ8+HzyPNy8zbzFvOL8g/xiO9B70vwSPHv8Hbv2u3L7DrsL+xP7GHsgeyW7BbtiO3v7GjrIepa6h3sGu7y7sHu1u7W7/3wUvG28HLwNvG28iv06PRP9cH1pPbr92j5/foW/Cv9C/8RAooFzge8CHwJ/ApfDYMPihDfEE4R9RGcEgMTXBPfE6YU+BWmFzEZ6hmqGc4ZZhtmHvwglSEfIfggVSI4JR8oDSqtKvgqDSytLKYqfyVmIK0eUR9RHrEYAxCDCP8DjgGP/oj6iPfh9dn0i/Id7qjpCOeE5yjqL+ya7Ojr0usP7f3ttu3W7M/sb+6I8KvxVvGE8ETwK/Bh733t2usP7Ivttu497kTsferP6e/p2unE6KTn4efE6ZrrqOuB6jLqS+sv7J3rK+rk6T3r6Owy7h3v7++L8Mjw6PD28BrxnfES8+j1wfhv+gH7JPth/D3+uf8DAcMCtQVfCW4M1Q0RDlgOlQ8jES4S9RKYE2oUPBW4FQYWzhWqFZwWrhhmG3Udih7GHzghBiK4IXghOCPmJtwqeC3KLr8vbS8fLRwq+Cc8J2MmvCPYHwobtRUuEEoKKgURARL+CPzZ+f32KPPo7kvrweg95+/ma+c96Kvoi+ho6EToa+iv6O/oKOkd6VLpROqI64vshOxv64vqJOp26t3qkuor6iHq3eqB60TrVuod6YHosug66c/pROrd6o/r+uvS6yvrQeph6TLp9uny6kHra+tP7LLtq+6B7m/ulu+P8UTzi/Q59r34Wfs2/VL+Yf/RAFgCDgQfBm4ImAo/DJgNzg7qD4oQ/xDuERgTKhTjFFUVERY1F1UYahl8GvEbYx2jHgogQyGGIqojoyTDJSMn6ihmKvEqKivRK1Esqit/Kb8mnyQKI+0gyh3mGeoVXxJ8D0cNHwsuCFwEbgA5/cv6mfjB9mT1WfQZ81rx2u9v7mHtr+yr61LqveiE5yvndueL5yHnkuY95vblmuWB5X3luuVS5ijn9udv6Kvooehr6GvoxOh26VbqL+vy65rsIe1h7UvtJO0h7RLt1uyP7Nrsne1P7qjueu567rruEu8L8IHxCPPW8x30AfWk9l34fflE+lb7D/3r/m4AzgFHA/EEpwZjCNwJ8QrxCwoNhg5OEO4RKhNjFOoVuBdmGeMaeBwjHr8fHyEGIqoiwyONJa0nkSncKqorMSyNLNws8Sy4LE0s1CtNK1EqaiiVJY0iFSB4HjgdfBvRGJ8VcRJDD84L3AdVBPgBdQCo/oT7svdh9D3yuvCd7jLrROdL5Mji8+G94N3epNyz2pPZFtmh2N3XQddI1+TXb9iT2M/YhNmB2ijbWtud24TcK97E3+jggeHW4c/iQeRo5ajlMuVB5S/mwech6Qvq3eqE60/s8uxW7c/thO6L7/rw0vK59Cv2Qfcy+Db5gfry+6v9kv+fAY4DPwUjBy4JJwu/DBwOeA81EVUTjhWcF0YZ7hq8HHwe/B8/IY0i5iMRJQMmHCeGKBwqjStqLMosHy14LdEt0S0fLQosyiq1KbgoKifNJIMhLR6VG64Z2BcxFdgRBw4YCocGgwMnAST/tvyL+R32S/Nr8R3wSO5I63rnJOR94jPiE+IT4VPflt2L3JrcKN2E3U/d1twT3Uje698k4Yjha+GL4W/i8uO65f3mr+c26LLooemk6rbriOyS7E/sCOxk7C/t9u1d7kvur+6o76/wGvHL8ETwdvCv8T3zq/SP9S/2/fZP+Pn5T/s5/Cj9tv4VAccDMQYcCJ8JOAs1DSYPvxAfEsoTOBb/GHgbZh31Hmog9SF1I6oktSUcJ/go/CqKLHEt+C1tLlEvUTDYMKowHDDGL6ovXy8qLu0rPyn1JjwlZiMfIVwenBtOGRwXMRQxEKoLfwfKBEoDpwH9/kv7a/dd9HLyD/Ek70/sCOld5t3kHeSI413ipODd3o/dNt2I3QTeQd4k3ijej95z33PgBOE94Wjh3eHd4gjkBOWd5d3lSObI5k/n5Odk6MToy+ih6Kjo6Ohr6bLp1uk26sHqfesB7DrsWuyW7DbtYe4E8Hrxa/JZ87L0aPYI+GH5q/pE/FL+owD1AiMF9QZ8CAMKqgtHDb8OXxBfEpUU8RYqGRUbuBwGHjgfRiBYIW0iqiNcJUYnHyk/KoMqlSoUKxQsFC0cLRwsHyuVKoMq/yl/KAYm3CLKH2od6hu/GtUY0RX1EbgN5wm/BmcEigIYAM/8RPky9iv02fJa8QHvqOta6P3l1uR25KHj2uHd34HeFt493n3eWt7L3UvdT90P3ivfAeBB4F3gveBr4VriWuMr5IHkgeTP5KHl2ubI5wHouudo54Hn0uch6FrohOjk6IvpWuoo64vrj+uk6yjsPe2r7jrwq/H28lL0BPa59y/5XfpZ+6j8mf4OAYoD2AXuB9UJuAuODXUPWBEfE+oUyhbcGA4bMR38Hm0goyHcIgYkLSVqJo0n+ChmKngrJix8LBwtDS7fLiMvny7jLV8tCi2qLLgrESqcJ7Uk7SF/H2YdHxuOGJgV1RGjDccJuAZfBAcCK/+r+yT4T/Vv8yjyMvAB7WTpYear5P3jWuM94nrgk95h3brcfdxP3MjbKNuo2sTaqNsr3Wje794W30jfD+B24evi6+Nd5JrkS+V95rrni+ga6V3peuna6WjqAetS67LrZOxW7U/u2u4h72Tv1u+d8IHxb/Jy88j0hPYB+FL5efpk+4T8q/0k//gA6gLDBIcGWAgVCtgLrg2DD0YRzhJcFCoWOBg/GgockR3fHv8fHyFDIp8jBiUKJs0mfCeGKNwpESsjLL8sHy2DLbwt2C3KLYMtPC24LL8rQyoYKLwlUSPjIL8edRzGGY4WuBLmDj8L/wdDBWcCZP82/Pn4SPYW9OjxUu9W7F3p6OYW5b3jc+LB4MHe69yz2yHbwdo22kHZSNjW1xbYC9lI2j3bqNvr253c6N1z37bgluFT4kjjz+SS5gvoNunk6VLq8uqk62TsEu2P7Qjutu7L78TwqPFh8ojy9vLS8530b/Vo9nn3ffh9+ZL6eftI/EH9Wf6Z/wMBrgJRBOoF8QfVCU4L3wxfDoMP5hAfE1wVXxcxGbgamBxDHmYfVSAVIcohnyLfI1glvCa/J3UoNSmNKaYpYyotK4Yr6isqLPErgyu0KsopvygGJwMlFSP8IH8e7hucGRwXYxQ1EUoNeAnxBa4C6P8y/Wj6kvfk9ITyaPA97ovrfeiv5X3j2uF94G/fWt623BPbwdnI2CHYHdcE1lbVLNXr1SjXmtgE2ojaq9pP24jcK9523zrgZOFk41blAeey6NbphOro6gHrcus27ATtIe5v7/rwiPJy8wj0pPTh9A/13fWr9i/3Yfgk+c/6PfyI9UTwy/ar++v64f2cAlwE3AVfCLwJ6gsOEFETHxWDFj8XLhf1F7waGB48IIoiDSW/Jc0l2CVVJUYliiaGJ5En5ihYKuMpUSomLMMtwy4jLuos6ix4LM0qWCnKJ/glDSPDHmYbRhgmFB8Q7gx/CvEHvwRcABb7RPck9LbvGuzI6ZLnBObr5GTkb+R24yvha9/h3uvdetyB3Gvea+BB4ZPh/eHL4TPhiOFI4sjiduN25MHlIedv6ATpz+ia6KvoSOid5ojllubW5zLoPeha6L3oeuhB5+TlROT24s/imuPE5VLoGuqk7OHvb/KW813z/fM99iH5Afzy/vUC0QZRCf8K/wsnDZgOig/VEOMTvBfcGfwaCh0jH1Uf/B1xHUMd/BxcHREehh/KIdEjRiVqJlgmfyXfJmopdSnRJ1gojSwNMEYujStRLZ8xfDMmMfwvYzJUMgYtfyZmIp8eAxhOEDEKQwUB/6j3gfPB8g/xEu2h6GvlT+PT4Ajfc+B240/lHedy6uHt4e8P8Ujya/NI88TxOvHd8TbxT+4S62jpXejS5fbhXd5k2yvZBNgL2EjYBNgh2HbZXdto3Brd+t5d4gvmEun96x3vOfLI9IH2gffh9z33i/aP9rn0pPCh7WTuffHI8cTuSOyk6/rrb+wa7tnx0vWB+Oj7/AEKB2MHSganCJUOKhRVFpUXmBufINEiaiLcIS0hnB/qHY0dzR5mHgYb9RhqGoocZhzcGrgZvBk/HNgglSUNKE0nKiexKnwv6i/RK98rjTI4OUo7oziDNLEw/CtYJvwgeBtfEucF1vvv9qHzIe3o5Kvg0+HP5I/lYePE4IvgVuML58HqZO5W8db0yPhr+0H8K/sd+aj2q/PP7xLrUuad4a/dM9rd1ZbRYc6BzLrLTMtWzA/PltLL1u/axN/B5Hbo0utP78jynfXo90T6iPxo/RL8BPoo+CT26PJy7sTqveed4z3fL92k3l3hluLr4vrka+oy8cj2y/rS/jEFagx4EUoTURNOFI4WQxjcGGYYbhd/FjEVYxQDFGMSIw/DDEMNig+fEE4P9Q6mEREWvBl/GxUdTSA1Jc0plCyfLpgxnDTRNNwy1DHtMTEyCjBGLJEsSi9qL1UqqiD/GPwVJhQ/D9wFa/wv9Q/v4elk5CHfk90P4qvq3fFI84jvwevh7B3xNvOB8nbxr/IS9j35ZPno9KTuz+iB4wHedtd20L3KiMkWzETOVs79zZ3PIdPT1uTYq9qW31bnRO/S9e/6/f44AZgBBwFE/7n8Vvrr9+T2lvZd9GHxve6k7AvqRObB4/3jpOX65SHmi+k98MT3/f3xAgcIwwy8D2oQnBDGEbgSnBMYFDUVPBW/EV8OcQtKCbgHagVHBYMH2Ap/DooR0RTmF5waYx2RHgMg9SBmIV8lqif/KWosYyz0Lm0u2CwYLc0rESkGJMMh1SAxHQYb3xsmHs0fBh+mH4MibSPxH0MXNRF8ECoQygtqAeT2D++a6+jrGu0278vwMvGr8AHwb+6y64/pD+m96qvt0u7B7svvZPFE82HyCO7S56vhaN0B2kjXetVh1svYYdto3hrhHeJz4UvhuuJy5pLqS+5v8kT3Wfs2/Yj9WfxW+T32kvKL74jvSPDh8MvwC+/L7mHxnfAL7ojtcu8B8qT0ufZP+Oj7iP1KAX8F6glqDhgMownjCVELDgwjCQME4wJRBZ8IKgncBg4IFQrRC6cLDgv8DIYPeBIKFR8ZLR8RI/UiXyI8IxgjCiA1GqMVRhXfFqMWzhTcFRUZoxrGGT8Z3BoVHEYaShY1FBUW3Bm8GjEZ2BkGHjUifCFcG5ETJg8/CzwDC/cd6qHghNwI3SHgWubo693tAe1d69Lrz+yd6+/oWufk6cHv6PNh9mv4+fm9+Fnyj+nh4HbaRNbB0o/RLNQB2VbdK+Ao4gvkoeWW5b3kz+WI6n3xS/e5+4oAfAUcCJUGjgEB/FL3HfMd8KvuYe/a8J3xQfPv9e/4Pfr5+c/5Ofrv+yv+6gD/A4oGNQhDClEN/A91ELwODg2nDJwNjg1YC8MIgwd/B/UHeAiRCM4IRwmDCuoM/A8REyYV/BaOGfwbJh4fH2Yfhh+jHvwcHBoRF1wVPBSuE78T0RIKEb8P+A/REH8QeA41DN8MQxHjFc4VfxLDEMoSDhfuGDwXmBPYESMTvxJYEIcL3APL+4jy6OkS5Ivhq+Cr4HrjneiB7mvxi/AI7ijtXe5S74juyOya7Svw8vMr99L3r/bP8l3thOfh4qjfqNwI2qvZgd3k4wjq5Ow97oTw8vMI93L3j/Z99j35K/0KADUBIwJcA9UCjgAL/Yv5SPaE87rxIfJP9Fb36/qk/v8CdQYDCdEJsQjxBuMELgN/AiME6geHC+cLowp/CqoLhwtYBmv+3fgW+db8igDOAwcIOA5jE/EVpha/FioWRhPKD5UOzhCRFLwW0RaqFkoY8RhDFhUQygi8BMcC9QF1AScC4wWcCiMOGBCGETESChE1DnEMPA3cD84Q+A48D2YTZhjxGCMUtQ4/DKoKfAVk+pbs5OEr3L3a2tsk3yjkdukE7qTxj/Uo+bL59vYP9Bn0L/bk94H41vh9+0H/PwCB/DL1T+6S6O/iE97L2mva69x24TLn3e2B9K/4KPqr+mT8Af+VAAcAPf8cAQ4FowhYCbEHTgXRAhwAcvwo+PnzD/Fr8H3yyPZ9/O4BtQUVCDgKYwwqDcMLSglDB0MFRwMqAscCEQQfBD8C3wBnAh8EvAL9/Wv6j/yuAaoEGATRA/gHtQ7OErgR3w7DDg4QLg8HDPgJPwvHDZwOqgxKDDgO5g74C98F1QK1ApwC/wCr/44BNQZnCkoK3AmfC/gNrgwDB3gCmAJuBbUEtQCI/lUCMQmfC38JDghYCj8NdQw8B3UBAf7Z+EHvWuQT33rh7+VS6DLp1uwZ9M/6wfxo+137pPuW+QH1AfAy7mjw0vL58x31svfd+ST4MvPL7vbsvesL6Sjl4eMo54jtT/Ph9vb6gwCRBacH+AYuBbUDVQJqAI/+xP2S/nb/aP9S/84AigN4BI4CxP+I/mj/mAAHATwB9QI8BlEJVQrqCKoGLgSHAqMBqgDo/gH9Mv2L/0cDPwYnB/UG/wZRBy4HcQbRBeMFOAY1B/gIIwuDDDUMFQt1Cn8JRwi8BlEE0QKHAhwDmAMRBM4EtQVcBlgGPwZxBq4GlQV/AxECGAL/ArgDPAPHAnwCtQE1AUMAK/8Z/l39Gf32/Av9Of0d/Uj9Nv55/9gAPAGcAfEB6gG1AjgD/AJ4AW//lv2B+1n5+faS9UH1xPXr9ov3S/do9oT1y/Tk9O/0dvRd9LL0Vva9+CH7T/3r/gMAlQCRAJb/j/3h+qv4Qffr9uT2S/Z59Uv00vMo9PL0IfaB9pL1VvXr96/8/wCqAzgF3AYRCqcN4w7/DEMK5wjcCNUIQwg/CDEJvwrOC2cMuAwHDTwMIwrYB1EGrganB7UIFQnfCp8OBhJ/FGoVmBVcFSYUKhJ1ELEOhw0KDRwNcQ7qD8YQXBAKD1UKr//k8I/jL9/y42/ruu9v8OjyRPvVBZUMCg1YCNECiP5B+nb1L/IL8W/xRPPS9TL5hPuv+jb36PMr8ojwoexh5jriaOOB6ZLwRPVv+GH83wEqB4cJNQh1BB3/0vmW9pL1yPWW9Xn14fbZ+jwAigNcA8MAJP8jAFwBAAA2/Hn5iPoy/mcBPwN8BFUGHwkuC3ULbgqKCIMGMQVOBB8EfAPnAb8ABwH/A8MHKgouCj8IGAd/Bw4IUQaKAjL/gf05/bn9mf59/0oAagCP/2H+6/xE+/b5EvlW+Gv31vZ59335D/xI/sj/fAADASoB6gAOAB3+D/zk+vL6svtr/G/9Wf/OAYMEPAc/Cc4JowgxB7UGCgdnB44GjgXVBU4HeAmYCioKAwncB/EGbgUDBE4DlQLuAT8BHwEnApwDVQQnBEoDFQMjBBEEzgI8AV8ATgGKAvwCkQInAhUDuASYBc4Dlv4Z9z3vz+ld6MvpSOsP7JrtAfEB94/9OAHqAdwA2f8y/z39yPnS9S/zEvPk9M/2KPjk+Cv5r/ld+qH6lvkh90H0OfIW8j3zYfR29aT2Evnd/K4AZwNfBEMEwwO4AyoEnAS/BKcEzgTuBSoISgqKC6cLPAsnC84LfAz/C3EKNQgjB7UHBwmHCj8L3wvxDJUOOBDOEE4Qnw+qDwMQ0Q8OD/8NCg0HDS4NZwwcCv8E1v159i/xr+9k8GjxC/L58rL1cvpo/98CnwQjBbEE9QK5/9n7vfhP9xb31vYv9vb0PfTZ9Kv2b/jv+Ej4QfYE9Mjy+fLP80/0svSI9aT3BPvZ/rgBqgPxBIcFfwU/BDgCNQCo/uv9r/1d/Qv9Wf3Z/lwBCgTDBTwGfwWVBKoE/wSfBFgDXwGfAPUBOARKBg4HeAeHCHwKnAxKDaoMFQuuCf8IKgi/Bv8EigPOAj8D6gMjBAMESgPRAjgCXwAL/Vn5qPek+B37pPxI/Db8Qf4VAk4FGAb/BNgDPwMVAiH/JPsI+H328vX99A/0NvQr9tn5C/25/jwAZwKYBIMFcQSuAs4BsQGOAVUBXwHuAv8FxwgKCi4KMQrxCfwI0QbcA4oBAwAd/zn/WAD8AVwEGAcYCXUKFQvDCucJ/Ai4ByMG3AS1AzED6gOfBS4HVQbYAp3+qPs9+pn4dvWy8drv+vDZ82v2+ffh+e/8QwD8AS4Bvf5o/Av7nfm995b1nfOr8iTzC/Wo9y/6cvty+4/7Uvwo/cT8ufqB9wv1q/Qk9YT1vfWd9ij5tvyS/44AXwBjANwAAwH5/0/+tvzh+yT8Ev2k/lEAygGcAuoCTgMnA84BiP4I+pn20vX99sv3j/dS+P37XALcBwcK4wl1Ca4KHAtjCC4DS/55/Oj8SP02/UH+6gBfBEMHHwmDClUL4wrnCIcGKgWKBLgDNQJDAfECagYnCW4JagiDCI4KYwxOCwMIIwWOBGcFsQWnBL8DfwRfBgoI4wh/CUMKfAqRCWcIagfDBYcBD/qh8ZLsL+298E/z4fOk9db67gEqB98H6gUuBF8DkQFv/Fb1evAd8H3yIfSv8z3z/fTB+KT8Nv/k/6T+OfwL+vb4wfgB+A/2vfPZ8i/1cvkL/b3+dv81ATgE3AUfBKoAC/4k/bL8OfvS+KT3FvkI/EH/tQHuA64FtQYnB5gGmAWHA3gAL/2P+gT5L/hE90/2ZPdP+6cA0QS1Bj8H9QeuCPwHPAVxAZ3+Of1E/O/6aPrk++/+JwI1BJgFBwc4CGcIVQcqBs4FvwUcBdgD/wKuA+MFJwjxCMMIpwjuCNUIRwffBCMDOAKYAQcB+ABxAhwF8Qf4CocNeA8qEB8PCg41DVwMjgrYB9EFmAUYB7EIdQljCfgIPAfYAiH8GfZP89LyGfM58sHx9vOr+Aj+fAH1A1UGCghYB1UDi/19+Kv1ofMh8Q/uOuxI7YTwT/RI90/5/fqS/Bb9S/yv+lb4hPWr8gTxFvES8qjzefW99xn7Af8qAm4DVQOxAioCnAGd/2H8nfkr+NL3CPjS+Fn6L/xd/X39lv2y/h8ATgBW/6/+mf+YAYcC3AEfAZgCeAY8Cc4IcQaHBXEH/AjnB+4EJwNfBHUGygZxBY4E1QWRCDwKwwmfCBgIHwjcBxgHrgZ8BhwGagWcBDUFLgduCFEIrgfuB38JcQqfCaoHHwYcBgoG3ARxA7gCxwOnBQ4Howe/B9wHqgcYBvEBAfxI9oTycvAI70vune5P8CjzNvZL+XL8Mv8HAXUB6/82/Xb6EvhS9nn0wfK98STxIfEE8oHzefVv98T4T/nd+MH3ffZk9W/0BPTh8yj0z/Tk9QH4pPqI/ZL/fAAfAXwBRwEfAOT9CPud+L32L/Wk8zby4fHd8lL1qPiv+8T9aP/1AXEERwU/BF8CtQHjAh8EQwMxAW4AcQLRBacHXwe1BngHBwncCe4ILgffBuMH8QhOCTEJKgnxCf8KfAuVC4cLjgs/CwoLYws/DLgMbgwHDGMMqg1mDngOAw6HDWMNMQ3/DKoM1QyKDa4NFQ0/DHwLwwquCHUED/8E+kT2KPOr8GTvz+/P8W/0BPfI+Sj9VQAfAh8CHAHE/+/9PfsI+Nn0T/LP8MHvT+/977rxxPNv9aj2vff5+Jb5kviy9tL0OfMZ8iTx+vBL8s/01vfB+mT97/9YAtUDIwRHA7gByP+I/Qv7tvio9jL1r/Qd9I/zgfP99L33ZPoB/N38vf5HAU4DmAOKAicCgwO/BX8GSgVxBK4FXAgYCqMJCghuB+MIqgrVClgJXAg8CVgLnwwKDPgKlQpnC/ELPwsjCrUJ5wrcDGMOxg9KEXwT4xXGFhgWGBRKEvwQ9Q5/DD8KmAmDCtgLzgw1DQoOkQ/YEC4QDg1VCIMDEv/2+RL0i+5o6y/rq+zE7l3xwfTW+K/8BP/2/73/iP5S/Nb4a/QW8AjtMusE6lrpa+lr6lrspO7S8NbyOfTh9Hb06PLy8P3uGu3668HrXezv7UTwZPPv9mv6i/3S/xEBDgHo//L9svuZ+Vn3D/XZ8gjxi/Ah8bLx/fGS8sH0gfgB/KH9sv02/lUA6gJ/A/wBagA8Ac4DPwV/BDEDcQS/B3wKzgpqCXEJsQsjDm4OnAzDCqMKvAu8C+oJBwjfB2MJHwsHDBwNqg/REv8UfBVRFdEVyhaDFqYUlRIKEXUQ8Q+fDi4NNQ2cDkMQBhHDELUQbhHOEjgTphF1DooKwwajAoj9CPhI833wK/Ah8YjyL/Qy9j35r/wd/7n/of62/H369vcB9XLx8u3L6zrruut27BbtJO6r7y/xMvKZ8mTypPGv8HrvIe7o7FLsz+xd7oHw3fJy9fL3NvpL/OH91v4P/zb+z/xh+0T6mfmk+Aj3gfUy9eH1dvbh9fn0vfVv+Pb7Xf42/73/igF4BLwGhwf4BtUGQwg4CsMKXAkVCIoIeAq/Cx8LHArfCrENmBDKEUMRoxAqESYSihHODtgLrgpqC3gMPw08Dj8QoxMKF2MZ5hoVHM0cnxtRGIMUwxExEFUOowujCeoJnwzRDxwRXxGfErUULha/FPEQKg1OCkoH8QGk+uvzD/A67xrvCO5S7Z3uUvLL9jL5aPnZ+Mv4svgI90/z6O4k7P3qPeo96ajoa+my613ufe/67ivuD+6h7qTu0uzd6cjnuufv6AHq1upk7IjvSPOv9Xn2KPeS+Hn6EvtE+av2XfUB9sv2QfaW9Dbzj/PZ9B31OfOy8Jrw0vMk+EH6oflo+S/8VQEnBQoF+AKxAs4FKgn1CJgFFQPqBEMJnws/CrgHKggxDGYQrhH/D1wOKg8xEZ8RPw/HCx8KSgvVDW4Pyg9/EBETDhdfGp8b0RqVGQ4ZihjjFv8TjhDfDV8NfA54D1UPFQ8KEH8SyhQcFYYTnBGmENUPnw3YCO4Cy/0S+hL3qPOE8MHuOu+L8Zbzi/Q99VL24fek+KT3PfVZ8iHwfe7d7Bbrwek26cTpVuu97EvtC+2o7LLs4eyL7HrrMuqB6YHpj+nd6c/q9uzh7yvyffNS9Mv1C/jy+WT6hPnh+Fb5IfpI+kv5K/gZ+M/4RPkE+KT1wfM982/0cvZ2+FL6aPxW/8cC0QXcB5wI6ghxCSMKlQqxCdEH+AbfB/gJvwvnC7wL7gwVEJETShXcFJ8TbhPjE3ETPBF4DjgNMQ5uEGYSvBNVFU4Y5huYHvweWB1jG7wZeBiYFm4TVRC4DtwOBhAKEY4R/xFmE8oV1RZjFRUS7g6/DZEN3wsYBzwAi/qL99L1S/M2793ryOt67uHwBPGa70vvYfG287nzffCW7MTqFuuk6+vp9uaL5brmeukI6x3qS+ik57LoGuoS6oHoOueB58/or+m66SHqIexE76/xQfIh8ivzr/X594j4q/fr9r33nfnE+l36efkh+db5iPp9+d32mfOv8RnyL/TL9jL5q/sS/5gDpwdHChwLjgoYChgK6gmYCHgGHwXcBV8I/wrfDDgOERC8ElwVAxcxF3UWKhVjExURuA74DC4MtQwuDmMQPxPVFu4aQx41IJ8gcR84HXUakReVFNERxg+qDu4OThBqEkMU1RQ4FR8WShfKF+oVERI1Dk4LVQlVBp8AsvmW89bvNu4W7Q/s1uuh7SjxS/Sh9Rb1svOd8tbxwfBS7ovqCOc25WHlGucP6R3qa+pa6ovqy+r66gTrPeq66P3my+UI5lrna+gv6Wvq0uxP8Fnz6PRB9b31+fY2+MT4L/j59i/2nfY5+B36RPvB+h35tvf29h32dvRE8qTxOfTP+Db9DgDuAZgEkQhVDLENSgy1CRwIYwjcCFUIKgdRBwoKTg5mEn8UFRU1FngYXxr8GZEWrhHYDRUM0Qt8C9gKnwt/D/wVThwYIFEh/CFcI/8j+CBOGjETEQ/KDiYPJw5DDXUPcRWuG3UecR2YGyYb/Br8F1wRqgm8A9n/j/sL9S/uyOrh6wjvAfES8Y/xS/Rr+HL6BPhr8nrtC+yk7NLrOujy4/Pij+YE7EHvi+4I7MHqL+sv63ro8uPL4I/gj+L248jj9uOL5sTr0vBv833z9vKE84v0VvR28r3wmvCW8nn1ZPdP+Fn5gfsv/mH/ef0L+Uv0GvHk7r3ssuu27bbzuftVAvUF6gejCn8O4xA8DycKHAVnA5UEPAbqBjUH0QmmD0YWjhrqGuMYdRcuFw4WQxInDAcHbgUnB/EJHAyYDj8TNRr/INEk3yTDIoMgbR6jG2YXNRIKDscMnA44EqoVPBiRGlUdKiBDITUfLhq4E4oN/weRArb82fbS8fbtr+v96svr4e5o85334flP+ej2wfPh8OTuKO1h62vpa+d65k/nSOpa7jbxy/HB7xrsT+gv5b3igeCE3pbdZN7P4Cjklufr6o/uK/Lo9CT2a/Vk86Tx5PDW8N3w6PCh8a/zy/Y2+g/9yP6E/2H/Hf4P+4j1z+0v5uvhduOv6lb0r/x1AhwHPww/EbETDhI4DUcIdQUqBI4DYwP/BMcJvxBfFxgbvBv8GjgalRm4F84TCg/1ChEJ0Ql4DDUQURTqGBUeHCPRJrwnvCVYIq0exhuRGYYXkRYVF0MZfxxxH58hTSN4JJ8k/CLmHgYZQxKcC6cFvf9S+d3ycu1h6gvqz+sW7z3ztveS+xn9aPsZ9zLymu6o7KjrK+or6CjnYega7Jrw6/MB9TbzGu+y6Q/kgd+B3AHbs9pk20TduuBP5f3pD+4B8ejy6PO583ny2vBS73Luy+4d8NLxyPO99dL3BPqv+2v8wfuS+Uv2lvGa68vlj+II5CTqgfJo+lUAcQTDB4oKPwz8C9wJVQeqBYoFnAaHCEoLHA+xEwoYvBoVG9EZ8Rf8Fe4TrhEqD9EMZwtRC/gMIxBOFOMYTR28IKYi3CJtITgfXB2xHKYcERxDGq4XnBY/GM4blR+8IQ0iVSG4H7wcAxhYEgoNvAhqBOv9wfRB67bkPeMP5k/rVvEB96j7Ev4k/Sv5NvRa8HLuEu1r6mHmBOPv4s/ma+2o8wT31vZy8yTuCOj24f3c/dlE2WTaL9xa3g/hxOSS6U/uKPJZ9KH0cvMv8ZruuuyL7F3uSPFS9Ij22fcW+X36kvvP+8v6+fc289LsFuZh4RrhKOZB73n5DgKfB1UKFQt/CvEI4waKBXUFYwbcB4oJygucD98U/xkcHQMdbhr/Fi4URhIjEXgQIxBfEP8QphFGEq4TdRZcGm0eoyFKI8Yj6iOfI1wi6h/1HIoadRl4GQ4aDhstHZEgwyNcJTgk/yAqHfwY5hNHDZ8EOfuy8t3ra+eE5brmgev28hb7GAG1Av3/nfrv9Lrwne0h6xrp6+eE6Lbq5O1L8YH0C/ek9zb1qO9d6I/hvdx62sTaFt3h4Cvlvejo6qjr8uvd7KHuaPAB8RLwNu4L7ZLt5O+L81n3cvrk+2v7hPkv98v1pPWo9Wv08vCS60vmkuPa5I/qcvPv/K4E5wh/CZUH9QROA6cDuAWDCDELxwyfDYMOShBjE/8WAxpKG58aERiDFEYRjg/jD4MRFRN8E+oShhJ1EyYWChpjHpUixiUYJ4MlvyGqHZEaGBljGBgYXxiqGSMc7R5mIdUi4yJ8IXEedRnVEhwLmAId+pnypOyS6Nbm/ecE7CTyi/gr/Zb+SPxS93bxcuw66QHoUuhI6Zbqkuwk76/xQfM9853xOu6L6ejjOt4a2l3Ymtkd3aHhsuWo6D3qHerB6GvnGuf258TpkuvL7Ijtoe6P8DbzEvZZ+Ev5nfgB96T0L/Iv8OTuRO427ZLr8uko6rrt/fOZ+lL/BwKHA24EfARfAycC2AKnBmcMnBE8FG4U8RNKFJwV+BbjF1wYrhgfGd8YjhfVFXwUShQOFXwV1RSVE1wTmBV1GmYgLSXqJ3EoAyfRI/UeoxlDFj8Wahn/HVghyiLKIhgiYyFmIM0eNRx/GK4TXA2cBUj9lvXk7/LsL+zo7NruUvIW92v7q/2S/HL4K/OW7qvrPerk6avqyOzL7+TypPRk9NbyNvDL7MvokuT24H3ehN0k3k/gfeML5z3qEuwL7Jrq6+gS6NboyOoh7X3vofGk8z31b/Zo9z34/fhS+Qv5Ofgv99L2K/dS9yv2mfOo8E/uNu3o7KHtgfDr9UH9KgRDCCcJdQgVCLUItQlVCuMKUQy8DjwRFRMuFEYVQxf/GQ4cFRy/GfEVHBJuD4YOag/GEUYVHxmDHJwe0R78HTgdUR1GHuYeeB78HHgb/Bp/G0ocxhwNHf8dfx+fIFwgRh61G6YZ5hdfFa4QnAlHAW/4IfAa6R3k2uJh5gjuhPdh/24C0v/h+HrwFun64/rhtuKv5QvqXe6d8T3zaPOW8nbwBO2h6IHjPd592UHW+tX92KHeMuWS6oHta+3P6tLmFuNh4YviK+ba6uHugfEh80j0T/UB9iH24fWL9Qv1b/T58+vzS/Sd9Db0dvKP7yvsfekh6RbsefL5+l8DdQknDJ8LLgkxBuoDbgNHBSoJpw08ERwT1ROVFEYWnxiGGi4bMRrGF4YUGBFODgcNFQ51ERUWkRqGHZ8eZh6jHbEcnxtuGsMZDhrxGqYb/xqGGXwYxhh8Gnwcfx0tHRUclRqxGB8WvxI4DxUMHAkHBbn+ofZd7ijopOX25ovrPfJB+V3+Pf8d+zLzgeov5MTh2uIa5m/q/e728j31HfWr8t3u9up25+/jM+Dd3A/butvz3t3jJOnB7cjwi/Hv733sVuhE5c/kL+er673wD/VI+H36cvsh++/5WfhL9zn3i/eo96v39ve5+B353ffd9ETx6+427wvylvYP/DwCYwj8DIoO2Aw4CRgGXwUKByoKmA3fEOMTlRbVGDEanBpDGrgZ8RjGF/EVoxPfEVwRnBIVFeMXRho1HOMd6h4GHwoelRy1GwYcBh2cHdEc+BpKGVwYGBgGGLwXnBc1GD8Z0RmOGIoVWBIREPwOWA7ODOoJ9QUuAXb7MvRh7Bbmi+Pd5ejrNvMr+bn79vlo9JLsy+Qk3yvdZN9E5NrpaO7o8GHxz+9o7PrnduPP373dRN3a3R3fKOFL5AHoSOt67SvuXe0962/o4eXL5Nbl6+id7bLy/fbB+ev6efq9+Jn2pPTB81L09vU9+IT6hPzZ/QH+ZPzh+Ij09vBE78TvOfKd9h39/wRfDOoQahGcDpUKLgcOBX8EvAUVCUYOERScGK4aphoqGSYXHxUfE0YRAxDcDw4RMROOFc4XuBl1G8Yc0Rw/G44Y/xXDFP8ULhaGF7wY8Rm8GlEaDhhOFKoQSg5ODTUNUQ3RDbwOww9VEN8P3A6qDUMM2AnxBJn9ffW67tLqeunv6cTrIe+d82H3S/g29f3uy+da4uvfSODr4gTnD+y28CvzZPK27uTpweUa45Ph0+Ah4Qvja+Yd6vLsfe4a72Hvdu+d7rbsmuph6T3qOu328GT0K/dy+VL7SPzk+yv6SPir95b4r/oS/S//NQExA8cELgV4A8v/K/vo9jn0xPMk9pn7mAN8DNgToxf8Fn8SGAwVBiMCagFxBHEKkRHGFz8bfBtmGUYWNRO8EE4PQw+REP8SoxWuFwYZtRkGGuYZ+Bg4F+YU3BK/EeYRNRMRFR8X3Bi/GTEZsRaGEtgNDgoHCP8HOAkRC1ENZg+GECoQRg7cC9gJlQj1BxEHFQV8AR38kvXk7gvpK+Vd5P3mMuwP8t31pPV28cvqyOOL3oTcNt4h47bp+u/W8zn0MvEh7AHnYeML4vPikuXk6EHs7+5y8Jbwve/v7ojuiO6r7pruZO7E7hrwZPJZ9W/4a/vy/T3/BP+2/fn7+fpZ+zL9VQAnBKoH6gnOCpwKlQm8B9EEvACW/K/5y/hZ+qj9lQLKCG4PnxQ4FnETZw0HB+MCCgIRBC4IlQ1xE2oY0RrcGUYWphK8ELEQ9RFDE1UUHBV1FVEVJhRfEvwQxhBqEfERrhEGERERChKOE2MUHBQuE8MRBhCVDZEKOAjHBycJkQu8DcoOuA58DS4LDggxBbUDCgTHBV8HPAdxBBn/KPj28LLqOuYW5HrkS+fE6y/wj/Lo8avuK+rB5b3ixOEa47bmb+v97+jyQfN28ZLuoetS6aHnyOYP5zroPepP7OvtK+9a8Jrxi/L58pnyvfEL8fbwqPEE8y/17/cB++T96P+cAAcAVv8r/2v/FQDfAOMBSgPjBCMGlQbqBR8EMQFL/TL5SPYk9lb5Fv+jBRULPA6fDioMqgdcAkv+gf1VANEFkQvDD+oRGBLYENEOtQxcC1ELcQwfDnUP2A9qD8MOIw7DDaoNnA24DbwNhw0VDaoMqgxYDc4ObhCjEfER/BDKDgoMhwnYB4cHHwgKCfEJlQruCoMKJwkRB+oE6gM4BCcFxwWOBUoEowEy/ST3QfDL6cHl9uTr5pLqz+5k8v3zMvMS8L3r/edB5ijnVuqd7p3ydvWd9hn2PfSk8SHvne1r7SHuT++r8CjynfMI9Uv2b/dr+Av5S/kI+WT4y/eS9x34vflZ/IH/gwLKBOcF5wUjBQcEIwPOAlUDvATDBhUJNQvKDDgNTgw1CuMGagK9/Y/6C/ok/ET/9QH1A+oFdQi8CjgLowlOBwcGQwbjBrgG4wU1BtwIHw3VEGYSBhLqEM4PVQ5VDF8K6gnVCxUPsRHuEe4PYw1VC1EKGAoRCqoKZwwcD2MRsRG1D84MrgrOCW4JcQgnB8MG+AdRCu4L4wu8CpUJ9QhHCPgGJwURBNgEKgfnCOoHqgMo/S/2GvBk62TouucW6tbusvOP9m/2IfT68OTtdusE6j3qaOwv8Dn08vad96T2C/Vk87bx2u9y7g/uz+5k8M/xD/Nh9M/1PfcW+N33qPYv9UH0NvTh9Bb2BPgB+5n+sQE4A98CjgE1AEH/qP6B/i//+AC4A3UGQwh/CEoHPAWOAkj/Ofv99r3z7/JB9fL5lv+1BG4ICgoYCYcFIwD5+iv4D/kd/fwC/wifDVwQrhCjDkoL+AfnBacFIwefCUMMZg6jD9wPEQ+DDVwL5wjOBp8FsQXRBqoI7gpYDWoPLhAmD1EMrghfBTwD4wL8AyoGtQjDCtwLjgvRCT8HpwTDAjECnAKDA4MEHAUxBdEE1QNnAYT9lvhS88/ur+tB6k/q2uuB7l3xWfOr8xnyS++W7NLqq+r660/uKPHE86T1OfZ59ZnzZPGk78Tuy+5P733wIfLv87L1xPYP9xb3/fbI9l321vV29bn1CPcr+bn7Ev4OAFgB0QG/ARgBKgCd/93/AwH1Av8E0QZcCEoJjgnYCDwHTgU4A+oAHf4L+934Qfgv+av6Uvyy/tUB9QScBu4FdQMOATgAuAC/AfECBwWYCJEMDg/fDmcMbgmRBz8HvAdHCBUJsQrYDHwOhg4HDR8LvAknCRUJ4wiYCLwIrgkuC64MmA3KDYMN+AzYCyMKHwiDBicGAwfjCOoKFQwcDPgKEQkKB04FLgTuA5gE5wXjBnUGHwTo/+v6OfaI8j3wUu8B8K/xpPMB9SH1PfS98nbx5PAv8UHy2fOL9eT2nfd59/L2IfZS9bn0PfQP9Ej0lvTP9B31ffUd9uj2j/fo9+T3y/fr9zL4Yfih+ET5iPpo/Bb+9v4y/x3/Mv+E/7b/+f/OAGcCfAQ4BjgHbgc8B/gGfwbKBe4EJwSRA6MCpwBh/c/5b/f59qH4ffuy/h8CSgVcB1gHKgUxAlgAtQAVAzwGAwkxC84Mxw2ODb8LfAkqCKMIWAoVDFEN3A0YDhEOPw1DC3gIUQacBT8GmAfuCBgKQwt/DA4NagzfChEJAwj/B0cIRwg1CDwIdQjcCLUICgiqB+oHowj8CGMIPAcnBpwFgwVYBYcEpwK2/8j78vbh8cTtsus67OTuYfI29XL2D/Zh9P3xqO8y7lbuffCy83n26Pek90j2gfTB8kTxWvBW8Frx6PIy9Kv0dvQo9Fb0D/Xo9Xb2q/bE9tL2xPZ29hn2ZPbB9wj6ofyk/qH/9v/5//n/3f+r/wMAKgGxAioEBwU4BUcFUQU/BcMElQO/ATn/z/uW93LzL/FE8jL2SPvP//wCtQTjBD8Duf/Z+zb6Ofz8AEoG3wlRC4ML4wqfCZUHbgWRBK4FPAjDCiMMcQxqDLwM3AwHDOMJ/AanBH8DdQMfBKMFOAi1C+4ORhDYDioL+AbxA+MCgwNKBdEHZwpDDI4M5woOCAMFMQNHA5EEeAbOBy4I7gffBvgEHwKh/gv71vdW9Z3zr/KI8l3zC/Wy9o/3Nvcd9sv0r/P58uHynfME9dn2Qfi9+Cv4/fbk9QT1cvQZ9ET06PTW9Zn2wfaE9kj2T/aI9rn2i/ZP9mH2q/Yk93b3y/eZ+Bb6xPvv/G/9hP22/Xb+gf9fAD8BPwJ/A8oEjgXOBbwFrgXcBfEFzgUfBbUDxwFk/7n8Wfr5+BL5i/rW/G//PALcBJ8GFQc1BtEEFQRVBHwFJwcDCTgLjg0mD1UPFQ4qDKMKKgqnCmoLOAxDDYoOrg/xD/wOPw1nCwoK9QjnBw4HpwYuB44ILgp8Cy4MTgwcDGcL+AkOCEoGqgV8BioI7gkfC78L/wu8C9gKMQlqB1UGMQaqBucGQwZ1BJwBNv6L+uj2/fOP8v3yxPSo9tL3CPhy92j2EvWW84jypPL28/31r/dL+N33z/bB9fb0ffRr9Nn00vXy9n33AffL9bL0QfSE9Db1z/U59oH26/Zk94j3mffI95L4Evq9+wj9qP05/gH/5P/DAG4BFQLuAu4D0QQRBb8EUQT8AwcE0QMjAz8CCgFy/yH9WfoB+D33b/gv+2j+JwEjA1EEpwS/A98BGACr/zgB9QO1BqMIgwm/CWMJXwgOB7gFLgXfBUMHpwiqCVEKzgo1CxwLEQpDCBUG/ANxApEBjgGcArgEMQcqCQcKYwm1B5gFnAM/AucBfwLOA2cFmAZfB3UHAwdfBn8FnwSuA8oCEQKDASMBBwFDAYoBYwFYAEH+OfvB96j0iPLd8Z3yNvQE9m/3y/f59mT1ofOE8kHysvLE88j0XfWL9S/1j/Q59Ij0ffXP9gH4Uvik91b28vTv853zD/Rd9ST30vgI+kT6qPnE+Bb4Ifgk+b36gfxI/tb/EQHKAfUB1QGYAc4BZwL/ApEDCgSHBPwEgwX1BRUG2AU4BUoErgJVAI/9KPv2+XL6KPwP/oT/UQCYAFUAi/+B/gT+xP7VAGoDZwVRBj8G4wWxBbEFxwX1BYcGdQdxCAcJJwkYCQ4JWAm/Cd8JcQlcCB8HHwaRBa4FKgbnBvgHIwn/CfUJygg4BxEG9QWqBnwHWAhHCWoKeAu4CxwLDgpYCVgJqgmHCZgIageYBl8GcQZxBuoF8QSqA6oBz/5o+0H4UvYE9hL3ofio+fb5hPmE+FL38vXv9Kv0QfVr9mT3hPe99pL1q/Rv9Oj07/VE97L4kvlv+Xb45PZo9Z30pPRk9a/2Pfiv+b36JPsW++/69vpB+8j7lvyE/X3+KP+o/x8AmABVARECnwIYA2MDowPOA7wDsQO8A/UDEQT1A24DLgI4AMv9i/sy+mT6CPzE/rEBDgSKBccF3wQYAyMB6P8HAFwBfwOqBTgHPwjOCNwIowhcCCMIQwh8CJgIfAgnCMcHmAfOBy4IYwhKCM4HHAdKBk4FnAQ4BBUEQwSKBIoEMQTOA5wDnwOfA4cDVQM1AxUD3wKxAnwCbgKVAv8CagNqA/gCRwKVAR8B9QDxAAcB/wC8AB8AGf+2/VL8HftB+s/5lvmE+WT5L/nP+Ev4z/dL99L2aPb99bb1i/U59ev0r/SS9P30mfUv9pn2q/Z99jL24fWk9Y/1mfUE9rL2kvdh+Mj4Hfly+cv5GfpZ+q/6IfvI+4T8Ev2E/c/9Ev5v/rb+C/9h/73/VQAHAZgB5wEfAjwCJwLnAT8BXwBP/33+S/7I/sj/mAAuAaMB9QEcAtgBFQEuAK//5P+qAJwBVQK/AjUDsQMYBFUEQwQ4BJUEKgWOBaoFagUHBd8EIwV8BbwF+AUnBlwGagY4BrEFXAVOBX8F2AXxBdUFnAV/BZgFuAWuBXwFRwUnBTwFXwV8BYMFdQVnBXEFcQUYBZgEIwTRA7gDrgNxAxwD0QJqAvEBeAHjAFwA8v+W/0T/y/5I/s/9Of2h/Bb8S/t5+r35CPl2+OH3cvcP9732pPaL9oH2b/Yy9s/1VvX59MT0qPSy9Ov0S/XW9X32HffI92v4KPkP+vb6vftL/Mv8Vv3Z/U/+1v5S/8H/LgCVABwBkQEDAn8C4wJfA+oDXASVBJEEMQSnAxUDdQIHAtUB/wFjAtUCPAOOA7EDkQMjA38CHAIKAjgCfwLYAnEDIwS/BF8F3wUxBm4GnwbcBu4G4wbRBvEGNQeDB98HMQhxCHgIbghVCAoIsQdqB0MHQwdfB4cHwwfRB4MHHwfOBn8GJwbDBVwFKgU8BWoFeAVRBS4F7gSVBCoEjgMHA5UChwLKAs4CqgI/ApUBCgF/AO//ZP/E/jn+qP0Z/Y/87/tW+8/6dvoE+pL5+fgr+G/3qPYP9rL1aPVZ9Wv1hPWd9Wj16/RW9MvzgfNo83nztvME9I/0QfXh9Vn2ofbk9kv30veS+GH5HfrL+mj7BPxZ/Iv84fw5/c/9ZP7h/lL/r/8KAFgAowDuABEB9QCjADEA4f/E/9b/7//v/8//lv+Z/6j/pP9W/6/+Vv5y/uH+Mv85/yT/SP/d/5EADgEqAUoBowEnAqcC5wL4AhEDUQOnAxgEdQSYBLEE7gQ8BYcFqgWuBbUF3wU4BoMGgwZ1BmMGWAZnBn8GfwZnBkcGOAYqBhUG3wWHBWMFYwVcBTgF+ASuBH8EfASHBHgEPATRAzEDnAJKAvUBigEjAaMAHAB9/8v+CP4r/Wj86Pt2+xb7qPod+ov56/hP+KH3CPeh9mj2S/Yy9iH2y/VP9e/0mfRd9C/0CPQh9Gv06/SB9fn1cvbh9n33Mvjo+KT5QfrW+mT77/tv/O/8aP3d/Xn+K//d/1EAlQDjAGoBDgKOAuMC7gLOArwCqgKDAmMCkQIDA5UD+AP/A9wDigMfA9ECfwJOAoMCFQPVA4cEAwVHBW4FfAV/BZgFwwXnBTwGwwZKB9wHbgjjCEMJgwmxCccJsQmDCUMJJwlKCcMJVQqxCrwKgwoqCq4JOAm/CF8IJwgjCFgIcQg8CL8HQwf/BuoGzgZ1BuMFbgUYBc4EigQnBNEDnwODAzgDnwLOAe4ARwDd/5L/KP+h/i/+q/0d/Wv8kvvI+kT69vm9+W/55PhI+LL3QfcB9+H20var9n32RPbo9Vb1tvRr9GH0j/T29E/1lvXd9Rn2Yfav9uj2Ofek9z347/id+ST6iPr5+ov7RPwB/a/9K/6E/sj+Hf+E/+v/cQAjAbwBKgKDApUCXALxAZ8BqgH8AVgCcQIqAtEBrgGjAa4BvAGjAa4BGAJ4ApwCigJcAmoCtQIYA18DfAN4A5ED3ANRBMoEMQWHBbwF0QXYBdEFygXfBQMGMQaOBtgG2AaVBjUG2AWOBV8FLgUOBQMF5wTjBMoEjgRDBN8DgwM/AwoDvAJYAhECGAJYApgCowJ1AjEC8QG/AV8BsQD9/2//Ev8B/9L+j/4y/pb9CP1r/Nb7K/uL+hn6qPlE+dn4aPjk93n3GffS9oH2BPao9WT1L/UZ9Qv1AfXv9PL0C/UL9QT17/T99Ev13fWd9kH3vfcv+Lb4IfmZ+RL6cvrk+lL78vuL/BL9of05/sv+RP+5/yoAhwDYAC4BYwFuAVUBMQERARUBWAHYAXUCBwM/A/8CeAL1AZ8BZwFjAZEBCgK1Al8D/ANVBHgEYwQ1BP8D2APYA/UDVQTjBJEFPwa8BgMHBwfVBpUGZwZDBjwGXwaOBr8G3wbxBvUG+AbjBrEGbgYRBrwFPwXKBIMEcQSjBNgE8QTcBLgEeAQjBKcDLgMHAw4DLgNKA0cDTgNOAyMD2AJqAtUBNQGxAEcABwDh/6j/Xf8W/8H+S/65/RL9kvwk/Nb7i/sZ+5b6Ifrr+cv5ofl9+Uj5CPnS+JL4SPgS+PL3BPg2+Gv4r/jo+A/5OfmE+e/5aPrZ+j37i/vh+0/8vfwh/X397/1Z/tn+Vv+o/+v/NQCjACMBmAH8ATECVQJfAlgCUQJKAicC/wH/AU4CvAIVAxgD5wK8AqMCrgKcAocCowLqAmMD5wNHBHgEkQSfBKcExwTfBPwEHAVVBbgFKgajBv8GLgc1Bw4H6gbcBtUG3AbxBgoHFQcKB/EGygZ/Bg4GigUOBa4EeARDBAcE1QOcA24DNQP/ArECdQI1At8BrgFuATgB8QCuAH8ATgA4ACMA+f+9/13/4f6B/jL+6/2o/W/9Pf3y/KH8Qfzr+4/7Qfv2+qv6Uvrv+Zb5KPnW+Kj4iPhd+Dn4EvjI94j3SPcL9932r/ar9uH2C/cr90H3VveB9733EvhZ+KT46Pgo+Xn5ufkL+l36ufoo+3n7xPsS/Gv83fxL/bb9Gf5r/p3+wf7W/s/+2f4I/1L/r//2/yMANQAjABEAGAAxAGMApwD8AFEBqgEDAlwCnwLRAgoDPANxA6MD3wM8BLEEFQWDBQoGXwaKBpgGmAaYBrEG1QbuBv8GAwcfBz8HTgc8B/8GuAZqBg4GuAVOBfUEzgTRBNEEjgQ4BN8DowOfA3gDPwMDA9ECqgJfAjEC/wHcAdUBqgFcAfUAqgBcABwA5P+d/4j/dv9I/+/+T/65/Uj95Pyh/GH89vt2++j6b/oh+vL52fmk+X35WfkZ+c/4ffg5+Aj46PfW96v3pPe598/3AfhI+IH4vfgL+Uv5ffmo+ej5Ofqk+hb7iPvk+0H8qPz5/Fb9wf0h/nn+r/7W/t3+4f4B/zL/gf/2/2cAlQB1AEMAMQBKAHUAjgCnAMoA/wBYAbEBAwJKAp8C+AJHA44DtQPfAy4EjgQKBZgFGAZuBq4G6gY4B3gHkQeuB78HygfYB+cH4wfRB98H3wfYB8MHgwc4B+4GjgYxBu4FxwWqBYcFXwU/BScF8QScBCoExwNxAxEDwwKDAkoCJwIYAvwBygF/ARwBvABDAMT/Yf/9/pL+Nv7Z/WT9+fyy/Gj8Hfy2+yv7ofoP+oj5GfnS+K/4iPhW+CT48ve994H3Wfco9wT37/bk9vL2Ifdv9733Fvhr+Ln46PgS+UT5hPnS+Tn6svo2+737Mvyr/Aj9Yf2y/ev9L/5o/oj+lv6Z/qv+7/5k/+//XwB8AF8AQwAnAEcAeACVALUA7gBKAaoB+AEqAl8CpwLuAjEDXAOVA9wDPwS/BFUF6gVcBr8GBwc4B1wHgwejB9gHKgh1CKcIvwjjCP8IFQkcCfwIzginCGMIDgi8B4MHbgdfBz8H/Aa8BoMGZwZOBvEFdQXqBIoEVQQfBOoDjgNDAxUD+ALKAmoC8QFcAbUAPwAAAMj/Yf/d/kj+q/0k/a/8OfzL+0j7q/oZ+oT54fgy+KH3Mve99h32WfWB9Pbz+fN29Av1JPWo9N3zT/NW86vz5PPo8w/0j/Rv9ZL2aPe99wv4gfgI+Yj5yPnL+ev5a/po+538nf09/oH+r/7k/h3/Qf8r/yT/aP/9/6MAFQFHAUMBPAFcAXUBagFHAS4BRwGcAfgBMQJjAqMC9QI/A38DqgO4A8oDCgR8BO4EQwV4BbgFDgZxBsoG5wbqBgMHNQduB38HSgcKB+MG9QY1B2MHUQcKB7EGcQZRBiMGxwVcBf8EzgS/BJUEWAQHBLwDowOKAzgDygJKAucB0QG/AbgBnAFjAUcBHwHnAJgAOADr/7n/pP+W/2v/L//d/oT+Nv79/c/9i/02/eT8q/x2/Ej8C/y5+3L7JPvy+sH6ffo9+v353fnW+bL5cvkk+fL4+fgS+S/5Qfkv+SH5Ofly+aj5tvnL+d35D/pr+qv68vov+2v7qPvP+/b7EvxZ/Mv8S/3P/S/+dv6y/vb+Of+L/+//UQCuABEBhwH/AXUC7gJjA9EDMQSKBNgEDgVcBbgFGAaRBvwGVQeRB7gH6gcKCDgIeAinCMMIzgjKCMoI4wj/CAoJ8QiuCHwIXAhVCDwIAwjKB6cHlQdxBzUHzgZjBg4GxwWRBUcF3AR8BDUE9QO8A3gDHAPKAnUCGALDAWMBAwGcAEcAGADh/5b/SP/2/rn+ef5E/hb+uf1L/f38vfyI/Fb8EvzI+3b7L/v5+tL6r/pk+gH6qPlk+UH5L/kd+f341vi5+LL4qPiL+G/4VvhB+Ej4Xfh9+KH4ofiv+NL48vgW+RL5Evky+XL5xPkE+ij6RPp2+sH6Evtd+6T75Psy/Jb8C/2E/e/9Uv62/iT/pP8OAFwArgAOAY4BFQKVAhwDlQMYBJUE7gQ1BYMF0QUqBo4G1QYfB1UHigfRBwMIMQhKCEoIOAgYCPwH4wffB+cH7gfuB+cHzgenB2oHHwfOBmcG+AWnBV8FEQXcBKcEYwQfBLwDSgO1AgMCXAHRAG4AAAB9/+H+S/65/UT91vxd/OT7Xfvh+nb6HfrP+Xb5Ifnh+MT4r/iS+Hb4UvhE+F34efid+Ln40vj9+ET5kvnd+Q/6Nvpk+qH66/o2+2j7ofvy+0j8ofzr/CH9Xf2r/ev9Ev4o/kj+cv6W/sT+8v4Z/0T/a/+d/9b/AwAxAE4AVQBVAF8AgwDKAAcBOAFuAZ8BwwHcAeoB7gH4AQoCLgJuApgCzgL/AhwDPANKA1gDbgORA6cDpwOxA8oD2AP4AwME/wMVBBwELgQxBC4EOAQqBBgEEQQKBA4EBwT1A9wDvAOcA4oDhwN4A1gDOAMfAwMD7gLOApUCcQJKAhwC7gHDAY4BXAE4AREB8QDKAKoAigBOABUA5P/E/5n/ff9I//3+vf55/k/+L/4W/vL90v2v/XL9RP0h/Qj9+fwB/QT9D/0E/ej82fzW/OH8+fwS/ST9K/05/Vb9cv2d/b395P35/e/9/f0E/hb+K/5I/oT+yP4B/yj/Pf82/yj/Nv9B/0//aP95/6T/6P8RADEAOAA4ACcALgBcAGMAbgCVANgAHAFHAW4BagFjAW4BeAGHAZwBvwHOAdwB6gHxAd8BzgG4AbgB5wEOAi4CEQIDAr8BbgGRAZUBZwE1AVEBbgGRAc4BuAGDAUoBHwHHAHUAVQAYADgAigDHAL8AfwBDAPL/0v/I/9L/of92/13/K/82/zb/SP8o/wT/+f7W/tn+wf6y/qH+j/55/k/+Qf49/lL+aP5k/k/+Ev7k/ZL9aP12/Wv9ff1y/YH9gf2L/Yj9S/1L/U/9S/0o/Qj9z/y5/Av9Uv2W/aj9gf1P/T39SP1Z/YT9lv25/db92f3r/dn93f3S/eH9Ev4y/mv+ef6B/mv+Wf5v/oj+0v4S/0j/a/9v/1n/KP8L/xL/T/+k//L/PABxAJEAowCYAH8AWAAqAA4ADgBRAL8ANQGYAdUB3AGqAVEB8QCYAHgAigCqAAMBPAF1AY4BgwFnAScB/ADnAO4A4wDqAPUA/AADAfEA4wCuAIoAXwAjAAAA4f/v/yoAnwADASoBEQGjABgAcv/5/rn+of4I/6j/XwAKAVEB+AA4AJ3/Gf/y/jb/iP/W/zEAigCxALEAigAfAMH/gf9h/1n/hP/d/zUAnwD8ABUB6gCqAEcA2f+Z/3n/ff/W/24AKgHcATgCDgJjAX8AyP+I/6//IwCxABgBZwGDAW4BLgH8AN8AowBfABwA/f8RAFUAsQAOAWoBigFYAfgAowBfADwAOAAxAEoAXABnAJUAuAD4ABEBHAExATgBQwEfARUBBwHjAN8A5wADAScBVQFKAScB/ADDAJEAZwBxAIMAtQDuABUBLgEfAe4AkQA1AP3/z//d/zEAhwDuABwBCgHKAFwAAACP/0v/KP8W/1n/sv8nAG4AkQCRAFgAHwDE/2v/Ev/I/sT+6/4h/1n/kv+o/5L/j/+B/2//dv+L/4T/iP+I/0//Of9B/2j/aP9k/3L/Yf92/4H/dv9k/1n/Wf9E/1b/Yf9k/0v/JP8L//L+C/89/4j/0v8AAAAA1v9k/wH/3f7k/gv/JP89/yj/L/8o/xb/KP8v/0//Yf92/13/KP/d/oT+Wf5d/tb+Xf/k/0MAPADr/1n/y/5L/vb9/f1S/vn+r/8xAHgAfABKAPL/i/8d/73+i/5v/oT+1v45/73/TgCcALUAjgAfAIT/5P6S/nb+qP45/8v/agDYACcBJwHHAFUAxP92/2T/a/+I/7b/DgA/AFwAVQA1ABgAHwBDAH8AygDxAO4A3wC1AHgAMQDh/7b/vf8KAIMA8QBHAWcBPwHuAJ8AQwADAPL/GABcAJUArgB8ADUA6P/W/xgAhwARAV8BXwHuAFEAwf8y/xL/SP+r/zgAwwA4AUcBMQEOAccAlQBqAFwAZwB4AJUAnACVALEA3AAcAV8BhwFxARwBvABOAAcAGABxAOoAZwHHAdgBrgFOAeMAhwAqAAMABwBKANUAXAHcAQcCxwFOAbUANQAHADgAigAKAYoBwwHxAc4BUQF1AKv/Nv8d/6T/VQAKAZwB2AGxAS4BjgCy/wj/wf7L/m//WAA1AacBlQEfAVEAkv/v/pb+sv4h/+H/owBDAX8BPAGqAOT/Of/r/vb+Wf8KALEADgEfAdgAWADh/3n/SP9S/5b/AwB8ANwACgH8AKoAFQCL/zL/Hf9d/9L/ZwDuADgBNQHOAD8Az/95/4j/z/8nAHUAkQCOAGcASgAfABUAGAAOABgAFQAjABEA6//h/9n//f8cADgATgBHACoA6/+h/1b/Ev/9/gj/Mv9o/5L/tv/W/+v/4f+r/2j/Ev/E/p3+iP6P/pL+pP7L/hn/hP/W/+H/hP/2/k/+xP2I/av9Fv62/m//6P8VAOT/ZP+y/gT+nf2L/f39r/6E/zwAmAB4AOH/Mv+L/i/+L/6d/mH/HwC8AOcAqgAjAGj/5P6v/uv+b//y/24AowC/AJEAPAD2/5b/a/9r/6T/9v9VAKoAwwDRAKcAVQDo/5L/a/9y/6v//f9OAG4AYwA/AAAA0v/E/9b/8v8jAFwAagBVAB8A6P/S/+j/GAA8AD8APAAnABwAHwAYAB8AGAAcAB8AJwA1ADwASgBDACcAFQD9/9b/wf/B/8j/0v/r/wcAFQAnACoAEQADAPn/6P/h//L/AwAKACMAOABKAGMAbgBKABEA5P+y/7b/9v9OAK4ACgE4AfwAnAAVAHn/Gf8S/2//EQDYAHUBwwG/AUMBdQCv/zL/Ev+I/zgA+ACDAbwBqgFHAccAOADS/4H/ff+2/wcAbgCqANUA4wDjAL8AfwBKACcAAAARAGcAnACxAJ8AhwBxAFwAfACjALEAtQCcAG4ARwAqABgAPACcAP8AVQFnAT8BygA8AMj/i/+v/w4AmAAYAXEBgwEcAXgAtv8W/8v++f6W/1UABwFqAWcB5wAxAIj/8v6r/r3+Ev92/+j/RwB8AJwAlQBVAOv/of9L/w//Gf9P/4T/sv/S/93/6P/d/7n/j/95/2T/Uv9o/4//yP/v/wMA/f/o/8H/dv85/y//Of9S/5b/AwBxAMcA5wC/ADwAhP/W/mj+cv7o/oH/HwC/ABEBAwGYAOT/JP+E/kj+a/4B/8j/XACxALwAgwD9/33/Nv8d/y//ZP+r/+T/AAD5/9n/pP+k/6j/wf8AACoAOAAcAPL/r/99/2j/Uv9d/4T/z/8AACMAKgADANn/nf9v/13/Wf9k/2v/i/+d/4//ef9L/zL/Qf9o/4//xP/P/4T/Mv/r/rn+of62/v3+Wf/L/ycATgA1AOj/aP/2/q/+mf7I/h3/i/8AAE4ATgAVAK//Mv/r/vb+Xf/d/1EAqgDDAH8AGAC5/2j/T/99//b/fwDfAP8AygBOAM//aP82/1b/q/8cAHwAvAC/AHUABwCr/2j/T/9o/7n/EQBDAFwAQwAOAMj/gf9h/1L/ZP+Z/+j/JwBYAHUAVQAjAM//i/9r/2v/ff+o//L/PwB8AKcAwwDDAM4A3ADHAJ8APwDh/5n/hP+o/wAAhwADAWMBpwGuAXgBJwG/AGMAIwD5//L/CgBHAHgApwDYAOMA4wDYAM4AygDVAOMA5wDqANwAxwCVAFEAHwD2//L/HwBcAJwA0QDxAN8AnwBOAAAAuf+S/5b/tv/v/yMAOAA8ADgAJwARAAcA9v/d/7n/pP+h/7n/2f/5/ycAOAA4AAMA2f/W/8j/6P8OAD8AZwBjAEMAAwDr/+///f8fAD8ARwAVAMj/hP9h/3L/sv81AMoAMQFYATUB1QBHAMj/a/9L/3L/of/r/zwAhwCcAIcAcQA8ABUAAwARADUAWABjAFUAOAADAMv/iP9h/2T/kv/h/yoAhwC1AKMATgDd/4H/Pf82/13/tv8jAHUAigBnADEA4f+L/1n/Uv9y/6H/5P8xAGoAcQBOAAoAxP+E/1L/Wf99/6//5P/v/+//1v+d/1n/Hf8E/w//Pf95/7b/6P/5/+T/uf+I/1n/SP9P/3n/i/+o/7n/tv+Z/2H/L/8E/x3/Vv+o/woAXwCnALUAjgA1AMj/aP8d/+/+Af9E/53/BwBxAMMA2ACxAGcAGADS/6T/of/L/wcAJwA1ADgADgDW/6H/ff+E/6v/4f8VAD8AWABKABwA3f+k/2//Uv9o/3L/ff+B/3L/a/9r/33/mf/B/+H/6//r/+H/z/+h/33/ZP9W/0//S/9d/3n/mf+y/8//7/8HABUABwAHAOj/uf+Z/4//lv+d/8T//f84AHEAhwB1AFUAJwDk/7L/nf+o/8T/+f9DAH8AkQB8ADwA+f/E/6H/mf+9//n/NQBnAHgAdQBOAAcAuf99/2j/ff+v/+v/NQB8AJwAmAB8AFgAHwD2/93/yP/E/8//1v/k/woAHAAVABUAFQAjADgAVQB4AI4AigBxADgA4f+d/3b/aP+S/93/OAB8AJgAlQB1AFUALgAHAP3/AwADAAoADgAHAPn/5P/k/+j/7//5/xUAOABHADgALgA1AC4AKgAjAC4APAA4ADUANQBDAEoAQwBOAFwATgA8AEMASgBjAJwAwwDfAOMAuABnABwA6P/P//L/PwCfAPgAIwEjAQoB0QCOAFUANQAuADUAXACHAK4AvAC8ALUAmACDAHgAcQBxAG4AagBqAHEAZwBxAIoAgwCDAHwAcQBYADUAHAAKABEABwAKABwAKgAxACoAIwAOAAAA9v/r/93/y//E/73/yP/h/+j/9v8AAAMAAADr/+H/z/+9/8H/4f8HACcAQwA8ACMA+f/W/8H/wf/W/wAANQBfAHUAZwA/AP3/wf+k/5n/wf/5/y4AWABjAFEAPAAxADUALgAqACoAGAADAOj/yP+v/7b/wf/P/93/6/8HABgAMQAxAB8ABwDd/6j/ef9Z/0//Xf+B/7L/z//S/8j/uf+r/53/of+r/6v/tv+2/6v/pP+S/4T/dv95/4T/nf+9/8j/3f/r/+j/4f/Z/8v/uf+k/5b/lv+k/9L/6P8DACMAMQAnAAMA4f+v/5b/gf95/4//sv/h//3/IwA/AD8APAAcAP3/z/+k/4//kv+v/8j/5P/o/+T/6P/h/9n/3f/d/93/6P/2//3/+f/2/9n/uf+2/6v/r//I/+T/BwAcACoAKgAnABwAAwDv/+T/1v/L/9L/1v/o/wMAHwAxACoAEQD2/+v/3f/d/+v//f8HAAcACgADAP3/7//k/+j/7//v/+T/5P/o/93/z//L/8v/3f/r/wAAGAAuADEAGAAAAN3/xP+v/6v/tv/E/9n/AwAcADEAPAA8AEMANQAjABUA9v/h/8T/sv+v/6//vf/h/wAAGAAuADwAPAAnAB8AEQADAAAAAwAOAAMA9v/r/+H/0v/S/9n/6P8HADEAUQBfAFwASgAxAA4AAAAOACMANQBKAFwATgAqAAAA2f/L/9b/9v8jAFgAcQBqAF8ASgAjAA4AAwAKABwAKgAxAC4AHwAOAAAAAAD9//3/GAAnADEAQwBDADgAMQAqABgAHAAjACoAMQA4ADEAKgAqAB8AEQAKABwAKgA1ADUANQA4ADgANQAuACcAGAAKAAcAAwAKABUAJwAjACoAJwAYACcALgAxADUAMQAnACMAHAAHAPL/6P/o/93/4f8KACoASgBnAHEAYwAuAAAA4f/B/8H/2f8AADUAXABxAH8AdQBfAEcAMQAYAAoAFQAcACcAMQBDAFUAXABVAFUAUQBHAEcAOAA1ACcAFQD9/+j/6P/h/+H/7/8AAAcAFQAVAAAA9v/y/+j/2f/W/9L/y//S/9n/2f/Z/8v/wf/B/8H/vf/L/9L/3f/r/+H/1v/L/7n/pP+d/5n/nf+2/8j/y//Z/+T/2f/E/7b/pP+Z/5b/nf+k/7b/yP/S/93/z//B/7b/uf/E/8j/1v/h/93/z/+5/6H/i/+B/4H/kv+5/93/8v/5//L/1v+o/4j/b/92/4j/pP/I/+H/+f8AAPn/3f+9/6H/i/+L/5b/nf+5/8//3f/k/+T/4f/d/9n/2f/r//b/6//v/+j/1v/E/73/uf+2/8j/3f/o//L/8v/r/93/2f/d/+T/6//r/+j/4f/d/9L/xP/B/73/vf/L/9b/1v/d/+j/6P/v/wAAEQAYABgAFQD2/9n/wf+y/7b/0v/9/xgAOAA/AC4ADgDo/8v/tv+5/8j/4f8DACcAOAA8ADEAFQD9/+j/2f/d/+T/AAAOABUAEQAHAPb/6//y//b/CgAfADgARwBKAEMAKgAOAPL/0v/B/8j/0v/o/wcAJwA8AEMARwBHADwAKgAcABUABwD2/+//7//v//L/BwAOABEAHAAjAC4AOAA4ADEANQAnABgAFQAOABgAHwAfABUAHAAjAB8AIwAxADwAMQAxAC4AEQD9//L/9v8KACMAPABHAE4ATgA/ADUALgAqACMAHwAjABUACgADAPb/8v/9/w4AHAAqADUAQwBDADgAKgAYAAcA/f/y/+//7//r/+j/8v/v//b/DgAqADwARwBRAEcAPwA4ACMAEQAAAPL/6//y//3/FQA1AFUAZwBqAGMAUQA/ACoAKgAnACMALgAqACcAIwAjACcAKgAqAC4AMQA8ADUALgAjABgAFQAKAAoADgAVAA4ADgAHAAMA+f/5//3/AwARAA4ABwD5/+j/1v/P/9L/4f/r/+//9v/9/wAA+f/y/+//6//y//b/9v/5//b/9v/y/+//7//o/+T/4f/k//b//f8HAAoAEQAVABUADgADAP3/+f8AAAcAFQAYABwAHAAKAP3/5P/W/9b/0v/W/+H/8v8OAB8AHwAVAAAA4f/B/7L/qP+r/8H/4f/5//3/9v/k/8//tv+k/6T/q//L/+v/AwAOAAAA5P/S/8H/sv+y/8T/1v/d/+H/6//o/93/1v/I/7n/vf/B/8T/yP/d/+j/6//r/+j/4f/P/8v/y//S/+T/5P/r/+//5P/W/8v/y//L/9L/5P/y//b/AAAAAP3/9v/y//b/+f8AAP3/+f/9/+v/5P/o//L/+f8AAA4AGAAfABwAEQAKAAAA9v/5/wMACgAOABUAHwARAAMA9v/y/+//8v/9/xEAHAAjACMAHAAKAO//4f/Z/9n/5P/2/wcAEQAOAAMA8v/Z/8v/yP/L/+H/+f8HAAAA9v/r/+H/5P/r//b/AAAHAAoAEQADAO//7//h/8//yP/L/9b/1v/h/+v/8v/5//b/8v/y//n/+f8AABEADgAHAAcAAwAAAPn/8v/5/wAADgAcACcAPAA/ADgALgAfABUAFQAYACMAKgAuADwARwBOAE4ATgBKAD8ANQAfABwAHwAcACcAMQA/ADwAPAA1AC4AJwAcACoAQwBYAGMAZwBVADUAFQD2/+j/6P/9/xwAMQBDAE4AQwAjAAoA+f/r/+H/8v8RABwAIwAnACMAGAAHAPn/9v/5/wMABwAOABEADgAHAPn/6//r/+//+f8HAA4AFQAVAAMA/f/2//n//f8DAA4ADgAOAAAA9v/o/93/4f/o/wAACgAVABgABwD2/+v/5P/o/wAADgAVABEACgD9/+j/3f/Z/9n/4f/v//b//f8HAAoACgAHAAMA+f/2//b/9v/y//n/9v/r/+T/5P/o/+T/3f/S/8T/xP/P/9n/3f/d/+T/5P/Z/9n/2f/W/9n/4f/d/+H/2f/P/8v/y//P/8T/wf/B/8H/yP/L/9b/5P/v//b/+f/9/wAAAAAAAAMABwAHAAoABwAHAAcA+f/y//L/+f/9//3/DgAYAB8AIwAVAAcA+f/v/+v/7//2/wcAFQAjADEANQAxACMAFQAHAAAA9v/v//L/9v/9/wMAAwAAAAMACgAOABEAEQAfACoAKgAqABgACgD2/+j/5P/k/+//+f8DABgAHAAcAB8AFQAHAP3//f8AAAAACgARABUAFQAOAP3/8v/h/9b/4f/v/wAADgAnACoAHwAHAO//6P/h/+j/AAAVACcAOAAxACoAGAAKAP3//f8AAP3/CgAOABUAFQAcAB8AHwAfAB8AHAAYACcAKgAqACoAJwAcABUAFQAOAAoADgAVABEAEQAYABwAHwAcAB8AIwAfABgAHAAVAA4AEQAOAA4ADgAOAAoAFQAOAAAAAAD5//L/7//y//n/AwAOABEAEQAHAAcAAAD9/wMAAwADAAcAAwADAP3/+f/2//n//f/5//b/+f/2//b/+f/5//b/+f/5/+//6//2//3/BwAHAP3/+f/y/+T/2f/W/9L/3f/y//3/BwAKAAAA/f/v/+H/2f/P/9b/2f/h/+//BwAVABEAFQADAPL/7//v/+j/7/8DAAMAAwADAAAA+f/2//b/8v/2/wAACgARABUADgAAAPn/7//k/+T/6P/y//L/8v/5//3/8v/o/+T/6//r/+///f/9//3/+f/v/+T/1v/S/9n/4f/r//L/9v/y/+//7//k/+T/6//v//3/CgAHAAcAAwD9/+//6P/r/+v/8v/5//n/AAD9//b/7//o/+T/6P/y//n/BwAKAAMABwADAPn/7//y//b/+f/9//3/AAADAAAAAAD9//b/9v/5//n//f8AAAAADgAYABgAFQAOAAoABwADAAcACgAOAA4ADgAVABwAGAAcAB8AGAAVABUADgAVABEADgAVABUAFQAVABUAGAAVAAcAAwADAAoAEQARABUAFQAYABUACgADAAAAAwAHAAoACgADAAMABwAHAAcAAAD5//3/+f/5//n/+f/5//L/9v/2//L/8v/5//b/8v/v/+//8v/r/+j/5P/o/+v/8v/9/wAAAAAAAAMA+f/v/+j/6P/o/+v/8v/5/woA/f/y//b/7//r/+j/6//r/+v/7//v/+//6//k/+H/5P/k/+T/6P/v//L/8v/v/+//6//k/+T/5P/d/9b/z//L/8v/1v/d/+v/7//y//n/9v/v/+v/6P/k/+T/6//r/+j/6//o/+T/5P/d/+T/6//r//L/AwADAAAAAAAAAPn/6//o//L/9v/2//L/+f8DAAAAAwAKAA4ADgARAA4AAAD9//3/9v/2//3//f8DAAcACgAVAAoAAwAAAP3//f/5//n/AAAHAAMAAwADAAcAAwD5//b/8v/y/+j/6P/v//b/9v/9/wAA/f/2/+j/4f/h/+H/4f/Z/+H/6//y//3/AwAHAAMA/f/2//L/8v/v/+//6//r/+//8v/v/+//+f/5//n/AAD9/wAADgARABUAGAARAA4ABwADAAcAAwAHAAcABwAOABEAFQAYABgAGAAOAA4AFQAKAAcAAAADAAMABwAOABEAHAAcAAoACgAHAAAA/f/y/+//6//v//b/AAAOABEAEQARAAoAAADv/+v/8v/9/woAFQAcAB8AGAARAAoA/f/2//L/8v/5/wcADgAYAB8AHwAfABgADgADAPb/8v/2//b//f8HABEAEQAVABUADgAKAP3/+f/2//L/7//y//b/8v/y//b/8v/2//3/AAD5//3/AAADAAAA+f/2/wAAAAD5//n//f/5//b/8v/y/+//6//2//n/AAAKABEACgAHAAMA+f/y/+v/6//y//3/AwAOABEADgAKAAMAAAD9//b/+f8DAAoADgAOABEADgAOAA4ABwADAAAAAAAAAAAAAwAHAAMAAAADAAcABwAHAAMAAwAAAPb/6//k/+v/7//y//3/AAAAAPn/9v/r/+v/6P/r//L/9v/5//b/7//v/+v/6P/o/+//6//r//n/+f/y//b//f/9//3/AAD9/wMAAwD9//n/9v/y//L//f8DAAcACgAKAAMA/f/2//L/9v/5/wMACgAOABEAFQARAAMA/f/5//3/AAAHAAoAFQAVAA4AAwAAAAAAAwAHAAcADgAKAA4ACgADAAAA/f/9/wAACgAHAAcAAAD2//3/9v/y//n/AwAOABEAGAAYABEAAwAAAPn/9v/2//b/+f/5//n/AAAKABUAEQAVABwAHwAVAA4AAwAAAAMA+f8AAA4AGAAcAB8AHwAVABUAFQAOABEADgAKAAoAEQARAA4ADgAOABEACgAKABEAGAAjABwAFQAVABEACgADAP3/AAAHAAMABwAKAAcACgAOAAMAAwAKAAcADgAKAA4ADgAKAA4ABwAHAAoABwAHAAMAAwADAAMACgAOABgAGAAcABwAFQAYABEADgARABEAEQARABEAFQAYABwAHwAfAB8AHwAVAA4ADgARABUAGAAfACMAJwAjABgAEQAHAAcABwARABEADgAVABEAEQAOAA4ABwADAAMAAAAAAPb/8v/y//L/7//r//L/+f/9//3//f8AAP3/+f/y/+v/6P/o/+T/4f/h/+H/5P/r/+j/6P/h/+H/4f/h/+H/5P/r/+//7//r/+T/3f/W/9b/3f/h/+j/8v/5//n/9v/2//b/8v/r/+T/6P/r/+j/6P/r//b//f8AAAcAAAD9//n/9v/y//L/8v/2//b/9v/5/wAAAAADAAAAAwADAAcABwD9//n/+f/5//3/+f/5/wAACgAOAA4AAwADAAAA7//r/+j/6P/r/+j/7//y//L/7//r/+//7//y//L/8v/k/+j/5P/Z/93/1v/W/9L/z//S/9L/0v/d/+T/6//y/+//7//v/+j/6P/k/93/3f/k/+v/8v/2//n//f/9//3/+f/y//L/7//2//L/7//y//L/9v/5//3/+f/5/+//6P/v/+v/6//r//L/8v/2//b/9v/2//b//f/5//n//f/9//n//f8DAAAAAAADAAoACgAKABEAFQAYABwAHAAcABwAHwAfACMAHwAcABwAGAAcABgAHwAfAB8AIwAVABwAFQAOABEAEQAVABUAFQAVAA4ACgAKAAMA/f/9//n/+f/5//n/+f/2/wAAAwD5//L/8v/2//b/7//v/+//9v/2//b/AAAAAAoADgAKAAoABwADAAAAAAADAAoAEQAVABgAFQAOAAoADgAOABEAEQAYABwAHAAVABEAEQAOAAoAEQAVABUAFQAVABEADgAKAAoACgAOAAoADgARABEADgAOAAoAAwAKAAoACgAOAAoAAwADAAMAAAAAAAAAAAAAAPn/+f/5//3//f8AAAAA/f/9/wAAAAAAAAAA/f/9//3//f/9//3/AAAAAP3//f/5//b/9v/5//3//f8AAAAAAAADAAAA/f/2/+//6//r/+//8v/2//b/9v/y//L/6//k/+T/4f/d/93/3f/Z/93/2f/Z/93/3f/d/93/1v/W/9b/1v/W/8//0v/W/9n/5P/o/+v/6//k/+H/3f/d/93/5P/r/+//9v/5//n/+f/y/+//6//2//b/+f8DAAAA/f/5//b/8v/y//b//f8DAAMABwAHAAoABwAAAAAA8v/y//b/+f/2//L/9v/5//b/AAADAAAAAwADAAMA/f/5//3/+f/9/wAAAAADAAMABwAHAAoACgAHAAcAAwADAAMACgAOAA4AEQARABEACgAHAAMABwADAAcABwAHAAcABwAHAAAA/f/5//n/+f/2//b/8v/r/+//7//v//L/7//v/+v/6P/k/+j/7//v//L/9v/5//L/7//v/+v/6//v/+//8v/2//3//f8AAAAAAAADAAMA/f8AAAAAAAAHAAoACgAOAAoACgAOAAoABwADAAMAAwAHAAcACgAOAAoACgAKAA4ADgAOABEAEQAOAAoABwADAAMAAAD9/wAA/f/9//b/9v/9//n//f8AAAcABwAHAAoAAwAAAAAA/f/y/+//8v/2//n//f8HAA4AEQAVABEABwADAPn/+f/9/wAAAwADAAcABwAAAAAA/f/5/wAAAwADAAMA/f/5//n/+f8AAAMAAwAHAAcACgAKAAcABwAAAAAAAAD9/wAA/f8AAAcAAwAHAAoABwAKAA4ACgAHAAMA/f/9//n/9v/5//n/+f/2//b/9v/2//n/+f/9//3//f/5//L/8v/v//L/7//v/+v/7//y//L/9v/2//b/9v/y//L/+f/5//b/9v/2//3//f8AAAAA/f8AAAAAAwAAAAMAAAD9/wAABwAKAAoACgAHAAoABwADAAMAAAD2//b/9v/2//n//f/9//3/8v/y/+//7//y/+//8v/9/wAAAAD9//n/+f/5//b/9v/2//b//f8AAP3/+f8AAAAA/f8DAAoACgAOAA4AFQAVABEAEQAOAAoABwAKAA4AEQAVABUAGAAYABUAEQAOABEAFQAVABgAGAAVABEACgAKAAoACgAOAAoAEQARAAoACgAHAAoABwADAAcADgAKAAoADgAOAAoABwAHAAcABwAHAAMAAwAKAA4ADgARABEADgAOAA4ADgARABEAFQARAAoACgAOABEAFQAYABwAGAAVABUAGAAVABEAFQARABUAFQAVABUAFQAVABgAEQARABEADgARAA4ADgAOAA4ADgAOAA4ACgAOAAoABwADAAcAAwAAAAMAAAAAAP3//f/5//n/+f/2//L/8v/y//L/6//o/+j/7//r/+//7//v//L/7//r/+T/4f/d/+H/4f/h/+H/2f/h/93/1v/W/9L/1v/S/9L/1v/S/9b/1v/Z/9b/z//L/8//y//L/8v/yP/I/8//y//L/8//y//L/8v/yP/L/9L/0v/W/9b/0v/Z/9b/1v/W/9L/0v/W/9b/1v/Z/9n/3f/Z/9b/1v/S/9b/2f/d/93/4f/k/+H/4f/h/+H/4f/o/+T/6P/o/+v/6//o/+v/7//v//L/9v/v/+v/7//y//b/8v/2//n//f8AAAMABwADAAMABwAHAAMABwAHAAcAAwAHAAoABwAKABEAEQAVABgAGAAYABwAHAAYABgAFQAVABwAGAAYAB8AGAAYABgAHAAcABwAFQARABgAHAAYABgAHAAcABgAHAAVABEAFQARABUAGAAYABwAGAAYABgAHAAcABwAGAAYABgAGAAYABgAFQAVABgAHAAcABwAHwAcABwAFQAYABgAGAAjAB8AHAAcABwAGAAVABUAGAAYABUAFQARABEADgARABUAFQAYABgAGAAYABUAFQARABEAFQAYABwAHwAcABwAHwAcABwAGAAcAB8AHwAfACMAIwAjACMAHwAcAB8AGAAVABUAGAAcABwAHAAcABUAEQARAA4ACgAHAA4AEQAOAA4ADgAOAAcABwAHAAMAAwAAAPn/+f/2//n//f/5//n//f/2//n/+f/2//b/+f/2//b/9v/y//b//f8AAP3/AAADAP3/AAAAAP3/AAD9//3/AwAAAP3/+f/2//L/8v/5//n/+f/9//3//f/2//b/9v/y/+//6//v/+//7//v/+//8v/2//L/7//y//L/7//y//b/8v/2//L/9v/5//n/9v/5//n/9v/5//b/9v/2//L/+f8AAP3//f8AAAAA/f/5//n/9v/5//n/9v/y//L/+f/2//b/+f/2//n/8v/y/+//6P/o/+v/6//o/+j/6P/h/+H/4f/k/+T/4f/h/+H/5P/k/+H/4f/h/+v/6P/o/+j/6P/o/+v/6//k/+j/6P/o/+j/5P/r/+//6//r/+//8v/y/+//6//r/+v/6//r/+//7//y//L/8v/r/+j/6//o/+j/6//r/+j/6//r/+j/5P/h/+H/3f/h/+T/5P/k/+j/5P/h/93/4f/k/+T/6P/k/+T/5P/h/+H/5P/k/+H/5P/o/+v/7//r/+j/5P/k/+H/5P/k/+v/6//o/+v/6//o/+j/6//r/+v/6P/r/+//6P/o/+T/4f/h/+T/6P/o/+T/6P/o/+T/6P/r/+//7//v/+v/6//v/+j/6P/k/+v/7//v//n/AAAAAAAAAAD9//n//f8AAAcABwAKABEAEQAVABgAHAAcAB8AIwAjACcAJwAnACoAKgAxADEALgAuADEAMQAuADEAOAA8AD8AQwBDAEMAPwA8AD8APAA4AD8AQwBDAEMARwBHAEMAQwBHAEcARwBDAEMAQwBHAEcAPwA/AD8APwBDAEMAPwA/AD8APwA/AD8AQwA8ADwAOAA4ADEAKgAqACcAIwAfACMAIwAfAB8AHwAcAB8AHAAYABgAEQAVAA4ABwAOAAoACgAKAAcAAwADAAAAAAAAAPn/+f/5//L/8v/2//b/8v/2//L/7//o/+j/6//v/+//8v/y/+//6//r/+j/5P/h/9n/2f/d/93/5P/k/+T/4f/d/93/2f/d/9n/2f/Z/93/2f/W/9b/1v/W/9L/0v/S/9b/2f/Z/9n/3f/k/+T/4f/Z/9b/1v/W/9b/2f/d/+H/4f/k/+T/5P/k/+T/6P/k/+T/6P/k/+T/4f/h/93/3f/o/+v/6//r/+//6//o/+j/4f/h/+H/5P/k/+T/5P/h/+H/4f/h/93/3f/h/93/3f/h/+T/4f/h/+H/3f/d/9n/3f/Z/9n/3f/d/9n/2f/d/93/2f/d/+H/2f/h/93/5P/k/+j/6//o/+v/6P/r/+v/6//r/+j/6P/o/+//8v/y//b/9v/5//n/+f/2//b/+f/5//n/+f/5//3//f/9/wAAAAAAAAMAAwAHAAoABwAKAAcABwAHAAcACgAOABEAFQARABEAFQARABEAFQAVABgAFQAYABgAGAAYABUAEQARABUAEQAVABgAGAAYABwAHAAVABUAEQAOAA4ACgAKAAoACgAHAAcACgAKAAMABwADAAAA/f8AAAMAAAAAAAAAAAAAAAAAAAAAAAAA9v/5//3//f8AAAMABwADAAcAAwADAAAA/f8AAAAAAwAAAAMABwAKAAoADgAOAAoACgAKAAcADgAOAAoADgAOAA4ACgAKAAoADgAOAAcACgAKAAcACgAHAAoACgAOABEAEQARABEADgAKAA4ADgAOABEAFQAVABgAGAAfABwAGAAcABwAHAAfABwAHwAcABwAHwAfABwAHwAjACMAJwAnACcAJwAjAB8AHwAfABwAHAAcABUAGAAVABUAGAAVABgAGAAVABEAEQAKAAoABwAAAAMAAAAHAAcABwAKAAoADgAKAAoACgADAAcABwADAAcAAwADAAoADgAOAAoACgAKABEAEQAOAA4ADgAOAAoAEQARAA4AEQAOABEADgAKAA4ADgAHAAcADgAOAA4ACgAHAAMAAAAAAP3//f/9//3//f/9//n/9v/2//L/8v/y/+//6//o/+j/6P/k/+j/6P/h/+H/6P/k/+T/6//o/+T/6//k/+T/5P/k/+v/6P/k/+T/5P/o/+j/6//y//L/8v/y/+//7//r/+v/7//y//L/8v/2//b/9v/2//L/7//y//b/9v/y//L/7//v/+//6//v/+//7//v/+v/8v/y/+//7//r/+//6//r/+j/6P/r/+v/6//r/+//8v/v/+//6//v//L/8v/2//b/+f/5//b/+f/2//L/9v/2//b/+f/5//3/AwAHAAAAAAADAAAA+f/5/wAA+f/5/wAAAAAAAP3/AAD9//3//f/9//3/AAD9//3//f/5//b/9v/2/+//6//y//n/9v/5//L/8v/5//L/9v/2//n/8v/y//L/8v/v/+//7//v/+//7//v//L/+f/5//n/9v/2//3/+f/5//3/+f/5//n/+f/9/wAA/f/5//n/+f/9/wAAAwADAAAAAAD9//3//f/9/wAAAAAAAAAAAwADAAAAAwADAAMAAwAHAAMAAwADAAAAAwAAAAMAAwAHAAoAAwADAAMAAwADAAMABwAKAA4ACgAOAA4ADgAKAAoADgAKAA4AEQARABUAGAAYABUAGAAVABUAFQAVABEADgARABEAEQARABEAFQARABEAEQAOAA4ADgAKAA4ADgAKAAoACgAKAAoACgAKAAcAAwAAAAAAAAAAAAMABwAHAAMAAwAHAAcAAwADAAMAAwADAAcABwADAAcACgAKAAoACgAKAAoACgAKAAoACgAHAAoACgAHAAcACgAHAAcACgAKAAcACgARAAoABwAKAAoABwAKAAMAAAADAAAAAwAAAAMABwADAAMAAwADAAMAAAAAAAMAAwADAAMABwAHAAcABwAHAAcAAwAHAAcABwAAAAAAAwADAAAA/f/9/wAAAAAAAAAA/f8AAAAA+f/5//b/9v/2/+//8v/v/+//7//r/+v/6//r/+j/5P/o/+j/5P/k/+T/6P/k/+T/6P/k/+H/4f/h/+T/6//o/+T/6P/o/+j/6P/o/+v/6//v/+//8v/y//L/9v/y//L/9v/2//n/+f/2//b/+f/9/wAA/f/9//3/AAAAAP3//f8AAAAA/f/9//3/+f/5/wAAAAAAAAAAAAADAAAAAAD5//n//f/9/wMAAAAAAAMAAAAAAAAAAAAAAAAA/f8AAAAAAAD9//3//f8AAP3//f8AAAMAAwD9/wAAAAD9//3//f8DAAAAAAADAAMAAwAAAAMAAwADAAAAAAAAAP3/AAAAAAAAAAD9//3//f/9//n/+f/5//n/+f/5//b/9v/2//b/+f/2//b/8v/2//b/8v/y//b/9v/5//b/8v/y//L/8v/y//b/+f/5//n//f/5//n//f/5//3/AAD9//n//f/9//3/AAADAAAAAAAAAAMAAwAHAAcABwAHAAMAAwAAAAMAAwAHAAoAAwADAAcABwADAAMAAwADAAcAAAAAAAAAAAADAAcABwAHAAMAAwAAAAMAAwAAAAMABwAHAAMABwADAAAAAAAAAAAAAAADAAMAAAAAAAAAAwAHAAMABwADAAMAAwADAAMAAwAHAAcABwAHAAMABwAHAAMABwADAAMABwAAAAMABwAKAAoABwAHAAcABwAHAAoABwADAAcACgAHAAcABwAHAAoACgAHAAMACgAHAAcAAwADAAcABwAKAA4ADgAOAA4ACgAOAAoACgAKAAoACgAKAAMAAwAHAAMAAwADAAMAAAADAAAAAAADAAMAAAADAAAAAwADAAMAAwAAAAAAAAAAAAAAAAD9//3//f8AAP3//f8DAAAA/f8AAP3//f/9//3//f/5//n/+f/9/wAA+f/2//b/8v/y/+//8v/y/+//8v/v//L/7//y/+//6//v/+T/6P/h/+H/5P/k/+j/5P/h/+T/5P/o/+j/5P/o/+j/5P/h/+T/5P/k/+j/6P/o/+v/6P/k/+j/6P/k/+T/6P/o/+v/7//v/+//7//r/+v/6//r/+v/7//v/+//7//v/+//6//o/+v/7//v/+//7//y/+//7//y/+//7//v/+//8v/v//L/9v/y//n/9v/5//3//f8AAP3//f/5//3//f/9/wAA/f/9//3/AAADAAAAAAADAAMAAwADAAcAAwD9/wMAAwD9/wMABwAHAAoABwADAAMAAAAAAAAAAAD9/wAAAwADAAAAAAAAAAAAAAD9/wAAAAAAAAAAAAAAAAAABwADAAcACgAKAAoACgAKAAoACgAKAA4ADgAOAA4ADgAOABEAEQARABEAFQAYABUAGAAVABUAGAAVABEAFQAYABUAFQARABEAEQAKAA4ADgAHAAoADgAHAAoACgADAAMABwADAAAAAwAAAAMAAAAAAAcAAwADAAMAAAAHAAMAAwADAAAABwAHAAcACgAKAAoACgAKAAoACgAOABEADgAOABEADgARAA4ADgAKAAoACgAKAA4ACgARABEACgAOAAoACgAKAA4ACgAKAAcABwAKAAMABwAHAAAAAwAAAAAA/f/5//3//f/5//b/9v/5//n/8v/2//b/9v/y/+//8v/y//L/8v/y//b/9v/5//n/+f/5//n/9v/2//b/+f/9//3//f8AAAAAAAD9//3//f8DAAAA/f/5//n/+f/5//b/8v/2//b/7//v/+//8v/v/+j/7//r/+j/6//r/+j/6P/o/+j/6//o/+T/5P/o/+T/6P/o/+v/7//r/+v/6//r/+//7//r/+//8v/y//b/8v/v/+//7//2//b/9v/5//n/+f/2//b/+f/5//n/9v/9//n//f8AAPn//f8DAAMAAAAAAAAA/f/9//3/AAAAAP3/AAD9//3/AAAAAAAAAAAAAAMAAAD9//3/AAD9/wAAAAADAAAAAAD9//3//f/9/wAAAwADAAAAAwAAAP3//f/9//n//f/5//3//f/9//3/+f/5//3//f/5//n/+f/2//n//f/5//3/+f/5//3/AAAAAAAAAAAAAAAAAwADAAMAAwADAAMAAAAAAAMAAAAAAAcAAwADAAAAAAADAAAAAAAAAAAAAwD9/wAAAwAAAAMABwAHAAcABwAHAAcABwAKAAoACgAOAA4ADgAOAA4AEQAVABUAGAAcABwAHAAYABwAHwAfAB8AHwAjACMAIwAfAB8AIwAcABwAGAAcAB8AHwAYABgAGAAYABgAGAAYABUAEQARABEADgAKAAoACgAKAAoACgAHAAcABwADAAMAAwADAAAAAwD9//n//f/9//n/+f/5//3//f/9//3//f/5//3/+f/5//n//f8AAP3/AAADAAAAAwADAAMAAwADAAMAAAADAAMAAwAAAAMAAwAAAAAAAAAAAP3/AAD9//3/AAAAAP3//f/9//3/AAD5//n/+f/2/+//8v/y/+//7//y//L/8v/2//b/9v/2//L/8v/v//L/6//r/+//6//y//L/7//y//L/8v/y//b/9v/2//b/9v/y//L/9v/2//b/+f/5//n/+f/5//3/AAD9//n/9v/5//n//f/5//b/+f/2//b/9v/2//n/9v/2//L/8v/v/+//6//o/+v/6P/o/+v/6P/o/+T/5P/k/+T/5P/k/+H/5P/k/+H/5P/h/+T/5P/h/+T/5P/o/+v/6P/r/+j/6//v/+//8v/y//n/+f/2//n/+f/5//3//f8AAAAAAAADAAcABwAKAAcABwAHAAcACgAHAAcABwAKAAcACgAKAAoABwAHAAcAAwAAAAAAAAAAAAMAAAD9/wAAAAAAAAAA/f/9//3//f/9//3//f8AAP3/AAAAAAAAAAD9//3/AwADAAMACgAHAAMABwADAAMACgAKAAcADgAKAAoACgAKAA4ACgARABEADgAVAAoADgAKAAoACgAHAAoACgAHAAMAAwADAAMAAAAAAP3/AAD9//3//f/9//3/+f/5//n//f/9//n//f8AAP3//f8AAP3//f8AAAAAAAAAAP3/AwADAAAAAAADAAAAAwADAAMAAwADAAMAAwAHAAcABwAHAAcABwAHAAMAAAAKAAcABwAKAAcAAwADAAcAAwADAAMAAAAAAAAAAwAHAAMAAwD9/wAAAwD9//3//f/9/wAAAAD9/wAAAwAAAAAA/f8AAAAAAAAAAAAABwAHAAMAAwADAAMABwAHAAMABwAHAAMABwAKAAcABwAHAAMAAwAHAAcABwAKAAMAAwADAAMAAAAAAAMAAwADAAAAAAADAAAA/f/9//n/+f/5/wAA/f/9/wMAAwAAAAAAAwAAAAcAAwADAAcAAwADAAcABwADAAMAAwAAAAMAAwADAAMAAAAAAAAAAwADAAAA/f8AAAMA/f/9//3//f/5//n//f/2//b/9v/2//b/9v/2/+//8v/2//L/8v/v/+v/6//r/+j/6P/r/+v/6P/o/+j/6//k/+H/5P/k/+T/4f/k/+j/6//o/+T/5P/k/+j/5P/k/+T/5P/k/+H/5P/k/+H/5P/k/+j/6P/o/+T/5P/k/+j/5P/k/+T/5P/k/+T/5P/k/+H/3f/k/+T/4f/h/93/3f/h/93/3f/h/+H/4f/h/+H/4f/h/+H/4f/h/+H/4f/k/+T/5P/o/+T/4f/k/+T/5P/o/+j/6//r/+v/6P/r/+v/6//v/+//8v/y/+//7//2//b/8v/2//n//f/9//3//f8DAAMAAwADAAMABwADAAoACgAKAAoACgAKAAoADgARABEAEQARABUADgARABUAFQAVABUAGAAYABgAGAAYABwAHwAfAB8AHAAfAB8AHAAfAB8AIwAfAB8AIwAfAB8AIwAfAB8AHwAfAB8AHAAcAB8AHAAfABgAGAAYABgAGAAVABgAFQAVABgAGAAYABgAHAAYABgAGAAVABgAHAAcABwAHAAcABgAGAAcAB8AHwAjAB8AHAAfABwAHAAfAB8AIwAjAB8AHwAfABwAHAAfACMAIwAnAB8AHwAjAB8AHwAcABwAGAAcABwAHwAjAB8AHwAcABwAHAAYABwAGAAYABUAFQAVABEAEQARABUAFQARABEACgAOABEAEQAOAAoAEQARABEAFQAVABUAEQARABUAFQARABUAFQAVABUAFQARABEAEQARAA4ADgARABEAEQARABUAEQAOAA4ACgAOAAoACgAKAAcABwAHAAMAAwADAAMAAwADAAMAAAAHAAMAAAAAAAAAAwAAAP3//f/9//3//f/9/wAAAAD9//n//f/5//n/+f/2//b/7//y//b/8v/y/+//7//v/+v/6P/o/+j/5P/k/+T/5P/h/+H/3f/d/93/2f/d/9b/1v/Z/9n/2f/d/9n/2f/Z/9b/1v/Z/9n/1v/Z/9n/2f/Z/9b/2f/Z/9n/2f/Z/9n/1v/W/9L/0v/S/8//0v/P/8//0v/P/8//y//P/8j/z//L/8j/y//E/8j/yP/I/8j/yP/I/8T/xP/I/8j/y//P/8v/z//P/8//0v/W/9L/1v/S/9b/3f/W/9n/3f/d/93/3f/h/+T/5P/k/+T/4f/o/+T/6//r/+j/6//r/+//7//r/+//8v/v/+v/8v/y//L/8v/y//b/9v/y//b/9v/2//b/+f/5//3//f/9//3//f/9/wAAAwAHAAcAAwAKAAoADgAVABUAEQAVABUAHAAcABwAHwAfACMAJwAjACcAKgAqAC4ALgAuADEAMQAxADUAMQA1ADUAMQAxADEANQA1ADEANQA4ADUANQA1ADUANQA1ADEANQA4ADEAMQAuADUAOAA4ADEANQA1ADUAOAA4ADgANQA4ADUANQA4ADUAOAA4ADUAMQAxADEAMQAxADUAMQAxADEAKgAuAC4AJwAqACoAJwAqACMAIwAjAB8AHwAfABwAHAAYABgAGAAVABUAEQAOAA4ACgAKAAoACgAHAAMACgAHAAcAAwADAAMAAAD9//3//f8AAAAA/f/9//3/+f/9/wAAAAD9/wAA/f/9//n//f8AAAAAAwAAAAMAAwADAAMAAAAAAAMAAwAAAAAAAAADAP3//f8AAAAAAAD9//n//f8DAAAA+f/9/wAAAAD9//3//f/9//n/+f/5//n//f/5//n/+f/5//n/+f/2//L/+f/5//b/9v/5//n/+f/2//b/9v/y//L/8v/y/+//9v/y//L/8v/y//L/6//y//L/8v/y//L/8v/y/+//7//v/+v/7//y/+//7//r/+v/6P/r/+v/6P/r/+v/6//k/+T/6P/k/+H/5P/k/+T/5P/h/+H/4f/h/93/3f/d/93/1v/W/9n/2f/W/9b/1v/Z/9b/1v/d/9b/2f/W/9L/1v/W/9b/1v/W/9n/1v/W/9b/1v/W/9L/1v/W/9n/2f/W/9n/2f/Z/9b/2f/Z/9b/2f/Z/9b/1v/W/9n/1v/S/9b/1v/S/9L/0v/P/9L/z//L/8j/z//P/8//0v/P/8//y//P/8//0v/P/9L/0v/S/9b/1v/W/9b/0v/W/9b/1v/W/93/2f/d/+H/5P/k/+T/5P/o/+v/6//o/+v/6//r/+//7//y//b/8v/2//b/9v/2//n/+f/5//n//f/9//3//f/9/wAAAAAAAAAAAAADAAcABwADAAoACgAHAA4ADgAOABEAEQAVABgAGAAcABgAGAAfAB8AHAAfACMAHwAjACcAIwAnACMAIwAjACcAJwAnACcAJwAqACoALgAuACoAKgAuADEALgAuAC4AMQAxADEAMQAuAC4ANQA1ADUANQA4ADUANQA1ADUAMQA1ADUANQA1ADEAMQAxADEALgAxADUANQA1ADEAMQA1ADEAMQAxAC4AMQAxADEAMQA1ADEAMQAxAC4AMQAxADEAMQAxADEALgAuADEALgAqACoALgAqACcAKgAqACcAJwAjACMAHwAcAB8AHAAYABgAGAAYABEAEQARAA4ADgAKAAoACgAKAAcAAwADAAcABwADAAMAAwD9//3//f/9//n/9v/5//n/9v/y//L/8v/y/+//8v/y/+//7//v/+//6P/k/+j/6P/h/+H/5P/k/+H/4f/h/93/2f/Z/9n/2f/Z/9n/2f/W/9L/2f/W/9L/1v/W/9L/0v/S/9b/0v/L/9L/0v/P/9b/0v/S/9L/0v/S/8//0v/S/9L/z//P/9L/z//S/9L/0v/P/9L/0v/S/9L/0v/S/9L/0v/P/9L/0v/S/9L/0v/S/9L/0v/S/9b/1v/W/9b/0v/W/9b/1v/W/9n/1v/W/9b/1v/W/9n/3f/Z/9n/2f/d/93/3f/h/+H/3f/h/+H/5P/k/+H/3f/h/+T/5P/h/93/5P/k/+T/5P/o/+j/5P/k/+j/6P/o/+j/6//r/+v/6//v/+v/6//v/+//6//v/+//6//o/+v/6//r/+//7//v//L/8v/y//L/9v/5//b/+f/9/wAAAwADAAMABwAHAAMAAwAHAAcACgAHAAoACgAOABEAFQAVABUAGAAYABwAHwAfABwAHAAfAB8AHwAfACMAJwAjACcAIwAnACMAIwAnACcAKgAnACcALgAqACoALgAxAC4ALgAxADEAMQAuADEAMQAuAC4ALgAxADEALgAxAC4ALgAuADEANQA1ADEAOAA4ADUANQA1ADUAMQA1ADgALgAxADEAMQAxAC4AMQAxAC4AKgAuAC4AKgAqAC4AKgAqACoAKgAqACcAJwAnACMAIwAfAB8AHwAfACMAHwAfABwAGAAVABUAFQAYABgAGAAVABUAFQAVABUAGAAVABEAEQARABEADgAOABEAEQARABEAEQAOABEAEQAOAAoADgAOAAoACgAKAAoAAwAHAAcAAwAAAAMABwAAAAAAAAADAAMAAAADAAMAAAAAAP3/AAAAAP3//f/9//3/+f/5//3/+f/2//b/8v/y//L/8v/v//L/7//y//L/6//r/+v/6//r/+j/6P/o/+j/5P/h/+T/4f/d/93/3f/d/9n/1v/Z/9b/2f/W/9L/2f/W/9b/1v/W/9L/0v/S/9L/1v/S/9L/0v/P/9L/0v/S/9L/0v/W/9b/1v/S/9L/0v/Z/93/1v/W/9b/1v/W/9L/1v/Z/9b/0v/Z/9b/0v/S/9L/1v/S/9L/0v/S/9n/1v/W/9b/1v/Z/9b/1v/W/9n/1v/Z/9n/1v/Z/9n/1v/W/9n/1v/W/9n/0v/S/9b/1v/Z/9n/2f/d/9n/3f/d/+H/4f/h/+T/5P/o/+T/6P/o/+v/6//r/+v/7//2//L/+f/5//3/AAAAAAoAFQARAA4AFQARABEAFQAVABgAGAAYABUAGAAYABgADgAHAA4ADgAOAAoAEQARAAoACgAOABEADgAKAA4ADgARAA4ADgAOAA4ADgARABEADgARABUAFQARABUAFQAVABgAHAAcABwAHAAjAB8AIwAnACoALgAuAC4AMQAxADEAMQA1ADEAMQAxADEAMQAuAC4ALgAqACcAIwAjACcAIwAjACcAIwAnACcAJwAqACcAJwAnACMAJwAnACcAJwAnACcAJwAjACMAIwAjACMAHwAfAB8AHwAfABwAHAAcABwAHAAfABwAHAAcABgAGAAYABwAGAAYABgAFQAVABUAEQAVABUAEQARABEAEQARABEAEQARABEAEQARABEAEQAOAAoADgAKAAoACgAKAAoABwADAAAAAwADAAAA/f/9//n/9v/2//L/9v/y//L/8v/2//L/8v/2//L/8v/y/+//7//v/+//8v/v/+v/6//r/+v/6P/r/+v/6P/k/+j/5P/k/+H/4f/h/+H/4f/h/+H/3f/d/93/3f/d/93/3f/Z/9n/1v/W/9n/1v/d/9n/1v/Z/9b/1v/W/9b/1v/S/9L/1v/W/9L/z//S/9L/0v/P/8//z//S/8//z//P/9L/z//P/8//0v/S/8//z//P/8//z//P/9L/0v/P/8v/0v/S/9L/0v/W/9n/1v/W/93/2f/Z/9n/1v/W/93/2f/Z/93/2f/d/93/2f/Z/93/3f/d/+H/4f/h/+H/4f/h/+H/5P/o/+j/6P/k/+j/6P/r/+j/6P/v/+v/6//r/+//7//v/+//6//r/+//8v/y//L/9v/2//L/9v/2//L/8v/y//b/9v/5//n//f/5//n//f/9//3/AAADAAAAAAADAAMA/f8AAAMAAwAHAAMABwAKAAoADgAOABEADgAOABUAFQARABUAFQAYABgAGAAcABwAGAAYABgAGAAVABUAFQAVABEAEQAOABEADgAOABEADgAKAA4AEQAOABEAEQAOABEADgAOABEAEQARAA4ADgARABUAEQAYABgAFQARABgAGAAYABwAHwAfABwAHwAfACMAIwAfACcAIwAnACcAJwAnACcAJwAnACoAJwAuACoALgAuACoAKgAqACoAKgAuAC4ALgAuADEALgAuADEAMQAxADEANQA1ADEAMQAxADEAMQAxADUANQAxADEAMQAuAC4ALgAuAC4AKgAqACcAJwAjACcAKgAnACcAIwAjACcAJwAnACcAJwAjAB8AIwAjABwAHAAcABwAHAAfAB8AHAAYABUAFQAVABEADgAOAA4AEQAOAA4ACgAKAAoAAwAAAAMAAAAAAP3//f/5//b/+f/5//b/9v/2//L/8v/2/+//8v/y//L/7//v/+//6//v/+v/6P/o/+j/6P/k/+T/5P/h/+H/3f/d/93/3f/d/9n/4f/d/93/2f/Z/9n/2f/Z/93/1v/S/9b/0v/S/9L/0v/W/9L/1v/S/8//z//P/9L/0v/P/9L/0v/L/8v/z//S/8//y//L/8v/y//I/8v/z//L/8v/xP/I/8v/yP/E/8j/yP/I/8j/yP/I/8j/z//L/8v/z//P/9L/0v/S/9L/1v/W/9b/1v/S/9b/1v/W/9b/1v/d/93/2f/Z/93/3f/W/9n/3f/h/+H/3f/d/93/3f/d/93/3f/h/93/4f/d/9n/4f/d/93/3f/k/+j/5P/o/+T/6P/o/+j/7//v/+//8v/y//L/7//2//3/+f/9/wAAAAAAAAMAAwAAAAcABwADAAcABwAOAA4ADgAOAA4AEQAVABEAFQARABUAGAAVABgAFQAYABEAFQAYABgAGAAVABUAFQAVABUAEQARABEADgAVABEAEQAVABEAFQARABEAFQAVABUAEQARABEAFQARABUAFQARABUAGAAVABUAGAAYABwAHAAYABwAHwAcAB8AHAAcABwAHAAfABwAHAAcABwAGAAcABgAEQAYABgAGAAYABgAHAAYABgAFQAYABgAFQAVABUAGAAYABUAEQARABEAEQARAA4AEQAVABEAEQARABEAFQAVABgAGAAVABUAFQAVABUAGAAYABgAGAAYABwAHAAcABwAHAAYABgAHAAYABgAGAAYABgAGAAYABwAGAAcABgAGAAYABUAGAAVABgAGAAYABUAEQAVABUAFQAVABUAFQARABUAEQARABEAEQAVABEAFQAVABEAEQAOABEAEQAOAA4ACgAOAA4ADgAOAAoACgAHAAcABwAHAAMAAwADAAAAAAAAAPn/AAAAAP3//f/5//b/9v/2//L/9v/y//L/9v/y//L/7//v/+v/6//v/+v/6//r/+v/6P/o/+v/6//k/+j/6P/o/+T/5P/k/+T/5P/h/+T/5P/k/+H/4f/h/+H/4f/d/+H/3f/d/93/3f/h/+H/3f/k/+H/4f/k/+H/4f/h/+H/3f/d/+H/2f/d/93/2f/d/9n/3f/Z/9n/2f/Z/9n/2f/Z/9n/2f/d/93/4f/h/+T/5P/h/93/5P/k/+j/5P/h/+j/6P/o/+j/5P/k/+j/6//r/+v/7//r/+v/7//v/+//8v/y/+//8v/2//b/9v/y//b/9v/2//b/+f/5//b//f/9//3//f8AAAMAAwAHAAcAAwAHAAoADgAKAAoACgAOAA4ADgAOAA4ADgAOABEAEQAOAA4ADgARAA4AEQAOAA4AEQARAA4ADgARAA4ADgAOAA4ACgAKAAoACgAOAA4ACgAKAA4ACgAOAAoABwAKAAoACgAKAAoACgAKAA4ACgAKAAoACgAHAAcABwAOAA4ACgAKAAoACgAKAAoACgAKAA4ACgAKAAoABwAHAAcAAwAHAAoABwAHAAcABwAHAAcACgAKAAoACgAKAAoACgAKAA4ADgAOAA4ACgAKAAcABwAKAAcACgAOAAoABwAKAAoABwAHAAcABwADAAcABwAHAAcABwADAAcABwADAAMAAwADAAMAAAAAAAAAAAAAAAAAAAADAP3/AAADAP3/AAAAAAAAAAAAAAAAAwAHAAAAAwADAAAAAwADAAMABwAHAAcABwAHAAcABwAHAAcABwAHAAcACgAKAAoACgAKAAoACgAKAAoACgAKAAoADgAOAA4ADgAKAA4ADgAKAAoADgAOAAoACgAHAAoADgAOAAoACgAOAAoADgAOAA4ACgARABEAEQAOAAoADgAKAAoACgAKAAoACgAKAAcABwADAAMAAwADAAMAAAAAAAAAAwAAAP3//f/9//3//f/5//n//f/5//b/+f/2//b/8v/v/+//8v/2//L/7//y//L/8v/y/+//8v/y/+//8v/v/+//7//v//L/7//v/+//7//v/+//7//r/+v/6//r/+j/6//r/+v/6//r/+//6//v/+v/6//r/+v/6//r/+//6P/r/+v/6//r/+j/6P/o/+j/6P/k/+j/6//v/+v/7//o/+v/6//o/+v/6//r/+T/5P/o/+T/6P/k/+j/6//k/+j/6P/o/+j/6//o/+j/6//o/+v/6//v/+//8v/y/+//8v/y//L/8v/y//L/8v/y//b/9v/y//L/8v/2//b/8v/y//b/9v/5//n/+f/5//n//f/9//n/AAD9//3//f/9/wAAAAADAP3/AAAAAP3/AAD9//3//f/9//n/AAD9//n/AAAAAAAA/f/9/wAA/f8AAAAAAwADAAcABwAHAAcABwAHAAMAAwAHAAMABwAHAAcABwAHAAcABwAKAAoABwAKAAcABwADAAMABwAHAAoABwAKAAoACgAKAAoABwAHAAoACgAHAAcACgAHAAcACgAHAAoACgAKAAoACgAOAA4ADgARABEAFQARABEAFQAVABUAFQARABEAFQAVABEAFQAVABUAFQARABUAFQAVABUAFQAYABUAEQARABEAEQARABEAFQARAA4ADgAOAA4AEQARAA4ADgAOAA4ADgARAA4ACgAKAAoADgAOAAoABwAKAAoADgAOAA4ADgAOAA4ADgAKAA4ADgARAA4ACgAKAA4ADgAKAAoACgAKAAcABwADAAMAAwAAAAAA/f/5//n//f/5//b/9v/5//n/9v/2//n/+f/2//b/9v/2//L/9v/2//L/8v/y//b/8v/2//n/+f/5//n/9v/2//b/9v/2//b/+f/2//b/9v/5//b/9v/y//L/8v/y//L/7//v/+//7//v/+//7//r/+v/6//r/+j/5P/k/+T/4f/h/+T/5P/h/+H/3f/h/+H/4f/h/93/3f/Z/9n/3f/h/9n/2f/d/93/4f/h/+H/4f/h/+H/4f/h/93/3f/h/+H/4f/h/+H/4f/k/+T/5P/o/+j/6P/o/+j/6//o/+j/6P/k/+j/6P/o/+j/5P/k/+T/5P/k/+T/5P/k/+H/3f/h/+H/4f/h/+H/3f/h/+H/3f/h/+T/3f/h/+T/4f/h/+j/6P/o/+v/6//v/+//8v/2//L/9v/5//n/+f/5//3/AAAAAAAAAwAHAAcABwAKAAoACgAKAAoADgAOAA4AEQARAA4AEQARABEAFQARABEAEQAOABUAEQAOABEAEQAVABUAFQARABEAFQAYABgAFQAVABgAFQAVABgAFQAVABUAFQAVABgAGAAVABUAGAAYABwAHAAcABwAHAAfAB8AHAAcABgAHAAfACMAIwAfAB8AHAAcAB8AHwAcAB8AHAAcABwAGAAcABgAHAAcABwAHAAYABwAGAAVABgAFQARABUAFQARABEAFQARAA4ADgAKAAoADgAOAA4ADgARABEAEQARABEAEQARABEAEQAOAA4ADgAOABEADgARABEADgAOABEADgAOABUAEQARABEADgARABEAEQARABUAFQAVABUAFQAVABUAGAAVABgAGAAVABgAFQARABUAFQAYABgAFQAVABEAEQARABEADgARABEADgAOAAoADgAKAAcACgAHAAcACgAHAAMAAwADAAAAAAADAAAAAAAAAAAA/f/5//3//f/5//n//f/5//n/+f/2//n/+f/2//b/8v/2//b/8v/y/+//8v/v/+v/8v/v/+v/6//r/+//7//r/+v/6//o/+j/6P/o/+j/6P/o/+T/6P/o/+j/6P/o/+j/5P/k/+T/6P/o/+j/6P/o/+T/5P/r/+j/6P/o/+T/5P/k/+j/5P/k/+T/3f/h/+H/3f/k/+H/4f/h/93/4f/d/93/4f/Z/93/3f/d/+H/3f/d/93/3f/d/+H/4f/h/93/3f/d/+H/4f/d/93/4f/h/93/4f/h/93/4f/h/+H/4f/h/+H/4f/d/+H/5P/k/+T/4f/o/+T/4f/k/+T/5P/o/+j/6P/o/+j/6P/r/+j/6P/o/+v/7//v/+//7//v/+//6//v//L/8v/2//b/9v/5//n/+f/5//n//f/9//3//f8AAAAAAAADAAMAAwAKAAoABwAKAAoADgAOAA4AEQAVABUAFQAVABUAFQAcABwAGAAYABwAHwAjAB8AIwAjAB8AIwAjACcAJwAnACcAJwAqACcAJwAnACcAJwAnACcAJwAqACcAJwAqACoAKgAqAC4AKgAqAC4AJwAqACoAJwAnACoALgAnACcAKgAqACcAJwAnACoAKgAqACoALgAqACcAJwAnACcAJwAnACMAHwAjAB8AHwAfAB8AHwAfABwAGAAcABgAFQAVABgAFQAVABEAGAARAA4AEQAOAA4ACgAHAAcABwAHAAMABwADAAMAAwAAAAAA/f/5//n/+f/9//n/+f/5//n/+f/5//n/+f/2//L/8v/y//b/8v/y//b/8v/2//L/7//y//L/8v/v//b/8v/v//L/7//v//L/7//v/+v/7//v/+v/6//r/+//6//v/+//7//v/+v/6//r/+j/6P/v/+v/6//r/+v/6P/o/+//6//r/+v/6P/o/+v/6//r/+v/7//r/+j/6//r/+v/7//v/+//8v/y/+//7//v//L/8v/y//b/8v/y//b/9v/2//n/9v/y//n/9v/5//n/+f/5//b/+f/5//n//f/9//3//f/9//3//f/5//n/AAAAAP3/AAADAAAAAAAHAAMAAwADAAcABwAKAAcAAwAHAAcABwAHAAcAAwADAAMABwADAAcABwADAAcAAwADAAAAAAADAAAAAAAAAAAAAAAAAAAAAAAAAAAA/f/9//n/9v/2//b/9v/2//b/9v/2//b/8v/y//L/8v/y//L/8v/2//L/8v/2//b/8v/2//b/9v/y//L/8v/v//L/8v/y//b/8v/y//L/7//v/+//7//v//L/7//v/+//7//y/+//7//v/+//7//v/+//7//r//L/8v/v/+//7//2//L/7//y//L/8v/y//L/9v/2//b/8v/2//n/9v/2//n/+f/5//b/8v/2//b/9v/y//L/+f/2//b/9v/2//b/9v/2//b/9v/2//n/9v/2//b/9v/2//b/+f/5//n//f/9//n/+f/9//3//f8AAP3/AAD9//3//f/9/wAAAAD9//3//f8AAAAAAAD9/wAA/f/9/wAAAAAAAP3/AwAAAAAA/f8AAP3//f8AAAAAAAAAAAAAAwAAAAAAAwADAAMAAAADAAMAAwADAAMABwAHAAcACgAHAAoADgAKAAoACgAOAAoADgAKAA4AEQAOABEADgARABUAEQARAA4AEQARABEAEQAOAA4AEQAOAAoAEQARAAoADgAKAAcACgAHAAcAAwAHAAMAAwAAAAAAAwAAAAAAAAAAAP3//f/5//3/+f/9//3/+f/9//3/9v/5//n/+f/5//b/+f/5//n/9v/2//b/+f/2//L/+f/5//b/9v/5//n/9v/2//b/8v/y//b/8v/y//L/8v/y/+//7//y/+//6//v//L/7//r/+//6//r/+v/6//r/+v/6//r/+v/6//r/+v/6//v/+v/7//v/+//6//v//L/8v/y//L/8v/y//n/9v/2//n/+f/2//n/+f/9//n/+f/9//3//f/9//3/AAADAAAAAAADAAcAAwADAAMABwAHAAcABwAKAAoACgAOAAoACgAKAAcADgAKAAcABwAHAAoABwAHAAcABwADAAcACgAHAAcABwADAAoABwADAAMAAwAHAAcAAwADAAMAAwADAAMAAwADAAMAAwADAAAAAAADAAMAAAAAAAMAAAADAAMAAAADAAMAAAAAAAAAAAAAAP3/AAD9//3//f/5//n//f/5//n/+f/2//n/+f/5//n/9v/2//n/9v/5//b/9v/2//b/+f/2//3//f/5//3/+f/5//b/+f/5//n/+f/2//3/+f/5/wAA/f/9//n/+f/5//3/+f/5//3//f/5//n//f/5//3/9v/2//3//f/5//3/+f/2//n/+f/2//n/+f/5//n/9v/2//n/9v/9//3//f/9//n//f/5//n//f/9//3//f8AAP3//f/9//3//f/9/wAA/f8AAAMAAAADAAMAAwAHAAMAAwADAAcABwAKAA4ABwAKAA4ACgAKAAoACgAOAA4ADgARAA4ADgARAA4AEQARABEAEQARABUAEQARABUAEQAVABUAEQAVABEAEQAVABUAFQAVABUAFQAVABEAFQAVABEAGAAYABEAEQAVABUADgARABEADgAOAAoADgAOAA4AEQARAA4ACgAKAA4ADgAOAA4ACgAKAA4ACgAKAAoABwAKAAoACgAKAAoABwAHAAcABwAHAAMABwADAAMABwADAAMABwAHAAMAAwADAAMAAwADAAAAAAADAAAAAAAAAP3//f/9//3//f/9//n//f/9//3/+f/5//b/8v/2//L/8v/2//L/7//2//b/7//y/+//7//y/+//7//v//L/7//v/+//6//r/+//7//y//L/8v/y/+//7//v//L/7//v/+//7//r/+//6//v//L/7//v/+//8v/y//L/8v/y/+//6//v/+v/6//r/+j/6//r/+v/6P/v/+//6//r/+v/7//r/+j/6//r/+j/6P/r/+v/7//r/+v/8v/v/+//8v/y//L/8v/y//b/+f/2//b/+f/5//n//f/5//n//f8AAAAAAAAAAAMAAwAAAAAAAwAHAAcAAwADAAMAAwADAAMAAAADAAMAAwADAAMAAwADAAMAAwAAAAAAAwAAAAAAAAAAAAcAAwAHAAcAAwADAAcACgAHAAcAAwADAAMAAwAHAAMABwAKAA4ADgAOAAoADgAKAAoADgARABEADgAKAA4ADgAKAAoADgARAA4AEQAOAAoACgAKAA4ACgAKAAoACgAKAAoACgAOAAoACgAKAAoACgAKAAcACgAKAAoABwAHAAcABwADAAMAAwADAAcAAwADAAcAAwAHAAcABwADAAcACgAHAAcABwAHAAcABwAHAAcABwAHAAcACgAKAA4ACgAKAA4ACgAOAA4ADgAOAA4ADgAOAAoACgAOAA4ADgAVABUADgAOAA4ADgAOAAoADgAOABEADgAOAAoACgAOAA4ACgAKAAoACgAHAAcABwADAAMAAAADAAMAAAAAAAAAAAAAAAAA/f/5//n/+f/9//3/+f/9//3//f/9//n/9v/2//b/8v/2//b/9v/2//n/9v/y//L/8v/y/+//7//v/+//6//v/+v/6//v/+v/6P/k/+j/5P/k/+H/4f/h/+H/4f/d/93/3f/h/+H/3f/h/+H/4f/d/9n/3f/h/+H/5P/k/+H/5P/h/93/4f/d/+H/4f/h/+H/5P/k/+T/5P/h/+H/4f/h/93/5P/h/+H/4f/d/+H/3f/d/+H/3f/d/+H/3f/d/+H/3f/Z/9n/3f/d/93/3f/k/+T/4f/h/+H/6P/o/+j/6P/o/+//6//r/+v/7//v//L/7//y//b/9v/5//b/+f/2//n//f/5//3//f8AAP3//f8AAAAAAAADAAMAAwAHAAcABwADAAcABwAHAAMAAwADAAAAAwADAAcAAAAAAAMAAwADAAMAAAADAAMAAAADAAMAAwADAAMABwADAAMAAwAHAAoABwAHAAcABwAKAAcABwAHAAoABwAKAAcACgAKAAoAEQAOABEADgAOABEACgARABEAEQAOABEAEQAVABgAFQAVABgAGAAYABgAFQAVABUAGAAcABgAHAAYABgAGAAYABwAGAAcABwAHAAcABgAHAAfABgAHAAcAB8AHwAYABwAHAAfABwAHAAcABwAHAAYABgAGAAYABgAGAAYABgAGAAVABgAFQAVABUAFQAVABEAEQARABEADgAKABEAFQAOAA4ADgAKAA4ADgAKAAoADgAOAA4ACgAKAAoACgAHAAoACgAOAAoACgAKAAcACgAHAAcABwAHAAcAAwADAAAAAAADAP3//f8AAAAA/f/5//n/+f/5//b/9v/v/+//9v/y//b/8v/v/+v/7//y/+//7//r/+v/6P/v/+//6//r/+j/6P/o/+v/6//o/+v/6//r/+//7//y//L/8v/y//b/8v/2//b/8v/5//n/9v/2//b/+f/2//n/9v/2//L/9v/v/+//7//r/+//6//v/+//7//v/+v/6//r/+j/6P/r/+j/6P/o/+j/6P/k/+j/5P/k/+j/5P/h/+T/4f/d/93/3f/Z/9n/2f/Z/9n/2f/d/93/2f/Z/9n/4f/Z/9n/3f/d/93/1v/Z/9n/2f/W/9b/2f/W/9b/1v/W/9n/2f/Z/9n/3f/d/93/4f/d/+H/6P/o/+j/6//v/+//8v/v/+//9v/y//b/+f/5//n//f/9/wAAAwADAAcABwAKAAoAEQARABUAGAAVABgAGAAYABwAHAAfAB8AHwAfAB8AHwAjACcAIwAjACMAIwAnACMAIwAnACMAJwAjACcAJwAjACMAJwAnACMAIwAfACMAHwAcABwAHAAfABwAGAAYABwAFQAYABwAGAAcABUAFQAVABEAFQAYABUAGAAVABEADgARAA4ADgAOAAoADgAKAAoACgAKAAcAAwADAAMAAwADAAMAAAADAAMAAAADAP3//f8AAP3/+f/5//3/+f/5//n/+f/5//n/9v/5//n/+f/9//3//f8AAAAAAAAAAAAAAAADAAMABwAHAAoACgAHAAoACgAOAA4ADgARABEAEQARABUAEQARABUAEQAVABUAFQAVABEAEQAVABEAEQARABEAEQAOABEAEQAKAAoACgAKAAcACgAHAAcAAwADAAMAAwADAAcAAAAAAAAAAAAAAAAAAAD9/wAA/f/5//3/+f/5//n/+f/5//b/9v/y//b/9v/y//b/8v/y//L/7//y//L/6//r/+v/7//v/+//6//r/+//6//r/+v/6P/r/+j/6P/k/+T/6P/h/+T/5P/k/+T/5P/h/+T/5P/h/+T/4f/h/+T/4f/h/+T/4f/d/+T/5P/k/+T/5P/k/+T/6P/o/+j/6P/o/+j/6P/r/+v/6P/o/+v/7//r/+//6//v/+//7//y/+//7//v//L/8v/v//L/9v/y//b/9v/5//b/8v/2//L/8v/y//L/8v/y//L/8v/y//L/9v/2//b/9v/2//L/9v/5//n/+f/9//b/9v/5//3/+f/9//3//f/9//3/AAD9//3/AAAAAAAA/f8AAP3/AwADAAAABwAHAAcABwAKAAoACgAKAA4ACgAKAAoACgAOAAoACgAKAAcABwAKAAcAAwAHAAcABwADAAMABwAHAAMABwAHAAcACgAKAAoACgAKAA4ADgARABUAGAAVABUAFQAYABwAHAAcABwAHwAfAB8AHwAfACMAIwAjACMAJwAqACcAKgAqACoAKgAuACoAKgAuACoAKgAqACcAJwAnAB8AHAAcABgAGAAVABEAEQARAAoABwAKAAMAAwAAAP3/AAD9//n/+f/2//L/8v/y//L/7//y/+//6//v/+v/7//r/+v/6//o/+v/6P/r/+v/7//v/+v/7//y//L/8v/y//L/9v/2//b/+f/5//n/+f/5//n/+f/5//3/+f/9//3//f/9//3//f8AAAAAAAAAAAMAAwAHAAMAAwADAAAABwAHAAMAAwADAAcABwADAAAAAwADAAMABwADAAcABwAHAAMAAwADAAMAAwAHAAcAAwAHAAMAAwADAAcAAwAAAAMAAAADAAMAAwADAAAAAwAHAAcABwADAAcABwAKAAoACgAKAAoACgAHAAoACgAOABEAEQAOABEAEQAOABEAEQARABEAEQAOABEAEQAOAA4ACgAKAAcABwADAAMAAAD9//3//f/5//b/8v/y/+v/7//r/+T/6P/k/+H/3f/d/9n/2f/Z/9n/1v/W/9b/1v/d/9n/2f/W/9n/4f/h/+T/6P/k/+T/6P/o/+j/6P/v/+v/6//r/+v/6//o/+v/6//r/+v/5P/k/+j/6P/k/+T/4f/Z/9n/3f/W/8//0v/P/8v/y//I/8j/yP/I/8T/xP/E/8j/yP/E/8T/xP/I/8v/0v/W/9L/1v/Z/9n/2f/Z/+T/5P/o/+v/6//v//L/9v/5//n/+f/9//3/AAAAAAAAAwAHAAMAAwAAAAMAAwADAAMAAAAAAP3/+f/5//n/9v/2//b/9v/2//L/8v/v/+//7//r/+//8v/y/+//8v/2//b/+f/9/wAAAwAAAAMACgAOAA4AEQAVABgAHAAcACMAJwAqACoAKgAqAC4ALgAuADEAMQAxADEAKgAuAC4AKgAqACoAJwAjAB8AHwAfABwAHAAcABgAFQARABUAFQARABEADgARABEAEQAVABUAFQAVABgAGAAYABwAHwAcACMAIwAjACcAJwAqACoALgAqAC4AMQAxADEAMQAxADEAMQAxADUAMQAuAC4ALgAqACcAKgAnACMAHwAcABwAHAAYABUAFQARABEADgAOABEADgAKAAoACgAKAAoACgAHAAcACgAKAAoACgAKAAoACgAKAAoADgAKAAoACgAHAAoABwAHAAMABwAHAAMAAwAAAAAAAAAAAAAA/f/5//b/9v/2/+//8v/v/+//7//v/+v/6P/o/+v/6P/k/+T/5P/h/+T/6P/k/+j/6P/o/+T/6P/o/+j/7//v/+//7//v//L/8v/v//L/9v/2//b/+f/5//n/+f/2//b/9v/2//b/8v/y//L/7//r/+//6//o/+T/4f/h/93/2f/W/9L/0v/P/8v/z//L/8j/yP/I/8v/xP/I/8T/xP/E/8H/xP/E/8H/wf/B/8T/wf/E/8j/xP/I/8j/xP/B/8T/xP/B/8T/yP/E/8j/yP/I/8T/xP/E/8H/vf+9/73/vf+9/7n/tv+y/7L/tv+2/7L/q/+r/6v/q/+o/6j/qP+k/6j/qP+o/6T/qP+o/6j/r/+r/6//tv+2/7n/uf+9/8H/wf/L/8//0v/W/9n/2f/Z/+H/5P/o/+v/6//v//L/8v/y//b/+f/5//3/AAAAAAMAAAADAAcACgAKAAoADgAOAA4ADgAOABEAFQAVABEAFQAYABwAGAAYABwAHAAcAB8AJwAnACcAKgAqAC4AMQAxADUAOAA4AD8APwBHAEoASgBOAFEAUQBVAFgAWABVAFgAWABfAFwAXABcAFwAXABcAFwAWABYAFgAWABRAFUAUQBOAE4ASgBKAEcAQwBDAEMAPwA4ADwAPAA1ADgANQA1ADgANQA1ADgANQA4ADgANQA8AD8APwBDAEcARwBHAEoATgBRAFUAWABYAFwAXABfAGMAZwBnAGcAYwBjAGcAYwBnAGMAXwBfAFwAWABRAFUAUQBOAEoARwBDADwAOAA4ADUALgAxACoAKgAnACcAJwAfACMAHwAcABwAHAAcABgAHAAYABgAFQAVABgAFQARABUAFQAVABEADgARAA4ACgAHAAcABwADAAMAAAD9//n/+f/y//L/8v/r/+v/6P/k/+H/2f/d/9n/0v/P/8//z//L/8v/yP/I/8v/yP/I/8//y//I/8j/yP/I/8j/yP/P/8//z//P/8//0v/S/9L/0v/S/9L/0v/W/9b/1v/Z/9b/0v/S/9L/0v/P/8//y//L/8v/yP/E/8T/xP/B/8H/vf+5/7b/tv+y/7L/sv+y/7b/sv+y/6//sv+y/7L/sv+2/7b/uf+9/73/wf+9/8H/xP/E/8T/yP/I/8v/y//L/8//z//P/8//0v/W/9L/0v/S/9L/0v/P/9L/z//P/8//z//P/8v/y//L/8j/y//I/8v/y//I/8//y//L/8v/yP/I/8j/y//L/8//z//P/8//0v/W/9L/0v/W/9n/3f/d/+H/5P/o/+j/6//v/+//8v/y//b/9v/2//n/+f/5//n//f/9//3//f/9//3//f/5//3//f/9//3/AAAAAAAAAwAAAAAAAAAAAAMAAwAHAAcACgAKAA4ADgAOABUAFQAVABwAHAAjACMAJwAqACoALgAxADUAOAA4ADwAPwA/AEcARwBHAEoASgBKAE4ATgBOAE4ATgBKAE4ASgBKAEoARwBHAEcARwBDAD8APwA8ADgAOAA4ADUANQAxADEAMQAxADEAMQAxAC4ALgAuAC4AMQAxADEANQA4ADgAOAA8ADwAPwBDAD8ARwBDAEMARwBDAEMARwBHAEoARwBHAEMAQwBDAEMAPwA/ADwAOAA4ADgAMQAuADEALgAqACcAIwAfABwAHAAYABUAFQARABEADgAOAAoACgADAAAAAwADAAMAAAAAAAMABwADAAcABwAHAAcABwAHAAoACgAKAAcACgAKAA4ACgAOAA4ADgAKAAoACgAOAAoABwADAAMAAwAAAAAAAAD9//n/+f/2//b/9v/y//L/7//r/+v/6P/o/+j/6P/r/+T/6P/k/+H/5P/k/+T/4f/k/+H/5P/k/+T/4f/h/+T/5P/h/+T/5P/h/+T/5P/h/+T/4f/h/+T/3f/d/93/3f/d/9n/1v/W/9b/0v/P/8v/y//P/8j/yP/E/8H/wf+5/7b/vf+5/7b/tv+y/7b/sv+y/7L/r/+v/6v/r/+v/6v/r/+v/6//sv+v/6//q/+v/7L/sv+2/7L/tv+5/7n/uf+9/8H/wf/E/8j/yP/L/8//y//P/9L/0v/S/8//0v/S/9L/0v/S/9b/0v/P/8//0v/S/8//z//P/8//y//P/8//y//L/8v/z//P/8//z//P/8v/y//P/8//0v/S/9L/1v/Z/9b/2f/d/93/4f/k/+T/5P/o/+v/7//y//L/+f/5//b/+f/9//3/AAAAAAAAAAADAAMAAwAAAAAAAwADAAMAAwAAAAAAAAADAAAAAAD9//3/AAD9//3/AwAAAP3//f/9/wMAAAAAAAMAAwAHAAcABwAKAA4ACgAOAA4ADgAVABUAFQAVABUAFQAYABwAHAAcABwAHAAcAB8AHwAcAB8AHAAfAB8AHAAcABwAGAAcABwAGAAYABgAGAAYABwAHwAcABgAHAAcAB8AHwAjACcAJwAqACoALgAxADEAOAA4ADwAPwBDAEMARwBKAFEAVQBVAFUAWABcAFgAXwBfAF8AZwBnAGcAYwBjAGcAYwBfAFwAXABcAFgAXABYAFUAVQBRAE4ASgBKAEcAQwA/AD8APAA1ADEALgAuAC4AKgAqACoAJwAjAB8AGAAYABgAGAAVABUAEQAOABEADgAOAA4ACgAKAAoABwADAAMABwADAAAAAAD9//n/9v/2//b/9v/2//L/7//v/+//6//r/+j/6P/k/+H/3f/d/9n/2f/d/9n/1v/W/9L/0v/W/9L/0v/Z/9n/1v/W/9b/2f/d/93/5P/k/+H/4f/o/+v/6//v/+//8v/v//L/8v/v//L/8v/2//b/+f/5//b/8v/y//L/7//y//L/7//r/+v/6P/k/+T/5P/d/93/3f/Z/9b/1v/S/8//0v/L/8v/y//I/8T/yP/L/8j/xP/I/8v/y//L/8//z//L/9L/2f/S/9b/1v/Z/93/2f/d/93/3f/h/+H/4f/h/+H/6P/o/+T/6P/k/+T/5P/h/+H/4f/h/+H/4f/d/93/2f/Z/9b/0v/S/8//y//L/8//y//L/8v/yP/I/8j/yP/I/8v/y//L/8v/z//S/9L/0v/S/9n/2f/Z/93/3f/h/+H/6P/r/+//8v/2//b/9v/5//3/AwADAAMABwAHAAoACgAOAA4ADgAOABEADgARABEADgAOAA4AEQARAA4ADgAOAA4ACgAKAAcADgAKAAoABwAHAAoACgAKAAcABwAHAAcABwAKAAoACgAOABEAEQAVABUAFQAYABgAHAAfABwAHwAjACMAJwAnACcAKgAnACoAKgAqAC4ALgAuADEALgAuACoAKgAxACoAKgAuAC4ALgAuAC4AKgAuAC4AMQAxADEALgAqAC4ALgAuADEANQA1ADUAOAA1ADUAOAA4ADgANQA1ADgAOAA4ADwAOAA4ADgAOAA1ADUAOAA4ADgAPAA8ADgAPAA8ADgAPAA4ADwAPAA4ADwAOAA1ADUAOAA4ADUAMQA1ADEAMQAxADEAMQAuAC4ALgAuACcAKgAnACMAIwAnACMAHwAfABwAHAAfAB8AHAAcABgAGAAYABgAFQAVABEAFQAVAAoACgAKAAoACgAHAAcAAwAAAP3//f/9//3/+f/2//b/8v/v/+v/6//r/+v/6//r/+j/5P/o/+j/5P/o/+j/6P/r/+//7//r//L/8v/y//n/9v/5//3//f/9/wAAAwADAAAABwAHAAMAAwAAAAMAAwADAAAA/f/9//3//f/9//b/8v/v/+//7//r/+j/6P/h/93/2f/d/9b/1v/W/9L/z//L/8j/yP/L/8j/xP/I/8T/wf/E/8T/xP/I/8T/yP/I/8j/yP/L/8j/y//P/9L/0v/S/9L/0v/Z/9n/2f/d/9n/3f/d/93/3f/d/93/3f/Z/9n/1v/W/9n/1v/W/9L/z//P/8v/y//I/8j/yP/E/8T/wf/B/73/vf+9/7n/uf+9/73/vf+9/73/xP/B/8H/yP/I/8v/y//P/9L/0v/S/9b/2f/Z/93/4f/k/93/3f/h/+H/6P/h/+T/4f/h/93/2f/Z/9b/3f/Z/9b/0v/S/8//z//P/8v/z//L/8v/y//I/8v/yP/L/8v/y//P/8//z//S/9L/1v/W/93/4f/h/+T/6P/o/+//8v/y//b/+f/9/wMAAwADAAcABwAKAA4ADgAOABEAEQAVABUAGAAcABwAHwAcABwAHwAfAB8AIwAnACcAJwAjACcAKgAnACcAJwAqACoAKgAqACoALgAxADEAMQAuADEANQAxADwAOAA4ADwAOAA8ADwAPwA/AEcARwBHAEoARwBKAEoASgBOAE4ATgBRAE4ATgBRAE4ATgBOAEoASgBKAEoARwBHAEcAQwBHAEMAPwBDADwAPwA8ADwAPwA4ADUANQA1ADEAMQA1AC4ALgAxADEAMQAuAC4AMQAqAC4ALgAuAC4ALgAxAC4ALgAuAC4AKgAnACcAJwAqAC4AKgAnACcAJwAjAB8AHwAfABwAGAAVABUAFQAVABUAEQAOAAoACgAKAAcAAwAHAAMABwAAAAAA/f/5//3/+f/9//3//f8AAP3//f/9/wAAAAAAAP3//f8AAAMAAwAAAAAAAAD9/wAAAAD9/wAAAAAAAP3//f/5//b/9v/v/+//7//r/+v/6P/k/+T/3f/Z/9n/1v/W/9L/z//L/8v/y//L/8j/xP/E/8H/wf+9/8H/wf/B/8H/uf+9/73/vf/B/73/wf/B/73/wf+9/73/wf/E/8T/xP/E/8T/yP/L/8j/yP/L/8j/y//P/8v/y//L/8v/y//L/8v/y//I/8T/yP/E/8T/xP/B/8j/xP/B/8H/wf/B/73/wf/B/73/vf+9/7n/vf+5/7n/vf/B/73/uf/B/8H/wf+9/8H/xP/E/8j/yP/I/8j/y//L/8//0v/P/8//z//S/9b/1v/Z/9n/3f/d/+H/5P/k/+T/6P/o/+j/6P/o/+//7//v//L/8v/y//L/9v/2//n//f/5//3/+f/5//n//f8AAAAAAAADAAAAAAAAAAAABwADAAMABwADAAcABwAHAAoACgAOABEADgAOABEADgARABUAFQAYABgAGAAYABgAHAAcAB8AIwAfACMAIwAjACMAHwAjACMAIwAjACcAJwAnACcAJwAnACcAKgAnACoAKgAnAC4ALgAqACcAKgAnACoAKgAqACoAKgAqACcAJwAnACcAJwAnACMAHAAfACMAHwAcABwAHAAcABwAGAAYABgAGAAYABUAGAAYABUAGAAcABgAGAAYABgAGAAcABwAHAAcAB8AHwAjACMAHwAfACcAJwAnACMAJwAnACcAIwAjACcAJwAqACMAHwAjAB8AHwAfAB8AHwAcABwAGAAYABgAFQAVABUAFQARABEADgAOAAoABwAHAAMACgAKAAMAAAD9/wAAAAAAAPn/+f/5//n/9v/v/+//6//y//L/7//v/+//7//r/+v/6//r/+v/6//r/+//8v/r/+j/6//r/+j/6P/o/+T/5P/r/+v/5P/o/+T/5P/k/+H/4f/d/9n/2f/Z/9L/z//P/9L/0v/L/8v/y//L/8//yP/I/8j/yP/I/8v/y//I/8v/z//P/8//z//P/9b/2f/Z/9n/3f/d/+H/5P/h/+T/6P/o/+v/6P/r//L/6//v/+//7//v//L/9v/v/+//7//v/+//7//y/+//7//v/+//7//v/+//8v/y//b/8v/y//b/9v/2//b/+f/2//n/+f/5//n/+f8AAP3//f8DAAAAAwADAAcAAwADAAcABwAKAAoACgAOAAoACgAKAA4ADgARABUAEQAVABEAFQARABUAGAAYABEAFQAcABUAFQAcABwAHwAcABUAHAAYABgAHAAcAB8AHAAYABgAGAAVABUAFQARABUAEQAVABUAEQARAA4ADgARABUADgARABEAEQAVABEAFQARABEAFQAVABgAHAAcABgAGAAcABwAHAAcAB8AHwAcAB8AHwAjAB8AIwAjACMAIwAjACMAHwAjACcAIwAjACMAHwAfAB8AHwAfABwAHAAcABwAGAAVABEAFQARABUAEQARABEADgAOAAoACgAHAAcACgAKAAoABwADAAMAAwADAAMAAwADAAMAAwADAAAAAAADAAMACgAKAAcACgAKAA4ADgAOABEAEQAVABUAEQAKAAoAEQAVABUAFQARABUAEQAVABEADgAOAA4ADgAKAAoAAwADAAoABwAHAAcAAwADAAMAAwADAAMAAwADAAMAAwADAAMAAwAHAAcAAwAHAAoACgAKAAoABwAOAA4ADgAOAA4AEQAOABEADgARABEAEQAVABUAGAAYABUAFQARABEAEQARABEAEQARAA4AEQAOAAoACgAOAAoABwAHAAMAAwADAAMAAAD5//n//f/5//n/+f/2//L/9v/2//b/8v/y//L/8v/v/+//8v/v/+v/6//r/+v/6//r/+v/6//v/+//7//r/+//7//o/+//7//v/+//7//v/+//6//v/+//8v/v/+//6//o/+v/6//r/+j/6P/o/+j/6P/r/+j/6P/k/+H/5P/h/+H/5P/h/93/3f/d/9n/3f/Z/9n/2f/Z/9n/3f/d/9n/3f/d/93/2f/Z/9n/1v/W/93/4f/d/+T/5P/o/+j/5P/o/+j/6P/r/+v/6//o/+v/6//o/+j/6//r//L/8v/y//b/8v/y//L/9v/2/+//7//v//L/7//v/+//7//y//b/9v/y//b/9v/5//n/+f/5//b/9v/2//b/+f/2//n//f/9//3//f8DAAMAAAADAAcABwADAAcABwADAAMABwAKAAoADgAKAAoAEQARABEAEQAOAA4ADgAOAA4ACgAKAAcABwAHAAcACgAHAAcABwAHAAcABwAHAAMAAwAAAP3//f/9//3/+f/9//n/+f/9//n/9v/2//n/9v/2//n/9v/2//b/9v/2//n/9v/2//b/+f/5//n//f/9//n/+f/2//b/+f/2//n/+f/5//n/9v/2//b/9v/2//L/8v/y//L/7//r/+//7//v/+//6//v/+//7//v/+//7//v/+//7//v//L/7//y//L/8v/2//b/9v/2//b/9v/y//b/9v/5//n/9v/2//n/+f/2//b/9v/y//L/8v/y//L/9v/y//L/7//v//L/8v/y//L/7//y/+//8v/y//L/9v/2//n/+f/5//n/+f/5//n//f/9/wAAAAAAAAAAAwAHAAcABwAHAAoACgAHAA4ADgAKAA4ADgAKAA4ACgAOAAoACgAOAAoACgAHAAcAAwAHAAcAAAADAAAA/f/5//n/+f/5//b/9v/2//n/+f/2//b/8v/2//b/8v/y//L/8v/2//b/9v/5//b/+f/5//n/+f/9/wAAAAAAAAAA/f8AAAAAAAADAAAAAwAHAAMABwADAAMABwAHAAcABwAHAAMAAwADAAAAAAAAAP3/+f/9//b/9v/5//b/9v/2//L/9v/y/+//7//v/+//6//r/+v/6//v/+v/6//v//L/6//r/+//7//y//L/9v/y//L/8v/y//b/9v/2//n/+f/5//n/9v/2//b/9v/5//3/+f/2//b/8v/2//b/9v/5//b/9v/y/+//7//r/+v/7//v/+//7//r/+v/7//r/+//6//r/+v/6//r/+v/7//v//L/8v/y/+//9v/2//b/9v/5//n/+f/5//3/AAAAAP3/AAAAAAAAAAADAAMABwADAAMAAAAAAAMAAAADAAMAAwADAAMAAwADAAMABwADAAMAAwADAAcAAAAAAAAAAAAAAAAAAwADAAMAAwADAAMAAwADAAMAAwADAAcAAwADAAAAAAADAAMAAwAHAAMAAwADAAMAAwAHAAcAAwADAAcABwAHAAcABwADAAcACgAKAA4ACgAKAAoACgAKAAcAAwAHAAoACgAKAAcABwAKAAcABwAKAA4ADgAOAA4ADgAKABEAFQARABEAFQAVABUAFQAYABgAGAAYABgAHAAfAB8AHwAfACMAJwAjACMAIwAcABwAIwAfABwAHAAcABwAHAAfABwAHAAcABgAHAAYABUAFQAVABUAFQARAA4AEQAOAA4AEQARABEADgAOAA4ADgAOAA4AEQARABEAFQAYABgAFQAYABwAHAAcABwAGAAYAB8AHwAfACMAHwAjACMAHwAfAB8AHwAjAB8AIwAjABwAHAAYABgAFQAVABUAFQAVABEAEQAOAA4ACgAHAAcABwAHAAMAAwAAAAMAAAAAAAAA/f/9//n//f/9//3//f/5//n//f/5//3/+f/9/wAA/f/9//3/+f/5//n//f/2//b/+f/5//b/8v/2//b/8v/v//L/7//y/+//6//r/+v/6//r/+j/6//r/+j/6P/o/+j/6//r/+T/6P/o/+T/6P/o/+v/6//r/+T/5P/o/+j/6P/k/+j/5P/o/+j/6P/v/+v/6//r/+v/6P/o/+v/6P/o/+v/6//v/+//7//v/+//7//r/+//7//v//b/8v/5//b/9v/5//b/+f/5//n/+f/9//3/AAAAAP3/AwADAAcACgAKAAoACgAKAAoADgAKAAcACgAOAAoADgAOAAoADgAOABEADgAOAA4ADgAOAA4ADgARAA4AEQARAA4ADgAOAA4AEQARABEAEQARABEADgARABEADgARAA4ACgAOAA4ACgAKAAoADgAOAA4ABwAKAAoABwAKAAMAAwAHAAMAAwADAAAAAwADAP3/AAD9//3/AAD9//n//f/9//3/AAD9//3//f/5//3//f/9//3/+f/9//3/+f/5//3/+f8AAAAA/f/9//3/AAAAAAAAAAAAAAAA/f/9//3//f/9//3/AAADAAAAAAAAAP3/AAAAAAAAAAAAAAAA/f8AAAAA/f/9//3//f/5//n/+f/9//3/+f/9//n/9v/5//n/+f/5//b//f/9//n/+f/5//3/AAD9//3/AAD9//n//f8AAAAA/f8AAAAAAAAHAAMAAAAAAAAAAwADAAAAAAD9//n//f/5//3//f/5//3/9v/2//b/+f/5//n/+f/2//b/9v/y/+//8v/y//L/7//v//L/7//v/+v/7//y/+//8v/v//L/7//v//L/7//y//L/8v/y/+//7//y//L/9v/y//L/8v/y//b/8v/y//L/8v/y//b/9v/2//n/9v/2//b/8v/y//L/8v/2//b/9v/2//b/8v/y//b/9v/5//b/9v/2//b/8v/y//n/9v/2//n/9v/2//b/9v/5//b/9v/y//b/9v/y//n/9v/2//b/8v/2//b//f/5//n/+f/2//b/+f/5//b/9v/2//b/9v/y//L/9v/2//b/9v/y//L/7//v//L/9v/2//n/+f/5//n/+f/5//3//f/9//3/+f/5//n//f/9//3/AAAAAAAAAAADAAMABwAKAAcABwADAAMAAAADAAcAAwADAAAAAwADAAMAAwAHAAoABwAHAAMAAAAAAAAAAwAAAAAAAAADAAAAAwADAAAAAwAAAAMAAwAAAAMAAAAAAP3/+f/9/wAA/f8AAAAAAwADAAAA/f/9/wAAAAD9//n//f/9/wAA/f/9/wAAAAAAAP3//f8AAP3/AAADAP3//f/5//n//f/9/wAAAAD9//n//f/9//3//f/5//b/8v/2//b/+f/5//b/8v/y//L/7//v//L/8v/v/+//7//r/+//6//v/+//7//v//L/7//y//L/7//v//L/7//v/+//7//y/+//7//v//L/8v/2//L/8v/y/+//7//2//b/9v/5//3/+f/5//3/+f8AAAAAAAADAAAAAwAAAP3//f8AAAAAAAADAP3/AAAAAAAAAwAAAAMAAwADAAMAAwAAAAMAAwADAAMAAwAHAAcABwADAAMABwAHAAcABwAHAAoABwADAAcACgAOAAoADgAOAA4ADgAOAA4AEQAOABUAEQARABEADgARABUAGAAVABUAFQAOABEAFQARAAoABwAHAAcACgAHAAoACgAHAAcABwAHAAcAAwADAAMACgAOAAoACgAKAAoACgAKAAoACgAKAAoADgAOAAoACgAKAA4ADgAOAA4ADgAOAA4ACgAKAA4AEQAKAA4AEQAOAA4ADgAOABEAEQAOAA4ACgAKAA4ABwAKAA4ABwAKAAoACgAKAAoADgAKAAoADgAKAAcABwAHAAoABwADAAMAAwAAAAAAAAADAAMAAwADAAAAAAD9/wAA/f/5//b/9v/2//b/9v/2//b/9v/5//n/9v/2//b/8v/y//L/7//y/+//7//v/+v/6//o/+j/6P/v/+//6//o/+j/6P/o/+j/5P/k/+T/5P/k/+H/5P/k/+j/5P/k/+T/5P/k/+T/6//o/+j/6P/o/+j/6P/r/+v/6//o/+T/5P/o/+j/6//o/+j/6P/o/+v/6//v/+v/7//v/+j/6P/o/+v/7//v/+v/7//r/+//7//v/+//8v/v/+//7//r/+//8v/v/+//8v/y//L/8v/y//L/8v/v//L/8v/2//n/9v/y//L/8v/2//n/9v/5//n/9v/2//b/9v/2//n/+f/5//n/+f/5//n/+f/9/wAAAAAAAAAA/f/9/wAAAAADAAcAAwAAAAMAAwAHAAcABwAKAAoACgAHAAcACgAKAAoACgAKAAcAAwADAAcABwAHAAMAAwAAAAAAAwAHAAMAAwAHAAAAAAADAAMAAwAHAAcAAwAHAAAAAAAAAAMABwAHAAcAAwADAAMAAwAHAAoACgAKAAcABwAKAA4ACgAOAA4ADgAOAAoADgAOABEAEQARABEAEQAVABEAFQAVABEAEQAOABEAEQAOABEAEQAOAA4ADgAOABEAFQAYABUAFQARABEAEQARABUAFQAVAA4AEQARABEAFQAVABUAEQAVABUAEQARABEAEQARABEAEQARABEADgAOABEAFQARAA4AEQARABEAEQAOABEAEQARABEADgAOAAoAEQARABUAFQAOABUAEQAOAA4ACgAKAAcACgAOAA4ACgAHAAcABwAHAAoABwAKAAMAAAAAAP3//f/9//3//f/5//n/+f/2//n//f/9/wAA/f/5//n//f/9//3/+f/5//b/+f/5//b/9v/2//b/9v/5//n/9v/5//b/9v/2//b/9v/5//b/+f/2//L/9v/2//b/+f/5//n/9v/2//L/8v/2//L/8v/y/+//8v/y//L/8v/y//L/8v/v/+//7//r/+//7//r/+//7//v/+//7//v/+v/6//r//L/8v/y//L/8v/y//L/9v/y//b/9v/2//b/7//y//L/8v/2//L/7//v//L/7//y//L/8v/2/+//8v/v/+//8v/v//L/8v/y/+//7//v/+//7//v/+v/7//v/+//7//y//L/9v/2//b/+f/5//n//f/9/wMAAAADAAcABwAKAAoADgAKABEAFQAVABUAFQAVABgAHAAYABgAHAAYABgAFQAVABgAFQAYABUAFQAVAA4AFQAVABEAEQARAA4ADgAKAAoADgAKAAoACgAKAAcAAwAAAAMACgAHAAcABwADAAMABwAHAAcABwAHAAcABwAKAAoACgAKAAoABwAHAAoACgAKAAoABwAHAAcAAwAHAAMAAwAHAAcABwADAAMAAwAAAAMAAwAAAAAAAAAAAAMAAwADAP3//f/9//3//f/9/wAAAAD9//3/+f/5//3/AAAAAAAA/f8AAAAA/f8AAAAAAwADAAAAAAAAAP3/AAAAAAAAAAAAAAAAAAADAAMAAwAAAAAAAwADAAAAAwAAAP3//f/9/wAA/f/9//3//f/9//3//f/9/wAAAAD9//3/+f/5//n/+f/9//n/9v/2//n/9v/2//b/9v/2//b/+f/5//b/9v/2//n/9v/5//3/9v/5//n/9v/5//b/+f/9//n/+f/9//n//f/9//3//f/5//3/AAD9/wAA/f/5//3//f8AAAAAAAAAAAAAAAADAP3//f8AAP3//f/9//3//f/9//3//f/9//3/+f/5//n/+f/5//n/+f/2//L/9v/2//L/8v/v/+//8v/v/+v/6//r/+j/6//r/+v/6P/o/+v/7//v/+//7//r/+v/6//o/+j/6//o/+v/6//r/+v/7//y//L/8v/y//L/8v/v//L/8v/2//b/9v/5//n/+f/9//3//f/9//n//f/9//3/AAAAAAAAAwADAAMAAAAAAP3//f8AAAAAAAAAAAAAAAD9//3/AAD9//3//f/5//n/+f/2//n/9v/5//b/8v/y//b/8v/2//b/+f/5//L/9v/2//b/9v/5//n/9v/2//n/+f/5//3/AAAAAAAAAAD9//3/+f/9//3//f/5//3/AAD9/wAAAAD9/wAA/f/5//n//f/5//3/+f/5//n/+f/9//3//f/9//n/+f/9//3/AAD9//3/AAD9//3/AAAAAAAAAAD9/wAAAwAAAAMAAwADAAMAAAADAAMAAAADAAMAAAD9/wAAAAAAAAAAAAAAAP3//f8AAAMAAAAAAAAA+f/2//n/+f/5//n//f/9//n/+f/2//b/+f/5//n/+f/2//n/+f/5//3/+f/2//n/+f/5//n/+f/5//n//f/9//3//f/5//n//f/9/wAAAAD9//3//f8DAAAAAAADAAAAAwD9//3//f8AAAMAAwAAAP3//f/9//3//f/9/wAA+f/5//n/9v/9//3//f/9//3//f/9//3//f8AAAAAAAD9//3/AAAAAAMAAwADAAAAAwADAAMABwAHAAcACgAHAAMAAwADAAMAAwADAAcAAwADAAAAAwD9/wAAAwAAAAAAAAAAAP3/+f/5//3/+f/9//n/+f/5//n/+f/5/wAA/f/9/wAA/f/9//n/+f/9/wAAAAAAAAAAAAADAAMAAwAHAAcABwAHAAcABwAHAA4ACgAKAA4ACgAKAAoACgAKAAoACgAOAA4AEQAOAAoACgAHAAcABwAHAAMAAwADAAMAAAAAAP3/AAAAAP3/+f/9//n/9v/5//n//f/5//3//f/9/wAAAAADAAMAAAAAAAMABwAHAAoACgAKAAoADgAOABEAFQARABUAGAAVABUAFQAVABgAFQARAA4AEQARABEADgAOAAoABwAHAAMAAwADAAMA/f/5//3/+f/5//n/9v/2//b/9v/y//L/8v/y//b/9v/y//L/8v/y//L/9v/2//L/8v/2//b/9v/5//b/+f/9//n/AAD9//3/AAD9//3/AAAAAAAAAAD9/wAA/f/9//3//f/9//3//f/9//n/+f/5//b/9v/2//b/9v/2//L/8v/v//L/7//r//L/8v/v/+//7//v//L/8v/y//b/9v/2//b/9v/2//n//f/5//n/+f/5//3//f/5//3//f/9/wAAAAD9/wMAAwAAAAAAAAAAAAAAAwAAAAAAAAD5//n/+f/5//n/+f/5//3/+f/5//n/+f/9//3//f8AAAAA/f/9/wAAAAD9/wAAAAAAAAMAAAADAAcACgAHAAcABwAHAAoACgAHAAoACgAHAAoADgAOAA4ACgAKAA4ACgAKAA4ACgAKAAoACgAKAAoACgAKAAoACgAKAAoACgAKAAoACgAOAA4ADgARAA4ADgAOAAoADgAOAA4ADgARABEAEQARABEAFQAVABUAFQAVABUAFQAVABUAFQAVABUAGAAYABUAEQAVABUAFQAVAA4AEQAOABEAEQAKAA4ACgAKAA4ADgAKAA4AEQAOAA4AEQAOAA4ADgAHAAoADgAOABEADgAOAA4ACgAKAAoACgARABEAEQAOAA4ADgAKAA4ADgAOAAoACgAOAA4ACgAHAAoACgAHAAcABwAHAAcABwADAAMAAwAAAAMAAAD9//3/AAAAAP3//f/9//3//f8AAP3/+f/5//n/9v/9//3/+f/5//n/+f/5//n/+f/2//b/9v/5//n/9v/y//L/9v/2//L/8v/y//L/8v/y//L/7//y//L/8v/y//L/8v/y/+//7//y/+//8v/v/+//7//v/+v/7//r/+j/6//o/+v/6P/o/+T/5P/k/+T/5P/k/+T/4f/h/+H/5P/k/+T/5P/k/+T/5P/k/+T/5P/k/+j/5P/h/+H/4f/k/+T/5P/k/+H/4f/k/+H/5P/h/93/3f/h/93/3f/d/93/3f/h/+H/3f/d/+H/4f/d/93/4f/h/93/4f/k/+j/5P/k/+T/6P/o/+T/5P/o/+j/5P/k/+j/6P/o/+j/6P/o/+j/6P/o/+v/6//r/+//7//y//L/9v/2//b/9v/2//n/+f/5//3/+f/9/wAAAAADAAAAAwADAAAAAwADAAcABwAKAAoABwAHAAcACgAOAAoADgAOAA4ADgARAA4ADgARABEAEQAVABEAEQARABgAGAAcABwAHwAfAB8AIwAjACMAIwAnACMAJwAnACcAIwAjACcAIwAnACcAJwAnACoAJwAnACcAIwAnACMAIwAjACcAIwAjACcAJwAjACMAHwAcACMAIwAfABwAHAAfABwAGAAYABgAGAAcABwAGAAVABUAFQAVABUAFQAYABUAGAAYABUAFQARABUAGAAVABgAGAAYABUAFQAVABUAFQARAA4ADgAOAAoACgAOAA4ADgAOAAoABwAHAAMAAwAHAAcAAwADAP3//f/9//n//f/9//3/+f/2//b/8v/5//n/8v/y/+//7//v/+j/6//r/+v/6P/k/+j/5P/h/+H/4f/h/+H/3f/d/93/3f/Z/9n/1v/W/9L/0v/S/9L/0v/S/9L/0v/P/8//y//I/8v/yP/I/8j/yP/I/8j/xP/E/8j/yP/I/8j/yP/L/8j/yP/L/8v/yP/I/8v/y//L/8j/yP/P/8//y//P/8//0v/S/9b/0v/P/9L/0v/W/9b/1v/W/9b/1v/W/9n/1v/W/9L/2f/Z/9n/2f/Z/9n/3f/d/9n/3f/d/93/4f/h/+H/4f/d/93/3f/h/93/3f/h/+H/4f/h/+H/6P/k/+H/5P/k/+j/6P/o/+j/6P/r/+v/7//v//L/9v/2//b/9v/2//n//f/9/wAA/f8AAAAAAAAAAAAAAwADAAcABwAHAAoABwAKAA4ADgAKAAoADgAKAA4ACgAOAA4ADgAOAAoADgAKABEADgAOAA4ACgAVABEAEQARAA4ADgARABEAEQARABEAFQAVABEAEQAVABEAEQAVABUAGAAVABUAGAAVABgAGAAYABgAHAAcABwAHAAcABwAHAAcABwAHwAcABwAHwAfABwAHwAfABwAHwAfAB8AHwAfABwAHAAfABwAHwAfABwAHAAcABwAHAAcABwAHwAjAB8AHAAcAB8AHwAcAB8AHwAfAB8AHAAcABwAHwAcABwAHwAcABwAHAAcABwAHAAfABwAHAAcABwAHAAYABwAHwAcABgAFQAVABUAFQAVABUAFQAVABEADgAOABEAEQARABEAEQARAA4ADgAVABEADgARABUAEQAVABEAEQARAA4ADgAKAA4AEQAOAA4ACgAKAA4ADgAKAAoACgAKAAcABwAHAAcABwADAAAAAwAHAAAAAwAAAAAAAwD9/wAA/f/9//3/+f/9//b/9v/2//L/8v/y//L/8v/v/+//8v/y/+//7//v/+//7//v/+//7//v/+//6//r/+v/6//r/+v/6//r/+v/6//o/+j/5P/o/+T/6P/o/+v/6P/k/+j/6P/o/+j/5P/k/+j/6P/k/+T/5P/o/+j/5P/r/+j/6P/o/+v/6//r/+//7//v/+//8v/y//L/8v/y//L/9v/2//b/9v/5//b/+f/5//b/+f/5//n/9v/2//b/8v/2//b/9v/2//b/9v/2//n/+f/2//n/9v/2//n/8v/2//b/8v/y//L/9v/2//n/+f/2//b/+f/5//b/+f/5//b/9v/2//n/9v/y//b/9v/5//3/9v/2//n/+f/5//n//f/9//b/+f/5//n/+f/2//n/+f/5//n/+f/5//n/+f/9//3//f/9//3//f/5/wAAAAADAAMAAAADAAcABwADAAcABwAHAAcABwAHAAcABwAKAAcACgAKAA4AEQARABEAEQARABEAEQARABEAFQAVABEADgAOAA4AEQAVABUAFQAOABEADgAOABEADgAOABEADgARAA4ADgARABEAEQAVABUAEQARABEAEQAVABUAFQARABUAFQARABEAEQARAA4ADgARABEADgARAA4ADgARAA4ADgAOAA4ACgAKAAcACgAHAAcACgAHAAcABwAHAAcADgAKAAcABwAHAAcABwADAAcABwADAAMABwADAAAAAAADAAcAAwADAAMAAwADAAMAAwADAAMAAwADAAMABwADAAMABwAHAAMABwAHAAMAAwADAAMAAwAHAAcAAwAHAAcAAwADAAMABwAHAAcABwAHAAoABwADAAcAAwADAAcABwAAAAMAAwAHAAMAAAAHAAcABwADAAMAAwAAAAMABwAAAAMABwADAAAAAAD9/wAA/f/9//3/+f/9//3/+f/5//n/+f/2//b/9v/y/+//8v/y/+//7//v/+//6//v/+//7//y/+//8v/y/+//8v/v//L/9v/v//b/9v/2//n/+f/5//n//f/9//n//f/9//3/AAAAAAAA/f/9/wAAAAAAAAMAAAD9//3/AAAAAAAA/f/5/wAA/f/5//n/+f/9//n/+f/5//b/9v/5//b/9v/5//n/+f/5//b/9v/2//b/8v/5//b/9v/2//L/8v/2//b/9v/5//b/+f/5//n/+f/5//3/AAAAAAAA/f8AAAAAAAAAAAAAAwADAAAABwAAAAMAAwADAAAAAwADAAAAAwD9/wAAAAD9/wAA/f/9//n/+f/5//b/9v/y//L/8v/y//b/8v/y//L/7//y/+v/6//r/+v/7//v/+//6//v/+//7//y//L/7//v/+//7//y//L/9v/2//L/9v/y//n/9v/y//L/8v/2//b/9v/2//n/+f/5//n/+f/2//n/+f/5//3/9v/5//n/+f/5//n/+f/5//n/+f/5//b/+f/9//n/+f/5//3/9v/5//3/+f/9/wAA/f/9/wMA/f/9/wAAAAD9//3/AAAAAAAA/f8AAP3/AAADAAcACgAKAAoABwAHAAoACgAHAAMABwAHAAcABwAHAAMAAwADAAcAAwAAAAcAAwADAAMAAAADAAMAAwADAAMAAAAAAAAA/f8AAAAAAAD9//n//f/9/wAA/f8AAAAAAAAAAP3//f8AAAMA/f8AAAAAAAAAAPn//f/5//3//f/5//3/+f/9//3//f/9//3//f/9//3/+f/9//3/+f/5//3//f/5//n//f/5//n//f/5//3/+f/9//3//f/9//3//f/9/wAAAAADAAAA/f8AAAAA/f8AAAMAAwAAAP3/AAD9/wAAAAAAAAMAAAD9//3/AAD9//n/AAAAAP3/AAAAAP3//f/9//n/+f/5//b/+f/5//b/9v/2//b/9v/2//n/9v/2//b/+f/5//b/+f/5//n//f/5//3/+f/9/wAA/f8AAAAA/f8AAAAAAAADAAAAAwAHAAMAAAAAAAAAAAADAAAAAAAAAAAAAAAAAP3//f/9//n//f/9//3/AAAAAP3//f/9/wAA/f/9/wAA/f/9//3/AAD9/wAAAAAAAAAAAAAAAP3/AAAAAP3//f8DAAMAAwAHAAcABwADAAMAAwAHAAAAAAADAAAAAwAAAAAAAwADAAMAAwAAAAMAAwAAAAMAAwADAAMAAAADAAMAAAAAAAAAAAAAAP3//f8AAP3//f8AAAAA/f8AAAAAAAAAAAAAAAAAAAAAAAAAAAAA/f8AAAMAAAAAAAAA/f/9//n/+f/5//3//f/5//n/+f/5//n/9v/5//b/9v/2//n//f/9//n/+f/5//n/9v/2//n/9v/y//L/9v/2//b/9v/2//n/9v/2//n/9v/5//3//f8AAAAAAAAAAAMAAwAAAAcABwAHAAoACgAKAAoACgAHAA4AEQARABEAEQAOAA4ACgAKAA4ACgAKAAoACgAKAAcAAwAHAAoACgAKAAcABwAHAAcABwAHAAcABwAHAAMAAAADAAAAAAAAAAAAAAAAAAAAAAAAAAMAAwD9//3/AAAAAP3//f/9/wAAAAD9//3/AAAAAAAAAAAAAAAA/f8AAP3/+f8AAPn//f/9//3//f/9//3//f/9//3/+f/5//n/9v/2//b/9v/5//b/9v/2//b/9v/2//L/9v/2//b/9v/5//n/+f/2//n//f/5//n/+f/2//n//f/5//n/9v/2//b/9v/5//b/+f/5//n/+f/5//n//f/5//n//f/5//n/+f/9//3//f8AAAAAAAD9/wAA/f8AAAAAAAADAAAAAAD9/wAAAAAAAAMAAwADAAMAAwAAAAMAAwADAAMAAwAHAAMAAwADAAMABwAHAAMABwAHAAMABwAKAAoACgAKAA4ACgAOAA4ACgAOAAoABwADAAoABwAHAAoAAwADAAMAAwAAAAMAAwADAAMAAAAAAP3//f/9/wAA/f/5//n//f/5//n/+f/2//n/9v/2//b/9v/2//b/9v/2//b/9v/2//b/+f/2//b/+f/2//n/+f/9/wAA/f/9//n/9v/5//n/+f/5//n/+f/5//n/+f/5//n/+f/9//n/+f/5//n/+f/9/wAA/f/5//n/+f/5//n/+f/5//3//f/9//n/+f/5//n/9v/2//b/9v/2//b/9v/2//b/+f/5//3/+f/5//3/+f8AAP3//f/9/wAA/f/9/wAAAAAAAAMAAwADAAMAAAAAAAAAAwAAAAAAAAD9/wAAAwAAAAAAAAD9/wAAAAAAAAMABwADAAAAAAAAAAAAAAAAAAMAAwAAAAAAAwAAAAMAAwAHAAcACgAHAAcACgAKAAoABwAKAAoABwAHAAcABwAKAAcABwAHAAMAAwADAAMAAwAAAAMAAwAHAAcAAwAHAAMAAwAHAAcABwAKAAcACgAHAAcAAwADAAcABwAHAAcABwAHAAcAAwADAAMAAwADAAMAAwAAAP3/AAAAAP3//f/9//n/+f/5//3//f/5//n//f/5//n/+f/5//3/AAD9//3//f/5//3/+f/5//n/9v/2//b/8v/2//b/9v/2//b/9v/5//b/9v/2//n/+f/5//n/+f/5//n//f/9//3/AAAAAPn/+f/9//n//f/9/wAAAAD9//3//f/9//n/+f/5//3/+f/5//3/9v/2//b/9v/2//b/9v/y/+//7//v//L/8v/y//L/8v/y//L/9v/y/+//7//y//L/7//v/+//6//y/+//7//y//L/8v/v/+//7//v//b/9v/y//b/8v/2//b/8v/2//n/+f/2//L/9v/5//n//f/9//b/+f/5//n//f/9//3/+f/5//3/+f/9/wAAAAAAAAAAAwAAAAMAAAADAAAAAAADAP3/AAADAAAAAAADAAMAAwADAAAAAwAHAAMABwAHAAcABwAKAAoACgAHAAcACgAKAAoADgAOAA4ADgARABEADgARABEAEQARABUAEQARAA4ACgAOAA4ADgAOABEACgAKAA4ACgAHAAoABwAHAAcABwAHAAoABwADAAMAAwADAAMAAwAHAAMAAwAAAAAAAAD9/wAAAwADAAAAAAAAAAAAAAAAAAAAAwADAAMAAwAAAAAAAwADAAMABwADAAAAAwADAAMAAwADAAMAAwAAAAAAAwAHAAMAAwADAAMAAwAHAAcABwAHAAcAAwAHAAcAAwADAAcABwAHAAMAAwAHAAMABwAKAAcABwAHAAcACgAHAAcACgAKAAcACgAKAAoACgAHAAcAAwADAAcAAwADAAMAAAADAAAAAwADAAAAAAAAAP3/AAAAAPn/+f/5//n/+f/5//3/9v/2//L/9v/2//b/9v/y//b/9v/2//L/7//y//L/8v/y/+//6//v/+//6//v/+//6//r/+v/6P/o/+j/6P/o/+j/6P/k/+T/5P/k/+j/5P/k/+T/5P/k/+H/4f/h/+T/5P/k/+T/5P/o/+j/5P/o/+j/6P/r/+j/6//r/+j/6//r/+v/6//r/+j/6P/r/+j/6//o/+j/6//r/+//6//r//L/8v/v/+//7//v/+//8v/y//b/8v/2//b/8v/5//n/+f/9//3//f/9//n//f/9//3/AAAAAAMAAwAAAAMABwAHAAcACgAHAAcABwAKAAoABwAOAA4ACgAOAA4AEQARAA4ADgAOAA4ADgAOABEAEQARABEADgAOABEAEQAVABgAGAAVABUAFQAYABUAFQAYABgAGAAVABgAGAAYABgAGAAYABgAGAAVABUAFQAVABgAFQAYABwAGAAYABgAGAAcABwAHAAcABwAGAAYABwAHAAfAB8AHwAfABwAHwAfAB8AIwAfAB8AHwAcABwAHwAfACMAHwAfAB8AHAAcABwAHAAfACMAHwAfAB8AHwAcABwAGAAcACMAHAAcABwAHAAfABgAHAAcABgAGAAVABEAEQARABEAEQAVABEAEQARAA4ADgAOAAoABwADAAcAAwAAAAcAAwAHAAcABwADAAAAAwAAAAMAAwADAAMAAAD9//3//f/9//3//f/9//n/+f/5//n/9v/5//n/8v/y//L/8v/y//L/9v/y/+//8v/v/+v/6P/r/+v/6P/o/+T/5P/k/+T/3f/d/9n/2f/d/9n/1v/W/9L/0v/S/9L/0v/S/9L/0v/S/9L/0v/W/9b/2f/Z/9b/1v/d/93/3f/d/93/2f/d/+H/4f/k/+H/5P/h/+H/4f/k/+T/4f/h/93/2f/Z/+H/4f/h/+H/4f/h/+H/3f/d/+H/3f/d/93/3f/d/9n/2f/Z/9n/2f/W/9n/1v/W/9b/1v/W/9b/1v/W/9b/2f/Z/93/3f/Z/9n/2f/Z/9n/3f/h/93/3f/h/93/4f/h/+H/5P/k/+j/6//o/+v/7//r/+v/6P/r/+v/7//v/+//8v/v//L/8v/y//b/9v/y/+//8v/y//L/8v/v//L/8v/2//L/9v/5//b/+f/5//b/8v/y//L/8v/2//b/+f/5//n//f/9//3/AAAAAAAABwAHAAcABwAHAAoABwAOABEAEQAOABEAFQAVABgAFQAVABgAGAAYABgAGAAYABwAGAAYABgAHAAcABwAGAAYABwAHAAYAB8AHwAcABwAGAAYABwAHAAcAB8AHwAfAB8AHAAcAB8AHwAcAB8AIwAfAB8AHwAfACMAIwAjACMAJwAjACMAJwAnACcAJwAqACcAKgAqACcAJwAnACcAJwAnACcAJwAnACcAJwAjACMAIwAnACcAJwAjACMAIwAfAB8AHwAfAB8AIwAjABwAHAAcABwAHAAcABwAGAAcABgAFQAVABgAFQAYABgAFQARABEAEQARABUAFQAYABUAFQAVABEAEQAVABUAFQAVABEADgAOAA4ADgARABEAEQAOAA4ACgAHAAcACgAHAAoABwADAAMAAAD9//3/+f/9//3/+f/5//b/7//v/+//8v/y/+//6//r/+v/6P/r/+v/6P/o/+j/6P/k/+T/5P/k/+j/6P/k/+T/6P/k/+T/6P/o/+T/5P/h/+H/4f/h/+T/4f/h/+H/2f/d/9n/1v/W/9b/1v/W/9L/z//S/9L/z//S/9L/0v/P/8v/yP/L/8v/z//P/8v/y//L/8v/z//L/8//z//P/8//z//L/8v/z//P/9L/1v/W/9b/1v/Z/9n/2f/d/+T/4f/k/+T/5P/k/+T/6P/r/+//7//v/+//8v/v//L/+f/2//b/+f/2//L/8v/5//b//f/9//n/+f/2//b/9v/2//n/9v/2//n/8v/v//L/9v/y//b/9v/y//L/6//r/+v/6//r/+//7//v/+//7//v/+//9v/y//b/9v/5//n/+f/2//b/AAD5//3/AwAAAAMAAwAKAAoADgAOAA4AEQARABEAFQAVABwAHAAcABwAHwAcAB8AHwAjACcAIwAnACcAJwAnACMAJwAqACcAJwAnACcAJwAjACcAJwAjACcAJwAnACMAHwAnACcAKgAnACMAIwAnACcAJwAnACcAKgAqACcAJwAqACoAKgAuAC4AKgAqACoAKgAqAC4AKgAuAC4AJwAqACcAKgAqACoAJwAjACcAIwAjAB8AHwAjACMAHAAfAB8AGAAcABgAGAAYABgAGAAVABUAFQARABEAEQARAA4ADgARAA4ADgARABEADgARABEADgAOAA4ADgAKAAoADgAKAAoACgAKAAcAAwAHAAMAAwAHAAcAAwADAAMAAAADAAMAAAD9/wAA/f/9/wAAAAAAAAAAAAAAAP3//f8AAAAAAAAAAAAAAAADAAAAAAAAAAAAAwAAAAAAAwADAAAAAAADAAMAAAADAAMAAwADAAMAAAAHAAMAAAADAAMAAwADAAMABwAAAAAAAAD9/wAAAAD9//3//f/9//n/+f/9//n/+f/5//n/+f/2//L/8v/2//b/9v/y/+//7//r/+//7//v/+v/6P/r/+j/6P/o/+j/6P/k/+j/6P/k/+T/6P/k/+T/5P/k/+T/5P/h/+T/5P/h/+T/5P/o/+j/6P/o/+j/6P/k/+v/6//r/+j/5P/o/+j/6//r/+v/7//r/+//7//v/+j/6//v/+v/7//v/+//7//r/+v/6//r/+v/6//v/+j/6//r/+v/6//r/+//6//r/+v/7//r/+v/6//r/+v/7//v/+//7//y//L/7//v//L/9v/2//b/+f/2//n/+f/5//3//f8AAPn//f8AAP3/AAAAAAMAAwADAAAAAAAAAP3/AAD9//3//f/9//3/+f/2//n/+f/y//b/9v/y/+//6//r/+v/6//o/+j/6P/o/+T/5P/k/+H/3f/h/+T/5P/k/+T/4f/k/+T/6P/h/+T/6P/k/+j/6//o/+v/8v/y/+//6//y//b/9v/2//b/+f/2//b/+f/5//3//f/5//3//f8AAP3//f/9//3/AAD9//n//f/5//n/+f/2//n/+f/5//n/+f/5//b/+f/5//n//f/5//n/+f/5//n//f/5//3//f/9//3//f/9/wAAAwADAAcAAwADAAMABwAHAAoACgAOAAoACgAOAAoADgAOAA4ADgAOAA4ACgAOAA4ADgAKAAoADgAOAA4ACgAHAAcABwAHAAcACgAHAAMAAwADAAMAAwADAAcAAwAAAAMAAAAAAAMAAwADAAcAAwADAAcAAwAHAAcACgAKAAcABwAHAA4ACgAKAA4ACgAOAAoACgAKAAoADgAOAA4ADgAOABEAEQARABEAFQARABEADgAKAA4ADgAOAA4ACgAKAA4ABwAHAAoADgAOAAoADgAKAAoADgAKAAoACgAOAAcABwADAAcACgAKAA4ACgAKAAoACgAKAA4ADgAOAA4ADgAOAAoADgAOAA4AEQAOAA4AEQARAA4ADgAOABEADgAKAAcABwAHAAoACgAKAAoABwADAAMAAwAHAAcACgAHAAMAAwAAAP3/AAAAAP3//f/2//b/9v/2//b/+f/5//b/9v/2//b/+f/2//b/9v/y/+//7//v/+//7//y//L/7//y/+//7//v/+//7//r/+v/6//r/+v/6//r/+j/6P/o/+j/6//r/+v/6//o/+T/6P/k/+H/5P/k/+T/5P/k/+H/4f/d/+H/5P/h/+H/4f/k/+T/4f/h/+H/4f/k/+T/5P/k/+T/5P/o/+j/6P/o/+j/5P/o/+j/6//r/+j/6P/o/+j/6//r/+v/6//v/+v/6P/o/+j/6P/o/+v/6P/k/+T/5P/k/+j/6P/o/+j/5P/o/+j/5P/o/+v/6P/r/+j/6P/k/+j/6//v/+//7//v/+//7//v//L/8v/y//L/8v/2//b/9v/2//b/8v/2//n/9v/5//n/+f/5//n/+f/5//3//f/9//3/+f/5//n//f/5//3/AAD9/wAAAAAAAAMAAwADAAMAAwADAAcAAwAAAAMAAwADAAcABwAHAAoACgAOAAoADgAOAA4AEQAOAA4ADgAOAA4AEQARABUAFQAVABUAFQAcABwAGAAcABgAGAAYABgAGAAYABUAGAAYABgAGAAcABwAHAAcABwAHAAYABgAHAAYABwAHAAcABgAGAAcABgAGAAcABwAGAAYABwAHAAcABwAHwAcABwAHAAfAB8AHAAfAB8AHwAYABgAHAAfAB8AHwAfAB8AHwAfABwAHwAfAB8AHwAfAB8AHwAfABwAHwAfABwAHAAcABwAHwAcAB8AIwAcAB8AHwAcABwAHAAcABwAHwAcABwAHAAcAB8AHAAcABwAHAAcABwAHwAcABwAHwAfAB8AHAAfABwAHAAcABwAHwAcABwAGAAYABwAGAAYABgAGAAYABgAFQAVABEAFQAVABEAEQARAA4ACgAKAAoAAwADAAcAAwADAAAA/f8AAPn//f/5//n/+f/y//L/7//v//L/6//r/+//6P/r/+v/6//r/+v/6//o/+j/6//k/+H/5P/k/+H/4f/k/+T/4f/h/93/3f/d/93/3f/Z/93/1v/W/9n/1v/W/9b/0v/S/8//1v/S/8//z//L/8v/y//I/8v/y//L/8v/y//L/8j/y//I/8j/y//I/8v/y//I/8j/y//L/8j/yP/I/8v/y//L/8//y//L/8j/yP/I/8j/y//L/8j/yP/I/8j/xP/I/8v/yP/L/8j/yP/I/8j/yP/I/8j/yP/L/8//y//P/8//0v/S/9L/0v/S/8//0v/S/9b/3f/Z/93/4f/h/+H/6P/k/+j/6P/r//L/6//y/+//8v/2//L/9v/5//n//f/9//3/AAAAAAMAAwADAAcABwAKAAoACgAKAA4ADgAKAA4AEQARABUAFQAYABgAFQAVABgAGAAcABwAHwAfAB8AIwAfACMAIwAjAC4ALgAqACoAMQAxADEAMQAxAC4AMQA1ADUANQA4ADgAPAA/ADwAPAA8ADwAOAA8AD8APAA8ADwAPwA/AD8APwBDAD8APwA/ADwAPwA/AD8APwA/ADwAPwA/ADwAPwA8ADwAPAA8ADwAPAA/ADwAPwA4ADgAPAA8ADwAPAA8ADgANQA1ADUAOAA8AD8APAA8ADgANQA4ADUAOAA1ADEAMQAuAC4AKgAqACoALgAqACcAJwAjACMAJwAnACMAHwAcABwAHAAYABgAGAAYABgAEQAVABUAFQAVABEAFQAVABEADgAOAAoADgAOAAoACgAHAAcACgAHAAMAAwADAAAAAwAAAP3//f/9//n/+f/2//b/9v/2//L/7//y/+//6//r/+j/5P/o/+j/4f/h/+H/2f/Z/9n/2f/Z/9L/0v/S/9L/1v/W/9L/0v/P/8//z//L/8v/y//I/8v/yP/I/8j/yP/E/8T/yP/B/8H/wf/B/8H/uf+9/73/uf+5/7b/tv+5/7b/sv+y/7L/r/+v/6//r/+v/6//r/+v/6v/q/+r/6//q/+v/6v/q/+v/6v/r/+v/6//r/+y/7b/tv+2/7b/tv+2/73/vf/B/73/wf/E/8T/yP/I/8v/y//S/9L/z//S/9b/2f/Z/93/3f/d/93/4f/h/+T/6P/o/+j/6P/h/+j/6//r/+//6//r//L/8v/y//L/7//y//L/9v/5//b/9v/5//3/+f/9//3//f8AAAAAAwAAAAMAAwADAAMABwAKAAoADgAOAAoADgAKAAoACgAKABEAEQARABEAEQAVABgAGAAcAB8AHAAcABwAHAAfAB8AHwAjACMAIwAjAB8AIwAnACcAKgAnACoAKgAqACoALgAxAC4ALgAuAC4ALgAxADEANQA4ADgAPwA/AD8APAA/AD8APwBDAEMAQwBDAEcASgBKAEcASgBKAEoATgBKAEcARwBKAEoARwBHAEoARwBHAEMAQwBDAEMAQwBDAD8APwA/ADwAPAA4ADUANQA1ADUANQAxADEAMQAxADEALgAuACoAJwAjACMAJwAnACcAJwAnACoAJwAjACMAIwAnACMAHwAfAB8AIwAfAB8AHAAcAB8AGAAYABgAFQARABEAEQARAA4ADgAOAAoACgAHAAcABwADAAAA+f/2//b/9v/y//L/9v/y/+v/6//o/+j/5P/h/+H/5P/h/93/3f/Z/93/2f/W/9b/0v/S/8//z//P/8//y//I/8v/yP/I/8v/yP/E/8T/wf/B/8H/vf/E/8H/wf/B/73/vf+9/8H/vf+9/73/vf+5/73/wf+9/7n/vf+9/73/uf+5/73/uf+5/7n/uf/B/8H/wf/B/8H/wf/B/8H/wf/B/8T/vf+9/8H/wf/E/8T/xP/E/8T/xP/E/8T/xP/B/8T/yP/E/8T/xP/I/8j/yP/L/8v/z//L/8//z//P/9L/0v/W/9b/1v/W/9b/2f/Z/9n/2f/d/93/4f/h/+H/5P/h/+T/5P/k/+T/5P/k/+j/6P/o/+v/6P/v/+//7//y//L/8v/y//b/8v/2//n//f/5//3//f/2//n/+f/9/wAAAAD9//3/AAD9//3//f8AAAAAAAADAAMAAwADAAMABwAHAAcACgAKAAoADgAKAA4ADgAVABUAFQAYABUAGAAcABwAHAAfACMAHwAjACcAJwAjACMAJwAnACcAKgAqACoAKgAqACoALgAuAC4ALgAxAC4ALgAxAC4ANQA4ADEANQAxADUANQAxADUANQA1ADEAMQAxADEAMQAxADEAMQAuADEALgAuACoAKgAuACoAKgAqACoAKgAqACoAKgAnAB8AIwAjACMAIwAjACcAIwAfABwAHwAfABwAHAAcABgAFQARABUAFQARAA4AEQARABEADgAOAA4ADgAOAA4ACgAKAAoACgAOAA4ADgARABEADgAOAA4ADgAOAAoAEQARAA4ADgAKAAoACgAOAA4ACgAKAAoABwAHAAcABwADAAMAAAD9/wAAAAAAAAAAAAD9//3//f/9//n/9v/2//b/9v/v/+//8v/y//L/7//v//L/7//y/+//7//v/+v/7//v/+v/6P/o/+v/6P/v/+//6P/r/+j/6//o/+T/6P/k/+H/4f/k/+T/4f/k/+T/4f/h/+H/3f/h/93/4f/d/9n/3f/h/93/3f/d/93/3f/Z/9n/2f/d/93/2f/Z/9n/3f/Z/9n/2f/W/9b/2f/Z/9b/2f/Z/9n/3f/Z/9n/2f/Z/9n/2f/Z/9b/2f/Z/9n/2f/Z/9n/2f/d/9b/2f/Z/93/2f/Z/93/4f/k/+H/4f/k/+T/6P/o/+T/6P/r/+v/6//v//L/9v/2//b/9v/2//n//f/9/wAAAAAAAAAA/f8AAAMAAwADAAcAAwAHAAoAAwAHAAcACgAKAAcABwADAAMAAwADAAcACgADAAcABwADAAoACgAKAAoACgAOAAcABwAKAAoACgAKAAoACgAKAAoACgAKAAoADgAOAA4ADgAKAAoACgAOAAoACgAOABEAEQAVABUAFQAYABUAFQAVABgAGAAYABgAGAAVABgAGAAVABUAFQAVABgAFQAVABgAFQAYABgAGAAcABgAGAAYABgAGAAYABgAHAAcABwAHAAcABwAGAAcAB8AHAAfABwAHwAfAB8AIwAfAB8AHwAjACcAIwAjACMAIwAnACcAIwAjACMAIwAnACMAIwAnACcAJwAfACMAIwAjACcAIwAnACMAIwAjAB8AIwAfAB8AHwAfABwAHAAcABwAHAAYABgAGAAVABUAFQAVABUAEQARABEADgAOAA4ACgAKAA4ADgAKAA4ADgAOAA4ACgAHAAoABwADAAMAAwADAAAAAAAAAAAA/f8AAAAAAAADAAAA/f/9/wAA/f/9//3//f/9//3/+f/5//b/9v/2//L/8v/y//L/8v/r/+//7//v/+//6//r/+v/6P/r/+v/6P/r/+j/6P/o/+j/6//o/+T/5P/o/+j/6P/o/+T/6P/o/+j/5P/o/+j/6P/k/+T/5P/h/+T/5P/o/+T/5P/o/+T/5P/o/+T/6P/o/+v/5P/k/+T/5P/k/+j/6P/k/+T/6P/o/+v/6//r/+v/6//r/+j/6P/r/+v/6//r/+v/6//r/+v/7//v/+//6//v/+//6//r/+v/6//v/+v/6//r/+j/6//o/+v/7//v/+//7//v/+//7//r/+//7//v/+//7//y//L/8v/y//b/9v/2//L/7//2//b/9v/2//b/9v/2//n/+f/5//n/+f/9//3/+f/5//n/+f/9//3//f8AAAAA/f/9//3/+f/9//n/9v/5//3/+f/5//3//f/9//3/AAD9/wAA/f/5//3//f8AAP3//f/9//3//f/9/wAAAAD9/wAAAwADAAAAAwADAAcABwAHAAcABwAHAAcAAwADAAMABwAKAAoACgAKAAcACgAKAAoACgAKAAoABwAKAAoACgAOAAoABwAHAAoACgAKAAoACgADAAMABwAHAAcABwAKAAcABwAKAAcACgAKAA4ADgAOABEADgARABEAEQAVABEAFQARABUAGAAVABgAGAAcABwAGAAYABgAGAAfABwAHAAYABgAHAAcABgAGAAcABwAFQAYABUAFQAVABEADgARABEADgARAA4ACgAKAAcABwAHAAMAAwAAAAMAAwAAAAAAAAAAAAAAAAADAAAAAAADAAAAAwAAAAMABwADAAcACgAKAAoACgAKAA4ADgAOABEAEQAOAA4ADgARABEADgARABEACgAKAAoADgAKAAcABwADAAMAAwADAAAA/f/9//n//f/5//b/9v/y//L/7//y/+//6//r/+j/6P/r/+v/6P/o/+v/6//o/+j/6//o/+j/6P/o/+j/6//v/+v/7//r/+v/7//r//L/7//y//L/8v/y//b/9v/y//L/8v/v//L/9v/2//L/8v/y//L/8v/v//L/7//v//L/8v/v//L/7//r/+//6//r/+v/6//r/+v/6//r/+v/6//r/+v/6//r/+v/6//r/+v/6P/r/+v/6//v/+v/7//r/+v/6//v/+v/7//y/+v/6//r/+v/6//v//L/7//v/+//7//v/+//8v/y//L/8v/y//L/7//v//L/8v/v//L/7//y//L/8v/2//b/8v/y//b/8v/2//b/9v/2//b/9v/y/+//8v/y//L/9v/2//b/9v/y//b/9v/5//n/9v/2//n/9v/2//n//f/5//b//f/5//b/+f/9//3/+f/5//3/+f/5//n/+f/9//3//f/9//3//f/9/wAA/f/9//3/AAD9/wAAAAD9/wAA/f8AAAAAAwAAAAAAAAAAAAAAAAADAAAAAwADAAMAAAAAAAAAAAAAAAAAAwAAAAAAAAAAAAAAAAAAAAAAAAAAAAAAAwADAAMAAwADAAAAAwAHAAcABwAHAAcABwAHAAoACgAHAAoACgAHAAoADgAKABEAEQAOAA4ACgAOAA4ADgARABEADgAOAA4ACgAOABEADgARABEAEQARAA4ADgAKAA4ADgAOAA4ACgAOAA4ADgAOAA4ADgAOABEADgARAA4AEQARAA4AEQAVABEAEQAVABEAEQAVABEAEQAVABUAGAAYABgAGAAVABUAFQAYABUAFQAVABUAFQAVABgAEQAVABUAEQARAA4ADgAOAA4ACgAKAAcABwAHAAMAAwADAAMAAwAAAAAA/f8AAAAAAAD9/wAA/f/9//3//f/9//3/AAD5/wAA/f/9//3/AAAAAAAAAwAAAAAAAwAAAAMAAwAHAAMAAwAAAAMABwADAAMAAwADAAcAAwADAAcABwADAAMAAwAAAP3//f/9/wAA/f/5//n/9v/y//b/9v/y//L/7//r/+v/6P/o/+j/5P/o/+j/5P/h/+H/4f/d/93/3f/Z/93/2f/W/9n/1v/W/9n/2f/W/9b/1v/Z/9n/1v/Z/9n/2f/Z/9n/2f/d/9n/2f/Z/93/4f/h/+H/4f/h/93/4f/k/+H/5P/k/+T/5P/k/+j/6//k/+T/6P/o/+j/6P/o/+v/6//r/+v/6P/r/+j/6P/r/+v/6//v/+//6//v/+//7//v//L/8v/r/+//6//v//L/9v/2//L/8v/y//L/9v/5//b/+f/5//n/+f/9//n//f/9/wAAAAAAAAMAAwADAAMAAwAHAAcACgAKAAoACgAKAA4ADgAOABEAEQARABUAFQAVABgAHAAcABwAHAAcABwAHwAcAB8AIwAjACMAHwAfAB8AIwAjAB8AHwAfAB8AHwAjACMAIwAfABwAHwAfAB8AHAAfAB8AIwAfAB8AHwAfAB8AGAAYABgAGAAYABUAGAAYABUAGAAVABUAFQARABUAFQAVABUAFQAVABUAFQAVABgAGAAYABUAFQAYABgAFQAVABgAFQAVABUAFQARABEAFQAVABEAEQARABUAEQARABEAFQAVABUAFQAVABUAFQAVABUAFQAYABgAGAAYABUAFQAYABUAGAAVABUAFQARABUAFQAVABUAEQARABEAEQARABUAEQAOABEADgAKAAoACgAHAAAAAAAAAAAA/f/9//n/+f/2//b/8v/2//L/6//r/+//6//o/+j/6//o/+j/5P/k/+T/4f/h/93/4f/h/+H/4f/h/93/3f/d/93/4f/d/93/3f/h/+H/4f/h/+H/4f/h/+H/5P/k/+T/6P/r/+j/6P/o/+T/6//r/+j/6//r/+v/6//r/+j/6P/o/+j/6//o/+T/5P/k/+T/6P/k/+H/5P/k/+H/5P/k/+H/6P/k/+T/4f/d/+H/3f/h/+T/5P/k/+T/5P/k/+j/4f/h/+T/5P/o/+T/6P/o/+v/6P/o/+//7//v/+v/7//r/+//7//y//L/7//v/+//7//v/+//8v/y//L/8v/2//b/8v/2//b/9v/2//b/+f/5//n//f/5//3/AAD9/wAAAAADAAcABwADAAcABwAHAAoACgAKAAcACgAOAAcADgAKAA4AEQAOABEAEQARAA4AEQARABEAFQAVABEAEQAVABEAEQARABEAEQAVABUAEQAVABEAEQAOAA4AEQAOABEADgAKABEADgAKAA4ACgAOAA4ADgAOAA4ADgAKAAoACgAKAAcACgAHAAoADgAKAAoACgAKAAoABwAKAAoACgAOAAoACgAOAA4ADgARAA4ADgAOAAoACgAOAAoADgARAA4ADgAOAA4ADgAOAA4ACgAOAA4ADgAKAAoABwAHAAoACgAKAAcABwAHAAoABwADAAcABwADAAMAAAAAAAAAAAAAAP3//f/9//3/+f/5//3/+f/5//3/+f/9//n/+f/9//n//f/5//n/+f/5//b/9v/5//n/9v/2//b/9v/2//b/9v/5//n/+f/2//b/9v/2//n/9v/2//n/9v/2//L/8v/y//L/9v/y//L/8v/y/+//8v/v//L/8v/v//L/6//v/+//6//r/+v/6//r/+//7//v/+v/7//r/+//7//v/+//7//v/+//8v/v/+v/7//y/+//7//v/+//7//v/+v/7//v/+//8v/v/+//8v/v/+v/7//v/+//7//v//L/8v/y//L/8v/2//b/9v/2//b/+f/5//3//f/9/wAA/f8AAAAAAwADAAMABwADAAcABwADAAcABwAKAAoABwAKAAoACgAHAAoACgAHAAcABwAKAAMAAwAHAAMAAwAHAAMAAwAAAP3/AAAAAAAAAAAAAP3/AAD9//3/+f/2//3/+f/5//n/+f/5//b/9v/2//b/9v/2//b/8v/2//L/8v/2//b/9v/2//b/9v/5//b/+f/5//n//f/5//n/+f/9//3/+f/5//3/AAD9//3//f/5//n/+f/5//3//f/5//3//f/9//3/+f/9//3//f8AAP3//f/5//3//f/9/wAA/f8AAAAAAAAAAAMAAwADAAMAAAADAAAAAwADAAAAAAADAAMAAwADAAAABwAHAAcABwADAAMAAwADAAAAAwAHAAMABwADAAMAAwAAAAAAAAAAAP3//f/5//n/+f/5//n//f/5//n/+f/5//n/9v/2//b/8v/5//b/8v/2//b/9v/2//n/+f/5//n/9v/5//n//f/9//3//f/9/wAA/f8AAAAAAAADAAAABwAKAAcACgAKAAoACgAKAAoACgAOAA4ADgAOAA4ACgAKAAoACgAKAAoABwAKAAoABwAHAAcABwAAAAMAAwAAAAMAAAAAAAMAAAAAAAMAAAAAAAAA/f/9/wAAAAAAAAAAAAAAAP3//f8AAAMAAAAAAAMAAAAHAAMAAAADAAMABwAHAAcACgAHAAcABwAHAAcAAwAHAAcACgAHAAcABwAHAAcABwAKAAcABwAHAAMAAwAHAAcABwAHAAMAAwAHAAcAAwAHAAcABwADAAAAAwADAAcABwAHAAcABwAHAAMAAwADAAMAAwADAAcABwADAAcAAwADAAcAAwADAAMABwADAAcABwAHAAMAAwADAAMABwADAAMAAwADAAMABwADAAMABwADAAMAAAADAAcAAwADAAcABwAHAAcABwAHAAcABwADAAMABwAHAAcAAwAAAAMAAAADAAcAAAADAAAAAAADAAAAAAD9/wAA/f/9//3/+f/5//n/+f/2//b/9v/y//L/8v/y/+//6//v//L/8v/v/+//6//v/+//6//y/+v/7//v//L/7//r//L/7//y//L/8v/v/+//8v/v//L/9v/y//b/+f/2//n/+f/5//b/+f/9//b/+f/5//n/+f/5//n/+f/2//n/+f/5//n/+f/9//3//f/9//3/AAD9//3/+f/9/wAA+f/9/wAA/f8AAP3//f8AAAAAAAAAAAAAAAAAAAAAAAAAAAMAAwADAAMAAAADAAMAAwAAAAAAAwADAAMABwAHAAMABwAHAAMABwADAAMABwAHAAMAAwADAAMAAwADAAMAAwADAAMAAwADAAMABwAHAAcACgAHAAcACgAKAAcACgAKAAcACgAKAAoACgAOAAoADgAOAAoAEQARABEAEQARABEAFQAVABUAGAAYABgAGAAcABgAGAAcABUAGAAYABgAGAAYABgAHwAYABgAGAAYABwAGAAYABgAGAAVABgAFQARABUAEQARAA4ADgAOAA4ADgAOAAcABwAKAAcABwADAAcABwADAAMAAwADAAMAAwADAAMAAwAAAAAAAAAAAP3/AAD9//3/+f/2//n//f/5//b/+f/2//n/+f/5//b/8v/2//b/9v/2//L/8v/v/+//8v/y/+//7//y/+//6//r/+//6//r/+v/7//v/+j/7//o/+v/6//r/+//6//r/+j/6//r/+j/6//r/+j/6P/o/+j/6//o/+j/5P/o/+j/6P/r/+j/5P/o/+T/5P/o/+T/5P/k/+T/4f/h/+T/5P/k/+H/4f/k/+T/5P/k/+H/5P/k/+T/5P/o/+j/4f/o/+T/5P/o/+T/6P/o/+j/6P/o/+v/6//o/+j/6P/o/+j/6P/o/+j/6P/o/+j/6P/o/+j/6P/o/+j/6P/o/+j/6//r/+v/6P/o/+v/6P/v/+//7//v/+//6//r/+v/6//r/+v/7//v/+//7//v//L/8v/v//L/9v/2//b/9v/2//n/9v/2//b/9v/2//n/+f/5//3//f/5//n//f8AAP3//f8AAP3/AAD9/wAAAwADAAcACgAKAAcABwAHAAoACgAOAA4ACgAOAA4AEQARABUAEQARABEAEQARABUAEQARABgAGAAYABUAFQAVABUAFQARABEAEQARABEAFQARABEAFQAVABgAFQAVABEAEQARABEADgAOAA4ADgARABEADgARAA4AEQARAA4AEQARAA4AEQARAA4ADgAOABUAFQAVABUAEQARABUAEQARABEAEQAVABUAEQARABUAEQARABEAEQARABEAEQAOABEAEQAOABEADgAOAA4ACgAKAAcACgAHAAcABwAHAAcABwADAAMABwAHAAMAAwAAAAMAAAAAAAAA/f/5//n//f/9//n/+f/5//n/+f/5//b/9v/2//n/9v/5//n/+f/2//b/9v/2//b/+f/5//n/+f/5//b/8v/y//L/+f/2//b/9v/2//b/8v/y//L/9v/2//L/8v/2//b/9v/2//L/9v/v/+v/7//v/+v/7//v/+//7//v//L/7//r/+//6//v/+//6//o/+j/6P/r/+v/6//r/+j/6//o/+//6//o/+j/6P/o/+j/6//o/+v/6P/o/+v/6//r/+v/6//r/+v/6P/o/+v/6P/r/+v/6P/r/+v/6//r/+//7//y/+//7//v/+v/7//v/+v/6//r/+v/6//r/+v/7//r/+v/7//v/+//8v/y//L/7//y//L/8v/y//b/9v/2//b/9v/y//b/9v/2//b/9v/2//n/+f/5//n//f8AAP3//f/9/wAA/f8AAAMAAAADAAAAAwADAAMAAwADAAMAAwAHAAMABwAHAAcABwAHAAcABwAHAAcABwADAAcACgAHAAcACgAHAAcACgAKAAcACgAKAAoACgAKAAoACgAOAA4ADgAOABEADgAKAAoADgARABEAEQARABEAFQAVABUAGAAVABUAGAAVABEAGAAOAA4AFQARABEAEQARAA4AEQARABEAFQARABEAEQARABUAFQAYABUAGAAYABUAFQAVABUAFQAYABUAFQAVABUAGAAcABwAHwAcABwAHAAfAB8AHAAjACMAIwAjACMAJwAjACcAIwAjACMAIwAjACMAJwAjACcAJwAnACoAKgAuAC4AMQAuAC4ALgAuAC4AKgAuAC4ALgAuAC4AMQAxADEAMQAxAC4ALgAuAC4AKgAuADEALgAxAC4AMQAuACoAKgAnACoAIwAnACoAHwAfAB8AHwAcABwAGAAYABgAFQAVABEAEQAOAA4ABwAKAAcAAwAHAAAAAAAAAP3//f/5//n/9v/y//L/8v/y/+//7//r/+j/6P/o/+T/5P/k/+H/4f/d/93/4f/Z/9n/2f/d/9n/2f/W/9b/1v/S/9b/0v/S/9L/z//L/8j/z//L/8v/y//I/8v/y//I/8T/yP/L/8j/xP/E/8T/xP/E/8j/yP/I/8T/wf/B/73/wf/E/8H/vf+9/73/vf/B/8H/vf/B/8H/vf+9/73/wf/B/8H/wf/B/8H/wf/B/8H/wf/B/8H/xP/E/8T/xP/I/8v/yP/L/8v/z//L/8j/y//P/9L/0v/S/9b/1v/Z/9n/2f/Z/9n/2f/Z/9n/2f/Z/93/4f/k/+H/4f/k/+j/6P/o/+j/6//r/+//6//r/+//7//v//L/7//y//b/9v/5//n/+f/5//3/AAAAAAAABwAHAAMAAwAHAAoACgAOAA4ADgARABUAGAAYABgAHAAcAB8AIwAfAB8AIwAjACMAJwAqACoALgAuAC4AMQAxADEANQAxADEANQA4ADUAOAA8ADUANQA4ADgANQA1ADgAOAA4ADgAOAA4ADgAOAA4ADgAPAA8ADgAPAA8ADwAPAA/ADwAOAA/ADwAPAA/ADwAPAA8ADgAOAA4ADgAPAA4ADwAPAA4ADgAOAA4ADgAOAA4ADUANQA4ADgANQAxADUANQAxADEAMQAxAC4ALgAuACoAJwAjACcAJwAjACcAIwAjACcAIwAjAB8AHAAfABwAGAAYABgAFQAYABUAFQARABEAEQAKAA4ACgAHAAcABwAHAAMAAwADAAAAAAD9//3/+f/5//b/9v/2//L/9v/y/+//7//v/+v/6//r/+T/5P/k/+T/5P/d/93/4f/h/+H/3f/Z/9b/1v/W/9b/1v/W/9L/1v/S/8//z//P/8//y//L/8v/y//L/8j/y//L/8j/y//I/8j/yP/I/8j/yP/I/8j/yP/L/8v/y//I/8j/yP/L/8j/yP/I/8v/yP/I/8j/yP/I/8T/xP/I/8j/xP/L/8j/yP/L/8j/yP/I/8j/y//P/8//y//L/8//y//L/8//z//P/9L/0v/P/9b/2f/S/9b/2f/W/93/2f/d/9n/2f/d/93/5P/k/+H/4f/h/+T/5P/k/+T/6P/k/+H/5P/k/+j/6//o/+v/6//o/+v/6//o/+j/6//o/+j/6//r/+v/6P/o/+v/6//o/+v/6//r/+v/6//r/+//6//o/+v/7//r/+v/7//v/+//8v/2//b/+f/2//b/9v/5//3//f/9//3/AAAAAP3/AAAHAAcABwAHAAoACgAHAAoACgAKAA4AEQARABEADgAKABEAFQAVABgAGAAcABwAHAAcAB8AHwAfACMAIwAjAB8AIwAnACcAJwAnACcAJwAqACoAKgAqAC4ALgAqAC4AMQAxADUANQA1ADEAMQAxADEANQA1ADEAMQAuADEAMQAuADEAMQAxAC4ALgAuACMAJwAqACoAKgAqACMAIwAfABgAHAAcABgAFQAVABUAFQAVABUAEQAVABUADgAOAA4ADgAOABEADgAOABEAEQAOAA4ADgAOAA4AEQARABEAFQAVABUAEQAVABEAEQARABEAEQARABUAGAARABEAEQARABEAFQAVABEADgAOAAoACgAKAAcACgAKAAoABwAHAAcAAAADAAAAAAAAAAAAAAD9//3/+f/2//b/+f/2//b/9v/2//b/9v/y//L/9v/y/+//7//y/+//8v/v//L/8v/v/+//8v/v/+v/7//r/+v/6//o/+j/6P/o/+T/5P/k/+T/5P/k/93/3f/d/93/3f/d/93/3f/Z/9n/3f/Z/9n/1v/W/9b/0v/W/9b/1v/W/9n/1v/S/9b/1v/W/9n/2f/Z/9n/2f/Z/9n/1v/Z/93/2f/Z/9n/2f/d/9n/2f/d/93/4f/h/93/3f/h/+T/5P/k/+H/4f/k/+T/5P/k/+j/6P/k/+j/6P/h/+H/4f/k/+H/5P/k/+T/5P/o/+j/5P/o/+//6//r/+v/6//r/+v/7//v/+//7//y/+//6//v//L/8v/2//L/9v/5//n/+f/5//n/+f/9//3//f8AAAMAAwADAAMAAwAHAAcABwAOAAcADgAKAAoAEQARABEAEQARABEAEQAVABEAGAAVABUAGAAYABwAGAAcAB8AHwAfAB8AHwAcAB8AIwAjAB8AHwAjACcAIwAfACMAIwAjAB8AHwAjAB8AHAAfABwAHwAfAB8AHwAfABwAHAAcABUAHAAcABgAHAAYABgAGAAYABwAFQAYABgAFQAVABUAFQAVABgAFQARABEAGAARABUAGAAYABUAFQAVAA4AEQARAA4ADgAOAA4ADgAKAAcABwAKAAcABwAHAAcABwAHAAcACgAKAAcABwAKAAcAAwADAAMAAwADAAMAAwD9/wAA/f/9//3//f/9//3/9v/2//L/9v/5//b/9v/2//b/9v/5//n/+f/5//3/+f/5//n/9v/2//b/+f/9//n/+f/5//n/+f/5//3//f/9//3//f8AAAAAAAD9/wMAAwADAAMAAwAHAAMABwAHAAcACgAHAAcACgAKAAoACgAKAA4ADgAKAAoACgAHAAoABwAKAAoABwAKAAoACgAKAAoACgAOAAoABwAKAAoACgAKAAoACgAHAAcACgAKAAoADgAOAAoACgAKAAoABwAKAAoACgAKAAoACgAKAAcACgAKAAoACgAKAAoABwAKAAoABwAHAAcACgAKAAcABwAHAAcACgAKAAoACgAHAAcABwAKAAoABwAKAAoABwAHAAcABwAHAAcABwAKAAoABwAHAAMAAwADAAcAAwADAAAAAAAAAAAAAAADAAAAAAAAAP3//f8AAAAA+f/9//3//f/9//n//f/9//n/+f/9//3/9v/5//n/+f/5//3/+f/5//n/+f/5//b/9v/5//n/9v/y//L/8v/y//L/8v/y/+//7//v/+//7//r/+v/6P/r/+v/5P/o/+j/6//o/+j/7//r/+v/6//o/+j/6//r/+v/6//o/+j/6//r/+v/6//v/+//7//v/+v/7//v/+//7//v/+//8v/y/+//7//y//L/8v/y/+//8v/v/+//7//r/+//7//r/+v/6//r/+//6//o/+v/6P/o/+v/6P/o/+j/6P/o/+T/5P/k/+T/5P/k/+T/5P/k/+T/5P/k/+v/6//k/+j/6P/k/+T/6P/r/+v/6//r/+//6//v//L/7//v/+//8v/y//L/8v/v//L/9v/y//L/8v/y//b/9v/2//n/8v/y//L/9v/2//b/9v/2//b/9v/y//L/9v/y//b/9v/y//b/9v/y//L/9v/2//n/9v/5//n/9v/2//n/+f/9//3//f/9/wAA/f8AAAAAAAAAAAAABwADAAcABwAHAA4ACgAKAAoADgAKAAoAEQARABEAEQAVABUAFQAYABgAHAAcABwAGAAYABwAHAAcAB8AHAAfACMAHwAfACMAIwAjACMAIwAnACcAIwAnACcAIwAnACcAIwAnACcAKgAqACoAJwAnACcAJwAnACcAJwAnACcAJwAnACcAIwAjACcAIwAnACcAJwAjACMAHwAcABwAHAAcABwAGAAcABgAFQAYABUAEQAVABEADgAVAA4ACgAOAAoABwAHAAoABwADAAcAAwAHAAMAAAADAAAA\" type=\"audio/wav\" />\n",
              "                    Your browser does not support the audio element.\n",
              "                </audio>\n",
              "              "
            ]
          },
          "metadata": {},
          "execution_count": 26
        }
      ]
    },
    {
      "cell_type": "markdown",
      "metadata": {
        "id": "1MaL9J2dNVtG"
      },
      "source": [
        "It can be heard, that the speakers change along with their speaking rate, accent, etc. Overall, the recordings sound relatively clear though, which is to be expected from a read speech corpus.\n",
        "\n",
        "Let's do a final check that the data is correctly prepared, by printing the shape of the speech input, its transcription, and the corresponding sampling rate.\n",
        "\n",
        "**Note**: *You can click the following cell a couple of times to verify multiple samples.*"
      ]
    },
    {
      "cell_type": "markdown",
      "metadata": {
        "id": "k3Pbn5WvOYZF"
      },
      "source": [
        "Finally, we can process the dataset to the format expected by the model for training. We will make use of the `map(...)` function.\n",
        "\n",
        "First, we load and resample the audio data, simply by calling `batch[\"audio\"]`.\n",
        "Second, we extract the `input_values` from the loaded audio file. In our case, the `Wav2Vec2Processor` only normalizes the data. For other speech models, however, this step can include more complex feature extraction, such as [Log-Mel feature extraction](https://en.wikipedia.org/wiki/Mel-frequency_cepstrum).\n",
        "Third, we encode the transcriptions to label ids.\n",
        "\n",
        "**Note**: This mapping function is a good example of how the `Wav2Vec2Processor` class should be used. In \"normal\" context, calling `processor(...)` is redirected to `Wav2Vec2FeatureExtractor`'s call method. When wrapping the processor into the `as_target_processor` context, however, the same method is redirected to `Wav2Vec2CTCTokenizer`'s call method.\n",
        "For more information please check the [docs](https://huggingface.co/transformers/master/model_doc/wav2vec2.html#transformers.Wav2Vec2Processor.__call__)."
      ]
    },
    {
      "cell_type": "code",
      "metadata": {
        "id": "eJY7I0XAwe9p"
      },
      "source": [
        "def prepare_dataset(batch):\n",
        "\n",
        "    audio, _ = torchaudio.load(batch['file'].replace(\"\\\\\",\"/\"))\n",
        "    audio = audio.numpy().reshape(-1)\n",
        "    batch[\"input_values\"] = audio\n",
        "    batch[\"input_length\"] = len(batch[\"input_values\"])\n",
        "\n",
        "    with processor.as_target_processor():\n",
        "        batch[\"labels\"] = processor(batch[\"text\"]).input_ids\n",
        "    return batch"
      ],
      "execution_count": 27,
      "outputs": []
    },
    {
      "cell_type": "markdown",
      "metadata": {
        "id": "hVMZhH4-nP8-"
      },
      "source": [
        "Let's apply the data preparation function to all examples."
      ]
    },
    {
      "cell_type": "code",
      "metadata": {
        "id": "-np9xYK-wl8q"
      },
      "source": [
        "data = data.map(prepare_dataset, remove_columns=data.column_names[\"train\"], num_proc=4)"
      ],
      "execution_count": 28,
      "outputs": []
    },
    {
      "cell_type": "markdown",
      "metadata": {
        "id": "p_MuJSH8nTuQ"
      },
      "source": [
        "**Note**: Currently `datasets` make use of [`torchaudio`](https://pytorch.org/audio/stable/index.html) and [`librosa`](https://librosa.org/doc/latest/index.html) for audio loading and resampling. If you wish to implement your own costumized data loading/sampling, feel free to just make use of the `\"path\"` column instead and disregard the `\"audio\"` column."
      ]
    },
    {
      "cell_type": "markdown",
      "metadata": {
        "id": "M4J0bU1WsvAg"
      },
      "source": [
        "Long input sequences require a lot of memory. Since `Wav2Vec2` is based on `self-attention` the memory requirement scales quadratically with the input length for long input sequences (*cf.* with [this](https://www.reddit.com/r/MachineLearning/comments/genjvb/d_why_is_the_maximum_input_sequence_length_of/) reddit post). For this demo, let's filter all sequences that are longer than 4 seconds out of the training dataset."
      ]
    },
    {
      "cell_type": "code",
      "metadata": {
        "id": "nqGobEPUvG3v",
        "colab": {
          "base_uri": "https://localhost:8080/",
          "height": 49,
          "referenced_widgets": [
            "a1f34eb9c22242dbab76160656ce6068",
            "f322fd064a014f4fbea2f6759f09d440",
            "6729fb72c82b4243a993f269102b33a5",
            "5fd1c2a028b747219f2f4f7fae854a47",
            "2eae196d0285485384f4ddb9cec938ff",
            "328da350d3c34ca1ad41111d0419bdcc",
            "c0ea37aff9ae484d97b52393a8f8eccb",
            "df785576d8d44682b136ebf540ffb30b",
            "aa4cefc5b27e4e028492e607f3120ca5",
            "e6808b95fcef472bb9065298b0d49e2c",
            "58fb8b859de24d55b4afa336dd51b99a"
          ]
        },
        "outputId": "86d85580-3d53-4386-83ff-2ce26bbacfca"
      },
      "source": [
        "max_input_length_in_sec = 4.0\n",
        "data[\"train\"] = data[\"train\"].filter(lambda x: x < max_input_length_in_sec * processor.feature_extractor.sampling_rate, input_columns=[\"input_length\"])"
      ],
      "execution_count": 29,
      "outputs": [
        {
          "output_type": "display_data",
          "data": {
            "text/plain": [
              "  0%|          | 0/1 [00:00<?, ?ba/s]"
            ],
            "application/vnd.jupyter.widget-view+json": {
              "version_major": 2,
              "version_minor": 0,
              "model_id": "a1f34eb9c22242dbab76160656ce6068"
            }
          },
          "metadata": {}
        }
      ]
    },
    {
      "cell_type": "markdown",
      "metadata": {
        "id": "25Genil2v_Br"
      },
      "source": [
        "Awesome, now we are ready to start training!"
      ]
    },
    {
      "cell_type": "markdown",
      "metadata": {
        "id": "Slk403unUS91"
      },
      "source": [
        "### Set-up Dataloader\n",
        "\n",
        "Let's start by defining the data collator. The code for the data collator was copied from [this example](https://github.com/huggingface/transformers/blob/9a06b6b11bdfc42eea08fa91d0c737d1863c99e3/examples/research_projects/wav2vec2/run_asr.py#L81).\n",
        "\n"
      ]
    },
    {
      "cell_type": "code",
      "metadata": {
        "id": "tborvC9hx88e"
      },
      "source": [
        "import torch\n",
        "\n",
        "from dataclasses import dataclass, field\n",
        "from typing import Any, Dict, List, Optional, Union\n",
        "\n",
        "@dataclass\n",
        "class DataCollatorCTCWithPadding:\n",
        "    \"\"\"\n",
        "    Data collator that will dynamically pad the inputs received.\n",
        "    Args:\n",
        "        processor (:class:`~transformers.Wav2Vec2Processor`)\n",
        "            The processor used for proccessing the data.\n",
        "        padding (:obj:`bool`, :obj:`str` or :class:`~transformers.tokenization_utils_base.PaddingStrategy`, `optional`, defaults to :obj:`True`):\n",
        "            Select a strategy to pad the returned sequences (according to the model's padding side and padding index)\n",
        "            among:\n",
        "            * :obj:`True` or :obj:`'longest'`: Pad to the longest sequence in the batch (or no padding if only a single\n",
        "              sequence if provided).\n",
        "            * :obj:`'max_length'`: Pad to a maximum length specified with the argument :obj:`max_length` or to the\n",
        "              maximum acceptable input length for the model if that argument is not provided.\n",
        "            * :obj:`False` or :obj:`'do_not_pad'` (default): No padding (i.e., can output a batch with sequences of\n",
        "              different lengths).\n",
        "    \"\"\"\n",
        "\n",
        "    processor: Wav2Vec2Processor\n",
        "    padding: Union[bool, str] = True\n",
        "\n",
        "    def __call__(self, features: List[Dict[str, Union[List[int], torch.Tensor]]]) -> Dict[str, torch.Tensor]:\n",
        "        # split inputs and labels since they have to be of different lenghts and need\n",
        "        # different padding methods\n",
        "        input_features = [{\"input_values\": feature[\"input_values\"]} for feature in features]\n",
        "        label_features = [{\"input_ids\": feature[\"labels\"]} for feature in features]\n",
        "\n",
        "        batch = self.processor.pad(\n",
        "            input_features,\n",
        "            padding=self.padding,\n",
        "            return_tensors=\"pt\",\n",
        "        )\n",
        "        with self.processor.as_target_processor():\n",
        "            labels_batch = self.processor.pad(\n",
        "                label_features,\n",
        "                padding=self.padding,\n",
        "                return_tensors=\"pt\",\n",
        "            )\n",
        "\n",
        "        # replace padding with -100 to ignore loss correctly\n",
        "        labels = labels_batch[\"input_ids\"].masked_fill(labels_batch.attention_mask.ne(1), -100)\n",
        "\n",
        "        batch[\"labels\"] = labels\n",
        "\n",
        "        return batch"
      ],
      "execution_count": 30,
      "outputs": []
    },
    {
      "cell_type": "code",
      "metadata": {
        "id": "lbQf5GuZyQ4_"
      },
      "source": [
        "data_collator = DataCollatorCTCWithPadding(processor=processor, padding=True)"
      ],
      "execution_count": 31,
      "outputs": []
    },
    {
      "cell_type": "markdown",
      "metadata": {
        "id": "xO-Zdj-5cxXp"
      },
      "source": [
        "Next, the evaluation metric is defined. As mentioned earlier, the \n",
        "predominant metric in ASR is the word error rate (WER), hence we will use it in this notebook as well."
      ]
    },
    {
      "cell_type": "code",
      "metadata": {
        "id": "9Xsux2gmyXso"
      },
      "source": [
        "wer_metric = load_metric(\"wer\")"
      ],
      "execution_count": 32,
      "outputs": []
    },
    {
      "cell_type": "markdown",
      "metadata": {
        "id": "E1qZU5p-deqB"
      },
      "source": [
        "The model will return a sequence of logit vectors:\n",
        "$\\mathbf{y}_1, \\ldots, \\mathbf{y}_m$ with $\\mathbf{y}_1 = f_{\\theta}(x_1, \\ldots, x_n)[0]$ and $n >> m$.\n",
        "\n",
        "A logit vector $\\mathbf{y}_1$ contains the log-odds for each word in the vocabulary we defined earlier, thus $\\text{len}(\\mathbf{y}_i) =$ `config.vocab_size`. We are interested in the most likely prediction of the model and thus take the `argmax(...)` of the logits. Also, we transform the encoded labels back to the original string by replacing `-100` with the `pad_token_id` and decoding the ids while making sure that consecutive tokens are **not** grouped to the same token in CTC style ${}^1$."
      ]
    },
    {
      "cell_type": "code",
      "metadata": {
        "id": "1XZ-kjweyTy_"
      },
      "source": [
        "def compute_metrics(pred):\n",
        "    pred_logits = pred.predictions\n",
        "    pred_ids = np.argmax(pred_logits, axis=-1)\n",
        "\n",
        "    pred.label_ids[pred.label_ids == -100] = processor.tokenizer.pad_token_id\n",
        "\n",
        "    pred_str = processor.batch_decode(pred_ids)\n",
        "    # we do not want to group tokens when computing the metrics\n",
        "    label_str = processor.batch_decode(pred.label_ids, group_tokens=False)\n",
        "\n",
        "    wer = wer_metric.compute(predictions=pred_str, references=label_str)\n",
        "\n",
        "    return {\"wer\": wer}"
      ],
      "execution_count": 33,
      "outputs": []
    },
    {
      "cell_type": "markdown",
      "metadata": {
        "id": "Xmgrx4bRwLIH"
      },
      "source": [
        "Now, we can load the pretrained `Wav2Vec2` checkpoint. The tokenizer's `pad_token_id` must be to define the model's `pad_token_id` or in the case of `Wav2Vec2ForCTC` also CTC's *blank token* ${}^2$. To save GPU memory, we enable PyTorch's [gradient checkpointing](https://pytorch.org/docs/stable/checkpoint.html) and also set the loss reduction to \"*mean*\"."
      ]
    },
    {
      "cell_type": "code",
      "metadata": {
        "colab": {
          "base_uri": "https://localhost:8080/"
        },
        "id": "e7cqAWIayn6w",
        "outputId": "d31f4efe-b7e0-4587-f631-8a776dd0d25c"
      },
      "source": [
        "from transformers import Wav2Vec2ForCTC\n",
        "\n",
        "model = Wav2Vec2ForCTC.from_pretrained(\n",
        "    \"facebook/wav2vec2-base\",\n",
        "    ctc_loss_reduction=\"mean\", \n",
        "    pad_token_id=processor.tokenizer.pad_token_id,\n",
        ")"
      ],
      "execution_count": 34,
      "outputs": [
        {
          "output_type": "stream",
          "name": "stderr",
          "text": [
            "/usr/local/lib/python3.8/dist-packages/transformers/configuration_utils.py:356: UserWarning: Passing `gradient_checkpointing` to a config initialization is deprecated and will be removed in v5 Transformers. Using `model.gradient_checkpointing_enable()` instead, or if you are using the `Trainer` API, pass `gradient_checkpointing=True` in your `TrainingArguments`.\n",
            "  warnings.warn(\n",
            "Some weights of the model checkpoint at facebook/wav2vec2-base were not used when initializing Wav2Vec2ForCTC: ['project_hid.weight', 'project_hid.bias', 'project_q.bias', 'quantizer.weight_proj.weight', 'quantizer.weight_proj.bias', 'project_q.weight', 'quantizer.codevectors']\n",
            "- This IS expected if you are initializing Wav2Vec2ForCTC from the checkpoint of a model trained on another task or with another architecture (e.g. initializing a BertForSequenceClassification model from a BertForPreTraining model).\n",
            "- This IS NOT expected if you are initializing Wav2Vec2ForCTC from the checkpoint of a model that you expect to be exactly identical (initializing a BertForSequenceClassification model from a BertForSequenceClassification model).\n",
            "Some weights of Wav2Vec2ForCTC were not initialized from the model checkpoint at facebook/wav2vec2-base and are newly initialized: ['lm_head.bias', 'lm_head.weight']\n",
            "You should probably TRAIN this model on a down-stream task to be able to use it for predictions and inference.\n"
          ]
        }
      ]
    },
    {
      "cell_type": "code",
      "source": [
        "model = model.cuda()"
      ],
      "metadata": {
        "id": "yz7fRv-yyrJ4"
      },
      "execution_count": 35,
      "outputs": []
    },
    {
      "cell_type": "markdown",
      "source": [
        "### Training\n",
        "\n",
        "Typically, it is useful to freeze the encoder for low resource/few show settings. "
      ],
      "metadata": {
        "id": "-YPt3V-pqKdC"
      }
    },
    {
      "cell_type": "code",
      "source": [
        "model.freeze_feature_encoder()"
      ],
      "metadata": {
        "id": "Et_NUAZjWppc"
      },
      "execution_count": 36,
      "outputs": []
    },
    {
      "cell_type": "markdown",
      "metadata": {
        "id": "OsW-WZcL1ZtN"
      },
      "source": [
        "Now, all instances can be passed to Trainer and we are ready to start training!"
      ]
    },
    {
      "cell_type": "code",
      "metadata": {
        "id": "rY7vBmFCPFgC",
        "colab": {
          "base_uri": "https://localhost:8080/"
        },
        "outputId": "67de44a1-ac23-4e6c-8c3c-df04a23d3949"
      },
      "source": [
        "from transformers import Trainer\n",
        "\n",
        "\n",
        "trainer = Trainer(\n",
        "    model=model,\n",
        "    data_collator=data_collator,\n",
        "    args=training_args,\n",
        "    compute_metrics=compute_metrics,\n",
        "    train_dataset=data[\"train\"],\n",
        "    eval_dataset=data[\"validation\"],\n",
        "    tokenizer=processor.feature_extractor,\n",
        ")"
      ],
      "execution_count": 37,
      "outputs": [
        {
          "output_type": "stream",
          "name": "stderr",
          "text": [
            "Using amp half precision backend\n"
          ]
        }
      ]
    },
    {
      "cell_type": "markdown",
      "metadata": {
        "id": "UoXBx1JAA0DX"
      },
      "source": [
        "\n",
        "\n",
        "---\n",
        "\n",
        "${}^1$ To allow models to become independent of the speaker rate, in CTC, consecutive tokens that are identical are simply grouped as a single token. However, the encoded labels should not be grouped when decoding since they don't correspond to the predicted tokens of the model, which is why the `group_tokens=False` parameter has to be passed. If we wouldn't pass this parameter a word like `\"hello\"` would incorrectly be encoded, and decoded as `\"helo\"`.\n",
        "\n",
        "${}^2$ The blank token allows the model to predict a word, such as `\"hello\"` by forcing it to insert the blank token between the two l's. A CTC-conform prediction of `\"hello\"` of our model would be `[PAD] [PAD] \"h\" \"e\" \"e\" \"l\" \"l\" [PAD] \"l\" \"o\" \"o\" [PAD]`."
      ]
    },
    {
      "cell_type": "markdown",
      "metadata": {
        "id": "VYYAvgkW4P0m"
      },
      "source": [
        "```javascript\n",
        "function ConnectButton(){\n",
        "    console.log(\"Connect pushed\"); \n",
        "    document.querySelector(\"#top-toolbar > colab-connect-button\").shadowRoot.querySelector(\"#connect\").click() \n",
        "}\n",
        "setInterval(ConnectButton,60000);\n",
        "```"
      ]
    },
    {
      "cell_type": "markdown",
      "metadata": {
        "id": "PmY6yqd1zvzU"
      },
      "source": [
        "Depending on what GPU was allocated to your google colab it might be possible that you are seeing an `\"out-of-memory\"` error here. In this case, it's probably best to reduce `per_device_train_batch_size` to 16 or even less and eventually make use of [`gradient_accumulation`](https://huggingface.co/transformers/master/main_classes/trainer.html#trainingarguments)."
      ]
    },
    {
      "cell_type": "code",
      "source": [
        "print(len(data[\"train\"]))"
      ],
      "metadata": {
        "colab": {
          "base_uri": "https://localhost:8080/"
        },
        "id": "A3o1A1hYmX3J",
        "outputId": "7f8ce257-ddcc-4cce-9491-07eb37e9313a"
      },
      "execution_count": 38,
      "outputs": [
        {
          "output_type": "stream",
          "name": "stdout",
          "text": [
            "118\n"
          ]
        }
      ]
    },
    {
      "cell_type": "code",
      "metadata": {
        "colab": {
          "base_uri": "https://localhost:8080/",
          "height": 957
        },
        "id": "_UEjJqGsQw24",
        "outputId": "02dca494-0d35-4d4f-cd11-884f0a878ea7"
      },
      "source": [
        "trainer.train()"
      ],
      "execution_count": 39,
      "outputs": [
        {
          "output_type": "stream",
          "name": "stderr",
          "text": [
            "The following columns in the training set  don't have a corresponding argument in `Wav2Vec2ForCTC.forward` and have been ignored: input_length. If input_length are not expected by `Wav2Vec2ForCTC.forward`,  you can safely ignore this message.\n",
            "/usr/local/lib/python3.8/dist-packages/transformers/optimization.py:306: FutureWarning: This implementation of AdamW is deprecated and will be removed in a future version. Use the PyTorch implementation torch.optim.AdamW instead, or set `no_deprecation_warning=True` to disable this warning\n",
            "  warnings.warn(\n",
            "***** Running training *****\n",
            "  Num examples = 118\n",
            "  Num Epochs = 30\n",
            "  Instantaneous batch size per device = 2\n",
            "  Total train batch size (w. parallel, distributed & accumulation) = 2\n",
            "  Gradient Accumulation steps = 1\n",
            "  Total optimization steps = 1770\n"
          ]
        },
        {
          "output_type": "display_data",
          "data": {
            "text/plain": [
              "<IPython.core.display.HTML object>"
            ],
            "text/html": [
              "\n",
              "    <div>\n",
              "      \n",
              "      <progress value='1770' max='1770' style='width:300px; height:20px; vertical-align: middle;'></progress>\n",
              "      [1770/1770 04:53, Epoch 30/30]\n",
              "    </div>\n",
              "    <table border=\"1\" class=\"dataframe\">\n",
              "  <thead>\n",
              " <tr style=\"text-align: left;\">\n",
              "      <th>Step</th>\n",
              "      <th>Training Loss</th>\n",
              "      <th>Validation Loss</th>\n",
              "      <th>Wer</th>\n",
              "    </tr>\n",
              "  </thead>\n",
              "  <tbody>\n",
              "    <tr>\n",
              "      <td>500</td>\n",
              "      <td>4.254900</td>\n",
              "      <td>2.949790</td>\n",
              "      <td>1.000000</td>\n",
              "    </tr>\n",
              "    <tr>\n",
              "      <td>1000</td>\n",
              "      <td>1.965800</td>\n",
              "      <td>1.292861</td>\n",
              "      <td>0.677165</td>\n",
              "    </tr>\n",
              "    <tr>\n",
              "      <td>1500</td>\n",
              "      <td>0.371500</td>\n",
              "      <td>1.329294</td>\n",
              "      <td>0.559055</td>\n",
              "    </tr>\n",
              "  </tbody>\n",
              "</table><p>"
            ]
          },
          "metadata": {}
        },
        {
          "output_type": "stream",
          "name": "stderr",
          "text": [
            "The following columns in the evaluation set  don't have a corresponding argument in `Wav2Vec2ForCTC.forward` and have been ignored: input_length. If input_length are not expected by `Wav2Vec2ForCTC.forward`,  you can safely ignore this message.\n",
            "***** Running Evaluation *****\n",
            "  Num examples = 15\n",
            "  Batch size = 8\n",
            "Saving model checkpoint to wav2vec2-gopala/checkpoint-500\n",
            "Configuration saved in wav2vec2-gopala/checkpoint-500/config.json\n",
            "Model weights saved in wav2vec2-gopala/checkpoint-500/pytorch_model.bin\n",
            "Feature extractor saved in wav2vec2-gopala/checkpoint-500/preprocessor_config.json\n",
            "The following columns in the evaluation set  don't have a corresponding argument in `Wav2Vec2ForCTC.forward` and have been ignored: input_length. If input_length are not expected by `Wav2Vec2ForCTC.forward`,  you can safely ignore this message.\n",
            "***** Running Evaluation *****\n",
            "  Num examples = 15\n",
            "  Batch size = 8\n",
            "Saving model checkpoint to wav2vec2-gopala/checkpoint-1000\n",
            "Configuration saved in wav2vec2-gopala/checkpoint-1000/config.json\n",
            "Model weights saved in wav2vec2-gopala/checkpoint-1000/pytorch_model.bin\n",
            "Feature extractor saved in wav2vec2-gopala/checkpoint-1000/preprocessor_config.json\n",
            "The following columns in the evaluation set  don't have a corresponding argument in `Wav2Vec2ForCTC.forward` and have been ignored: input_length. If input_length are not expected by `Wav2Vec2ForCTC.forward`,  you can safely ignore this message.\n",
            "***** Running Evaluation *****\n",
            "  Num examples = 15\n",
            "  Batch size = 8\n",
            "Saving model checkpoint to wav2vec2-gopala/checkpoint-1500\n",
            "Configuration saved in wav2vec2-gopala/checkpoint-1500/config.json\n",
            "Model weights saved in wav2vec2-gopala/checkpoint-1500/pytorch_model.bin\n",
            "Feature extractor saved in wav2vec2-gopala/checkpoint-1500/preprocessor_config.json\n",
            "Deleting older checkpoint [wav2vec2-gopala/checkpoint-500] due to args.save_total_limit\n",
            "\n",
            "\n",
            "Training completed. Do not forget to share your model on huggingface.co/models =)\n",
            "\n",
            "\n"
          ]
        },
        {
          "output_type": "execute_result",
          "data": {
            "text/plain": [
              "TrainOutput(global_step=1770, training_loss=1.8868372189796576, metrics={'train_runtime': 302.2497, 'train_samples_per_second': 11.712, 'train_steps_per_second': 5.856, 'total_flos': 1.281220937271936e+17, 'train_loss': 1.8868372189796576, 'epoch': 30.0})"
            ]
          },
          "metadata": {},
          "execution_count": 39
        }
      ]
    },
    {
      "cell_type": "markdown",
      "metadata": {
        "id": "UCyp-v3n4Zlt"
      },
      "source": [
        "The final dev WER here is about 0.41. \n"
      ]
    },
    {
      "cell_type": "markdown",
      "metadata": {
        "id": "nD4XP5IHncsY"
      },
      "source": [
        "### Evaluate\n",
        "\n",
        "In the final part, we run our model on some of the validation data to get a feeling for how well it works.\n",
        "\n",
        "Let's load the `model`. Make sure the model path exists.!"
      ]
    },
    {
      "cell_type": "code",
      "metadata": {
        "id": "sSpFW3pDn23P",
        "colab": {
          "base_uri": "https://localhost:8080/"
        },
        "outputId": "1ec85b29-53bd-4f68-d1bf-cc0fc224a775"
      },
      "source": [
        "model = Wav2Vec2ForCTC.from_pretrained(\"wav2vec2-gopala/checkpoint-1500\").cuda()"
      ],
      "execution_count": 41,
      "outputs": [
        {
          "output_type": "stream",
          "name": "stderr",
          "text": [
            "loading configuration file wav2vec2-gopala/checkpoint-1500/config.json\n",
            "Model config Wav2Vec2Config {\n",
            "  \"_name_or_path\": \"facebook/wav2vec2-base\",\n",
            "  \"activation_dropout\": 0.0,\n",
            "  \"adapter_kernel_size\": 3,\n",
            "  \"adapter_stride\": 2,\n",
            "  \"add_adapter\": false,\n",
            "  \"apply_spec_augment\": true,\n",
            "  \"architectures\": [\n",
            "    \"Wav2Vec2ForCTC\"\n",
            "  ],\n",
            "  \"attention_dropout\": 0.1,\n",
            "  \"bos_token_id\": 1,\n",
            "  \"classifier_proj_size\": 256,\n",
            "  \"codevector_dim\": 256,\n",
            "  \"contrastive_logits_temperature\": 0.1,\n",
            "  \"conv_bias\": false,\n",
            "  \"conv_dim\": [\n",
            "    512,\n",
            "    512,\n",
            "    512,\n",
            "    512,\n",
            "    512,\n",
            "    512,\n",
            "    512\n",
            "  ],\n",
            "  \"conv_kernel\": [\n",
            "    10,\n",
            "    3,\n",
            "    3,\n",
            "    3,\n",
            "    3,\n",
            "    2,\n",
            "    2\n",
            "  ],\n",
            "  \"conv_stride\": [\n",
            "    5,\n",
            "    2,\n",
            "    2,\n",
            "    2,\n",
            "    2,\n",
            "    2,\n",
            "    2\n",
            "  ],\n",
            "  \"ctc_loss_reduction\": \"mean\",\n",
            "  \"ctc_zero_infinity\": false,\n",
            "  \"diversity_loss_weight\": 0.1,\n",
            "  \"do_stable_layer_norm\": false,\n",
            "  \"eos_token_id\": 2,\n",
            "  \"feat_extract_activation\": \"gelu\",\n",
            "  \"feat_extract_norm\": \"group\",\n",
            "  \"feat_proj_dropout\": 0.1,\n",
            "  \"feat_quantizer_dropout\": 0.0,\n",
            "  \"final_dropout\": 0.0,\n",
            "  \"freeze_feat_extract_train\": true,\n",
            "  \"hidden_act\": \"gelu\",\n",
            "  \"hidden_dropout\": 0.1,\n",
            "  \"hidden_size\": 768,\n",
            "  \"initializer_range\": 0.02,\n",
            "  \"intermediate_size\": 3072,\n",
            "  \"layer_norm_eps\": 1e-05,\n",
            "  \"layerdrop\": 0.0,\n",
            "  \"mask_channel_length\": 10,\n",
            "  \"mask_channel_min_space\": 1,\n",
            "  \"mask_channel_other\": 0.0,\n",
            "  \"mask_channel_prob\": 0.0,\n",
            "  \"mask_channel_selection\": \"static\",\n",
            "  \"mask_feature_length\": 10,\n",
            "  \"mask_feature_min_masks\": 0,\n",
            "  \"mask_feature_prob\": 0.0,\n",
            "  \"mask_time_length\": 10,\n",
            "  \"mask_time_min_masks\": 2,\n",
            "  \"mask_time_min_space\": 1,\n",
            "  \"mask_time_other\": 0.0,\n",
            "  \"mask_time_prob\": 0.05,\n",
            "  \"mask_time_selection\": \"static\",\n",
            "  \"model_type\": \"wav2vec2\",\n",
            "  \"no_mask_channel_overlap\": false,\n",
            "  \"no_mask_time_overlap\": false,\n",
            "  \"num_adapter_layers\": 3,\n",
            "  \"num_attention_heads\": 12,\n",
            "  \"num_codevector_groups\": 2,\n",
            "  \"num_codevectors_per_group\": 320,\n",
            "  \"num_conv_pos_embedding_groups\": 16,\n",
            "  \"num_conv_pos_embeddings\": 128,\n",
            "  \"num_feat_extract_layers\": 7,\n",
            "  \"num_hidden_layers\": 12,\n",
            "  \"num_negatives\": 100,\n",
            "  \"output_hidden_size\": 768,\n",
            "  \"pad_token_id\": 29,\n",
            "  \"proj_codevector_dim\": 256,\n",
            "  \"tdnn_dilation\": [\n",
            "    1,\n",
            "    2,\n",
            "    3,\n",
            "    1,\n",
            "    1\n",
            "  ],\n",
            "  \"tdnn_dim\": [\n",
            "    512,\n",
            "    512,\n",
            "    512,\n",
            "    512,\n",
            "    1500\n",
            "  ],\n",
            "  \"tdnn_kernel\": [\n",
            "    5,\n",
            "    3,\n",
            "    3,\n",
            "    1,\n",
            "    1\n",
            "  ],\n",
            "  \"torch_dtype\": \"float32\",\n",
            "  \"transformers_version\": \"4.17.0\",\n",
            "  \"use_weighted_layer_sum\": false,\n",
            "  \"vocab_size\": 32,\n",
            "  \"xvector_output_dim\": 512\n",
            "}\n",
            "\n",
            "loading weights file wav2vec2-gopala/checkpoint-1500/pytorch_model.bin\n",
            "All model checkpoint weights were used when initializing Wav2Vec2ForCTC.\n",
            "\n",
            "All the weights of Wav2Vec2ForCTC were initialized from the model checkpoint at wav2vec2-gopala/checkpoint-1500.\n",
            "If your task is similar to the task the model of the checkpoint was trained on, you can already use Wav2Vec2ForCTC for predictions without further training.\n"
          ]
        }
      ]
    },
    {
      "cell_type": "markdown",
      "metadata": {
        "id": "TUuZpB0v5jn_"
      },
      "source": [
        "Now, we will make use of the `map(...)` function to predict the transcription of every test sample and to save the prediction in the dataset itself. We will call the resulting dictionary `\"results\"`. \n",
        "\n",
        "**Note**: we evaluate the test data set with `batch_size=1` on purpose due to this [issue](https://github.com/pytorch/fairseq/issues/3227). Since padded inputs don't yield the exact same output as non-padded inputs, a better WER can be achieved by not padding the input at all."
      ]
    },
    {
      "cell_type": "code",
      "metadata": {
        "id": "40naJl53n7jT"
      },
      "source": [
        "def map_to_result(batch):\n",
        "  with torch.no_grad():\n",
        "    input_values = torch.tensor(batch[\"input_values\"]).unsqueeze(0)\n",
        "    input_values = input_values.cuda()\n",
        "    logits = model(input_values).logits\n",
        "\n",
        "  pred_ids = torch.argmax(logits, dim=-1)\n",
        "  batch[\"pred_str\"] = processor.batch_decode(pred_ids)[0]\n",
        "  batch[\"text\"] = processor.decode(batch[\"labels\"], group_tokens=False)\n",
        "  \n",
        "  return batch"
      ],
      "execution_count": 42,
      "outputs": []
    },
    {
      "cell_type": "code",
      "metadata": {
        "id": "uPqH7gZqrGPi",
        "colab": {
          "base_uri": "https://localhost:8080/",
          "height": 49,
          "referenced_widgets": [
            "dcd357d8c1b5432ea83a478cc23f4cec",
            "aa7fd06cac75425591057714f64c8f03",
            "3fe03051b65141c7b8e74c64a3fb4aca",
            "5e834beead394e9f894c36b36d306c2d",
            "6d8864489ec64fac9c0614e565cb37f9",
            "0145ece527964eb2b27ba0cfd1c3c494",
            "f32ce706dc4e4cfea356e4671eba163a",
            "15469b48be4942b28a7fad7423028c2f",
            "6e9baafcfe0a4f949e5c46ada71ea769",
            "564b9f27f35b48ae98d38bdaaedb0fe9",
            "584fd46eec1545c1b0eaa9d018a08964"
          ]
        },
        "outputId": "9c71c2d0-4b2d-449b-82df-8247b9f6f5c9"
      },
      "source": [
        "results = data[\"test\"].map(map_to_result, remove_columns=data[\"test\"].column_names)"
      ],
      "execution_count": 43,
      "outputs": [
        {
          "output_type": "display_data",
          "data": {
            "text/plain": [
              "0ex [00:00, ?ex/s]"
            ],
            "application/vnd.jupyter.widget-view+json": {
              "version_major": 2,
              "version_minor": 0,
              "model_id": "dcd357d8c1b5432ea83a478cc23f4cec"
            }
          },
          "metadata": {}
        }
      ]
    },
    {
      "cell_type": "markdown",
      "metadata": {
        "id": "-mqpdB8R6rty"
      },
      "source": [
        "Let's compute the overall test WER!"
      ]
    },
    {
      "cell_type": "code",
      "metadata": {
        "id": "PmqAb4Isx8OK",
        "colab": {
          "base_uri": "https://localhost:8080/"
        },
        "outputId": "51d02c63-3094-458a-b89b-9da5b885f76c"
      },
      "source": [
        "print(\"Test WER: {:.3f}\".format(wer_metric.compute(predictions=results[\"pred_str\"], references=results[\"text\"])))"
      ],
      "execution_count": 44,
      "outputs": [
        {
          "output_type": "stream",
          "name": "stdout",
          "text": [
            "Test WER: 0.546\n"
          ]
        }
      ]
    },
    {
      "cell_type": "markdown",
      "metadata": {
        "id": "6Va94d8Y7Q98"
      },
      "source": [
        "Let's take a look at some predictions to see what errors are made by the model."
      ]
    },
    {
      "cell_type": "code",
      "metadata": {
        "id": "odNDiFVRy53w",
        "colab": {
          "base_uri": "https://localhost:8080/",
          "height": 363
        },
        "outputId": "61e56494-6b38-415a-e393-721126e949bc"
      },
      "source": [
        "show_random_elements(results)"
      ],
      "execution_count": 45,
      "outputs": [
        {
          "output_type": "display_data",
          "data": {
            "text/plain": [
              "<IPython.core.display.HTML object>"
            ],
            "text/html": [
              "<table border=\"1\" class=\"dataframe\">\n",
              "  <thead>\n",
              "    <tr style=\"text-align: right;\">\n",
              "      <th></th>\n",
              "      <th>pred_str</th>\n",
              "      <th>text</th>\n",
              "    </tr>\n",
              "  </thead>\n",
              "  <tbody>\n",
              "    <tr>\n",
              "      <th>0</th>\n",
              "      <td>he wold destroy althings that ere ficksed</td>\n",
              "      <td>he would destroy all things that are fixed</td>\n",
              "    </tr>\n",
              "    <tr>\n",
              "      <th>1</th>\n",
              "      <td>men like jeolb guse theayted egsistincs from drongk ton dronk</td>\n",
              "      <td>men like joe goose dated existence from drunk to drunk</td>\n",
              "    </tr>\n",
              "    <tr>\n",
              "      <th>2</th>\n",
              "      <td>yeso wer al the leser anmls of to day cleen</td>\n",
              "      <td>yea so are all the lesser animals of today clean</td>\n",
              "    </tr>\n",
              "    <tr>\n",
              "      <th>3</th>\n",
              "      <td>i shold like to engage just for wone hole lif in that</td>\n",
              "      <td>i should like to engage just for one whole life in that</td>\n",
              "    </tr>\n",
              "    <tr>\n",
              "      <th>4</th>\n",
              "      <td>what paskcaol gclimpsed what the vision of thea sier y have lt</td>\n",
              "      <td>what pascal glimpsed with the vision of a seer i have lived</td>\n",
              "    </tr>\n",
              "    <tr>\n",
              "      <th>5</th>\n",
              "      <td>it was an enthusiast and a deasert woler</td>\n",
              "      <td>he was an enthusiast and a desert dweller</td>\n",
              "    </tr>\n",
              "    <tr>\n",
              "      <th>6</th>\n",
              "      <td>i loused my balincs and piched head formost into the ose</td>\n",
              "      <td>i lost my balance and pitched head foremost into the ooze</td>\n",
              "    </tr>\n",
              "    <tr>\n",
              "      <th>7</th>\n",
              "      <td>this also became part of the daly scechule</td>\n",
              "      <td>this also became part of the daily schedule</td>\n",
              "    </tr>\n",
              "    <tr>\n",
              "      <th>8</th>\n",
              "      <td>he ma antisipate the day of his death</td>\n",
              "      <td>he may anticipate the day of his death</td>\n",
              "    </tr>\n",
              "    <tr>\n",
              "      <th>9</th>\n",
              "      <td>the atalian reangchol was a bachlar t astablish ment</td>\n",
              "      <td>the italian rancho was a bachelor establishment</td>\n",
              "    </tr>\n",
              "  </tbody>\n",
              "</table>"
            ]
          },
          "metadata": {}
        }
      ]
    },
    {
      "cell_type": "markdown",
      "metadata": {
        "id": "5HFCujhd9n4N"
      },
      "source": [
        "It becomes clear that the predicted transcriptions are acoustically very similar to the target transcriptions, but often contain spelling or grammatical errors. This shouldn't be very surprising though given that we purely rely on Wav2Vec2 without making use of a language model."
      ]
    },
    {
      "cell_type": "markdown",
      "metadata": {
        "id": "a3ydKvUl9FTK"
      },
      "source": [
        "Finally, to better understand how CTC works, it is worth taking a deeper look at the exact output of the model. Let's run the first test sample through the model, take the predicted ids and convert them to their corresponding tokens."
      ]
    },
    {
      "cell_type": "code",
      "metadata": {
        "id": "AqaM45t87uM4",
        "colab": {
          "base_uri": "https://localhost:8080/",
          "height": 109
        },
        "outputId": "8056c386-ceca-4b7b-8b58-a16434fb0930"
      },
      "source": [
        "model.to(\"cuda\")\n",
        "\n",
        "with torch.no_grad():\n",
        "  logits = model(torch.tensor(data[\"test\"][:1][\"input_values\"], device=\"cuda\")).logits\n",
        "\n",
        "pred_ids = torch.argmax(logits, dim=-1)\n",
        "\n",
        "# convert ids to tokens\n",
        "\" \".join(processor.tokenizer.convert_ids_to_tokens(pred_ids[0].tolist()))"
      ],
      "execution_count": 46,
      "outputs": [
        {
          "output_type": "execute_result",
          "data": {
            "text/plain": [
              "'[PAD] [PAD] [PAD] [PAD] [PAD] [PAD] [PAD] [PAD] [PAD] [PAD] [PAD] [PAD] [PAD] [PAD] [PAD] [PAD] [PAD] [PAD] [PAD] [PAD] [PAD] [PAD] [PAD] [PAD] [PAD] [PAD] [PAD] [PAD] [PAD] [PAD] [PAD] [PAD] [PAD] [PAD] [PAD] [PAD] [PAD] [PAD] [PAD] [PAD] [PAD] [PAD] [PAD] [PAD] h h e e e | | | w w o l d d | | d e e [PAD] s s s [PAD] [PAD] t t r r r o o o o y y y y | | | [PAD] [PAD] [PAD] a a a l l l t t t t h h i i i i n n n g g s s s s | | | [PAD] [PAD] [PAD] [PAD] t h h a t t | | e r r e | | f f [PAD] i i i i [PAD] [PAD] c k k [PAD] s s e e d d [PAD] | | [PAD] [PAD] [PAD] [PAD] [PAD] [PAD] [PAD] [PAD] [PAD] [PAD] [PAD] [PAD] [PAD] [PAD] [PAD] [PAD] [PAD] [PAD] [PAD] [PAD] [PAD] [PAD] [PAD] [PAD] [PAD] [PAD] [PAD] [PAD] [PAD] [PAD] [PAD] [PAD] [PAD] [PAD] [PAD] [PAD] [PAD] [PAD] [PAD] [PAD] [PAD] [PAD] [PAD]'"
            ],
            "application/vnd.google.colaboratory.intrinsic+json": {
              "type": "string"
            }
          },
          "metadata": {},
          "execution_count": 46
        }
      ]
    },
    {
      "cell_type": "markdown",
      "metadata": {
        "id": "tdO8E28g-n5C"
      },
      "source": [
        "The output should make it a bit clearer how CTC works in practice. The model is to some extent invariant to speaking rate since it has learned to either just repeat the same token in case the speech chunk to be classified still corresponds to the same token. This makes CTC a very powerful algorithm for speech recognition since the speech file's transcription is often very much independent of its length."
      ]
    },
    {
      "cell_type": "code",
      "source": [],
      "metadata": {
        "id": "SxCLG2te1wNF"
      },
      "execution_count": null,
      "outputs": []
    }
  ]
}